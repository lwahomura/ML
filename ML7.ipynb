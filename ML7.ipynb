{
  "nbformat": 4,
  "nbformat_minor": 0,
  "metadata": {
    "kernelspec": {
      "display_name": "Python 3",
      "language": "python",
      "name": "python3"
    },
    "language_info": {
      "codemirror_mode": {
        "name": "ipython",
        "version": 3
      },
      "file_extension": ".py",
      "mimetype": "text/x-python",
      "name": "python",
      "nbconvert_exporter": "python",
      "pygments_lexer": "ipython3",
      "version": "3.6.9"
    },
    "colab": {
      "name": "cnn.ipynb",
      "provenance": []
    },
    "accelerator": "GPU"
  },
  "cells": [
    {
      "cell_type": "markdown",
      "metadata": {
        "id": "loWkInPnH_2e",
        "colab_type": "text"
      },
      "source": [
        "# Дисклеймер\n",
        "Эту тетрадку нужно запускать в колабе или в vast.ai. Не мучатесь с установкой библиотек и с обучением на cpu."
      ]
    },
    {
      "cell_type": "code",
      "metadata": {
        "id": "eOckTZnzIafX",
        "colab_type": "code",
        "colab": {
          "resources": {
            "http://localhost:8080/nbextensions/google.colab/files.js": {
              "data": "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",
              "ok": true,
              "headers": [
                [
                  "content-type",
                  "application/javascript"
                ]
              ],
              "status": 200,
              "status_text": ""
            }
          },
          "base_uri": "https://localhost:8080/",
          "height": 71
        },
        "outputId": "c28208ce-27b5-4999-ff27-31abbf093d5b"
      },
      "source": [
        "from google.colab import files\n",
        "uploaded = files.upload()"
      ],
      "execution_count": 1,
      "outputs": [
        {
          "output_type": "display_data",
          "data": {
            "text/html": [
              "\n",
              "     <input type=\"file\" id=\"files-5e629bc2-a3c4-4533-a6fa-4900e82d7456\" name=\"files[]\" multiple disabled />\n",
              "     <output id=\"result-5e629bc2-a3c4-4533-a6fa-4900e82d7456\">\n",
              "      Upload widget is only available when the cell has been executed in the\n",
              "      current browser session. Please rerun this cell to enable.\n",
              "      </output>\n",
              "      <script src=\"/nbextensions/google.colab/files.js\"></script> "
            ],
            "text/plain": [
              "<IPython.core.display.HTML object>"
            ]
          },
          "metadata": {
            "tags": []
          }
        },
        {
          "output_type": "stream",
          "text": [
            "Saving data (1).zip to data (1).zip\n"
          ],
          "name": "stdout"
        }
      ]
    },
    {
      "cell_type": "code",
      "metadata": {
        "id": "2NmIBHn2H_2f",
        "colab_type": "code",
        "colab": {
          "base_uri": "https://localhost:8080/",
          "height": 68
        },
        "outputId": "befa7386-0abf-4d68-c08f-f4b87e4bacd0"
      },
      "source": [
        "!unzip 'data (1).zip'"
      ],
      "execution_count": 3,
      "outputs": [
        {
          "output_type": "stream",
          "text": [
            "Archive:  data (1).zip\n",
            "  inflating: quora.csv               \n",
            "  inflating: __MACOSX/._quora.csv    \n"
          ],
          "name": "stdout"
        }
      ]
    },
    {
      "cell_type": "code",
      "metadata": {
        "scrolled": true,
        "id": "hoFmwWJNH_2k",
        "colab_type": "code",
        "colab": {}
      },
      "source": [
        "!pip install pandas scikit-learn matplotlib"
      ],
      "execution_count": 0,
      "outputs": []
    },
    {
      "cell_type": "markdown",
      "metadata": {
        "id": "N2Cme4AeH_5B",
        "colab_type": "text"
      },
      "source": [
        "## Домашка\n",
        "\n",
        "Сверточные сети относительно хорошо масшабируются на длинные последовательности. Поэтому их часто применяют к отдельным символам, а не токенам. В домашке вам нужно будет обучить большую сверточную модель на символах (отличаться по сути будет только токенизация).\n",
        "\n",
        "При обучении используйте колбек для отслеживания лучшей модели. Ориентируйтесь на ф1 меру.\n",
        "\n",
        "Конкретнее задание такое:\n",
        "Обучите модель с минимум 15 слоями, где у каждого слоя разные параметры (Dropout, Conv1d и Pooling считаются слоями, остальное нет). Как мимнимум 4 слоя должны быть наложены друг на друга. Должен быть хотя бы один слой каждого типа.\n",
        "\n",
        "Советы: Начните с небольших сетей и постепенно добавляйте, не пытайтесь сразу собрать все слои. Сделайте размер эмбединга сильно меньше. Попробуйте паддинг поменьше. Символьная модель может обучаться намного дольше. Иногда кернел может крашиться просто так или из-за слишком больших матриц.\n"
      ]
    },
    {
      "cell_type": "markdown",
      "metadata": {
        "id": "QLsZIZpZH_5B",
        "colab_type": "text"
      },
      "source": [
        "Бонусный балл можно получить за изучение влияния предобработки (нужно ли приводить к нижнему регистру, нужно ли выкидывать не алфавитные символы, помогает ли замена цифр на определенный токен)."
      ]
    },
    {
      "cell_type": "code",
      "metadata": {
        "id": "-1Q4B6UDH_5B",
        "colab_type": "code",
        "colab": {}
      },
      "source": [
        "import tensorflow as tf\n",
        "import pandas as pd\n",
        "import numpy as np\n",
        "from string import punctuation\n",
        "from sklearn.model_selection import train_test_split\n",
        "from collections import Counter\n",
        "import matplotlib.pyplot as plt\n",
        "%matplotlib inline\n",
        "\n",
        "def char_preprocess(text):\n",
        "    tokens = list(text.strip(punctuation))\n",
        "    return tokens"
      ],
      "execution_count": 0,
      "outputs": []
    },
    {
      "cell_type": "code",
      "metadata": {
        "id": "x52I_kM3ON4z",
        "colab_type": "code",
        "colab": {}
      },
      "source": [
        "from tensorflow.keras import backend as K\n",
        "def f1(y_true, y_pred):\n",
        "    def recall(y_true, y_pred):\n",
        "        \"\"\"Recall metric.\n",
        "\n",
        "        Only computes a batch-wise average of recall.\n",
        "\n",
        "        Computes the recall, a metric for multi-label classification of\n",
        "        how many relevant items are selected.\n",
        "        \"\"\"\n",
        "        true_positives = K.sum(K.round(K.clip(y_true * y_pred, 0, 1)))\n",
        "        possible_positives = K.sum(K.round(K.clip(y_true, 0, 1)))\n",
        "        recall = true_positives / (possible_positives + K.epsilon())\n",
        "        return recall\n",
        "\n",
        "    def precision(y_true, y_pred):\n",
        "        \"\"\"Precision metric.\n",
        "\n",
        "        Only computes a batch-wise average of precision.\n",
        "\n",
        "        Computes the precision, a metric for multi-label classification of\n",
        "        how many selected items are relevant.\n",
        "        \"\"\"\n",
        "        true_positives = K.sum(K.round(K.clip(y_true * y_pred, 0, 1)))\n",
        "        predicted_positives = K.sum(K.round(K.clip(y_pred, 0, 1)))\n",
        "        precision = true_positives / (predicted_positives + K.epsilon())\n",
        "        return precision\n",
        "    precision = precision(y_true, y_pred)\n",
        "    recall = recall(y_true, y_pred)\n",
        "    return 2*((precision*recall)/(precision+recall+K.epsilon()))"
      ],
      "execution_count": 0,
      "outputs": []
    },
    {
      "cell_type": "code",
      "metadata": {
        "id": "tW-jjSW2OP94",
        "colab_type": "code",
        "colab": {}
      },
      "source": [
        "quora = pd.read_csv('quora.csv')"
      ],
      "execution_count": 0,
      "outputs": []
    },
    {
      "cell_type": "code",
      "metadata": {
        "id": "xmyu61QcOhX2",
        "colab_type": "code",
        "colab": {}
      },
      "source": [
        "vocab = Counter()\n",
        "\n",
        "for text in quora.question_text:\n",
        "    vocab.update(char_preprocess(text))\n",
        "\n",
        "# отфильтрованный словарь\n",
        "filtered_vocab = set()\n",
        "\n",
        "for word in vocab:\n",
        "    if vocab[word] > 5:\n",
        "        filtered_vocab.add(word)\n",
        "\n",
        "word2id = {'UNK':1, 'PAD':0}\n",
        "\n",
        "for word in filtered_vocab:\n",
        "    word2id[word] = len(word2id)\n",
        "\n",
        "id2word = {i:word for word, i in word2id.items()}\n",
        "\n",
        "X = []\n",
        "\n",
        "for text in quora.question_text:\n",
        "    tokens = char_preprocess(text)\n",
        "    ids = [word2id.get(token, 1) for token in tokens]\n",
        "    X.append(ids)"
      ],
      "execution_count": 0,
      "outputs": []
    },
    {
      "cell_type": "code",
      "metadata": {
        "id": "yNqTbUq9V6g3",
        "colab_type": "code",
        "colab": {
          "base_uri": "https://localhost:8080/",
          "height": 357
        },
        "outputId": "2e4e6d12-19d0-4717-d5ea-66156db97e6d"
      },
      "source": [
        "for i in range(10,1000,50):\n",
        "  print(i, len([len(x) for x in X if len(x) <= i]))"
      ],
      "execution_count": 18,
      "outputs": [
        {
          "output_type": "stream",
          "text": [
            "10 120\n",
            "60 678050\n",
            "110 1137951\n",
            "160 1260707\n",
            "210 1290374\n",
            "260 1306082\n",
            "310 1306113\n",
            "360 1306118\n",
            "410 1306118\n",
            "460 1306118\n",
            "510 1306119\n",
            "560 1306119\n",
            "610 1306119\n",
            "660 1306119\n",
            "710 1306119\n",
            "760 1306120\n",
            "810 1306120\n",
            "860 1306120\n",
            "910 1306121\n",
            "960 1306121\n"
          ],
          "name": "stdout"
        }
      ]
    },
    {
      "cell_type": "code",
      "metadata": {
        "id": "tn-uBifWV3se",
        "colab_type": "code",
        "colab": {}
      },
      "source": [
        "MAX_LEN = 110 # при этом значении мы покрывем немнгим меньше чем 90% текстов\n",
        "\n",
        "X = tf.keras.preprocessing.sequence.pad_sequences(X, maxlen=MAX_LEN)"
      ],
      "execution_count": 0,
      "outputs": []
    },
    {
      "cell_type": "code",
      "metadata": {
        "id": "2DaE4lILP01B",
        "colab_type": "code",
        "colab": {}
      },
      "source": [
        "y = quora.target.values"
      ],
      "execution_count": 0,
      "outputs": []
    },
    {
      "cell_type": "code",
      "metadata": {
        "id": "LGLA5YRAP3h2",
        "colab_type": "code",
        "colab": {}
      },
      "source": [
        "X_train, X_valid, y_train, y_valid = train_test_split(X, y, test_size=0.05, stratify=y)"
      ],
      "execution_count": 0,
      "outputs": []
    },
    {
      "cell_type": "code",
      "metadata": {
        "id": "PEY7kHvtSFdc",
        "colab_type": "code",
        "colab": {}
      },
      "source": [
        "# ModelCheckpoint сохраняет лучшие версии моделей\n",
        "checkpoint = tf.keras.callbacks.ModelCheckpoint('model.weights', # названия файла \n",
        "                                                monitor='val_f1', # за какой метрикой следить\n",
        "                                                verbose=1, # будет печатать что происходит\n",
        "                                                save_weights_only=True, # если нужно только веса сохранить\n",
        "                                                save_best_only=True, # сохранять только лучшие\n",
        "                                                mode='max', # если метрика должна расти, то тут max и min если наоборот\n",
        "                                                save_freq='epoch' # как часто вызывать\n",
        "                                               )\n",
        "                                               \n",
        "\n",
        "# EarlyStopping позволяет автоматически остановить обучение, если качество не улучшается \n",
        "early_stop = tf.keras.callbacks.EarlyStopping(monitor='val_f1', \n",
        "                                              min_delta=0.01, # какая разница считается как улучшение\n",
        "                                              patience=5, # сколько эпох терпеть отсутствие улучшений\n",
        "                                              verbose=1, \n",
        "                                              mode='max',\n",
        "                                              )"
      ],
      "execution_count": 0,
      "outputs": []
    },
    {
      "cell_type": "code",
      "metadata": {
        "id": "RJEcaj43P7DS",
        "colab_type": "code",
        "colab": {
          "base_uri": "https://localhost:8080/",
          "height": 799
        },
        "outputId": "07f5fd94-f555-46be-f052-3c7b3e93af9c"
      },
      "source": [
        " inputs = tf.keras.layers.Input(shape=(MAX_LEN,))\n",
        "embeddings = tf.keras.layers.Embedding(input_dim=len(word2id), output_dim=100)(inputs)\n",
        "\n",
        "mean = tf.keras.layers.Flatten()(embeddings)\n",
        "dense = tf.keras.layers.Dense(64, activation='relu')(mean)\n",
        "outputs = tf.keras.layers.Dense(1, activation='sigmoid')(dense)\n",
        "\n",
        "model = tf.keras.Model(inputs=inputs, outputs=outputs)\n",
        "optimizer = tf.keras.optimizers.Adam(learning_rate=0.001)\n",
        "model.compile(optimizer=optimizer,\n",
        "              loss='binary_crossentropy',\n",
        "              metrics=[f1])\n",
        "model.fit(X_train, y_train, \n",
        "          validation_data=(X_valid, y_valid),\n",
        "          batch_size=4000,\n",
        "         epochs=20,\n",
        "         callbacks=[checkpoint, early_stop])"
      ],
      "execution_count": 62,
      "outputs": [
        {
          "output_type": "stream",
          "text": [
            "Epoch 1/20\n",
            "310/311 [============================>.] - ETA: 0s - loss: 0.2092 - f1: 0.0033\n",
            "Epoch 00001: val_f1 improved from -inf to 0.00000, saving model to model.weights\n",
            "311/311 [==============================] - 23s 75ms/step - loss: 0.2092 - f1: 0.0033 - val_loss: 0.1972 - val_f1: 0.0000e+00\n",
            "Epoch 2/20\n",
            "310/311 [============================>.] - ETA: 0s - loss: 0.1941 - f1: 0.0079\n",
            "Epoch 00002: val_f1 improved from 0.00000 to 0.01218, saving model to model.weights\n",
            "311/311 [==============================] - 23s 74ms/step - loss: 0.1941 - f1: 0.0079 - val_loss: 0.1931 - val_f1: 0.0122\n",
            "Epoch 3/20\n",
            "310/311 [============================>.] - ETA: 0s - loss: 0.1886 - f1: 0.0398\n",
            "Epoch 00003: val_f1 improved from 0.01218 to 0.04115, saving model to model.weights\n",
            "311/311 [==============================] - 23s 74ms/step - loss: 0.1886 - f1: 0.0400 - val_loss: 0.1902 - val_f1: 0.0411\n",
            "Epoch 4/20\n",
            "310/311 [============================>.] - ETA: 0s - loss: 0.1835 - f1: 0.0857\n",
            "Epoch 00004: val_f1 improved from 0.04115 to 0.08949, saving model to model.weights\n",
            "311/311 [==============================] - 23s 74ms/step - loss: 0.1835 - f1: 0.0857 - val_loss: 0.1843 - val_f1: 0.0895\n",
            "Epoch 5/20\n",
            "310/311 [============================>.] - ETA: 0s - loss: 0.1774 - f1: 0.1433\n",
            "Epoch 00005: val_f1 improved from 0.08949 to 0.10371, saving model to model.weights\n",
            "311/311 [==============================] - 23s 74ms/step - loss: 0.1774 - f1: 0.1431 - val_loss: 0.1827 - val_f1: 0.1037\n",
            "Epoch 6/20\n",
            "310/311 [============================>.] - ETA: 0s - loss: 0.1694 - f1: 0.2179\n",
            "Epoch 00006: val_f1 improved from 0.10371 to 0.13853, saving model to model.weights\n",
            "311/311 [==============================] - 23s 74ms/step - loss: 0.1694 - f1: 0.2178 - val_loss: 0.1817 - val_f1: 0.1385\n",
            "Epoch 7/20\n",
            "310/311 [============================>.] - ETA: 0s - loss: 0.1597 - f1: 0.2994\n",
            "Epoch 00007: val_f1 improved from 0.13853 to 0.21612, saving model to model.weights\n",
            "311/311 [==============================] - 23s 74ms/step - loss: 0.1597 - f1: 0.2995 - val_loss: 0.1853 - val_f1: 0.2161\n",
            "Epoch 8/20\n",
            "310/311 [============================>.] - ETA: 0s - loss: 0.1497 - f1: 0.3810\n",
            "Epoch 00008: val_f1 improved from 0.21612 to 0.24503, saving model to model.weights\n",
            "311/311 [==============================] - 23s 74ms/step - loss: 0.1497 - f1: 0.3808 - val_loss: 0.1905 - val_f1: 0.2450\n",
            "Epoch 9/20\n",
            "310/311 [============================>.] - ETA: 0s - loss: 0.1393 - f1: 0.4560\n",
            "Epoch 00009: val_f1 did not improve from 0.24503\n",
            "311/311 [==============================] - 23s 74ms/step - loss: 0.1393 - f1: 0.4562 - val_loss: 0.1969 - val_f1: 0.2012\n",
            "Epoch 10/20\n",
            "310/311 [============================>.] - ETA: 0s - loss: 0.1291 - f1: 0.5178\n",
            "Epoch 00010: val_f1 improved from 0.24503 to 0.24589, saving model to model.weights\n",
            "311/311 [==============================] - 23s 74ms/step - loss: 0.1291 - f1: 0.5177 - val_loss: 0.2029 - val_f1: 0.2459\n",
            "Epoch 11/20\n",
            "310/311 [============================>.] - ETA: 0s - loss: 0.1195 - f1: 0.5723\n",
            "Epoch 00011: val_f1 did not improve from 0.24589\n",
            "311/311 [==============================] - 23s 74ms/step - loss: 0.1195 - f1: 0.5721 - val_loss: 0.2125 - val_f1: 0.2423\n",
            "Epoch 00011: early stopping\n"
          ],
          "name": "stdout"
        },
        {
          "output_type": "execute_result",
          "data": {
            "text/plain": [
              "<tensorflow.python.keras.callbacks.History at 0x7fd80e307b38>"
            ]
          },
          "metadata": {
            "tags": []
          },
          "execution_count": 62
        }
      ]
    },
    {
      "cell_type": "code",
      "metadata": {
        "id": "8JhsMvosRbhx",
        "colab_type": "code",
        "colab": {
          "base_uri": "https://localhost:8080/",
          "height": 312
        },
        "outputId": "5bb0cc23-08e1-479f-888c-a88cc9a5b5e2"
      },
      "source": [
        "# BASIC\n",
        "\n",
        "print(model.history.history.keys())\n",
        "# summarize history for accuracy\n",
        "plt.plot(model.history.history['f1'])\n",
        "plt.plot(model.history.history['val_f1'])\n",
        "plt.title('model f1')\n",
        "plt.ylabel('f1')\n",
        "plt.xlabel('epoch')\n",
        "plt.legend(['train', 'val'], loc='upper left')\n",
        "plt.show()"
      ],
      "execution_count": 63,
      "outputs": [
        {
          "output_type": "stream",
          "text": [
            "dict_keys(['loss', 'f1', 'val_loss', 'val_f1'])\n"
          ],
          "name": "stdout"
        },
        {
          "output_type": "display_data",
          "data": {
            "image/png": "[encoded data removed]",
            "text/plain": [
              "<Figure size 432x288 with 1 Axes>"
            ]
          },
          "metadata": {
            "tags": [],
            "needs_background": "light"
          }
        }
      ]
    },
    {
      "cell_type": "code",
      "metadata": {
        "id": "xz9vQBTFbHNC",
        "colab_type": "code",
        "colab": {
          "base_uri": "https://localhost:8080/",
          "height": 663
        },
        "outputId": "7a79eba2-a902-407c-af2d-afc6cc8968ec"
      },
      "source": [
        "inputs = tf.keras.layers.Input(shape=(MAX_LEN,))\n",
        "embeddings = tf.keras.layers.Embedding(input_dim=len(word2id), output_dim=100)(inputs)\n",
        "\n",
        "conv1 = tf.keras.layers.Conv1D(kernel_size=10, filters=32, kernel_regularizer='l2')(embeddings)\n",
        "\n",
        "mean = tf.keras.layers.Flatten()(conv1)\n",
        "dense = tf.keras.layers.Dense(64, activation='relu')(mean)\n",
        "outputs = tf.keras.layers.Dense(1, activation='sigmoid')(dense)\n",
        "\n",
        "model = tf.keras.Model(inputs=inputs, outputs=outputs)\n",
        "optimizer = tf.keras.optimizers.Adam(learning_rate=0.001)\n",
        "model.compile(optimizer=optimizer,\n",
        "              loss='binary_crossentropy',\n",
        "              metrics=[f1])\n",
        "\n",
        "model.fit(X_train, y_train, \n",
        "          validation_data=(X_valid, y_valid),\n",
        "          batch_size=4000,\n",
        "         epochs=20,\n",
        "         callbacks=[checkpoint, early_stop])"
      ],
      "execution_count": 64,
      "outputs": [
        {
          "output_type": "stream",
          "text": [
            "Epoch 1/20\n",
            "310/311 [============================>.] - ETA: 0s - loss: 0.2679 - f1: 0.0105\n",
            "Epoch 00001: val_f1 did not improve from 0.24589\n",
            "311/311 [==============================] - 29s 92ms/step - loss: 0.2679 - f1: 0.0105 - val_loss: 0.2058 - val_f1: 0.0081\n",
            "Epoch 2/20\n",
            "310/311 [============================>.] - ETA: 0s - loss: 0.2028 - f1: 0.0060\n",
            "Epoch 00002: val_f1 did not improve from 0.24589\n",
            "311/311 [==============================] - 28s 91ms/step - loss: 0.2028 - f1: 0.0060 - val_loss: 0.1995 - val_f1: 0.0034\n",
            "Epoch 3/20\n",
            "310/311 [============================>.] - ETA: 0s - loss: 0.1981 - f1: 0.0197\n",
            "Epoch 00003: val_f1 did not improve from 0.24589\n",
            "311/311 [==============================] - 29s 94ms/step - loss: 0.1981 - f1: 0.0197 - val_loss: 0.1952 - val_f1: 0.0184\n",
            "Epoch 4/20\n",
            "310/311 [============================>.] - ETA: 0s - loss: 0.1945 - f1: 0.0353\n",
            "Epoch 00004: val_f1 did not improve from 0.24589\n",
            "311/311 [==============================] - 29s 92ms/step - loss: 0.1945 - f1: 0.0351 - val_loss: 0.1936 - val_f1: 0.0140\n",
            "Epoch 5/20\n",
            "310/311 [============================>.] - ETA: 0s - loss: 0.1919 - f1: 0.0458\n",
            "Epoch 00005: val_f1 did not improve from 0.24589\n",
            "311/311 [==============================] - 29s 92ms/step - loss: 0.1919 - f1: 0.0457 - val_loss: 0.1904 - val_f1: 0.0444\n",
            "Epoch 6/20\n",
            "310/311 [============================>.] - ETA: 0s - loss: 0.1901 - f1: 0.0553\n",
            "Epoch 00006: val_f1 did not improve from 0.24589\n",
            "311/311 [==============================] - 29s 92ms/step - loss: 0.1901 - f1: 0.0551 - val_loss: 0.1881 - val_f1: 0.0847\n",
            "Epoch 7/20\n",
            "310/311 [============================>.] - ETA: 0s - loss: 0.1884 - f1: 0.0657\n",
            "Epoch 00007: val_f1 did not improve from 0.24589\n",
            "311/311 [==============================] - 29s 92ms/step - loss: 0.1884 - f1: 0.0661 - val_loss: 0.1869 - val_f1: 0.0935\n",
            "Epoch 8/20\n",
            "310/311 [============================>.] - ETA: 0s - loss: 0.1872 - f1: 0.0753\n",
            "Epoch 00008: val_f1 did not improve from 0.24589\n",
            "311/311 [==============================] - 29s 92ms/step - loss: 0.1872 - f1: 0.0751 - val_loss: 0.1864 - val_f1: 0.0836\n",
            "Epoch 9/20\n",
            "310/311 [============================>.] - ETA: 0s - loss: 0.1861 - f1: 0.0818\n",
            "Epoch 00009: val_f1 did not improve from 0.24589\n",
            "311/311 [==============================] - 28s 92ms/step - loss: 0.1861 - f1: 0.0816 - val_loss: 0.1865 - val_f1: 0.0398\n",
            "Epoch 00009: early stopping\n"
          ],
          "name": "stdout"
        },
        {
          "output_type": "execute_result",
          "data": {
            "text/plain": [
              "<tensorflow.python.keras.callbacks.History at 0x7fd80e0f65f8>"
            ]
          },
          "metadata": {
            "tags": []
          },
          "execution_count": 64
        }
      ]
    },
    {
      "cell_type": "code",
      "metadata": {
        "id": "AVOHOV7MR55I",
        "colab_type": "code",
        "outputId": "c57ff14b-0f0f-4923-a622-0c166c2fe513",
        "colab": {
          "base_uri": "https://localhost:8080/",
          "height": 312
        }
      },
      "source": [
        "# 1 conv layer\n",
        "\n",
        "print(model.history.history.keys())\n",
        "# summarize history for accuracy\n",
        "plt.plot(model.history.history['f1'])\n",
        "plt.plot(model.history.history['val_f1'])\n",
        "plt.title('model f1')\n",
        "plt.ylabel('f1')\n",
        "plt.xlabel('epoch')\n",
        "plt.legend(['train', 'val'], loc='upper left')\n",
        "plt.show()"
      ],
      "execution_count": 65,
      "outputs": [
        {
          "output_type": "stream",
          "text": [
            "dict_keys(['loss', 'f1', 'val_loss', 'val_f1'])\n"
          ],
          "name": "stdout"
        },
        {
          "output_type": "display_data",
          "data": {
            "image/png": "[encoded data removed]",
            "text/plain": [
              "<Figure size 432x288 with 1 Axes>"
            ]
          },
          "metadata": {
            "tags": [],
            "needs_background": "light"
          }
        }
      ]
    },
    {
      "cell_type": "code",
      "metadata": {
        "id": "LY2_CqXJa5Vk",
        "colab_type": "code",
        "colab": {
          "base_uri": "https://localhost:8080/",
          "height": 935
        },
        "outputId": "06371544-a6ba-4857-ffa5-e8232fc0cd70"
      },
      "source": [
        "inputs = tf.keras.layers.Input(shape=(MAX_LEN,))\n",
        "embeddings = tf.keras.layers.Embedding(input_dim=len(word2id), output_dim=100)(inputs, )\n",
        "convs = []\n",
        "\n",
        "for ks in [2,3,4,5]:\n",
        "    conv1 = tf.keras.layers.Conv1D(kernel_size=ks, filters=32, padding='same',strides=1)(embeddings)\n",
        "    conv2 = tf.keras.layers.Conv1D(kernel_size=ks, filters=32, padding='same',strides=1, \n",
        "                                  kernel_regularizer='l2', activation='relu')(conv1)\n",
        "    convs.append(conv2)\n",
        "\n",
        "\n",
        "mean = tf.keras.layers.concatenate(convs, axis=2)\n",
        "\n",
        "flatten = tf.keras.layers.Flatten()(mean)\n",
        "dense = tf.keras.layers.Dense(50, activation='relu')(flatten)\n",
        "outputs = tf.keras.layers.Dense(1, activation='sigmoid')(dense)\n",
        "\n",
        "model = tf.keras.Model(inputs=inputs, outputs=outputs)\n",
        "optimizer = tf.keras.optimizers.Adam(learning_rate=0.001)\n",
        "model.compile(optimizer=optimizer,\n",
        "              loss='binary_crossentropy',\n",
        "              metrics=[f1])\n",
        "\n",
        "model.fit(X_train, y_train, \n",
        "          validation_data=(X_valid, y_valid),\n",
        "          batch_size=4000,\n",
        "         epochs=20,\n",
        "         callbacks=[checkpoint, early_stop])"
      ],
      "execution_count": 66,
      "outputs": [
        {
          "output_type": "stream",
          "text": [
            "Epoch 1/20\n",
            "310/311 [============================>.] - ETA: 0s - loss: 0.4226 - f1: 3.0606e-04\n",
            "Epoch 00001: val_f1 did not improve from 0.24589\n",
            "311/311 [==============================] - 46s 148ms/step - loss: 0.4224 - f1: 3.0507e-04 - val_loss: 0.1826 - val_f1: 0.0000e+00\n",
            "Epoch 2/20\n",
            "310/311 [============================>.] - ETA: 0s - loss: 0.1764 - f1: 0.1085\n",
            "Epoch 00002: val_f1 did not improve from 0.24589\n",
            "311/311 [==============================] - 46s 148ms/step - loss: 0.1764 - f1: 0.1090 - val_loss: 0.1740 - val_f1: 0.1041\n",
            "Epoch 3/20\n",
            "310/311 [============================>.] - ETA: 0s - loss: 0.1681 - f1: 0.2015\n",
            "Epoch 00003: val_f1 did not improve from 0.24589\n",
            "311/311 [==============================] - 46s 148ms/step - loss: 0.1681 - f1: 0.2013 - val_loss: 0.1651 - val_f1: 0.1508\n",
            "Epoch 4/20\n",
            "310/311 [============================>.] - ETA: 0s - loss: 0.1627 - f1: 0.2540\n",
            "Epoch 00004: val_f1 improved from 0.24589 to 0.29025, saving model to model.weights\n",
            "311/311 [==============================] - 46s 148ms/step - loss: 0.1627 - f1: 0.2539 - val_loss: 0.1586 - val_f1: 0.2903\n",
            "Epoch 5/20\n",
            "310/311 [============================>.] - ETA: 0s - loss: 0.1581 - f1: 0.3073\n",
            "Epoch 00005: val_f1 improved from 0.29025 to 0.30469, saving model to model.weights\n",
            "311/311 [==============================] - 46s 148ms/step - loss: 0.1581 - f1: 0.3078 - val_loss: 0.1554 - val_f1: 0.3047\n",
            "Epoch 6/20\n",
            "310/311 [============================>.] - ETA: 0s - loss: 0.1560 - f1: 0.3272\n",
            "Epoch 00006: val_f1 improved from 0.30469 to 0.33419, saving model to model.weights\n",
            "311/311 [==============================] - 46s 148ms/step - loss: 0.1560 - f1: 0.3276 - val_loss: 0.1528 - val_f1: 0.3342\n",
            "Epoch 7/20\n",
            "310/311 [============================>.] - ETA: 0s - loss: 0.1527 - f1: 0.3586\n",
            "Epoch 00007: val_f1 improved from 0.33419 to 0.36933, saving model to model.weights\n",
            "311/311 [==============================] - 46s 147ms/step - loss: 0.1527 - f1: 0.3584 - val_loss: 0.1505 - val_f1: 0.3693\n",
            "Epoch 8/20\n",
            "310/311 [============================>.] - ETA: 0s - loss: 0.1512 - f1: 0.3719\n",
            "Epoch 00008: val_f1 did not improve from 0.36933\n",
            "311/311 [==============================] - 46s 148ms/step - loss: 0.1512 - f1: 0.3723 - val_loss: 0.1502 - val_f1: 0.3380\n",
            "Epoch 9/20\n",
            "310/311 [============================>.] - ETA: 0s - loss: 0.1490 - f1: 0.3900\n",
            "Epoch 00009: val_f1 did not improve from 0.36933\n",
            "311/311 [==============================] - 46s 147ms/step - loss: 0.1490 - f1: 0.3904 - val_loss: 0.1514 - val_f1: 0.3220\n",
            "Epoch 10/20\n",
            "310/311 [============================>.] - ETA: 0s - loss: 0.1478 - f1: 0.4000\n",
            "Epoch 00010: val_f1 improved from 0.36933 to 0.48868, saving model to model.weights\n",
            "311/311 [==============================] - 46s 148ms/step - loss: 0.1478 - f1: 0.3999 - val_loss: 0.1576 - val_f1: 0.4887\n",
            "Epoch 11/20\n",
            "310/311 [============================>.] - ETA: 0s - loss: 0.1465 - f1: 0.4110\n",
            "Epoch 00011: val_f1 did not improve from 0.48868\n",
            "311/311 [==============================] - 46s 147ms/step - loss: 0.1465 - f1: 0.4110 - val_loss: 0.1454 - val_f1: 0.4110\n",
            "Epoch 12/20\n",
            "310/311 [============================>.] - ETA: 0s - loss: 0.1453 - f1: 0.4198\n",
            "Epoch 00012: val_f1 did not improve from 0.48868\n",
            "311/311 [==============================] - 46s 148ms/step - loss: 0.1453 - f1: 0.4202 - val_loss: 0.1517 - val_f1: 0.3247\n",
            "Epoch 13/20\n",
            "310/311 [============================>.] - ETA: 0s - loss: 0.1444 - f1: 0.4252\n",
            "Epoch 00013: val_f1 improved from 0.48868 to 0.49013, saving model to model.weights\n",
            "311/311 [==============================] - 46s 148ms/step - loss: 0.1444 - f1: 0.4252 - val_loss: 0.1486 - val_f1: 0.4901\n",
            "Epoch 00013: early stopping\n"
          ],
          "name": "stdout"
        },
        {
          "output_type": "execute_result",
          "data": {
            "text/plain": [
              "<tensorflow.python.keras.callbacks.History at 0x7fd80d598320>"
            ]
          },
          "metadata": {
            "tags": []
          },
          "execution_count": 66
        }
      ]
    },
    {
      "cell_type": "code",
      "metadata": {
        "id": "ZwyVFLbUb0WQ",
        "colab_type": "code",
        "colab": {
          "base_uri": "https://localhost:8080/",
          "height": 312
        },
        "outputId": "607b3001-da90-443f-e187-e6dae51c70da"
      },
      "source": [
        "print(model.history.history.keys())\n",
        "# summarize history for accuracy\n",
        "plt.plot(model.history.history['f1'])\n",
        "plt.plot(model.history.history['val_f1'])\n",
        "plt.title('model f1')\n",
        "plt.ylabel('f1')\n",
        "plt.xlabel('epoch')\n",
        "plt.legend(['train', 'val'], loc='upper left')\n",
        "plt.show()"
      ],
      "execution_count": 67,
      "outputs": [
        {
          "output_type": "stream",
          "text": [
            "dict_keys(['loss', 'f1', 'val_loss', 'val_f1'])\n"
          ],
          "name": "stdout"
        },
        {
          "output_type": "display_data",
          "data": {
            "image/png": "[encoded data removed]",
            "text/plain": [
              "<Figure size 432x288 with 1 Axes>"
            ]
          },
          "metadata": {
            "tags": [],
            "needs_background": "light"
          }
        }
      ]
    },
    {
      "cell_type": "code",
      "metadata": {
        "id": "7Zm4LXN1cFbz",
        "colab_type": "code",
        "colab": {
          "base_uri": "https://localhost:8080/",
          "height": 799
        },
        "outputId": "13276c5b-5a83-4086-b33f-185a412d93c0"
      },
      "source": [
        "inputs = tf.keras.layers.Input(shape=(MAX_LEN,))\n",
        "embeddings = tf.keras.layers.Embedding(input_dim=len(word2id), output_dim=100)(inputs, )\n",
        "convs = []\n",
        "\n",
        "for ks in [2,3,4,5]:\n",
        "    conv1 = tf.keras.layers.Conv1D(kernel_size=ks, filters=32, padding='same',strides=1)(embeddings)\n",
        "    conv2 = tf.keras.layers.Conv1D(kernel_size=ks, filters=32, padding='same',strides=1, \n",
        "                                  kernel_regularizer='l2', activation='relu')(conv1)\n",
        "    convs.append(conv2)\n",
        "\n",
        "\n",
        "concat = tf.keras.layers.concatenate(convs, axis=2)\n",
        "\n",
        "conv_global = tf.keras.layers.Conv1D(kernel_size=5, filters=32, strides=1)(concat)\n",
        "flatten = tf.keras.layers.Flatten()(conv_global)\n",
        "dense = tf.keras.layers.Dense(50, activation='relu')(flatten)\n",
        "outputs = tf.keras.layers.Dense(1, activation='sigmoid')(dense)\n",
        "\n",
        "model = tf.keras.Model(inputs=inputs, outputs=outputs)\n",
        "optimizer = tf.keras.optimizers.Adam(learning_rate=0.001)\n",
        "model.compile(optimizer=optimizer,\n",
        "              loss='binary_crossentropy',\n",
        "              metrics=[f1])\n",
        "\n",
        "model.fit(X_train, y_train, \n",
        "          validation_data=(X_valid, y_valid),\n",
        "          batch_size=4000,\n",
        "         epochs=20,\n",
        "         callbacks=[checkpoint, early_stop])"
      ],
      "execution_count": 68,
      "outputs": [
        {
          "output_type": "stream",
          "text": [
            "Epoch 1/20\n",
            "310/311 [============================>.] - ETA: 0s - loss: 0.4244 - f1: 0.0314\n",
            "Epoch 00001: val_f1 did not improve from 0.49013\n",
            "311/311 [==============================] - 50s 160ms/step - loss: 0.4242 - f1: 0.0321 - val_loss: 0.1771 - val_f1: 0.1675\n",
            "Epoch 2/20\n",
            "310/311 [============================>.] - ETA: 0s - loss: 0.1690 - f1: 0.2596\n",
            "Epoch 00002: val_f1 did not improve from 0.49013\n",
            "311/311 [==============================] - 49s 159ms/step - loss: 0.1690 - f1: 0.2600 - val_loss: 0.1700 - val_f1: 0.4203\n",
            "Epoch 3/20\n",
            "310/311 [============================>.] - ETA: 0s - loss: 0.1586 - f1: 0.3318\n",
            "Epoch 00003: val_f1 did not improve from 0.49013\n",
            "311/311 [==============================] - 49s 159ms/step - loss: 0.1586 - f1: 0.3316 - val_loss: 0.1623 - val_f1: 0.4644\n",
            "Epoch 4/20\n",
            "310/311 [============================>.] - ETA: 0s - loss: 0.1533 - f1: 0.3642\n",
            "Epoch 00004: val_f1 did not improve from 0.49013\n",
            "311/311 [==============================] - 49s 159ms/step - loss: 0.1533 - f1: 0.3648 - val_loss: 0.1508 - val_f1: 0.4461\n",
            "Epoch 5/20\n",
            "310/311 [============================>.] - ETA: 0s - loss: 0.1493 - f1: 0.3910\n",
            "Epoch 00005: val_f1 improved from 0.49013 to 0.49362, saving model to model.weights\n",
            "311/311 [==============================] - 49s 158ms/step - loss: 0.1493 - f1: 0.3910 - val_loss: 0.1547 - val_f1: 0.4936\n",
            "Epoch 6/20\n",
            "310/311 [============================>.] - ETA: 0s - loss: 0.1455 - f1: 0.4145\n",
            "Epoch 00006: val_f1 did not improve from 0.49362\n",
            "311/311 [==============================] - 49s 158ms/step - loss: 0.1455 - f1: 0.4149 - val_loss: 0.1436 - val_f1: 0.4636\n",
            "Epoch 7/20\n",
            "310/311 [============================>.] - ETA: 0s - loss: 0.1429 - f1: 0.4339\n",
            "Epoch 00007: val_f1 did not improve from 0.49362\n",
            "311/311 [==============================] - 49s 159ms/step - loss: 0.1429 - f1: 0.4340 - val_loss: 0.1422 - val_f1: 0.4365\n",
            "Epoch 8/20\n",
            "310/311 [============================>.] - ETA: 0s - loss: 0.1418 - f1: 0.4382\n",
            "Epoch 00008: val_f1 improved from 0.49362 to 0.50953, saving model to model.weights\n",
            "311/311 [==============================] - 49s 158ms/step - loss: 0.1419 - f1: 0.4380 - val_loss: 0.1479 - val_f1: 0.5095\n",
            "Epoch 9/20\n",
            "310/311 [============================>.] - ETA: 0s - loss: 0.1403 - f1: 0.4464\n",
            "Epoch 00009: val_f1 did not improve from 0.50953\n",
            "311/311 [==============================] - 49s 159ms/step - loss: 0.1403 - f1: 0.4466 - val_loss: 0.1400 - val_f1: 0.4150\n",
            "Epoch 10/20\n",
            "310/311 [============================>.] - ETA: 0s - loss: 0.1386 - f1: 0.4584\n",
            "Epoch 00010: val_f1 did not improve from 0.50953\n",
            "311/311 [==============================] - 49s 158ms/step - loss: 0.1386 - f1: 0.4587 - val_loss: 0.1475 - val_f1: 0.3350\n",
            "Epoch 11/20\n",
            "310/311 [============================>.] - ETA: 0s - loss: 0.1378 - f1: 0.4584\n",
            "Epoch 00011: val_f1 did not improve from 0.50953\n",
            "311/311 [==============================] - 49s 159ms/step - loss: 0.1378 - f1: 0.4587 - val_loss: 0.1479 - val_f1: 0.3556\n",
            "Epoch 00011: early stopping\n"
          ],
          "name": "stdout"
        },
        {
          "output_type": "execute_result",
          "data": {
            "text/plain": [
              "<tensorflow.python.keras.callbacks.History at 0x7fd80d14e9e8>"
            ]
          },
          "metadata": {
            "tags": []
          },
          "execution_count": 68
        }
      ]
    },
    {
      "cell_type": "code",
      "metadata": {
        "id": "743O3qHHgX8Q",
        "colab_type": "code",
        "colab": {
          "base_uri": "https://localhost:8080/",
          "height": 312
        },
        "outputId": "80e18381-6c03-45d0-8246-122c52f98e21"
      },
      "source": [
        "print(model.history.history.keys())\n",
        "# summarize history for accuracy\n",
        "plt.plot(model.history.history['f1'])\n",
        "plt.plot(model.history.history['val_f1'])\n",
        "plt.title('model f1')\n",
        "plt.ylabel('f1')\n",
        "plt.xlabel('epoch')\n",
        "plt.legend(['train', 'val'], loc='upper left')\n",
        "plt.show()"
      ],
      "execution_count": 69,
      "outputs": [
        {
          "output_type": "stream",
          "text": [
            "dict_keys(['loss', 'f1', 'val_loss', 'val_f1'])\n"
          ],
          "name": "stdout"
        },
        {
          "output_type": "display_data",
          "data": {
            "image/png": "[encoded data removed]",
            "text/plain": [
              "<Figure size 432x288 with 1 Axes>"
            ]
          },
          "metadata": {
            "tags": [],
            "needs_background": "light"
          }
        }
      ]
    },
    {
      "cell_type": "code",
      "metadata": {
        "id": "KKmsZ9fshnP9",
        "colab_type": "code",
        "colab": {
          "base_uri": "https://localhost:8080/",
          "height": 527
        },
        "outputId": "19ea2619-209b-4c6d-ac32-fd2cf693531b"
      },
      "source": [
        "inputs = tf.keras.layers.Input(shape=(MAX_LEN,))\n",
        "embeddings = tf.keras.layers.Embedding(input_dim=len(word2id), output_dim=100)(inputs, )\n",
        "convs = []\n",
        "\n",
        "drop1 = tf.keras.layers.Dropout(0.2)(embeddings)\n",
        "\n",
        "for ks in [2,3,4,5]:\n",
        "    conv1 = tf.keras.layers.Conv1D(kernel_size=ks, filters=32, padding='same',strides=1)(drop1)\n",
        "    conv2 = tf.keras.layers.Conv1D(kernel_size=ks, filters=32, padding='same',strides=1, \n",
        "                                  kernel_regularizer='l2', activation='relu')(conv1)\n",
        "    convs.append(conv2)\n",
        "\n",
        "\n",
        "concat = tf.keras.layers.concatenate(convs, axis=2)\n",
        "\n",
        "conv_global = tf.keras.layers.Conv1D(kernel_size=5, filters=32, strides=1)(concat)\n",
        "flatten = tf.keras.layers.Flatten()(conv_global)\n",
        "dense = tf.keras.layers.Dense(50, activation='relu')(flatten)\n",
        "outputs = tf.keras.layers.Dense(1, activation='sigmoid')(dense)\n",
        "\n",
        "model = tf.keras.Model(inputs=inputs, outputs=outputs)\n",
        "optimizer = tf.keras.optimizers.Adam(learning_rate=0.001)\n",
        "model.compile(optimizer=optimizer,\n",
        "              loss='binary_crossentropy',\n",
        "              metrics=[f1])\n",
        "\n",
        "model.fit(X_train, y_train, \n",
        "          validation_data=(X_valid, y_valid),\n",
        "          batch_size=4000,\n",
        "         epochs=20,\n",
        "         callbacks=[checkpoint, early_stop])"
      ],
      "execution_count": 70,
      "outputs": [
        {
          "output_type": "stream",
          "text": [
            "Epoch 1/20\n",
            "310/311 [============================>.] - ETA: 0s - loss: 0.4278 - f1: 0.0092\n",
            "Epoch 00001: val_f1 did not improve from 0.50953\n",
            "311/311 [==============================] - 51s 164ms/step - loss: 0.4276 - f1: 0.0091 - val_loss: 0.1821 - val_f1: 0.0531\n",
            "Epoch 2/20\n",
            "310/311 [============================>.] - ETA: 0s - loss: 0.1753 - f1: 0.1829\n",
            "Epoch 00002: val_f1 did not improve from 0.50953\n",
            "311/311 [==============================] - 51s 163ms/step - loss: 0.1753 - f1: 0.1834 - val_loss: 0.1617 - val_f1: 0.2990\n",
            "Epoch 3/20\n",
            "310/311 [============================>.] - ETA: 0s - loss: 0.1624 - f1: 0.2983\n",
            "Epoch 00003: val_f1 did not improve from 0.50953\n",
            "311/311 [==============================] - 51s 165ms/step - loss: 0.1623 - f1: 0.2984 - val_loss: 0.1588 - val_f1: 0.4368\n",
            "Epoch 4/20\n",
            "310/311 [============================>.] - ETA: 0s - loss: 0.1560 - f1: 0.3430\n",
            "Epoch 00004: val_f1 did not improve from 0.50953\n",
            "311/311 [==============================] - 51s 164ms/step - loss: 0.1560 - f1: 0.3430 - val_loss: 0.1557 - val_f1: 0.4732\n",
            "Epoch 5/20\n",
            "310/311 [============================>.] - ETA: 0s - loss: 0.1526 - f1: 0.3686\n",
            "Epoch 00005: val_f1 did not improve from 0.50953\n",
            "311/311 [==============================] - 52s 168ms/step - loss: 0.1526 - f1: 0.3688 - val_loss: 0.1459 - val_f1: 0.4266\n",
            "Epoch 6/20\n",
            "310/311 [============================>.] - ETA: 0s - loss: 0.1492 - f1: 0.3904\n",
            "Epoch 00006: val_f1 did not improve from 0.50953\n",
            "311/311 [==============================] - 52s 168ms/step - loss: 0.1492 - f1: 0.3901 - val_loss: 0.1443 - val_f1: 0.4237\n",
            "Epoch 7/20\n",
            "310/311 [============================>.] - ETA: 0s - loss: 0.1472 - f1: 0.4046\n",
            "Epoch 00007: val_f1 did not improve from 0.50953\n",
            "311/311 [==============================] - 52s 168ms/step - loss: 0.1472 - f1: 0.4049 - val_loss: 0.1440 - val_f1: 0.3843\n",
            "Epoch 00007: early stopping\n"
          ],
          "name": "stdout"
        },
        {
          "output_type": "execute_result",
          "data": {
            "text/plain": [
              "<tensorflow.python.keras.callbacks.History at 0x7fd80acfa8d0>"
            ]
          },
          "metadata": {
            "tags": []
          },
          "execution_count": 70
        }
      ]
    },
    {
      "cell_type": "code",
      "metadata": {
        "id": "PzTnBv3oiJSB",
        "colab_type": "code",
        "colab": {
          "base_uri": "https://localhost:8080/",
          "height": 312
        },
        "outputId": "79763ce2-b8da-437e-80b0-de8c5d06f89b"
      },
      "source": [
        "print(model.history.history.keys())\n",
        "# summarize history for accuracy\n",
        "plt.plot(model.history.history['f1'])\n",
        "plt.plot(model.history.history['val_f1'])\n",
        "plt.title('model f1')\n",
        "plt.ylabel('f1')\n",
        "plt.xlabel('epoch')\n",
        "plt.legend(['train', 'val'], loc='upper left')\n",
        "plt.show()"
      ],
      "execution_count": 58,
      "outputs": [
        {
          "output_type": "stream",
          "text": [
            "dict_keys(['loss', 'f1', 'val_loss', 'val_f1'])\n"
          ],
          "name": "stdout"
        },
        {
          "output_type": "display_data",
          "data": {
            "image/png": "[encoded data removed]",
            "text/plain": [
              "<Figure size 432x288 with 1 Axes>"
            ]
          },
          "metadata": {
            "tags": [],
            "needs_background": "light"
          }
        }
      ]
    },
    {
      "cell_type": "code",
      "metadata": {
        "id": "IejU2nU0jWIV",
        "colab_type": "code",
        "colab": {
          "base_uri": "https://localhost:8080/",
          "height": 595
        },
        "outputId": "ff04daea-6307-436a-e6e7-685ffafe26c7"
      },
      "source": [
        "inputs = tf.keras.layers.Input(shape=(MAX_LEN,))\n",
        "embeddings = tf.keras.layers.Embedding(input_dim=len(word2id), output_dim=100)(inputs, )\n",
        "convs = []\n",
        "\n",
        "drop1 = tf.keras.layers.Dropout(0.2)(embeddings)\n",
        "\n",
        "for ks in [2,3,4,5]:\n",
        "    conv1 = tf.keras.layers.Conv1D(kernel_size=ks, filters=32, padding='same',strides=1)(drop1)\n",
        "    conv2 = tf.keras.layers.Conv1D(kernel_size=ks, filters=32, padding='same',strides=1, \n",
        "                                  kernel_regularizer='l2', activation='relu')(conv1)\n",
        "    convs.append(conv2)\n",
        "\n",
        "\n",
        "concat = tf.keras.layers.concatenate(convs, axis=2)\n",
        "\n",
        "drop2 = tf.keras.layers.Dropout(0.3)(concat)\n",
        "\n",
        "conv_global = tf.keras.layers.Conv1D(kernel_size=5, filters=32, strides=1)(drop2)\n",
        "flatten = tf.keras.layers.Flatten()(conv_global)\n",
        "dense = tf.keras.layers.Dense(50, activation='relu')(flatten)\n",
        "outputs = tf.keras.layers.Dense(1, activation='sigmoid')(dense)\n",
        "\n",
        "model = tf.keras.Model(inputs=inputs, outputs=outputs)\n",
        "optimizer = tf.keras.optimizers.Adam(learning_rate=0.001)\n",
        "model.compile(optimizer=optimizer,\n",
        "              loss='binary_crossentropy',\n",
        "              metrics=[f1])\n",
        "\n",
        "model.fit(X_train, y_train, \n",
        "          validation_data=(X_valid, y_valid),\n",
        "          batch_size=4000,\n",
        "         epochs=20,\n",
        "         callbacks=[checkpoint, early_stop])"
      ],
      "execution_count": 71,
      "outputs": [
        {
          "output_type": "stream",
          "text": [
            "Epoch 1/20\n",
            "310/311 [============================>.] - ETA: 0s - loss: 0.4290 - f1: 0.0124\n",
            "Epoch 00001: val_f1 did not improve from 0.50953\n",
            "311/311 [==============================] - 54s 175ms/step - loss: 0.4289 - f1: 0.0129 - val_loss: 0.1885 - val_f1: 0.0249\n",
            "Epoch 2/20\n",
            "310/311 [============================>.] - ETA: 0s - loss: 0.1782 - f1: 0.1637\n",
            "Epoch 00002: val_f1 did not improve from 0.50953\n",
            "311/311 [==============================] - 54s 174ms/step - loss: 0.1782 - f1: 0.1634 - val_loss: 0.1703 - val_f1: 0.3391\n",
            "Epoch 3/20\n",
            "310/311 [============================>.] - ETA: 0s - loss: 0.1659 - f1: 0.2861\n",
            "Epoch 00003: val_f1 did not improve from 0.50953\n",
            "311/311 [==============================] - 54s 174ms/step - loss: 0.1659 - f1: 0.2862 - val_loss: 0.1625 - val_f1: 0.4299\n",
            "Epoch 4/20\n",
            "310/311 [============================>.] - ETA: 0s - loss: 0.1595 - f1: 0.3226\n",
            "Epoch 00004: val_f1 did not improve from 0.50953\n",
            "311/311 [==============================] - 54s 174ms/step - loss: 0.1595 - f1: 0.3229 - val_loss: 0.1507 - val_f1: 0.3721\n",
            "Epoch 5/20\n",
            "310/311 [============================>.] - ETA: 0s - loss: 0.1564 - f1: 0.3400\n",
            "Epoch 00005: val_f1 did not improve from 0.50953\n",
            "311/311 [==============================] - 54s 174ms/step - loss: 0.1565 - f1: 0.3401 - val_loss: 0.1617 - val_f1: 0.4888\n",
            "Epoch 6/20\n",
            "310/311 [============================>.] - ETA: 0s - loss: 0.1539 - f1: 0.3570\n",
            "Epoch 00006: val_f1 did not improve from 0.50953\n",
            "311/311 [==============================] - 54s 174ms/step - loss: 0.1539 - f1: 0.3571 - val_loss: 0.1498 - val_f1: 0.4607\n",
            "Epoch 7/20\n",
            "310/311 [============================>.] - ETA: 0s - loss: 0.1514 - f1: 0.3728\n",
            "Epoch 00007: val_f1 did not improve from 0.50953\n",
            "311/311 [==============================] - 54s 175ms/step - loss: 0.1514 - f1: 0.3729 - val_loss: 0.1444 - val_f1: 0.4257\n",
            "Epoch 8/20\n",
            "310/311 [============================>.] - ETA: 0s - loss: 0.1503 - f1: 0.3797\n",
            "Epoch 00008: val_f1 did not improve from 0.50953\n",
            "311/311 [==============================] - 54s 175ms/step - loss: 0.1503 - f1: 0.3801 - val_loss: 0.1444 - val_f1: 0.4726\n",
            "Epoch 00008: early stopping\n"
          ],
          "name": "stdout"
        },
        {
          "output_type": "execute_result",
          "data": {
            "text/plain": [
              "<tensorflow.python.keras.callbacks.History at 0x7fd80a93c0b8>"
            ]
          },
          "metadata": {
            "tags": []
          },
          "execution_count": 71
        }
      ]
    },
    {
      "cell_type": "code",
      "metadata": {
        "id": "0ta_FQ5djoYP",
        "colab_type": "code",
        "colab": {
          "base_uri": "https://localhost:8080/",
          "height": 312
        },
        "outputId": "dfb4663e-a089-4e0b-e07a-07b03d124398"
      },
      "source": [
        "print(model.history.history.keys())\n",
        "# summarize history for accuracy\n",
        "plt.plot(model.history.history['f1'])\n",
        "plt.plot(model.history.history['val_f1'])\n",
        "plt.title('model f1')\n",
        "plt.ylabel('f1')\n",
        "plt.xlabel('epoch')\n",
        "plt.legend(['train', 'val'], loc='upper left')\n",
        "plt.show()"
      ],
      "execution_count": 72,
      "outputs": [
        {
          "output_type": "stream",
          "text": [
            "dict_keys(['loss', 'f1', 'val_loss', 'val_f1'])\n"
          ],
          "name": "stdout"
        },
        {
          "output_type": "display_data",
          "data": {
            "image/png": "[encoded data removed]",
            "text/plain": [
              "<Figure size 432x288 with 1 Axes>"
            ]
          },
          "metadata": {
            "tags": [],
            "needs_background": "light"
          }
        }
      ]
    },
    {
      "cell_type": "code",
      "metadata": {
        "id": "--9Rit7HkSsE",
        "colab_type": "code",
        "colab": {
          "base_uri": "https://localhost:8080/",
          "height": 595
        },
        "outputId": "1c7e30aa-1304-4509-c9bf-fd773b73f978"
      },
      "source": [
        "inputs = tf.keras.layers.Input(shape=(MAX_LEN,))\n",
        "embeddings = tf.keras.layers.Embedding(input_dim=len(word2id), output_dim=100)(inputs, )\n",
        "convs = []\n",
        "\n",
        "drop1 = tf.keras.layers.Dropout(0.2)(embeddings)\n",
        "\n",
        "for ks in [2,3,4,5]:\n",
        "    conv1 = tf.keras.layers.Conv1D(kernel_size=ks, filters=32, padding='same',strides=1)(drop1)\n",
        "    conv2 = tf.keras.layers.Conv1D(kernel_size=ks, filters=32, padding='same',strides=1, \n",
        "                                  kernel_regularizer='l2', activation='relu')(conv1)\n",
        "    convs.append(conv2)\n",
        "\n",
        "\n",
        "concat = tf.keras.layers.concatenate(convs, axis=2)\n",
        "\n",
        "pool = tf.keras.layers.AveragePooling1D()(concat)\n",
        "\n",
        "drop2 = tf.keras.layers.Dropout(0.3)(pool)\n",
        "\n",
        "conv_global = tf.keras.layers.Conv1D(kernel_size=5, filters=32, strides=1)(drop2)\n",
        "flatten = tf.keras.layers.Flatten()(conv_global)\n",
        "dense = tf.keras.layers.Dense(50, activation='relu')(flatten)\n",
        "outputs = tf.keras.layers.Dense(1, activation='sigmoid')(dense)\n",
        "\n",
        "model = tf.keras.Model(inputs=inputs, outputs=outputs)\n",
        "optimizer = tf.keras.optimizers.Adam(learning_rate=0.001)\n",
        "model.compile(optimizer=optimizer,\n",
        "              loss='binary_crossentropy',\n",
        "              metrics=[f1])\n",
        "\n",
        "model.fit(X_train, y_train, \n",
        "          validation_data=(X_valid, y_valid),\n",
        "          batch_size=4000,\n",
        "         epochs=20,\n",
        "         callbacks=[checkpoint, early_stop])"
      ],
      "execution_count": 75,
      "outputs": [
        {
          "output_type": "stream",
          "text": [
            "Epoch 1/20\n",
            "311/311 [==============================] - ETA: 0s - loss: 0.4367 - f1: 0.0016\n",
            "Epoch 00001: val_f1 did not improve from 0.50953\n",
            "311/311 [==============================] - 53s 172ms/step - loss: 0.4367 - f1: 0.0016 - val_loss: 0.1999 - val_f1: 0.0058\n",
            "Epoch 2/20\n",
            "310/311 [============================>.] - ETA: 0s - loss: 0.1843 - f1: 0.0861\n",
            "Epoch 00002: val_f1 did not improve from 0.50953\n",
            "311/311 [==============================] - 53s 170ms/step - loss: 0.1843 - f1: 0.0864 - val_loss: 0.1694 - val_f1: 0.2384\n",
            "Epoch 3/20\n",
            "310/311 [============================>.] - ETA: 0s - loss: 0.1699 - f1: 0.2335\n",
            "Epoch 00003: val_f1 did not improve from 0.50953\n",
            "311/311 [==============================] - 53s 171ms/step - loss: 0.1699 - f1: 0.2335 - val_loss: 0.1707 - val_f1: 0.3935\n",
            "Epoch 4/20\n",
            "310/311 [============================>.] - ETA: 0s - loss: 0.1643 - f1: 0.2818\n",
            "Epoch 00004: val_f1 did not improve from 0.50953\n",
            "311/311 [==============================] - 53s 170ms/step - loss: 0.1643 - f1: 0.2821 - val_loss: 0.1868 - val_f1: 0.0961\n",
            "Epoch 5/20\n",
            "310/311 [============================>.] - ETA: 0s - loss: 0.1609 - f1: 0.3054\n",
            "Epoch 00005: val_f1 did not improve from 0.50953\n",
            "311/311 [==============================] - 53s 171ms/step - loss: 0.1609 - f1: 0.3057 - val_loss: 0.1677 - val_f1: 0.4695\n",
            "Epoch 6/20\n",
            "310/311 [============================>.] - ETA: 0s - loss: 0.1570 - f1: 0.3366\n",
            "Epoch 00006: val_f1 did not improve from 0.50953\n",
            "311/311 [==============================] - 53s 171ms/step - loss: 0.1570 - f1: 0.3368 - val_loss: 0.1550 - val_f1: 0.4417\n",
            "Epoch 7/20\n",
            "310/311 [============================>.] - ETA: 0s - loss: 0.1560 - f1: 0.3430\n",
            "Epoch 00007: val_f1 did not improve from 0.50953\n",
            "311/311 [==============================] - 53s 171ms/step - loss: 0.1560 - f1: 0.3425 - val_loss: 0.1508 - val_f1: 0.3279\n",
            "Epoch 8/20\n",
            "310/311 [============================>.] - ETA: 0s - loss: 0.1536 - f1: 0.3568\n",
            "Epoch 00008: val_f1 did not improve from 0.50953\n",
            "311/311 [==============================] - 53s 171ms/step - loss: 0.1536 - f1: 0.3571 - val_loss: 0.1514 - val_f1: 0.4421\n",
            "Epoch 00008: early stopping\n"
          ],
          "name": "stdout"
        },
        {
          "output_type": "execute_result",
          "data": {
            "text/plain": [
              "<tensorflow.python.keras.callbacks.History at 0x7fda1bc74a90>"
            ]
          },
          "metadata": {
            "tags": []
          },
          "execution_count": 75
        }
      ]
    },
    {
      "cell_type": "code",
      "metadata": {
        "id": "cG8wRULXkZgj",
        "colab_type": "code",
        "colab": {
          "base_uri": "https://localhost:8080/",
          "height": 312
        },
        "outputId": "ef94f89d-3738-4083-f1b2-4011106628ca"
      },
      "source": [
        "print(model.history.history.keys())\n",
        "# summarize history for accuracy\n",
        "plt.plot(model.history.history['f1'])\n",
        "plt.plot(model.history.history['val_f1'])\n",
        "plt.title('model f1')\n",
        "plt.ylabel('f1')\n",
        "plt.xlabel('epoch')\n",
        "plt.legend(['train', 'val'], loc='upper left')\n",
        "plt.show()"
      ],
      "execution_count": 76,
      "outputs": [
        {
          "output_type": "stream",
          "text": [
            "dict_keys(['loss', 'f1', 'val_loss', 'val_f1'])\n"
          ],
          "name": "stdout"
        },
        {
          "output_type": "display_data",
          "data": {
            "image/png": "[encoded data removed]",
            "text/plain": [
              "<Figure size 432x288 with 1 Axes>"
            ]
          },
          "metadata": {
            "tags": [],
            "needs_background": "light"
          }
        }
      ]
    },
    {
      "cell_type": "code",
      "metadata": {
        "id": "s0y9MBqWkaZX",
        "colab_type": "code",
        "colab": {
          "base_uri": "https://localhost:8080/",
          "height": 867
        },
        "outputId": "9d7354fe-802f-4a3d-b1be-22090b74086a"
      },
      "source": [
        "inputs = tf.keras.layers.Input(shape=(MAX_LEN,))\n",
        "embeddings = tf.keras.layers.Embedding(input_dim=len(word2id), output_dim=100)(inputs, )\n",
        "convs = []\n",
        "convs2 = []\n",
        "\n",
        "drop1 = tf.keras.layers.Dropout(0.2)(embeddings)\n",
        "\n",
        "for ks in [2,3,4,5]:\n",
        "    conv1 = tf.keras.layers.Conv1D(kernel_size=ks, filters=32, padding='same',strides=1)(drop1)\n",
        "    conv2 = tf.keras.layers.Conv1D(kernel_size=ks, filters=32, padding='same',strides=1, \n",
        "                                  kernel_regularizer='l2', activation='relu')(conv1)\n",
        "    convs.append(conv2)\n",
        "\n",
        "\n",
        "concat = tf.keras.layers.concatenate(convs, axis=2)\n",
        "\n",
        "pool = tf.keras.layers.AveragePooling1D()(concat)\n",
        "\n",
        "drop2 = tf.keras.layers.Dropout(0.3)(pool)\n",
        "\n",
        "for ks in [2,3,4,5]:\n",
        "    conv1 = tf.keras.layers.Conv1D(kernel_size=ks, filters=16, padding='same',strides=1)(drop1)\n",
        "    conv2 = tf.keras.layers.Conv1D(kernel_size=ks, filters=16, padding='same',strides=1, \n",
        "                                  kernel_regularizer='l2', activation='relu')(conv1)\n",
        "    convs2.append(conv2)\n",
        "\n",
        "\n",
        "concat2 = tf.keras.layers.concatenate(convs2, axis=2)\n",
        "\n",
        "flatten = tf.keras.layers.Flatten()(concat2)\n",
        "dense = tf.keras.layers.Dense(50, activation='relu')(flatten)\n",
        "outputs = tf.keras.layers.Dense(1, activation='sigmoid')(dense)\n",
        "\n",
        "model = tf.keras.Model(inputs=inputs, outputs=outputs)\n",
        "optimizer = tf.keras.optimizers.Adam(learning_rate=0.001)\n",
        "model.compile(optimizer=optimizer,\n",
        "              loss='binary_crossentropy',\n",
        "              metrics=[f1])\n",
        "\n",
        "model.fit(X_train, y_train, \n",
        "          validation_data=(X_valid, y_valid),\n",
        "          batch_size=4000,\n",
        "         epochs=20,\n",
        "         callbacks=[checkpoint, early_stop])"
      ],
      "execution_count": 77,
      "outputs": [
        {
          "output_type": "stream",
          "text": [
            "Epoch 1/20\n",
            "311/311 [==============================] - ETA: 0s - loss: 0.3710 - f1: 2.7386e-04\n",
            "Epoch 00001: val_f1 did not improve from 0.50953\n",
            "311/311 [==============================] - 46s 147ms/step - loss: 0.3710 - f1: 2.7386e-04 - val_loss: 0.1933 - val_f1: 0.0000e+00\n",
            "Epoch 2/20\n",
            "310/311 [============================>.] - ETA: 0s - loss: 0.1815 - f1: 0.0708\n",
            "Epoch 00002: val_f1 did not improve from 0.50953\n",
            "311/311 [==============================] - 45s 143ms/step - loss: 0.1815 - f1: 0.0708 - val_loss: 0.1738 - val_f1: 0.1473\n",
            "Epoch 3/20\n",
            "310/311 [============================>.] - ETA: 0s - loss: 0.1727 - f1: 0.1463\n",
            "Epoch 00003: val_f1 did not improve from 0.50953\n",
            "311/311 [==============================] - 45s 144ms/step - loss: 0.1727 - f1: 0.1465 - val_loss: 0.1687 - val_f1: 0.1442\n",
            "Epoch 4/20\n",
            "310/311 [============================>.] - ETA: 0s - loss: 0.1673 - f1: 0.2073\n",
            "Epoch 00004: val_f1 did not improve from 0.50953\n",
            "311/311 [==============================] - 45s 143ms/step - loss: 0.1673 - f1: 0.2074 - val_loss: 0.1625 - val_f1: 0.2242\n",
            "Epoch 5/20\n",
            "310/311 [============================>.] - ETA: 0s - loss: 0.1625 - f1: 0.2597\n",
            "Epoch 00005: val_f1 did not improve from 0.50953\n",
            "311/311 [==============================] - 45s 144ms/step - loss: 0.1625 - f1: 0.2601 - val_loss: 0.1761 - val_f1: 0.4456\n",
            "Epoch 6/20\n",
            "310/311 [============================>.] - ETA: 0s - loss: 0.1595 - f1: 0.2932\n",
            "Epoch 00006: val_f1 did not improve from 0.50953\n",
            "311/311 [==============================] - 45s 144ms/step - loss: 0.1595 - f1: 0.2933 - val_loss: 0.1682 - val_f1: 0.4415\n",
            "Epoch 7/20\n",
            "310/311 [============================>.] - ETA: 0s - loss: 0.1572 - f1: 0.3197\n",
            "Epoch 00007: val_f1 did not improve from 0.50953\n",
            "311/311 [==============================] - 45s 143ms/step - loss: 0.1572 - f1: 0.3190 - val_loss: 0.1687 - val_f1: 0.4740\n",
            "Epoch 8/20\n",
            "310/311 [============================>.] - ETA: 0s - loss: 0.1548 - f1: 0.3442\n",
            "Epoch 00008: val_f1 did not improve from 0.50953\n",
            "311/311 [==============================] - 45s 144ms/step - loss: 0.1548 - f1: 0.3439 - val_loss: 0.1559 - val_f1: 0.4442\n",
            "Epoch 9/20\n",
            "310/311 [============================>.] - ETA: 0s - loss: 0.1531 - f1: 0.3568\n",
            "Epoch 00009: val_f1 did not improve from 0.50953\n",
            "311/311 [==============================] - 45s 143ms/step - loss: 0.1531 - f1: 0.3566 - val_loss: 0.1716 - val_f1: 0.4906\n",
            "Epoch 10/20\n",
            "310/311 [============================>.] - ETA: 0s - loss: 0.1516 - f1: 0.3682\n",
            "Epoch 00010: val_f1 did not improve from 0.50953\n",
            "311/311 [==============================] - 45s 144ms/step - loss: 0.1516 - f1: 0.3679 - val_loss: 0.1478 - val_f1: 0.4170\n",
            "Epoch 11/20\n",
            "310/311 [============================>.] - ETA: 0s - loss: 0.1504 - f1: 0.3814\n",
            "Epoch 00011: val_f1 did not improve from 0.50953\n",
            "311/311 [==============================] - 45s 143ms/step - loss: 0.1504 - f1: 0.3820 - val_loss: 0.1472 - val_f1: 0.4318\n",
            "Epoch 12/20\n",
            "310/311 [============================>.] - ETA: 0s - loss: 0.1489 - f1: 0.3883\n",
            "Epoch 00012: val_f1 did not improve from 0.50953\n",
            "311/311 [==============================] - 45s 144ms/step - loss: 0.1489 - f1: 0.3883 - val_loss: 0.1462 - val_f1: 0.3895\n",
            "Epoch 00012: early stopping\n"
          ],
          "name": "stdout"
        },
        {
          "output_type": "execute_result",
          "data": {
            "text/plain": [
              "<tensorflow.python.keras.callbacks.History at 0x7fd813356b70>"
            ]
          },
          "metadata": {
            "tags": []
          },
          "execution_count": 77
        }
      ]
    },
    {
      "cell_type": "code",
      "metadata": {
        "id": "b7863McRkacU",
        "colab_type": "code",
        "colab": {
          "base_uri": "https://localhost:8080/",
          "height": 312
        },
        "outputId": "2c231377-2b3e-4747-99b7-d6e094758d5a"
      },
      "source": [
        "print(model.history.history.keys())\n",
        "# summarize history for accuracy\n",
        "plt.plot(model.history.history['f1'])\n",
        "plt.plot(model.history.history['val_f1'])\n",
        "plt.title('model f1')\n",
        "plt.ylabel('f1')\n",
        "plt.xlabel('epoch')\n",
        "plt.legend(['train', 'val'], loc='upper left')\n",
        "plt.show()"
      ],
      "execution_count": 78,
      "outputs": [
        {
          "output_type": "stream",
          "text": [
            "dict_keys(['loss', 'f1', 'val_loss', 'val_f1'])\n"
          ],
          "name": "stdout"
        },
        {
          "output_type": "display_data",
          "data": {
            "image/png": "[encoded data removed]",
            "text/plain": [
              "<Figure size 432x288 with 1 Axes>"
            ]
          },
          "metadata": {
            "tags": [],
            "needs_background": "light"
          }
        }
      ]
    },
    {
      "cell_type": "code",
      "metadata": {
        "id": "Hc0syMkN0sn5",
        "colab_type": "code",
        "colab": {
          "base_uri": "https://localhost:8080/",
          "height": 1000
        },
        "outputId": "6a3ecc99-3b6e-44bb-9baf-2f80048bb7bc"
      },
      "source": [
        "inputs = tf.keras.layers.Input(shape=(MAX_LEN,))\n",
        "embeddings = tf.keras.layers.Embedding(input_dim=len(word2id), output_dim=100)(inputs, )\n",
        "convs = []\n",
        "convs2 = []\n",
        "\n",
        "drop1 = tf.keras.layers.Dropout(0.2)(embeddings)\n",
        "\n",
        "for ks in [2,3,4,5]:\n",
        "    conv1 = tf.keras.layers.Conv1D(kernel_size=ks, filters=32, padding='same',strides=1)(drop1)\n",
        "    conv2 = tf.keras.layers.Conv1D(kernel_size=ks, filters=32, padding='same',strides=1, \n",
        "                                  kernel_regularizer='l2', activation='relu')(conv1)\n",
        "    convs.append(conv2)\n",
        "\n",
        "\n",
        "concat = tf.keras.layers.concatenate(convs, axis=2)\n",
        "\n",
        "pool = tf.keras.layers.AveragePooling1D()(concat)\n",
        "\n",
        "for ks in [2,3,4,5]:\n",
        "    conv1 = tf.keras.layers.Conv1D(kernel_size=ks, filters=48, padding='same',strides=1)(pool)\n",
        "    conv2 = tf.keras.layers.Conv1D(kernel_size=ks, filters=48, padding='same',strides=1, \n",
        "                                  kernel_regularizer='l2', activation='relu')(conv1)\n",
        "    convs2.append(conv2)\n",
        "\n",
        "\n",
        "concat2 = tf.keras.layers.concatenate(convs2, axis=2)\n",
        "\n",
        "pool2 = tf.keras.layers.AveragePooling1D()(concat2)\n",
        "\n",
        "drop3 = tf.keras.layers.Dropout(0.4)(pool2)\n",
        "\n",
        "conv_global = tf.keras.layers.Conv1D(kernel_size=5, filters=32, strides=10)(drop3)\n",
        "\n",
        "flatten = tf.keras.layers.Flatten()(conv_global)\n",
        "dense = tf.keras.layers.Dense(50, activation='relu')(flatten)\n",
        "outputs = tf.keras.layers.Dense(1, activation='sigmoid')(dense)\n",
        "\n",
        "model = tf.keras.Model(inputs=inputs, outputs=outputs)\n",
        "optimizer = tf.keras.optimizers.Adam(learning_rate=0.001)\n",
        "model.compile(optimizer=optimizer,\n",
        "              loss='binary_crossentropy',\n",
        "              metrics=[f1])\n",
        "\n",
        "model.fit(X_train, y_train, \n",
        "          validation_data=(X_valid, y_valid),\n",
        "          batch_size=4000,\n",
        "         epochs=20,\n",
        "         callbacks=[checkpoint, early_stop])"
      ],
      "execution_count": 89,
      "outputs": [
        {
          "output_type": "stream",
          "text": [
            "Epoch 1/20\n",
            "311/311 [==============================] - ETA: 0s - loss: 0.7123 - f1: 3.9711e-04\n",
            "Epoch 00001: val_f1 did not improve from 0.50953\n",
            "311/311 [==============================] - 76s 244ms/step - loss: 0.7123 - f1: 3.9711e-04 - val_loss: 0.2097 - val_f1: 0.0000e+00\n",
            "Epoch 2/20\n",
            "311/311 [==============================] - ETA: 0s - loss: 0.2014 - f1: 0.0086\n",
            "Epoch 00002: val_f1 did not improve from 0.50953\n",
            "311/311 [==============================] - 73s 236ms/step - loss: 0.2014 - f1: 0.0086 - val_loss: 0.1907 - val_f1: 0.0530\n",
            "Epoch 3/20\n",
            "311/311 [==============================] - ETA: 0s - loss: 0.1858 - f1: 0.0995\n",
            "Epoch 00003: val_f1 did not improve from 0.50953\n",
            "311/311 [==============================] - 74s 236ms/step - loss: 0.1858 - f1: 0.0995 - val_loss: 0.1767 - val_f1: 0.1719\n",
            "Epoch 4/20\n",
            "311/311 [==============================] - ETA: 0s - loss: 0.1780 - f1: 0.1813\n",
            "Epoch 00004: val_f1 did not improve from 0.50953\n",
            "311/311 [==============================] - 73s 235ms/step - loss: 0.1780 - f1: 0.1813 - val_loss: 0.1732 - val_f1: 0.1887\n",
            "Epoch 5/20\n",
            "311/311 [==============================] - ETA: 0s - loss: 0.1737 - f1: 0.2274\n",
            "Epoch 00005: val_f1 did not improve from 0.50953\n",
            "311/311 [==============================] - 73s 235ms/step - loss: 0.1737 - f1: 0.2274 - val_loss: 0.1672 - val_f1: 0.2942\n",
            "Epoch 6/20\n",
            "311/311 [==============================] - ETA: 0s - loss: 0.1701 - f1: 0.2642\n",
            "Epoch 00006: val_f1 did not improve from 0.50953\n",
            "311/311 [==============================] - 73s 235ms/step - loss: 0.1701 - f1: 0.2642 - val_loss: 0.1675 - val_f1: 0.2079\n",
            "Epoch 7/20\n",
            "311/311 [==============================] - ETA: 0s - loss: 0.1663 - f1: 0.2921\n",
            "Epoch 00007: val_f1 did not improve from 0.50953\n",
            "311/311 [==============================] - 73s 235ms/step - loss: 0.1663 - f1: 0.2921 - val_loss: 0.1634 - val_f1: 0.3986\n",
            "Epoch 8/20\n",
            "311/311 [==============================] - ETA: 0s - loss: 0.1642 - f1: 0.3109\n",
            "Epoch 00008: val_f1 did not improve from 0.50953\n",
            "311/311 [==============================] - 73s 234ms/step - loss: 0.1642 - f1: 0.3109 - val_loss: 0.1584 - val_f1: 0.3392\n",
            "Epoch 9/20\n",
            "311/311 [==============================] - ETA: 0s - loss: 0.1630 - f1: 0.3175\n",
            "Epoch 00009: val_f1 did not improve from 0.50953\n",
            "311/311 [==============================] - 73s 234ms/step - loss: 0.1630 - f1: 0.3175 - val_loss: 0.1589 - val_f1: 0.4074\n",
            "Epoch 10/20\n",
            "311/311 [==============================] - ETA: 0s - loss: 0.1609 - f1: 0.3315\n",
            "Epoch 00010: val_f1 did not improve from 0.50953\n",
            "311/311 [==============================] - 73s 234ms/step - loss: 0.1609 - f1: 0.3315 - val_loss: 0.1622 - val_f1: 0.4573\n",
            "Epoch 11/20\n",
            "311/311 [==============================] - ETA: 0s - loss: 0.1596 - f1: 0.3422\n",
            "Epoch 00011: val_f1 did not improve from 0.50953\n",
            "311/311 [==============================] - 73s 234ms/step - loss: 0.1596 - f1: 0.3422 - val_loss: 0.1549 - val_f1: 0.3385\n",
            "Epoch 12/20\n",
            "311/311 [==============================] - ETA: 0s - loss: 0.1577 - f1: 0.3517\n",
            "Epoch 00012: val_f1 did not improve from 0.50953\n",
            "311/311 [==============================] - 73s 234ms/step - loss: 0.1577 - f1: 0.3517 - val_loss: 0.1625 - val_f1: 0.4824\n",
            "Epoch 13/20\n",
            "311/311 [==============================] - ETA: 0s - loss: 0.1566 - f1: 0.3605\n",
            "Epoch 00013: val_f1 did not improve from 0.50953\n",
            "311/311 [==============================] - 73s 234ms/step - loss: 0.1566 - f1: 0.3605 - val_loss: 0.1841 - val_f1: 0.5054\n",
            "Epoch 14/20\n",
            "311/311 [==============================] - ETA: 0s - loss: 0.1549 - f1: 0.3733\n",
            "Epoch 00014: val_f1 did not improve from 0.50953\n",
            "311/311 [==============================] - 73s 234ms/step - loss: 0.1549 - f1: 0.3733 - val_loss: 0.1497 - val_f1: 0.4318\n",
            "Epoch 15/20\n",
            "311/311 [==============================] - ETA: 0s - loss: 0.1540 - f1: 0.3750\n",
            "Epoch 00015: val_f1 did not improve from 0.50953\n",
            "311/311 [==============================] - 73s 234ms/step - loss: 0.1540 - f1: 0.3750 - val_loss: 0.1547 - val_f1: 0.4806\n",
            "Epoch 16/20\n",
            "311/311 [==============================] - ETA: 0s - loss: 0.1533 - f1: 0.3825\n",
            "Epoch 00016: val_f1 did not improve from 0.50953\n",
            "311/311 [==============================] - 73s 234ms/step - loss: 0.1533 - f1: 0.3825 - val_loss: 0.1479 - val_f1: 0.4687\n",
            "Epoch 00016: early stopping\n"
          ],
          "name": "stdout"
        },
        {
          "output_type": "execute_result",
          "data": {
            "text/plain": [
              "<tensorflow.python.keras.callbacks.History at 0x7fd82be1a128>"
            ]
          },
          "metadata": {
            "tags": []
          },
          "execution_count": 89
        }
      ]
    },
    {
      "cell_type": "code",
      "metadata": {
        "id": "XVF2eucB03oq",
        "colab_type": "code",
        "colab": {
          "base_uri": "https://localhost:8080/",
          "height": 312
        },
        "outputId": "0e9a00f9-f002-42a6-f62e-c9b17ce65c78"
      },
      "source": [
        "print(model.history.history.keys())\n",
        "# summarize history for accuracy\n",
        "plt.plot(model.history.history['f1'])\n",
        "plt.plot(model.history.history['val_f1'])\n",
        "plt.title('model f1')\n",
        "plt.ylabel('f1')\n",
        "plt.xlabel('epoch')\n",
        "plt.legend(['train', 'val'], loc='upper left')\n",
        "plt.show()"
      ],
      "execution_count": 135,
      "outputs": [
        {
          "output_type": "stream",
          "text": [
            "dict_keys(['loss', 'f1', 'val_loss', 'val_f1'])\n"
          ],
          "name": "stdout"
        },
        {
          "output_type": "display_data",
          "data": {
            "image/png": "[encoded data removed]",
            "text/plain": [
              "<Figure size 432x288 with 1 Axes>"
            ]
          },
          "metadata": {
            "tags": [],
            "needs_background": "light"
          }
        }
      ]
    },
    {
      "cell_type": "markdown",
      "metadata": {
        "id": "OsF4A_kJIAUU",
        "colab_type": "text"
      },
      "source": [
        "## preprocessing"
      ]
    },
    {
      "cell_type": "code",
      "metadata": {
        "id": "VWfgOgbXGvwa",
        "colab_type": "code",
        "colab": {}
      },
      "source": [
        "def char_preprocess_2(text):\n",
        "    tokens = list(text.strip(punctuation))\n",
        "    tokens = [token for token in tokens if token.lower().isalnum() == True or token == \" \"]\n",
        "    return tokens"
      ],
      "execution_count": 0,
      "outputs": []
    },
    {
      "cell_type": "code",
      "metadata": {
        "id": "vX9Gb45v1Qa9",
        "colab_type": "code",
        "colab": {}
      },
      "source": [
        "vocab = Counter()\n",
        "\n",
        "for text in quora.question_text:\n",
        "    vocab.update(char_preprocess_2(text))\n",
        "\n",
        "# отфильтрованный словарь\n",
        "filtered_vocab = set()\n",
        "\n",
        "for word in vocab:\n",
        "    if vocab[word] > 5:\n",
        "        filtered_vocab.add(word)\n",
        "\n",
        "word2id = {'UNK':1, 'PAD':0}\n",
        "\n",
        "for word in filtered_vocab:\n",
        "    word2id[word] = len(word2id)\n",
        "\n",
        "id2word = {i:word for word, i in word2id.items()}\n",
        "\n",
        "X = []\n",
        "\n",
        "for text in quora.question_text:\n",
        "    tokens = char_preprocess_2(text)\n",
        "    ids = [word2id.get(token, 1) for token in tokens]\n",
        "    X.append(ids)"
      ],
      "execution_count": 0,
      "outputs": []
    },
    {
      "cell_type": "code",
      "metadata": {
        "id": "SXDtrlakHqZn",
        "colab_type": "code",
        "colab": {
          "base_uri": "https://localhost:8080/",
          "height": 357
        },
        "outputId": "577e57bf-24e6-421a-9075-b38353f1452c"
      },
      "source": [
        "for i in range(10,1000,50):\n",
        "  print(i, len([len(x) for x in X if len(x) <= i]))"
      ],
      "execution_count": 138,
      "outputs": [
        {
          "output_type": "stream",
          "text": [
            "10 163\n",
            "60 685663\n",
            "110 1144237\n",
            "160 1263266\n",
            "210 1292011\n",
            "260 1306095\n",
            "310 1306117\n",
            "360 1306119\n",
            "410 1306119\n",
            "460 1306119\n",
            "510 1306120\n",
            "560 1306120\n",
            "610 1306121\n",
            "660 1306121\n",
            "710 1306122\n",
            "760 1306122\n",
            "810 1306122\n",
            "860 1306122\n",
            "910 1306122\n",
            "960 1306122\n"
          ],
          "name": "stdout"
        }
      ]
    },
    {
      "cell_type": "code",
      "metadata": {
        "id": "MEXyZ9XIHz_o",
        "colab_type": "code",
        "colab": {}
      },
      "source": [
        "MAX_LEN = 110 # при этом значении мы покрывем немнгим меньше чем 90% текстов\n",
        "\n",
        "X = tf.keras.preprocessing.sequence.pad_sequences(X, maxlen=MAX_LEN)\n",
        "\n",
        "X_train, X_valid, y_train, y_valid = train_test_split(X, y, test_size=0.05, stratify=y)"
      ],
      "execution_count": 0,
      "outputs": []
    },
    {
      "cell_type": "code",
      "metadata": {
        "id": "gczkwiBRH9SC",
        "colab_type": "code",
        "colab": {
          "base_uri": "https://localhost:8080/",
          "height": 1000
        },
        "outputId": "41902baf-6d95-4e1f-d193-e2cfda231b6b"
      },
      "source": [
        "inputs = tf.keras.layers.Input(shape=(MAX_LEN,))\n",
        "embeddings = tf.keras.layers.Embedding(input_dim=len(word2id), output_dim=100)(inputs, )\n",
        "convs = []\n",
        "convs2 = []\n",
        "\n",
        "drop1 = tf.keras.layers.Dropout(0.2)(embeddings)\n",
        "\n",
        "for ks in [2,3,4,5]:\n",
        "    conv1 = tf.keras.layers.Conv1D(kernel_size=ks, filters=32, padding='same',strides=1)(drop1)\n",
        "    conv2 = tf.keras.layers.Conv1D(kernel_size=ks, filters=32, padding='same',strides=1, \n",
        "                                  kernel_regularizer='l2', activation='relu')(conv1)\n",
        "    convs.append(conv2)\n",
        "\n",
        "\n",
        "concat = tf.keras.layers.concatenate(convs, axis=2)\n",
        "\n",
        "pool = tf.keras.layers.AveragePooling1D()(concat)\n",
        "\n",
        "for ks in [2,3,4,5]:\n",
        "    conv1 = tf.keras.layers.Conv1D(kernel_size=ks, filters=48, padding='same',strides=1)(pool)\n",
        "    conv2 = tf.keras.layers.Conv1D(kernel_size=ks, filters=48, padding='same',strides=1, \n",
        "                                  kernel_regularizer='l2', activation='relu')(conv1)\n",
        "    convs2.append(conv2)\n",
        "\n",
        "\n",
        "concat2 = tf.keras.layers.concatenate(convs2, axis=2)\n",
        "\n",
        "pool2 = tf.keras.layers.AveragePooling1D()(concat2)\n",
        "\n",
        "drop3 = tf.keras.layers.Dropout(0.4)(pool2)\n",
        "\n",
        "conv_global = tf.keras.layers.Conv1D(kernel_size=5, filters=32, strides=10)(drop3)\n",
        "\n",
        "flatten = tf.keras.layers.Flatten()(conv_global)\n",
        "dense = tf.keras.layers.Dense(50, activation='relu')(flatten)\n",
        "outputs = tf.keras.layers.Dense(1, activation='sigmoid')(dense)\n",
        "\n",
        "model = tf.keras.Model(inputs=inputs, outputs=outputs)\n",
        "optimizer = tf.keras.optimizers.Adam(learning_rate=0.001)\n",
        "model.compile(optimizer=optimizer,\n",
        "              loss='binary_crossentropy',\n",
        "              metrics=[f1])\n",
        "\n",
        "model.fit(X_train, y_train, \n",
        "          validation_data=(X_valid, y_valid),\n",
        "          batch_size=4000,\n",
        "         epochs=20,\n",
        "         callbacks=[checkpoint, early_stop])"
      ],
      "execution_count": 140,
      "outputs": [
        {
          "output_type": "stream",
          "text": [
            "Epoch 1/20\n",
            "311/311 [==============================] - ETA: 0s - loss: 0.6999 - f1: 3.9808e-04\n",
            "Epoch 00001: val_f1 did not improve from 0.50953\n",
            "311/311 [==============================] - 74s 238ms/step - loss: 0.6999 - f1: 3.9808e-04 - val_loss: 0.2123 - val_f1: 0.0000e+00\n",
            "Epoch 2/20\n",
            "311/311 [==============================] - ETA: 0s - loss: 0.2012 - f1: 0.0149\n",
            "Epoch 00002: val_f1 did not improve from 0.50953\n",
            "311/311 [==============================] - 74s 237ms/step - loss: 0.2012 - f1: 0.0149 - val_loss: 0.1903 - val_f1: 0.0434\n",
            "Epoch 3/20\n",
            "311/311 [==============================] - ETA: 0s - loss: 0.1892 - f1: 0.0751\n",
            "Epoch 00003: val_f1 did not improve from 0.50953\n",
            "311/311 [==============================] - 74s 237ms/step - loss: 0.1892 - f1: 0.0751 - val_loss: 0.1861 - val_f1: 0.0645\n",
            "Epoch 4/20\n",
            "311/311 [==============================] - ETA: 0s - loss: 0.1821 - f1: 0.1447\n",
            "Epoch 00004: val_f1 did not improve from 0.50953\n",
            "311/311 [==============================] - 74s 237ms/step - loss: 0.1821 - f1: 0.1447 - val_loss: 0.1739 - val_f1: 0.2002\n",
            "Epoch 5/20\n",
            "311/311 [==============================] - ETA: 0s - loss: 0.1768 - f1: 0.1987\n",
            "Epoch 00005: val_f1 did not improve from 0.50953\n",
            "311/311 [==============================] - 74s 237ms/step - loss: 0.1768 - f1: 0.1987 - val_loss: 0.1697 - val_f1: 0.1953\n",
            "Epoch 6/20\n",
            "311/311 [==============================] - ETA: 0s - loss: 0.1733 - f1: 0.2281\n",
            "Epoch 00006: val_f1 did not improve from 0.50953\n",
            "311/311 [==============================] - 74s 236ms/step - loss: 0.1733 - f1: 0.2281 - val_loss: 0.1725 - val_f1: 0.3495\n",
            "Epoch 7/20\n",
            "311/311 [==============================] - ETA: 0s - loss: 0.1709 - f1: 0.2524\n",
            "Epoch 00007: val_f1 did not improve from 0.50953\n",
            "311/311 [==============================] - 73s 236ms/step - loss: 0.1709 - f1: 0.2524 - val_loss: 0.1642 - val_f1: 0.2793\n",
            "Epoch 8/20\n",
            "311/311 [==============================] - ETA: 0s - loss: 0.1688 - f1: 0.2783\n",
            "Epoch 00008: val_f1 did not improve from 0.50953\n",
            "311/311 [==============================] - 73s 236ms/step - loss: 0.1688 - f1: 0.2783 - val_loss: 0.1672 - val_f1: 0.3984\n",
            "Epoch 9/20\n",
            "311/311 [==============================] - ETA: 0s - loss: 0.1666 - f1: 0.2886\n",
            "Epoch 00009: val_f1 did not improve from 0.50953\n",
            "311/311 [==============================] - 73s 236ms/step - loss: 0.1666 - f1: 0.2886 - val_loss: 0.1643 - val_f1: 0.2416\n",
            "Epoch 10/20\n",
            "311/311 [==============================] - ETA: 0s - loss: 0.1647 - f1: 0.3099\n",
            "Epoch 00010: val_f1 did not improve from 0.50953\n",
            "311/311 [==============================] - 73s 235ms/step - loss: 0.1647 - f1: 0.3099 - val_loss: 0.1579 - val_f1: 0.3174\n",
            "Epoch 11/20\n",
            "311/311 [==============================] - ETA: 0s - loss: 0.1630 - f1: 0.3232\n",
            "Epoch 00011: val_f1 did not improve from 0.50953\n",
            "311/311 [==============================] - 73s 235ms/step - loss: 0.1630 - f1: 0.3232 - val_loss: 0.1591 - val_f1: 0.4165\n",
            "Epoch 12/20\n",
            "311/311 [==============================] - ETA: 0s - loss: 0.1618 - f1: 0.3315\n",
            "Epoch 00012: val_f1 did not improve from 0.50953\n",
            "311/311 [==============================] - 73s 235ms/step - loss: 0.1618 - f1: 0.3315 - val_loss: 0.1680 - val_f1: 0.4756\n",
            "Epoch 13/20\n",
            "311/311 [==============================] - ETA: 0s - loss: 0.1600 - f1: 0.3394\n",
            "Epoch 00013: val_f1 did not improve from 0.50953\n",
            "311/311 [==============================] - 73s 235ms/step - loss: 0.1600 - f1: 0.3394 - val_loss: 0.1593 - val_f1: 0.3124\n",
            "Epoch 14/20\n",
            "311/311 [==============================] - ETA: 0s - loss: 0.1593 - f1: 0.3445\n",
            "Epoch 00014: val_f1 did not improve from 0.50953\n",
            "311/311 [==============================] - 73s 234ms/step - loss: 0.1593 - f1: 0.3445 - val_loss: 0.1560 - val_f1: 0.4427\n",
            "Epoch 15/20\n",
            "311/311 [==============================] - ETA: 0s - loss: 0.1577 - f1: 0.3550\n",
            "Epoch 00015: val_f1 did not improve from 0.50953\n",
            "311/311 [==============================] - 73s 234ms/step - loss: 0.1577 - f1: 0.3550 - val_loss: 0.1617 - val_f1: 0.4845\n",
            "Epoch 00015: early stopping\n"
          ],
          "name": "stdout"
        },
        {
          "output_type": "execute_result",
          "data": {
            "text/plain": [
              "<tensorflow.python.keras.callbacks.History at 0x7fd831000b38>"
            ]
          },
          "metadata": {
            "tags": []
          },
          "execution_count": 140
        }
      ]
    },
    {
      "cell_type": "code",
      "metadata": {
        "id": "70wlWWb6TMEh",
        "colab_type": "code",
        "colab": {
          "base_uri": "https://localhost:8080/",
          "height": 312
        },
        "outputId": "263c93c8-9041-4f43-a2a5-6da184932d72"
      },
      "source": [
        "print(model.history.history.keys())\n",
        "# summarize history for accuracy\n",
        "plt.plot(model.history.history['f1'])\n",
        "plt.plot(model.history.history['val_f1'])\n",
        "plt.title('model f1')\n",
        "plt.ylabel('f1')\n",
        "plt.xlabel('epoch')\n",
        "plt.legend(['train', 'val'], loc='upper left')\n",
        "plt.show()"
      ],
      "execution_count": 129,
      "outputs": [
        {
          "output_type": "stream",
          "text": [
            "dict_keys(['loss', 'f1', 'val_loss', 'val_f1'])\n"
          ],
          "name": "stdout"
        },
        {
          "output_type": "display_data",
          "data": {
            "image/png": "[encoded data removed]",
            "text/plain": [
              "<Figure size 432x288 with 1 Axes>"
            ]
          },
          "metadata": {
            "tags": [],
            "needs_background": "light"
          }
        }
      ]
    },
    {
      "cell_type": "code",
      "metadata": {
        "id": "4MROcYkiIHS4",
        "colab_type": "code",
        "colab": {}
      },
      "source": [
        "def char_preprocess_3(text):\n",
        "    tokens = list(text.strip(punctuation))\n",
        "    tokens = [token for token in tokens if token.lower().isalnum() == True or token == \" \"]\n",
        "    new_tokens = []\n",
        "    for token in tokens:\n",
        "      if token.isnumeric():\n",
        "        new_tokens.append(\"NUM\")\n",
        "      else:\n",
        "        new_tokens.append(token)\n",
        "    res = []\n",
        "    for i in range(1,len(new_tokens)):\n",
        "      if new_tokens[i-1] == \"NUM\" and new_tokens[i] == \"NUM\":\n",
        "        continue\n",
        "      else:\n",
        "        res.append(new_tokens[i-1])\n",
        "      if i == len(new_tokens) - 1:\n",
        "        res.append(new_tokens[i])\n",
        "    return res"
      ],
      "execution_count": 0,
      "outputs": []
    },
    {
      "cell_type": "code",
      "metadata": {
        "id": "cU0_ode1ON4B",
        "colab_type": "code",
        "colab": {}
      },
      "source": [
        "vocab = Counter()\n",
        "\n",
        "for text in quora.question_text:\n",
        "    vocab.update(char_preprocess_3(text))\n",
        "\n",
        "# отфильтрованный словарь\n",
        "filtered_vocab = set()\n",
        "\n",
        "for word in vocab:\n",
        "    if vocab[word] > 5:\n",
        "        filtered_vocab.add(word)\n",
        "\n",
        "word2id = {'UNK':1, 'PAD':0}\n",
        "\n",
        "for word in filtered_vocab:\n",
        "    word2id[word] = len(word2id)\n",
        "\n",
        "id2word = {i:word for word, i in word2id.items()}\n",
        "\n",
        "X = []\n",
        "\n",
        "for text in quora.question_text:\n",
        "    tokens = char_preprocess_3(text)\n",
        "    ids = [word2id.get(token, 1) for token in tokens]\n",
        "    X.append(ids)"
      ],
      "execution_count": 0,
      "outputs": []
    },
    {
      "cell_type": "code",
      "metadata": {
        "id": "RPLzAYbLPbU3",
        "colab_type": "code",
        "colab": {
          "base_uri": "https://localhost:8080/",
          "height": 357
        },
        "outputId": "6eae8612-80c7-416f-d626-4ed38b0b19a2"
      },
      "source": [
        "for i in range(10,1000,50):\n",
        "  print(i, len([len(x) for x in X if len(x) <= i]))"
      ],
      "execution_count": 154,
      "outputs": [
        {
          "output_type": "stream",
          "text": [
            "10 330\n",
            "60 689286\n",
            "110 1145454\n",
            "160 1263629\n",
            "210 1292208\n",
            "260 1306097\n",
            "310 1306118\n",
            "360 1306119\n",
            "410 1306119\n",
            "460 1306119\n",
            "510 1306120\n",
            "560 1306120\n",
            "610 1306121\n",
            "660 1306121\n",
            "710 1306122\n",
            "760 1306122\n",
            "810 1306122\n",
            "860 1306122\n",
            "910 1306122\n",
            "960 1306122\n"
          ],
          "name": "stdout"
        }
      ]
    },
    {
      "cell_type": "code",
      "metadata": {
        "id": "s2AheB8nPefy",
        "colab_type": "code",
        "colab": {}
      },
      "source": [
        "MAX_LEN = 110 # при этом значении мы покрывем немнгим меньше чем 90% текстов\n",
        "\n",
        "X = tf.keras.preprocessing.sequence.pad_sequences(X, maxlen=MAX_LEN)\n",
        "\n",
        "X_train, X_valid, y_train, y_valid = train_test_split(X, y, test_size=0.05, stratify=y)"
      ],
      "execution_count": 0,
      "outputs": []
    },
    {
      "cell_type": "code",
      "metadata": {
        "id": "MkhJyl1MPg9M",
        "colab_type": "code",
        "colab": {
          "base_uri": "https://localhost:8080/",
          "height": 1000
        },
        "outputId": "7fd01443-2dfd-4c77-9318-9420ecaf6b81"
      },
      "source": [
        "inputs = tf.keras.layers.Input(shape=(MAX_LEN,))\n",
        "embeddings = tf.keras.layers.Embedding(input_dim=len(word2id), output_dim=100)(inputs, )\n",
        "convs = []\n",
        "convs2 = []\n",
        "\n",
        "drop1 = tf.keras.layers.Dropout(0.2)(embeddings)\n",
        "\n",
        "for ks in [2,3,4,5]:\n",
        "    conv1 = tf.keras.layers.Conv1D(kernel_size=ks, filters=32, padding='same',strides=1)(drop1)\n",
        "    conv2 = tf.keras.layers.Conv1D(kernel_size=ks, filters=32, padding='same',strides=1, \n",
        "                                  kernel_regularizer='l2', activation='relu')(conv1)\n",
        "    convs.append(conv2)\n",
        "\n",
        "\n",
        "concat = tf.keras.layers.concatenate(convs, axis=2)\n",
        "\n",
        "pool = tf.keras.layers.AveragePooling1D()(concat)\n",
        "\n",
        "for ks in [2,3,4,5]:\n",
        "    conv1 = tf.keras.layers.Conv1D(kernel_size=ks, filters=48, padding='same',strides=1)(pool)\n",
        "    conv2 = tf.keras.layers.Conv1D(kernel_size=ks, filters=48, padding='same',strides=1, \n",
        "                                  kernel_regularizer='l2', activation='relu')(conv1)\n",
        "    convs2.append(conv2)\n",
        "\n",
        "\n",
        "concat2 = tf.keras.layers.concatenate(convs2, axis=2)\n",
        "\n",
        "pool2 = tf.keras.layers.AveragePooling1D()(concat2)\n",
        "\n",
        "drop3 = tf.keras.layers.Dropout(0.4)(pool2)\n",
        "\n",
        "conv_global = tf.keras.layers.Conv1D(kernel_size=5, filters=32, strides=10)(drop3)\n",
        "\n",
        "flatten = tf.keras.layers.Flatten()(conv_global)\n",
        "dense = tf.keras.layers.Dense(50, activation='relu')(flatten)\n",
        "outputs = tf.keras.layers.Dense(1, activation='sigmoid')(dense)\n",
        "\n",
        "model = tf.keras.Model(inputs=inputs, outputs=outputs)\n",
        "optimizer = tf.keras.optimizers.Adam(learning_rate=0.001)\n",
        "model.compile(optimizer=optimizer,\n",
        "              loss='binary_crossentropy',\n",
        "              metrics=[f1])\n",
        "\n",
        "model.fit(X_train, y_train, \n",
        "          validation_data=(X_valid, y_valid),\n",
        "          batch_size=4000,\n",
        "         epochs=20,\n",
        "         callbacks=[checkpoint, early_stop])"
      ],
      "execution_count": 159,
      "outputs": [
        {
          "output_type": "stream",
          "text": [
            "Epoch 1/20\n",
            "311/311 [==============================] - ETA: 0s - loss: 0.6990 - f1: 4.2170e-04\n",
            "Epoch 00001: val_f1 improved from -inf to 0.00000, saving model to model.weights\n",
            "311/311 [==============================] - 73s 235ms/step - loss: 0.6990 - f1: 4.2170e-04 - val_loss: 0.2102 - val_f1: 0.0000e+00\n",
            "Epoch 2/20\n",
            "311/311 [==============================] - ETA: 0s - loss: 0.1994 - f1: 0.0120\n",
            "Epoch 00002: val_f1 improved from 0.00000 to 0.03644, saving model to model.weights\n",
            "311/311 [==============================] - 73s 234ms/step - loss: 0.1994 - f1: 0.0120 - val_loss: 0.1872 - val_f1: 0.0364\n",
            "Epoch 3/20\n",
            "311/311 [==============================] - ETA: 0s - loss: 0.1862 - f1: 0.0921\n",
            "Epoch 00003: val_f1 improved from 0.03644 to 0.06647, saving model to model.weights\n",
            "311/311 [==============================] - 73s 234ms/step - loss: 0.1862 - f1: 0.0921 - val_loss: 0.1887 - val_f1: 0.0665\n",
            "Epoch 4/20\n",
            "311/311 [==============================] - ETA: 0s - loss: 0.1812 - f1: 0.1513\n",
            "Epoch 00004: val_f1 improved from 0.06647 to 0.11115, saving model to model.weights\n",
            "311/311 [==============================] - 73s 234ms/step - loss: 0.1812 - f1: 0.1513 - val_loss: 0.1769 - val_f1: 0.1111\n",
            "Epoch 5/20\n",
            "311/311 [==============================] - ETA: 0s - loss: 0.1774 - f1: 0.1785\n",
            "Epoch 00005: val_f1 improved from 0.11115 to 0.28444, saving model to model.weights\n",
            "311/311 [==============================] - 73s 234ms/step - loss: 0.1774 - f1: 0.1785 - val_loss: 0.1741 - val_f1: 0.2844\n",
            "Epoch 6/20\n",
            "311/311 [==============================] - ETA: 0s - loss: 0.1733 - f1: 0.2173\n",
            "Epoch 00006: val_f1 did not improve from 0.28444\n",
            "311/311 [==============================] - 73s 234ms/step - loss: 0.1733 - f1: 0.2173 - val_loss: 0.1676 - val_f1: 0.2767\n",
            "Epoch 7/20\n",
            "311/311 [==============================] - ETA: 0s - loss: 0.1712 - f1: 0.2379\n",
            "Epoch 00007: val_f1 improved from 0.28444 to 0.29397, saving model to model.weights\n",
            "311/311 [==============================] - 73s 234ms/step - loss: 0.1712 - f1: 0.2379 - val_loss: 0.1653 - val_f1: 0.2940\n",
            "Epoch 8/20\n",
            "311/311 [==============================] - ETA: 0s - loss: 0.1692 - f1: 0.2524\n",
            "Epoch 00008: val_f1 did not improve from 0.29397\n",
            "311/311 [==============================] - 73s 233ms/step - loss: 0.1692 - f1: 0.2524 - val_loss: 0.1640 - val_f1: 0.2551\n",
            "Epoch 9/20\n",
            "311/311 [==============================] - ETA: 0s - loss: 0.1671 - f1: 0.2727\n",
            "Epoch 00009: val_f1 improved from 0.29397 to 0.36806, saving model to model.weights\n",
            "311/311 [==============================] - 73s 234ms/step - loss: 0.1671 - f1: 0.2727 - val_loss: 0.1619 - val_f1: 0.3681\n",
            "Epoch 10/20\n",
            "311/311 [==============================] - ETA: 0s - loss: 0.1658 - f1: 0.2835\n",
            "Epoch 00010: val_f1 improved from 0.36806 to 0.39724, saving model to model.weights\n",
            "311/311 [==============================] - 73s 234ms/step - loss: 0.1658 - f1: 0.2835 - val_loss: 0.1622 - val_f1: 0.3972\n",
            "Epoch 11/20\n",
            "311/311 [==============================] - ETA: 0s - loss: 0.1635 - f1: 0.3028\n",
            "Epoch 00011: val_f1 improved from 0.39724 to 0.47562, saving model to model.weights\n",
            "311/311 [==============================] - 73s 234ms/step - loss: 0.1635 - f1: 0.3028 - val_loss: 0.1951 - val_f1: 0.4756\n",
            "Epoch 12/20\n",
            "311/311 [==============================] - ETA: 0s - loss: 0.1622 - f1: 0.3150\n",
            "Epoch 00012: val_f1 did not improve from 0.47562\n",
            "311/311 [==============================] - 73s 234ms/step - loss: 0.1622 - f1: 0.3150 - val_loss: 0.1569 - val_f1: 0.4113\n",
            "Epoch 13/20\n",
            "311/311 [==============================] - ETA: 0s - loss: 0.1612 - f1: 0.3215\n",
            "Epoch 00013: val_f1 improved from 0.47562 to 0.48330, saving model to model.weights\n",
            "311/311 [==============================] - 73s 234ms/step - loss: 0.1612 - f1: 0.3215 - val_loss: 0.1687 - val_f1: 0.4833\n",
            "Epoch 14/20\n",
            "311/311 [==============================] - ETA: 0s - loss: 0.1591 - f1: 0.3408\n",
            "Epoch 00014: val_f1 did not improve from 0.48330\n",
            "311/311 [==============================] - 73s 234ms/step - loss: 0.1591 - f1: 0.3408 - val_loss: 0.1523 - val_f1: 0.4072\n",
            "Epoch 15/20\n",
            "311/311 [==============================] - ETA: 0s - loss: 0.1579 - f1: 0.3532\n",
            "Epoch 00015: val_f1 did not improve from 0.48330\n",
            "311/311 [==============================] - 73s 233ms/step - loss: 0.1579 - f1: 0.3532 - val_loss: 0.1515 - val_f1: 0.3810\n",
            "Epoch 16/20\n",
            "311/311 [==============================] - ETA: 0s - loss: 0.1566 - f1: 0.3594\n",
            "Epoch 00016: val_f1 did not improve from 0.48330\n",
            "311/311 [==============================] - 73s 234ms/step - loss: 0.1566 - f1: 0.3594 - val_loss: 0.1572 - val_f1: 0.4699\n",
            "Epoch 00016: early stopping\n"
          ],
          "name": "stdout"
        },
        {
          "output_type": "execute_result",
          "data": {
            "text/plain": [
              "<tensorflow.python.keras.callbacks.History at 0x7fd829168d68>"
            ]
          },
          "metadata": {
            "tags": []
          },
          "execution_count": 159
        }
      ]
    },
    {
      "cell_type": "code",
      "metadata": {
        "id": "0znLkyetfRaK",
        "colab_type": "code",
        "colab": {
          "base_uri": "https://localhost:8080/",
          "height": 312
        },
        "outputId": "264552f5-e203-4d97-9a91-02d2717bfbf7"
      },
      "source": [
        "print(model.history.history.keys())\n",
        "# summarize history for accuracy\n",
        "plt.plot(model.history.history['f1'])\n",
        "plt.plot(model.history.history['val_f1'])\n",
        "plt.title('model f1')\n",
        "plt.ylabel('f1')\n",
        "plt.xlabel('epoch')\n",
        "plt.legend(['train', 'val'], loc='upper left')\n",
        "plt.show()"
      ],
      "execution_count": 157,
      "outputs": [
        {
          "output_type": "stream",
          "text": [
            "dict_keys(['loss', 'f1', 'val_loss', 'val_f1'])\n"
          ],
          "name": "stdout"
        },
        {
          "output_type": "display_data",
          "data": {
            "image/png": "[encoded data removed]",
            "text/plain": [
              "<Figure size 432x288 with 1 Axes>"
            ]
          },
          "metadata": {
            "tags": [],
            "needs_background": "light"
          }
        }
      ]
    },
    {
      "cell_type": "markdown",
      "metadata": {
        "id": "xWCDjuXXpgEI",
        "colab_type": "text"
      },
      "source": [
        "Немного покрутив нормализацию, выяснилось, что она не особо влияет на резульатты работы модели"
      ]
    }
  ]
}