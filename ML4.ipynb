{
  "nbformat": 4,
  "nbformat_minor": 0,
  "metadata": {
    "kernelspec": {
      "display_name": "Python 3",
      "language": "python",
      "name": "python3"
    },
    "language_info": {
      "codemirror_mode": {
        "name": "ipython",
        "version": 3
      },
      "file_extension": ".py",
      "mimetype": "text/x-python",
      "name": "python",
      "nbconvert_exporter": "python",
      "pygments_lexer": "ipython3",
      "version": "3.6.5"
    },
    "colab": {
      "name": "4_clustering.ipynb",
      "provenance": [],
      "collapsed_sections": []
    }
  },
  "cells": [
    {
      "cell_type": "markdown",
      "metadata": {
        "id": "STtqwXAGcB6o",
        "colab_type": "text"
      },
      "source": [
        "## Домашнее задание"
      ]
    },
    {
      "cell_type": "markdown",
      "metadata": {
        "id": "yyFN-bvycB6o",
        "colab_type": "text"
      },
      "source": [
        "1. На нескольких алгоритмах кластеризации, умеющих работать с sparse матрицами, проверьте, что работает лучше Count_Vectorizer или TfidfVectorizer (попробуйте выжать максимум из каждого - попробуйте нграммы, символьные нграммы, разные значения max_features и min_df) (3 балла)\n",
        "\n",
        "2. На нескольких алгоритмах кластеризации проверьте, какое матричное разложение (TruncatedSVD или NMF) работает лучше для кластеризации. (3 балла)\n",
        "\n",
        "3. С помощью алгоритмов, умеющих выделять выбросы, попробуйте найти необычные объявления (необычные - это такие, которые непонятно к какой категории можно вообще отнести, что-то с ошибками или вообще какая-то дичь). В этом задании можно использовать любую векторизацию. (4 балла)\n",
        "\n",
        "Используйте те же данные, что и в семинаре (колонки - title и category_name)\n",
        "\n",
        "Делайте соответствующие вашими ресурсам и потребностям алгоритма подвыборки из всего датасета. Для сравнения используйте любую из метрик, которые есть в семинаре. Оценивать на глаз тоже можно, но тогда нужно объяснить, почему вы считаете одну кластеризацию лучше. \n",
        "\n",
        "НЕ ЗАБЫВАЙТЕ подбирать параметры в кластеризации. **За использование всех параметров по умолчанию, оценка будет снижаться** (под использованием всех параметров по умолчанию я имею в виду что-то такое -  `cluster = DBSCAN()`) \n",
        "\n",
        "Если получится, используйте метод локтя. (1 бонусный балл)"
      ]
    },
    {
      "cell_type": "markdown",
      "metadata": {
        "id": "P60T9VL6wAOi",
        "colab_type": "text"
      },
      "source": [
        "# Задание 1"
      ]
    },
    {
      "cell_type": "code",
      "metadata": {
        "id": "kxzhuTWtcB6o",
        "colab_type": "code",
        "outputId": "d6f7ead6-2dbf-4d90-8f82-a525d6a6dc67",
        "colab": {
          "resources": {
            "http://localhost:8080/nbextensions/google.colab/files.js": {
              "data": "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",
              "ok": true,
              "headers": [
                [
                  "content-type",
                  "application/javascript"
                ]
              ],
              "status": 200,
              "status_text": ""
            }
          },
          "base_uri": "https://localhost:8080/",
          "height": 71
        }
      },
      "source": [
        "import pandas as pd\n",
        "from google.colab import files\n",
        "uploaded = files.upload()"
      ],
      "execution_count": 4,
      "outputs": [
        {
          "output_type": "display_data",
          "data": {
            "text/html": [
              "\n",
              "     <input type=\"file\" id=\"files-22760952-2bb5-4ecf-b6da-f33df0eddc62\" name=\"files[]\" multiple disabled />\n",
              "     <output id=\"result-22760952-2bb5-4ecf-b6da-f33df0eddc62\">\n",
              "      Upload widget is only available when the cell has been executed in the\n",
              "      current browser session. Please rerun this cell to enable.\n",
              "      </output>\n",
              "      <script src=\"/nbextensions/google.colab/files.js\"></script> "
            ],
            "text/plain": [
              "<IPython.core.display.HTML object>"
            ]
          },
          "metadata": {
            "tags": []
          }
        },
        {
          "output_type": "stream",
          "text": [
            "Saving data.csv to data (2).csv\n"
          ],
          "name": "stdout"
        }
      ]
    },
    {
      "cell_type": "code",
      "metadata": {
        "id": "I9irLfrJlnhx",
        "colab_type": "code",
        "colab": {}
      },
      "source": [
        "data = pd.read_csv('data.csv')\n",
        "data = data[['category_name', 'title']]\n",
        "sample = data.sample(frac=0.01)"
      ],
      "execution_count": 0,
      "outputs": []
    },
    {
      "cell_type": "code",
      "metadata": {
        "id": "1pnxsKl3CdVE",
        "colab_type": "code",
        "colab": {}
      },
      "source": [
        "from sklearn.feature_extraction.text import CountVectorizer, TfidfVectorizer\n",
        "from sklearn import metrics\n",
        "from sklearn.cluster import AffinityPropagation, KMeans, Birch\n",
        "\n",
        "from tqdm import tqdm\n",
        "import numpy as np\n",
        "%matplotlib inline\n",
        "import matplotlib.pyplot as plt"
      ],
      "execution_count": 0,
      "outputs": []
    },
    {
      "cell_type": "code",
      "metadata": {
        "id": "jK-xqDt51J-X",
        "colab_type": "code",
        "outputId": "ba26c1a2-c562-434d-f62a-f2c23e5668cc",
        "colab": {
          "base_uri": "https://localhost:8080/",
          "height": 1000
        }
      },
      "source": [
        "vectorizer = TfidfVectorizer(max_df=0.8, max_features=250)\n",
        "X = vectorizer.fit_transform(sample['title'])\n",
        "y = sample['category_name']\n",
        "\n",
        "scores = []\n",
        "for i in tqdm(range(5, 500, 10)):\n",
        "    cluster = Birch(n_clusters=i)\n",
        "    cluster.fit(X)\n",
        "    scores.append(metrics.v_measure_score(y, cluster.labels_))\n",
        "plt.figure(figsize=(12, 5))\n",
        "plt.plot(list(range(5, 500, 10)), scores)"
      ],
      "execution_count": 21,
      "outputs": [
        {
          "output_type": "stream",
          "text": [
            "\n",
            "  0%|          | 0/50 [00:00<?, ?it/s]\u001b[A\n",
            "  2%|▏         | 1/50 [00:00<00:20,  2.35it/s]\u001b[A\n",
            "  4%|▍         | 2/50 [00:00<00:19,  2.47it/s]\u001b[A\n",
            "  6%|▌         | 3/50 [00:01<00:18,  2.52it/s]\u001b[A\n",
            "  8%|▊         | 4/50 [00:01<00:17,  2.57it/s]\u001b[A\n",
            " 10%|█         | 5/50 [00:01<00:17,  2.61it/s]\u001b[A\n",
            " 12%|█▏        | 6/50 [00:02<00:16,  2.63it/s]\u001b[A\n",
            " 14%|█▍        | 7/50 [00:02<00:16,  2.61it/s]\u001b[A\n",
            " 16%|█▌        | 8/50 [00:03<00:15,  2.64it/s]\u001b[A\n",
            " 18%|█▊        | 9/50 [00:03<00:15,  2.64it/s]\u001b[A\n",
            " 20%|██        | 10/50 [00:03<00:15,  2.63it/s]\u001b[A\n",
            " 22%|██▏       | 11/50 [00:04<00:14,  2.63it/s]\u001b[A\n",
            " 24%|██▍       | 12/50 [00:04<00:14,  2.65it/s]\u001b[A\n",
            " 26%|██▌       | 13/50 [00:04<00:13,  2.67it/s]\u001b[A\n",
            " 28%|██▊       | 14/50 [00:05<00:13,  2.66it/s]\u001b[A\n",
            " 30%|███       | 15/50 [00:05<00:13,  2.67it/s]\u001b[A\n",
            " 32%|███▏      | 16/50 [00:06<00:12,  2.68it/s]\u001b[A\n",
            " 34%|███▍      | 17/50 [00:06<00:12,  2.64it/s]\u001b[A\n",
            " 36%|███▌      | 18/50 [00:06<00:12,  2.65it/s]\u001b[A\n",
            " 38%|███▊      | 19/50 [00:07<00:11,  2.64it/s]\u001b[A\n",
            " 40%|████      | 20/50 [00:07<00:11,  2.64it/s]\u001b[A\n",
            " 42%|████▏     | 21/50 [00:07<00:10,  2.66it/s]\u001b[A\n",
            " 44%|████▍     | 22/50 [00:08<00:10,  2.63it/s]\u001b[A\n",
            " 46%|████▌     | 23/50 [00:08<00:10,  2.63it/s]\u001b[A\n",
            " 48%|████▊     | 24/50 [00:09<00:09,  2.65it/s]\u001b[A\n",
            " 50%|█████     | 25/50 [00:09<00:09,  2.65it/s]\u001b[A\n",
            " 52%|█████▏    | 26/50 [00:09<00:09,  2.64it/s]\u001b[A\n",
            " 54%|█████▍    | 27/50 [00:10<00:08,  2.60it/s]\u001b[A\n",
            " 56%|█████▌    | 28/50 [00:10<00:08,  2.63it/s]\u001b[A\n",
            " 58%|█████▊    | 29/50 [00:11<00:08,  2.55it/s]\u001b[A\n",
            " 60%|██████    | 30/50 [00:11<00:07,  2.60it/s]\u001b[A\n",
            " 62%|██████▏   | 31/50 [00:11<00:07,  2.59it/s]\u001b[A\n",
            " 64%|██████▍   | 32/50 [00:12<00:06,  2.62it/s]\u001b[A\n",
            " 66%|██████▌   | 33/50 [00:12<00:06,  2.65it/s]\u001b[A\n",
            " 68%|██████▊   | 34/50 [00:12<00:06,  2.66it/s]\u001b[A\n",
            " 70%|███████   | 35/50 [00:13<00:05,  2.68it/s]\u001b[A\n",
            " 72%|███████▏  | 36/50 [00:13<00:05,  2.64it/s]\u001b[A\n",
            " 74%|███████▍  | 37/50 [00:14<00:04,  2.63it/s]\u001b[A\n",
            " 76%|███████▌  | 38/50 [00:14<00:04,  2.64it/s]\u001b[A\n",
            " 78%|███████▊  | 39/50 [00:14<00:04,  2.65it/s]\u001b[A\n",
            " 80%|████████  | 40/50 [00:15<00:03,  2.65it/s]\u001b[A\n",
            " 82%|████████▏ | 41/50 [00:15<00:03,  2.64it/s]\u001b[A\n",
            " 84%|████████▍ | 42/50 [00:15<00:03,  2.66it/s]\u001b[A\n",
            " 86%|████████▌ | 43/50 [00:16<00:02,  2.65it/s]\u001b[A\n",
            " 88%|████████▊ | 44/50 [00:16<00:02,  2.65it/s]\u001b[A/usr/local/lib/python3.6/dist-packages/sklearn/cluster/_birch.py:638: ConvergenceWarning: Number of subclusters found (438) by Birch is less than (445). Decrease the threshold.\n",
            "  % (len(centroids), self.n_clusters), ConvergenceWarning)\n",
            "\n",
            " 90%|█████████ | 45/50 [00:17<00:01,  2.67it/s]\u001b[A/usr/local/lib/python3.6/dist-packages/sklearn/cluster/_birch.py:638: ConvergenceWarning: Number of subclusters found (438) by Birch is less than (455). Decrease the threshold.\n",
            "  % (len(centroids), self.n_clusters), ConvergenceWarning)\n",
            "\n",
            " 92%|█████████▏| 46/50 [00:17<00:01,  2.71it/s]\u001b[A/usr/local/lib/python3.6/dist-packages/sklearn/cluster/_birch.py:638: ConvergenceWarning: Number of subclusters found (438) by Birch is less than (465). Decrease the threshold.\n",
            "  % (len(centroids), self.n_clusters), ConvergenceWarning)\n",
            "\n",
            " 94%|█████████▍| 47/50 [00:17<00:01,  2.77it/s]\u001b[A/usr/local/lib/python3.6/dist-packages/sklearn/cluster/_birch.py:638: ConvergenceWarning: Number of subclusters found (438) by Birch is less than (475). Decrease the threshold.\n",
            "  % (len(centroids), self.n_clusters), ConvergenceWarning)\n",
            "\n",
            " 96%|█████████▌| 48/50 [00:18<00:00,  2.80it/s]\u001b[A/usr/local/lib/python3.6/dist-packages/sklearn/cluster/_birch.py:638: ConvergenceWarning: Number of subclusters found (438) by Birch is less than (485). Decrease the threshold.\n",
            "  % (len(centroids), self.n_clusters), ConvergenceWarning)\n",
            "\n",
            " 98%|█████████▊| 49/50 [00:18<00:00,  2.81it/s]\u001b[A/usr/local/lib/python3.6/dist-packages/sklearn/cluster/_birch.py:638: ConvergenceWarning: Number of subclusters found (438) by Birch is less than (495). Decrease the threshold.\n",
            "  % (len(centroids), self.n_clusters), ConvergenceWarning)\n",
            "\n",
            "100%|██████████| 50/50 [00:18<00:00,  2.83it/s]\u001b[A\n",
            "\u001b[A"
          ],
          "name": "stderr"
        },
        {
          "output_type": "execute_result",
          "data": {
            "text/plain": [
              "[<matplotlib.lines.Line2D at 0x7f6eb4ac0ac8>]"
            ]
          },
          "metadata": {
            "tags": []
          },
          "execution_count": 21
        },
        {
          "output_type": "display_data",
          "data": {
            "image/png": "[encoded data removed]",
            "text/plain": [
              "<Figure size 864x360 with 1 Axes>"
            ]
          },
          "metadata": {
            "tags": []
          }
        }
      ]
    },
    {
      "cell_type": "markdown",
      "metadata": {
        "id": "cApJm6zP8QJ_",
        "colab_type": "text"
      },
      "source": [
        "При числе кластеров около 200 график перестает меняться, берем это число"
      ]
    },
    {
      "cell_type": "code",
      "metadata": {
        "id": "hshBehFVteJA",
        "colab_type": "code",
        "colab": {}
      },
      "source": [
        "best_Birch = None\n",
        "best_Birch_score = 0\n",
        "for threshold in [0.3, 0.5, 0.7]:\n",
        "  for branching_factor in [15, 30, 45, 60]:\n",
        "    model = Birch(n_clusters=200, threshold=threshold, branching_factor=branching_factor) \n",
        "    model.fit(X)\n",
        "    labels = model.labels_\n",
        "    v_mes_score = metrics.v_measure_score(y, labels)\n",
        "    if v_mes_score > best_Birch_score:\n",
        "      best_Birch_score = v_mes_score\n",
        "      best_Birch = model"
      ],
      "execution_count": 0,
      "outputs": []
    },
    {
      "cell_type": "code",
      "metadata": {
        "id": "jaTxpLzKux5G",
        "colab_type": "code",
        "outputId": "63da59bd-a888-4312-8fd3-c3d5d5d3a5b4",
        "colab": {
          "base_uri": "https://localhost:8080/",
          "height": 51
        }
      },
      "source": [
        "print(best_Birch, best_Birch_score)"
      ],
      "execution_count": 23,
      "outputs": [
        {
          "output_type": "stream",
          "text": [
            "Birch(branching_factor=60, compute_labels=True, copy=True, n_clusters=200,\n",
            "      threshold=0.5) 0.4663926854858798\n"
          ],
          "name": "stdout"
        }
      ]
    },
    {
      "cell_type": "code",
      "metadata": {
        "id": "2qJc7Oyr1oik",
        "colab_type": "code",
        "outputId": "de37cdd9-5b6c-4318-881e-948e5ef6fe91",
        "colab": {
          "base_uri": "https://localhost:8080/",
          "height": 541
        }
      },
      "source": [
        "scores = []\n",
        "for i in tqdm(range(5, 500, 50)):\n",
        "    cluster = KMeans(n_clusters=i)\n",
        "    cluster.fit(X)\n",
        "    scores.append(metrics.v_measure_score(y, cluster.labels_))\n",
        "plt.figure(figsize=(12, 5))\n",
        "plt.plot(list(range(5, 500, 50)), scores)"
      ],
      "execution_count": 24,
      "outputs": [
        {
          "output_type": "stream",
          "text": [
            "\n",
            "  0%|          | 0/10 [00:00<?, ?it/s]\u001b[A\n",
            " 10%|█         | 1/10 [00:00<00:05,  1.71it/s]\u001b[A\n",
            " 20%|██        | 2/10 [00:02<00:07,  1.01it/s]\u001b[A\n",
            " 30%|███       | 3/10 [00:05<00:10,  1.50s/it]\u001b[A\n",
            " 40%|████      | 4/10 [00:08<00:12,  2.07s/it]\u001b[A\n",
            " 50%|█████     | 5/10 [00:12<00:13,  2.62s/it]\u001b[A\n",
            " 60%|██████    | 6/10 [00:16<00:12,  3.18s/it]\u001b[A\n",
            " 70%|███████   | 7/10 [00:22<00:11,  3.77s/it]\u001b[A\n",
            " 80%|████████  | 8/10 [00:27<00:08,  4.32s/it]\u001b[A\n",
            " 90%|█████████ | 9/10 [00:34<00:04,  4.90s/it]\u001b[A\n",
            "100%|██████████| 10/10 [00:40<00:00,  5.51s/it]\u001b[A\n",
            "\u001b[A"
          ],
          "name": "stderr"
        },
        {
          "output_type": "execute_result",
          "data": {
            "text/plain": [
              "[<matplotlib.lines.Line2D at 0x7f6eb4374ba8>]"
            ]
          },
          "metadata": {
            "tags": []
          },
          "execution_count": 24
        },
        {
          "output_type": "display_data",
          "data": {
            "image/png": "[encoded data removed]",
            "text/plain": [
              "<Figure size 864x360 with 1 Axes>"
            ]
          },
          "metadata": {
            "tags": []
          }
        }
      ]
    },
    {
      "cell_type": "markdown",
      "metadata": {
        "id": "wADazVtZ9cPI",
        "colab_type": "text"
      },
      "source": [
        "При числе кластеров около 200 график перестает меняться, берем это число"
      ]
    },
    {
      "cell_type": "code",
      "metadata": {
        "id": "RTZXmtRLvYBs",
        "colab_type": "code",
        "colab": {}
      },
      "source": [
        "best_Kmeans = None\n",
        "best_Kmeans_score = 0\n",
        "for max_iter in [200, 400, 600]:\n",
        "  model = KMeans(max_iter=max_iter, n_clusters=200, algorithm=\"full\")\n",
        "  model.fit(X)\n",
        "  labels = model.labels_\n",
        "  v_mes_score = metrics.v_measure_score(y, labels)\n",
        "  if v_mes_score > best_Kmeans_score:\n",
        "    best_Kmeans_score = v_mes_score\n",
        "    best_Kmeans = model"
      ],
      "execution_count": 0,
      "outputs": []
    },
    {
      "cell_type": "code",
      "metadata": {
        "id": "pB2ejp6Q2zRl",
        "colab_type": "code",
        "outputId": "2d6ee5af-24b2-4f37-ce59-7454e41c09f4",
        "colab": {
          "base_uri": "https://localhost:8080/",
          "height": 68
        }
      },
      "source": [
        "print(best_Kmeans, best_Kmeans_score)"
      ],
      "execution_count": 26,
      "outputs": [
        {
          "output_type": "stream",
          "text": [
            "KMeans(algorithm='full', copy_x=True, init='k-means++', max_iter=600,\n",
            "       n_clusters=200, n_init=10, n_jobs=None, precompute_distances='auto',\n",
            "       random_state=None, tol=0.0001, verbose=0) 0.45763779261824433\n"
          ],
          "name": "stdout"
        }
      ]
    },
    {
      "cell_type": "code",
      "metadata": {
        "id": "flokTO1XluHN",
        "colab_type": "code",
        "colab": {}
      },
      "source": [
        "def find_best_vectorizer():\n",
        "  models = [\n",
        "            best_Kmeans,\n",
        "            best_Birch\n",
        "            ]\n",
        "  best_vectorizers = []\n",
        "  best_scores = []\n",
        "  vectorizer_grid = {\n",
        "      \"stopwords\": [\"english\", None],\n",
        "      \"ngram_range\": [(1,2), (2,2), (2,3)],\n",
        "      \"analyzer\": [\"word\", \"char\"],\n",
        "      \"max_df\": [0.8, 0.9],\n",
        "      \"max_features\": [250, 500, 750]\n",
        "    }\n",
        "  for cluster_model in models:\n",
        "    best_vect = None\n",
        "    best_V_score = 0\n",
        "    for vect in [\"cv\", \"tfidf\"]:\n",
        "      for sw in vectorizer_grid[\"stopwords\"]:\n",
        "        for nr in vectorizer_grid[\"ngram_range\"]:\n",
        "          for an in vectorizer_grid[\"analyzer\"]:\n",
        "            for md in vectorizer_grid[\"max_df\"]:\n",
        "              for mf in vectorizer_grid[\"max_features\"]:\n",
        "                if vect == \"count\":\n",
        "                  vectorizer = CountVectorizer(stop_words=sw, max_features=mf, max_df=md, ngram_range=nr, analyzer=an)\n",
        "                else:\n",
        "                  vectorizer = TfidfVectorizer(stop_words=sw, max_features=mf, max_df=md, ngram_range=nr, analyzer=an)\n",
        "                X = vectorizer.fit_transform(sample['title'])\n",
        "                y = sample['category_name']\n",
        "                cluster_model.fit(X)\n",
        "                labels = cluster_model.labels_\n",
        "                v_mes_score = metrics.v_measure_score(y, labels)\n",
        "                if v_mes_score > best_V_score:\n",
        "                  best_vect = vectorizer\n",
        "                  best_V_score = v_mes_score\n",
        "    best_vectorizers.append(best_vect)\n",
        "    best_scores.append(best_V_score)\n",
        "  return best_vectorizers, best_scores"
      ],
      "execution_count": 0,
      "outputs": []
    },
    {
      "cell_type": "code",
      "metadata": {
        "id": "D0zMiEfLqpOv",
        "colab_type": "code",
        "colab": {}
      },
      "source": [
        "best_vect, best_sc = find_best_vectorizer()"
      ],
      "execution_count": 0,
      "outputs": []
    },
    {
      "cell_type": "code",
      "metadata": {
        "id": "q8AiCcede7Zo",
        "colab_type": "code",
        "outputId": "cfbf1c6c-dc3b-483c-a292-6fd8bcd302de",
        "colab": {
          "base_uri": "https://localhost:8080/",
          "height": 255
        }
      },
      "source": [
        "for item in best_vect:\n",
        "  print(item)"
      ],
      "execution_count": 30,
      "outputs": [
        {
          "output_type": "stream",
          "text": [
            "TfidfVectorizer(analyzer='char', binary=False, decode_error='strict',\n",
            "                dtype=<class 'numpy.float64'>, encoding='utf-8',\n",
            "                input='content', lowercase=True, max_df=0.8, max_features=750,\n",
            "                min_df=1, ngram_range=(2, 2), norm='l2', preprocessor=None,\n",
            "                smooth_idf=True, stop_words='english', strip_accents=None,\n",
            "                sublinear_tf=False, token_pattern='(?u)\\\\b\\\\w\\\\w+\\\\b',\n",
            "                tokenizer=None, use_idf=True, vocabulary=None)\n",
            "TfidfVectorizer(analyzer='char', binary=False, decode_error='strict',\n",
            "                dtype=<class 'numpy.float64'>, encoding='utf-8',\n",
            "                input='content', lowercase=True, max_df=0.8, max_features=500,\n",
            "                min_df=1, ngram_range=(2, 2), norm='l2', preprocessor=None,\n",
            "                smooth_idf=True, stop_words='english', strip_accents=None,\n",
            "                sublinear_tf=False, token_pattern='(?u)\\\\b\\\\w\\\\w+\\\\b',\n",
            "                tokenizer=None, use_idf=True, vocabulary=None)\n"
          ],
          "name": "stdout"
        }
      ]
    },
    {
      "cell_type": "markdown",
      "metadata": {
        "id": "GhP9e9pLfkJG",
        "colab_type": "text"
      },
      "source": [
        "Как мы видим, TfidfVectorizer показал себя лучше"
      ]
    },
    {
      "cell_type": "markdown",
      "metadata": {
        "id": "O8WrqhQYwDO9",
        "colab_type": "text"
      },
      "source": [
        "# Задание 2"
      ]
    },
    {
      "cell_type": "code",
      "metadata": {
        "id": "4L44Q-t1CkeL",
        "colab_type": "code",
        "colab": {}
      },
      "source": [
        "from sklearn.decomposition import NMF, TruncatedSVD\n",
        "from sklearn.cluster import AgglomerativeClustering, MeanShift, SpectralClustering, DBSCAN"
      ],
      "execution_count": 0,
      "outputs": []
    },
    {
      "cell_type": "code",
      "metadata": {
        "id": "v_lSzUqO3t0g",
        "colab_type": "code",
        "colab": {
          "base_uri": "https://localhost:8080/",
          "height": 881
        },
        "outputId": "f69cbc66-64ab-42de-bd15-60ca3ebb808c"
      },
      "source": [
        "vectorizer = TfidfVectorizer(max_df=0.8, max_features=250)\n",
        "X = vectorizer.fit_transform(sample['title'])\n",
        "decomposer = NMF(50)\n",
        "X = decomposer.fit_transform(X)\n",
        "y = sample['category_name']\n",
        "\n",
        "scores = []\n",
        "for i in tqdm(range(5, 1500, 50)):\n",
        "    cluster = AgglomerativeClustering(n_clusters=i)\n",
        "    cluster.fit(X)\n",
        "    scores.append(metrics.v_measure_score(y, cluster.labels_))\n",
        "plt.figure(figsize=(12, 5))\n",
        "plt.plot(list(range(5, 1500, 50)), scores)"
      ],
      "execution_count": 32,
      "outputs": [
        {
          "output_type": "stream",
          "text": [
            "\n",
            "  0%|          | 0/30 [00:00<?, ?it/s]\u001b[A\n",
            "  3%|▎         | 1/30 [00:00<00:08,  3.54it/s]\u001b[A\n",
            "  7%|▋         | 2/30 [00:00<00:07,  3.61it/s]\u001b[A\n",
            " 10%|█         | 3/30 [00:00<00:07,  3.69it/s]\u001b[A\n",
            " 13%|█▎        | 4/30 [00:01<00:06,  3.73it/s]\u001b[A\n",
            " 17%|█▋        | 5/30 [00:01<00:06,  3.76it/s]\u001b[A\n",
            " 20%|██        | 6/30 [00:01<00:06,  3.77it/s]\u001b[A\n",
            " 23%|██▎       | 7/30 [00:01<00:06,  3.81it/s]\u001b[A\n",
            " 27%|██▋       | 8/30 [00:02<00:05,  3.80it/s]\u001b[A\n",
            " 30%|███       | 9/30 [00:02<00:05,  3.83it/s]\u001b[A\n",
            " 33%|███▎      | 10/30 [00:02<00:05,  3.86it/s]\u001b[A\n",
            " 37%|███▋      | 11/30 [00:02<00:04,  3.87it/s]\u001b[A\n",
            " 40%|████      | 12/30 [00:03<00:04,  3.86it/s]\u001b[A\n",
            " 43%|████▎     | 13/30 [00:03<00:04,  3.88it/s]\u001b[A\n",
            " 47%|████▋     | 14/30 [00:03<00:04,  3.89it/s]\u001b[A\n",
            " 50%|█████     | 15/30 [00:03<00:03,  3.86it/s]\u001b[A\n",
            " 53%|█████▎    | 16/30 [00:04<00:03,  3.84it/s]\u001b[A\n",
            " 57%|█████▋    | 17/30 [00:04<00:03,  3.85it/s]\u001b[A\n",
            " 60%|██████    | 18/30 [00:04<00:03,  3.85it/s]\u001b[A\n",
            " 63%|██████▎   | 19/30 [00:04<00:02,  3.86it/s]\u001b[A\n",
            " 67%|██████▋   | 20/30 [00:05<00:02,  3.84it/s]\u001b[A\n",
            " 70%|███████   | 21/30 [00:05<00:02,  3.86it/s]\u001b[A\n",
            " 73%|███████▎  | 22/30 [00:05<00:02,  3.86it/s]\u001b[A\n",
            " 77%|███████▋  | 23/30 [00:05<00:01,  3.82it/s]\u001b[A\n",
            " 80%|████████  | 24/30 [00:06<00:01,  3.82it/s]\u001b[A\n",
            " 83%|████████▎ | 25/30 [00:06<00:01,  3.80it/s]\u001b[A\n",
            " 87%|████████▋ | 26/30 [00:06<00:01,  3.82it/s]\u001b[A\n",
            " 90%|█████████ | 27/30 [00:07<00:00,  3.81it/s]\u001b[A\n",
            " 93%|█████████▎| 28/30 [00:07<00:00,  3.80it/s]\u001b[A\n",
            " 97%|█████████▋| 29/30 [00:07<00:00,  3.80it/s]\u001b[A\n",
            "100%|██████████| 30/30 [00:07<00:00,  3.80it/s]\u001b[A\n",
            "\u001b[A"
          ],
          "name": "stderr"
        },
        {
          "output_type": "execute_result",
          "data": {
            "text/plain": [
              "[<matplotlib.lines.Line2D at 0x7f6eb599a908>]"
            ]
          },
          "metadata": {
            "tags": []
          },
          "execution_count": 32
        },
        {
          "output_type": "display_data",
          "data": {
            "image/png": "[encoded data removed]",
            "text/plain": [
              "<Figure size 864x360 with 1 Axes>"
            ]
          },
          "metadata": {
            "tags": []
          }
        }
      ]
    },
    {
      "cell_type": "markdown",
      "metadata": {
        "id": "T9NRMHLuDD41",
        "colab_type": "text"
      },
      "source": [
        "При числе кластеров около 1100 график перестает меняться, берем это число"
      ]
    },
    {
      "cell_type": "code",
      "metadata": {
        "id": "cqU4jBcu16DF",
        "colab_type": "code",
        "colab": {}
      },
      "source": [
        "best_Agglo = None\n",
        "best_Agglo_score = 0\n",
        "for linkage in [\"ward\", \"complete\", \"average\", \"single\"]:\n",
        "  model = AgglomerativeClustering(linkage=linkage, n_clusters=1100)\n",
        "  model.fit(X)\n",
        "  labels = model.labels_\n",
        "  v_mes_score = metrics.v_measure_score(y, labels)\n",
        "  if v_mes_score > best_Agglo_score:\n",
        "    best_Agglo_score = v_mes_score\n",
        "    best_Agglo = model"
      ],
      "execution_count": 0,
      "outputs": []
    },
    {
      "cell_type": "code",
      "metadata": {
        "id": "_loiPeQEDPBz",
        "colab_type": "code",
        "colab": {
          "base_uri": "https://localhost:8080/",
          "height": 68
        },
        "outputId": "3cd3fef8-6cbc-4531-bec2-d607c401e006"
      },
      "source": [
        "print(best_Agglo, best_Agglo_score)"
      ],
      "execution_count": 34,
      "outputs": [
        {
          "output_type": "stream",
          "text": [
            "AgglomerativeClustering(affinity='euclidean', compute_full_tree='auto',\n",
            "                        connectivity=None, distance_threshold=None,\n",
            "                        linkage='average', memory=None, n_clusters=1100) 0.4721663866249161\n"
          ],
          "name": "stdout"
        }
      ]
    },
    {
      "cell_type": "code",
      "metadata": {
        "id": "18ac-j-t5QBh",
        "colab_type": "code",
        "colab": {}
      },
      "source": [
        "best_Meanshift = None\n",
        "best_Meanshift_score = 0\n",
        "for bandwidth in [0.3, 0.5, 0.7]:\n",
        "  for cluster_all in [False, True]:\n",
        "    model = MeanShift(cluster_all=cluster_all, bandwidth=bandwidth)\n",
        "    model.fit(X)\n",
        "    labels = model.labels_\n",
        "    v_mes_score = metrics.v_measure_score(y, labels)\n",
        "    if v_mes_score > best_Meanshift_score:\n",
        "      best_Meanshift_score = v_mes_score\n",
        "      best_Meanshift = model"
      ],
      "execution_count": 0,
      "outputs": []
    },
    {
      "cell_type": "code",
      "metadata": {
        "id": "CJ_WfmeZDchc",
        "colab_type": "code",
        "colab": {
          "base_uri": "https://localhost:8080/",
          "height": 51
        },
        "outputId": "9c46e1df-5ad7-46a1-ea12-953682274a71"
      },
      "source": [
        "print(best_Meanshift, best_Meanshift_score)"
      ],
      "execution_count": 36,
      "outputs": [
        {
          "output_type": "stream",
          "text": [
            "MeanShift(bandwidth=0.3, bin_seeding=False, cluster_all=True, max_iter=300,\n",
            "          min_bin_freq=1, n_jobs=None, seeds=None) 0.227930357870247\n"
          ],
          "name": "stdout"
        }
      ]
    },
    {
      "cell_type": "code",
      "metadata": {
        "id": "4t7YuZii2Mra",
        "colab_type": "code",
        "colab": {
          "base_uri": "https://localhost:8080/",
          "height": 694
        },
        "outputId": "b8c81c60-297c-4895-cea2-03674a74aa67"
      },
      "source": [
        "scores = []\n",
        "for i in tqdm(range(5, 250, 50)):\n",
        "    cluster = SpectralClustering(n_clusters=i)\n",
        "    cluster.fit(X)\n",
        "    scores.append(metrics.v_measure_score(y, cluster.labels_))\n",
        "plt.figure(figsize=(12, 5))\n",
        "plt.plot(list(range(5, 250, 50)), scores)"
      ],
      "execution_count": 41,
      "outputs": [
        {
          "output_type": "stream",
          "text": [
            "\n",
            "\n",
            "\n",
            "  0%|          | 0/5 [00:00<?, ?it/s]\u001b[A\u001b[A\u001b[A\n",
            "\n",
            "\n",
            " 20%|██        | 1/5 [00:01<00:05,  1.33s/it]\u001b[A\u001b[A\u001b[A\n",
            "\n",
            "\n",
            " 40%|████      | 2/5 [00:04<00:05,  1.84s/it]\u001b[A\u001b[A\u001b[A\n",
            "\n",
            "\n",
            " 60%|██████    | 3/5 [00:56<00:34, 17.04s/it]\u001b[A\u001b[A\u001b[A\n",
            "\n",
            "\n",
            " 80%|████████  | 4/5 [02:31<00:40, 40.30s/it]\u001b[A\u001b[A\u001b[A\n",
            "\n",
            "\n",
            "100%|██████████| 5/5 [08:13<00:00, 130.71s/it]\u001b[A\u001b[A\u001b[A\n",
            "\n",
            "\n",
            "\u001b[A\u001b[A\u001b[A"
          ],
          "name": "stderr"
        },
        {
          "output_type": "execute_result",
          "data": {
            "text/plain": [
              "[<matplotlib.lines.Line2D at 0x7f6eb5a59cf8>]"
            ]
          },
          "metadata": {
            "tags": []
          },
          "execution_count": 41
        },
        {
          "output_type": "display_data",
          "data": {
            "image/png": "[encoded data removed]",
            "text/plain": [
              "<Figure size 864x360 with 1 Axes>"
            ]
          },
          "metadata": {
            "tags": []
          }
        }
      ]
    },
    {
      "cell_type": "code",
      "metadata": {
        "id": "Jkb5wHqR5c6m",
        "colab_type": "code",
        "colab": {}
      },
      "source": [
        "best_Spectral = None\n",
        "best_Spectral_score = 0\n",
        "for affinity in [\"nearest_neighbors\", \"rbf\"]:\n",
        "  model = SpectralClustering(n_clusters=150, affinity=affinity)\n",
        "  model.fit(X)\n",
        "  labels = model.labels_\n",
        "  v_mes_score = metrics.v_measure_score(y, labels)\n",
        "  if v_mes_score > best_Spectral_score:\n",
        "    best_Spectral_score = v_mes_score\n",
        "    best_Spectral = model"
      ],
      "execution_count": 0,
      "outputs": []
    },
    {
      "cell_type": "code",
      "metadata": {
        "id": "9-mqffA7HnVf",
        "colab_type": "code",
        "colab": {
          "base_uri": "https://localhost:8080/",
          "height": 85
        },
        "outputId": "48a28e00-77d9-43ab-cf75-f183c2f1384f"
      },
      "source": [
        "print(best_Spectral, best_Spectral_score)"
      ],
      "execution_count": 46,
      "outputs": [
        {
          "output_type": "stream",
          "text": [
            "SpectralClustering(affinity='rbf', assign_labels='kmeans', coef0=1, degree=3,\n",
            "                   eigen_solver=None, eigen_tol=0.0, gamma=1.0,\n",
            "                   kernel_params=None, n_clusters=150, n_components=None,\n",
            "                   n_init=10, n_jobs=None, n_neighbors=10, random_state=None) 0.4291744311995447\n"
          ],
          "name": "stdout"
        }
      ]
    },
    {
      "cell_type": "code",
      "metadata": {
        "id": "0AQhvyLh55WI",
        "colab_type": "code",
        "colab": {}
      },
      "source": [
        "best_Dbscan = None\n",
        "best_Dbscan_score = 0\n",
        "for min_samples in [1, 5, 10, 15, 20, 25, 30]:\n",
        "  for eps in [0.01, 0.05, 0.1, 0.2, 0.3, 0.4]:\n",
        "    model = DBSCAN(min_samples=min_samples, eps=eps) \n",
        "    model.fit(X)\n",
        "    labels = model.labels_\n",
        "    v_mes_score = metrics.v_measure_score(y, labels)\n",
        "    if v_mes_score > best_Dbscan_score:\n",
        "      best_Dbscan_score = v_mes_score\n",
        "      best_Dbscan = model"
      ],
      "execution_count": 0,
      "outputs": []
    },
    {
      "cell_type": "code",
      "metadata": {
        "id": "7l5a7O02Hr8G",
        "colab_type": "code",
        "colab": {
          "base_uri": "https://localhost:8080/",
          "height": 51
        },
        "outputId": "67724de0-af81-40bd-af50-7eacba39e111"
      },
      "source": [
        "print(best_Dbscan, best_Dbscan_score)"
      ],
      "execution_count": 52,
      "outputs": [
        {
          "output_type": "stream",
          "text": [
            "DBSCAN(algorithm='auto', eps=0.01, leaf_size=30, metric='euclidean',\n",
            "       metric_params=None, min_samples=1, n_jobs=None, p=None) 0.441851558528172\n"
          ],
          "name": "stdout"
        }
      ]
    },
    {
      "cell_type": "code",
      "metadata": {
        "id": "GmaqlB7_sh13",
        "colab_type": "code",
        "colab": {}
      },
      "source": [
        "def find_best_decomposition():\n",
        "  models = [\n",
        "            best_Agglo,\n",
        "            best_Meanshift,\n",
        "            best_Spectral,\n",
        "            best_Dbscan\n",
        "            ]\n",
        "  best_decomposers = []\n",
        "  best_scores = []\n",
        "  decomposer_grid = {\n",
        "      \"n_components\": [10, 30, 50, 70, 100, 150, 200],\n",
        "    }\n",
        "  vectorizer = TfidfVectorizer(max_df=0.8, max_features=250)\n",
        "  vect_X = vectorizer.fit_transform(sample['title'])\n",
        "  y = sample['category_name']\n",
        "  for cluster_model in models:\n",
        "    best_dec = None\n",
        "    best_V_score = 0\n",
        "    for de in [\"svd\", \"nmf\"]:\n",
        "      for nc in decomposer_grid[\"n_components\"]:\n",
        "        if de == \"svd\":\n",
        "          decomposer = TruncatedSVD(nc)\n",
        "        else:\n",
        "          decomposer = NMF(nc)\n",
        "        X = decomposer.fit_transform(vect_X)\n",
        "        cluster_model.fit(X)\n",
        "        labels = cluster_model.labels_\n",
        "        v_mes_score = metrics.v_measure_score(y, labels)\n",
        "        if v_mes_score > best_V_score:\n",
        "          best_dec = decomposer\n",
        "          best_V_score = v_mes_score\n",
        "    best_decomposers.append(best_dec)\n",
        "    best_scores.append(best_V_score)\n",
        "  return best_decomposers, best_scores"
      ],
      "execution_count": 0,
      "outputs": []
    },
    {
      "cell_type": "code",
      "metadata": {
        "id": "b3aBM0wYh_b7",
        "colab_type": "code",
        "colab": {}
      },
      "source": [
        "best_deco, best_dec_sc = find_best_decomposition()"
      ],
      "execution_count": 0,
      "outputs": []
    },
    {
      "cell_type": "code",
      "metadata": {
        "id": "CNyEzbGkiymY",
        "colab_type": "code",
        "outputId": "84151d93-f792-4c4b-af15-3413edcdb4da",
        "colab": {
          "base_uri": "https://localhost:8080/",
          "height": 221
        }
      },
      "source": [
        "for item in best_deco:\n",
        "  print(item)\n",
        "print(best_dec_sc)"
      ],
      "execution_count": 55,
      "outputs": [
        {
          "output_type": "stream",
          "text": [
            "NMF(alpha=0.0, beta_loss='frobenius', init=None, l1_ratio=0.0, max_iter=200,\n",
            "    n_components=10, random_state=None, shuffle=False, solver='cd', tol=0.0001,\n",
            "    verbose=0)\n",
            "TruncatedSVD(algorithm='randomized', n_components=150, n_iter=5,\n",
            "             random_state=None, tol=0.0)\n",
            "NMF(alpha=0.0, beta_loss='frobenius', init=None, l1_ratio=0.0, max_iter=200,\n",
            "    n_components=200, random_state=None, shuffle=False, solver='cd', tol=0.0001,\n",
            "    verbose=0)\n",
            "NMF(alpha=0.0, beta_loss='frobenius', init=None, l1_ratio=0.0, max_iter=200,\n",
            "    n_components=150, random_state=None, shuffle=False, solver='cd', tol=0.0001,\n",
            "    verbose=0)\n",
            "[0.4794890274729769, 0.46819880830667354, 0.43966193597678693, 0.4664399413547277]\n"
          ],
          "name": "stdout"
        }
      ]
    },
    {
      "cell_type": "markdown",
      "metadata": {
        "id": "ZZ9V6MrklAKZ",
        "colab_type": "text"
      },
      "source": [
        "Как мы видим, NMF в большей части случаев работает лучше"
      ]
    },
    {
      "cell_type": "markdown",
      "metadata": {
        "id": "B9wfq9wonGjY",
        "colab_type": "text"
      },
      "source": [
        "# Задание 3"
      ]
    },
    {
      "cell_type": "code",
      "metadata": {
        "id": "Uq6Qcug3nJst",
        "colab_type": "code",
        "colab": {}
      },
      "source": [
        "test_samples = []\n",
        "models = [\n",
        "          best_Kmeans,\n",
        "          best_Birch\n",
        "          ]\n",
        "for i in range(len(models)):\n",
        "  X = best_vect[i].fit_transform(sample['title'])\n",
        "  models[i].fit(X)\n",
        "  new_sample = sample.copy()\n",
        "  new_sample['labels'] = models[i].labels_\n",
        "  test_samples.append(new_sample)"
      ],
      "execution_count": 0,
      "outputs": []
    },
    {
      "cell_type": "code",
      "metadata": {
        "id": "mv_HJpoNk5J4",
        "colab_type": "code",
        "outputId": "88165e93-36ff-446c-d9ea-db32f513faba",
        "colab": {
          "base_uri": "https://localhost:8080/",
          "height": 119
        }
      },
      "source": [
        "for t_s in test_samples:\n",
        "  print(t_s[t_s.labels==-1].head())"
      ],
      "execution_count": 57,
      "outputs": [
        {
          "output_type": "stream",
          "text": [
            "Empty DataFrame\n",
            "Columns: [category_name, title, labels]\n",
            "Index: []\n",
            "Empty DataFrame\n",
            "Columns: [category_name, title, labels]\n",
            "Index: []\n"
          ],
          "name": "stdout"
        }
      ]
    },
    {
      "cell_type": "code",
      "metadata": {
        "id": "d-QtY938oSta",
        "colab_type": "code",
        "colab": {}
      },
      "source": [
        "test_samples_2 = []\n",
        "models = [\n",
        "          best_Agglo,\n",
        "          best_Meanshift,\n",
        "          best_Spectral,\n",
        "          best_Dbscan\n",
        "          ]\n",
        "vectorizer = TfidfVectorizer(max_df=0.8, max_features=250)\n",
        "vect_X = vectorizer.fit_transform(sample['title'])\n",
        "for i in range(len(models)):\n",
        "  X = best_deco[i].fit_transform(vect_X)\n",
        "  models[i].fit(X)\n",
        "  new_sample = sample.copy()\n",
        "  new_sample['labels'] = models[i].labels_\n",
        "  test_samples_2.append(new_sample)"
      ],
      "execution_count": 0,
      "outputs": []
    },
    {
      "cell_type": "code",
      "metadata": {
        "id": "ciqjAQkYplaK",
        "colab_type": "code",
        "outputId": "444611b3-10af-495d-9287-f5e8c5385567",
        "colab": {
          "base_uri": "https://localhost:8080/",
          "height": 476
        }
      },
      "source": [
        "for i in range(len(test_samples_2)):\n",
        "  print(models[i])\n",
        "  print(test_samples_2[i][test_samples_2[i].labels==-1].head(100))\n",
        "  print()"
      ],
      "execution_count": 76,
      "outputs": [
        {
          "output_type": "stream",
          "text": [
            "AgglomerativeClustering(affinity='euclidean', compute_full_tree='auto',\n",
            "                        connectivity=None, distance_threshold=None,\n",
            "                        linkage='average', memory=None, n_clusters=1100)\n",
            "Empty DataFrame\n",
            "Columns: [category_name, title, labels]\n",
            "Index: []\n",
            "\n",
            "MeanShift(bandwidth=0.3, bin_seeding=False, cluster_all=True, max_iter=300,\n",
            "          min_bin_freq=1, n_jobs=None, seeds=None)\n",
            "Empty DataFrame\n",
            "Columns: [category_name, title, labels]\n",
            "Index: []\n",
            "\n",
            "SpectralClustering(affinity='rbf', assign_labels='kmeans', coef0=1, degree=3,\n",
            "                   eigen_solver=None, eigen_tol=0.0, gamma=1.0,\n",
            "                   kernel_params=None, n_clusters=150, n_components=None,\n",
            "                   n_init=10, n_jobs=None, n_neighbors=10, random_state=None)\n",
            "Empty DataFrame\n",
            "Columns: [category_name, title, labels]\n",
            "Index: []\n",
            "\n",
            "DBSCAN(algorithm='auto', eps=0.01, leaf_size=30, metric='euclidean',\n",
            "       metric_params=None, min_samples=1, n_jobs=None, p=None)\n",
            "Empty DataFrame\n",
            "Columns: [category_name, title, labels]\n",
            "Index: []\n",
            "\n"
          ],
          "name": "stdout"
        }
      ]
    },
    {
      "cell_type": "markdown",
      "metadata": {
        "id": "Zj-HWdf_rw19",
        "colab_type": "text"
      },
      "source": [
        "Странно, что ни один из алгоритмов не создал кластер с индексом -1; да, не все алгоритмы умеют отделять выбросы в отдельный кластер, но DBSCAN и Meanshift то точно умеют"
      ]
    }
  ]
}