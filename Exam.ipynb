{
  "nbformat": 4,
  "nbformat_minor": 0,
  "metadata": {
    "colab": {
      "name": "Untitled10.ipynb",
      "provenance": [],
      "collapsed_sections": []
    },
    "kernelspec": {
      "name": "python3",
      "display_name": "Python 3"
    },
    "accelerator": "GPU"
  },
  "cells": [
    {
      "cell_type": "code",
      "metadata": {
        "id": "V5d5o9IX4GEx",
        "colab_type": "code",
        "colab": {}
      },
      "source": [
        "import pandas as pd\n",
        "import re \n",
        "from string import punctuation\n",
        "from sklearn.model_selection import KFold\n",
        "from sklearn.tree import DecisionTreeClassifier\n",
        "from sklearn.metrics import roc_auc_score\n",
        "from sklearn.ensemble import RandomForestClassifier, ExtraTreesClassifier\n",
        "from sklearn.naive_bayes import MultinomialNB, GaussianNB\n",
        "from sklearn.linear_model import LogisticRegression\n",
        "from sklearn.neighbors import KNeighborsClassifier\n",
        "import tensorflow as tf\n",
        "from tensorflow import keras\n",
        "import requests\n",
        "import numpy as np\n",
        "import matplotlib.pyplot as plt\n",
        "from sklearn.model_selection import train_test_split\n",
        "from transformers.modeling_auto import AutoModel\n",
        "from transformers import DistilBertTokenizer\n",
        "import torch\n",
        "%matplotlib inline"
      ],
      "execution_count": 68,
      "outputs": []
    },
    {
      "cell_type": "code",
      "metadata": {
        "id": "IazHQ4-s1nJ4",
        "colab_type": "code",
        "colab": {
          "resources": {
            "http://localhost:8080/nbextensions/google.colab/files.js": {
              "data": "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",
              "ok": true,
              "headers": [
                [
                  "content-type",
                  "application/javascript"
                ]
              ],
              "status": 200,
              "status_text": ""
            }
          },
          "base_uri": "https://localhost:8080/",
          "height": 38
        },
        "outputId": "5d2e8b1f-083c-4147-88ca-e20cd395b5cc"
      },
      "source": [
        "from google.colab import files\n",
        "\n",
        "uploaded = files.upload()"
      ],
      "execution_count": 2,
      "outputs": [
        {
          "output_type": "display_data",
          "data": {
            "text/html": [
              "\n",
              "     <input type=\"file\" id=\"files-b61dff11-f0a0-4586-b6df-94c2538af1d0\" name=\"files[]\" multiple disabled\n",
              "        style=\"border:none\" />\n",
              "     <output id=\"result-b61dff11-f0a0-4586-b6df-94c2538af1d0\">\n",
              "      Upload widget is only available when the cell has been executed in the\n",
              "      current browser session. Please rerun this cell to enable.\n",
              "      </output>\n",
              "      <script src=\"/nbextensions/google.colab/files.js\"></script> "
            ],
            "text/plain": [
              "<IPython.core.display.HTML object>"
            ]
          },
          "metadata": {
            "tags": []
          }
        }
      ]
    },
    {
      "cell_type": "code",
      "metadata": {
        "id": "QTnuc8cX2_cw",
        "colab_type": "code",
        "colab": {}
      },
      "source": [
        "!unzip jigsaw-toxic-comment-train.csv.zip\n",
        "!unzip validation.csv.zip"
      ],
      "execution_count": null,
      "outputs": []
    },
    {
      "cell_type": "code",
      "metadata": {
        "id": "RqoxZADd24r1",
        "colab_type": "code",
        "colab": {}
      },
      "source": [
        "train = pd.read_csv('jigsaw-toxic-comment-train.csv')\n",
        "val = pd.read_csv('validation.csv')\n",
        "pd.set_option('display.max_columns', 100)\n",
        "pd.set_option('display.max_rows', 100)"
      ],
      "execution_count": 69,
      "outputs": []
    },
    {
      "cell_type": "code",
      "metadata": {
        "id": "-QzfpmXW6lTK",
        "colab_type": "code",
        "colab": {
          "base_uri": "https://localhost:8080/",
          "height": 419
        },
        "outputId": "8aacd450-598a-4515-ab73-fa3c4e7e4a33"
      },
      "source": [
        "train"
      ],
      "execution_count": 9,
      "outputs": [
        {
          "output_type": "execute_result",
          "data": {
            "text/html": [
              "<div>\n",
              "<style scoped>\n",
              "    .dataframe tbody tr th:only-of-type {\n",
              "        vertical-align: middle;\n",
              "    }\n",
              "\n",
              "    .dataframe tbody tr th {\n",
              "        vertical-align: top;\n",
              "    }\n",
              "\n",
              "    .dataframe thead th {\n",
              "        text-align: right;\n",
              "    }\n",
              "</style>\n",
              "<table border=\"1\" class=\"dataframe\">\n",
              "  <thead>\n",
              "    <tr style=\"text-align: right;\">\n",
              "      <th></th>\n",
              "      <th>id</th>\n",
              "      <th>comment_text</th>\n",
              "      <th>toxic</th>\n",
              "      <th>severe_toxic</th>\n",
              "      <th>obscene</th>\n",
              "      <th>threat</th>\n",
              "      <th>insult</th>\n",
              "      <th>identity_hate</th>\n",
              "    </tr>\n",
              "  </thead>\n",
              "  <tbody>\n",
              "    <tr>\n",
              "      <th>0</th>\n",
              "      <td>0000997932d777bf</td>\n",
              "      <td>Explanation\\nWhy the edits made under my usern...</td>\n",
              "      <td>0</td>\n",
              "      <td>0</td>\n",
              "      <td>0</td>\n",
              "      <td>0</td>\n",
              "      <td>0</td>\n",
              "      <td>0</td>\n",
              "    </tr>\n",
              "    <tr>\n",
              "      <th>1</th>\n",
              "      <td>000103f0d9cfb60f</td>\n",
              "      <td>D'aww! He matches this background colour I'm s...</td>\n",
              "      <td>0</td>\n",
              "      <td>0</td>\n",
              "      <td>0</td>\n",
              "      <td>0</td>\n",
              "      <td>0</td>\n",
              "      <td>0</td>\n",
              "    </tr>\n",
              "    <tr>\n",
              "      <th>2</th>\n",
              "      <td>000113f07ec002fd</td>\n",
              "      <td>Hey man, I'm really not trying to edit war. It...</td>\n",
              "      <td>0</td>\n",
              "      <td>0</td>\n",
              "      <td>0</td>\n",
              "      <td>0</td>\n",
              "      <td>0</td>\n",
              "      <td>0</td>\n",
              "    </tr>\n",
              "    <tr>\n",
              "      <th>3</th>\n",
              "      <td>0001b41b1c6bb37e</td>\n",
              "      <td>\"\\nMore\\nI can't make any real suggestions on ...</td>\n",
              "      <td>0</td>\n",
              "      <td>0</td>\n",
              "      <td>0</td>\n",
              "      <td>0</td>\n",
              "      <td>0</td>\n",
              "      <td>0</td>\n",
              "    </tr>\n",
              "    <tr>\n",
              "      <th>4</th>\n",
              "      <td>0001d958c54c6e35</td>\n",
              "      <td>You, sir, are my hero. Any chance you remember...</td>\n",
              "      <td>0</td>\n",
              "      <td>0</td>\n",
              "      <td>0</td>\n",
              "      <td>0</td>\n",
              "      <td>0</td>\n",
              "      <td>0</td>\n",
              "    </tr>\n",
              "    <tr>\n",
              "      <th>...</th>\n",
              "      <td>...</td>\n",
              "      <td>...</td>\n",
              "      <td>...</td>\n",
              "      <td>...</td>\n",
              "      <td>...</td>\n",
              "      <td>...</td>\n",
              "      <td>...</td>\n",
              "      <td>...</td>\n",
              "    </tr>\n",
              "    <tr>\n",
              "      <th>223544</th>\n",
              "      <td>fff8f64043129fa2</td>\n",
              "      <td>:Jerome, I see you never got around to this…! ...</td>\n",
              "      <td>0</td>\n",
              "      <td>0</td>\n",
              "      <td>0</td>\n",
              "      <td>0</td>\n",
              "      <td>0</td>\n",
              "      <td>0</td>\n",
              "    </tr>\n",
              "    <tr>\n",
              "      <th>223545</th>\n",
              "      <td>fff9d70fe0722906</td>\n",
              "      <td>==Lucky bastard== \\n http://wikimediafoundatio...</td>\n",
              "      <td>0</td>\n",
              "      <td>0</td>\n",
              "      <td>0</td>\n",
              "      <td>0</td>\n",
              "      <td>0</td>\n",
              "      <td>0</td>\n",
              "    </tr>\n",
              "    <tr>\n",
              "      <th>223546</th>\n",
              "      <td>fffa8a11c4378854</td>\n",
              "      <td>==shame on you all!!!== \\n\\n You want to speak...</td>\n",
              "      <td>0</td>\n",
              "      <td>0</td>\n",
              "      <td>0</td>\n",
              "      <td>0</td>\n",
              "      <td>0</td>\n",
              "      <td>0</td>\n",
              "    </tr>\n",
              "    <tr>\n",
              "      <th>223547</th>\n",
              "      <td>fffac2a094c8e0e2</td>\n",
              "      <td>MEL GIBSON IS A NAZI BITCH WHO MAKES SHITTY MO...</td>\n",
              "      <td>1</td>\n",
              "      <td>0</td>\n",
              "      <td>1</td>\n",
              "      <td>0</td>\n",
              "      <td>1</td>\n",
              "      <td>0</td>\n",
              "    </tr>\n",
              "    <tr>\n",
              "      <th>223548</th>\n",
              "      <td>fffb5451268fb5ba</td>\n",
              "      <td>\" \\n\\n == Unicorn lair discovery == \\n\\n Suppo...</td>\n",
              "      <td>0</td>\n",
              "      <td>0</td>\n",
              "      <td>0</td>\n",
              "      <td>0</td>\n",
              "      <td>0</td>\n",
              "      <td>0</td>\n",
              "    </tr>\n",
              "  </tbody>\n",
              "</table>\n",
              "<p>223549 rows × 8 columns</p>\n",
              "</div>"
            ],
            "text/plain": [
              "                      id                                       comment_text  \\\n",
              "0       0000997932d777bf  Explanation\\nWhy the edits made under my usern...   \n",
              "1       000103f0d9cfb60f  D'aww! He matches this background colour I'm s...   \n",
              "2       000113f07ec002fd  Hey man, I'm really not trying to edit war. It...   \n",
              "3       0001b41b1c6bb37e  \"\\nMore\\nI can't make any real suggestions on ...   \n",
              "4       0001d958c54c6e35  You, sir, are my hero. Any chance you remember...   \n",
              "...                  ...                                                ...   \n",
              "223544  fff8f64043129fa2  :Jerome, I see you never got around to this…! ...   \n",
              "223545  fff9d70fe0722906  ==Lucky bastard== \\n http://wikimediafoundatio...   \n",
              "223546  fffa8a11c4378854  ==shame on you all!!!== \\n\\n You want to speak...   \n",
              "223547  fffac2a094c8e0e2  MEL GIBSON IS A NAZI BITCH WHO MAKES SHITTY MO...   \n",
              "223548  fffb5451268fb5ba  \" \\n\\n == Unicorn lair discovery == \\n\\n Suppo...   \n",
              "\n",
              "        toxic  severe_toxic  obscene  threat  insult  identity_hate  \n",
              "0           0             0        0       0       0              0  \n",
              "1           0             0        0       0       0              0  \n",
              "2           0             0        0       0       0              0  \n",
              "3           0             0        0       0       0              0  \n",
              "4           0             0        0       0       0              0  \n",
              "...       ...           ...      ...     ...     ...            ...  \n",
              "223544      0             0        0       0       0              0  \n",
              "223545      0             0        0       0       0              0  \n",
              "223546      0             0        0       0       0              0  \n",
              "223547      1             0        1       0       1              0  \n",
              "223548      0             0        0       0       0              0  \n",
              "\n",
              "[223549 rows x 8 columns]"
            ]
          },
          "metadata": {
            "tags": []
          },
          "execution_count": 9
        }
      ]
    },
    {
      "cell_type": "code",
      "metadata": {
        "id": "gWz2nTjW6m0F",
        "colab_type": "code",
        "colab": {
          "base_uri": "https://localhost:8080/",
          "height": 419
        },
        "outputId": "6569587b-ce15-4a84-edde-7fdcb9a7da76"
      },
      "source": [
        "val"
      ],
      "execution_count": 10,
      "outputs": [
        {
          "output_type": "execute_result",
          "data": {
            "text/html": [
              "<div>\n",
              "<style scoped>\n",
              "    .dataframe tbody tr th:only-of-type {\n",
              "        vertical-align: middle;\n",
              "    }\n",
              "\n",
              "    .dataframe tbody tr th {\n",
              "        vertical-align: top;\n",
              "    }\n",
              "\n",
              "    .dataframe thead th {\n",
              "        text-align: right;\n",
              "    }\n",
              "</style>\n",
              "<table border=\"1\" class=\"dataframe\">\n",
              "  <thead>\n",
              "    <tr style=\"text-align: right;\">\n",
              "      <th></th>\n",
              "      <th>id</th>\n",
              "      <th>comment_text</th>\n",
              "      <th>lang</th>\n",
              "      <th>toxic</th>\n",
              "    </tr>\n",
              "  </thead>\n",
              "  <tbody>\n",
              "    <tr>\n",
              "      <th>0</th>\n",
              "      <td>0</td>\n",
              "      <td>Este usuario ni siquiera llega al rango de    ...</td>\n",
              "      <td>es</td>\n",
              "      <td>0</td>\n",
              "    </tr>\n",
              "    <tr>\n",
              "      <th>1</th>\n",
              "      <td>1</td>\n",
              "      <td>Il testo di questa voce pare esser scopiazzato...</td>\n",
              "      <td>it</td>\n",
              "      <td>0</td>\n",
              "    </tr>\n",
              "    <tr>\n",
              "      <th>2</th>\n",
              "      <td>2</td>\n",
              "      <td>Vale. Sólo expongo mi pasado. Todo tiempo pasa...</td>\n",
              "      <td>es</td>\n",
              "      <td>1</td>\n",
              "    </tr>\n",
              "    <tr>\n",
              "      <th>3</th>\n",
              "      <td>3</td>\n",
              "      <td>Bu maddenin alt başlığı olarak  uluslararası i...</td>\n",
              "      <td>tr</td>\n",
              "      <td>0</td>\n",
              "    </tr>\n",
              "    <tr>\n",
              "      <th>4</th>\n",
              "      <td>4</td>\n",
              "      <td>Belçika nın şehirlerinin yanında ilçe ve belde...</td>\n",
              "      <td>tr</td>\n",
              "      <td>0</td>\n",
              "    </tr>\n",
              "    <tr>\n",
              "      <th>...</th>\n",
              "      <td>...</td>\n",
              "      <td>...</td>\n",
              "      <td>...</td>\n",
              "      <td>...</td>\n",
              "    </tr>\n",
              "    <tr>\n",
              "      <th>7995</th>\n",
              "      <td>7995</td>\n",
              "      <td>Il fatto è che la pagina dei personaggi minor...</td>\n",
              "      <td>it</td>\n",
              "      <td>0</td>\n",
              "    </tr>\n",
              "    <tr>\n",
              "      <th>7996</th>\n",
              "      <td>7996</td>\n",
              "      <td>El imbesil ete dela luna no se entera ni ostia...</td>\n",
              "      <td>es</td>\n",
              "      <td>1</td>\n",
              "    </tr>\n",
              "    <tr>\n",
              "      <th>7997</th>\n",
              "      <td>7997</td>\n",
              "      <td>olum sız manyakmısınz siz adam sıze sanal yıld...</td>\n",
              "      <td>tr</td>\n",
              "      <td>1</td>\n",
              "    </tr>\n",
              "    <tr>\n",
              "      <th>7998</th>\n",
              "      <td>7998</td>\n",
              "      <td>El mapa del reinado de Alhaken esta ligerament...</td>\n",
              "      <td>es</td>\n",
              "      <td>0</td>\n",
              "    </tr>\n",
              "    <tr>\n",
              "      <th>7999</th>\n",
              "      <td>7999</td>\n",
              "      <td>lasciami la tua email per favore. ad ogni modo...</td>\n",
              "      <td>it</td>\n",
              "      <td>0</td>\n",
              "    </tr>\n",
              "  </tbody>\n",
              "</table>\n",
              "<p>8000 rows × 4 columns</p>\n",
              "</div>"
            ],
            "text/plain": [
              "        id                                       comment_text lang  toxic\n",
              "0        0  Este usuario ni siquiera llega al rango de    ...   es      0\n",
              "1        1  Il testo di questa voce pare esser scopiazzato...   it      0\n",
              "2        2  Vale. Sólo expongo mi pasado. Todo tiempo pasa...   es      1\n",
              "3        3  Bu maddenin alt başlığı olarak  uluslararası i...   tr      0\n",
              "4        4  Belçika nın şehirlerinin yanında ilçe ve belde...   tr      0\n",
              "...    ...                                                ...  ...    ...\n",
              "7995  7995   Il fatto è che la pagina dei personaggi minor...   it      0\n",
              "7996  7996  El imbesil ete dela luna no se entera ni ostia...   es      1\n",
              "7997  7997  olum sız manyakmısınz siz adam sıze sanal yıld...   tr      1\n",
              "7998  7998  El mapa del reinado de Alhaken esta ligerament...   es      0\n",
              "7999  7999  lasciami la tua email per favore. ad ogni modo...   it      0\n",
              "\n",
              "[8000 rows x 4 columns]"
            ]
          },
          "metadata": {
            "tags": []
          },
          "execution_count": 10
        }
      ]
    },
    {
      "cell_type": "markdown",
      "metadata": {
        "id": "Q6-r3u446vHb",
        "colab_type": "text"
      },
      "source": [
        "# Описательный анализ тестовой выборки в сравнение с обучающей - (какие языки представлены, как они по статистикам отличаются от трейна) - 1.75 балла\n"
      ]
    },
    {
      "cell_type": "code",
      "metadata": {
        "id": "VMNqNt1u6npC",
        "colab_type": "code",
        "colab": {
          "base_uri": "https://localhost:8080/",
          "height": 34
        },
        "outputId": "ddbb7c64-45be-46dd-ce57-3661547c538d"
      },
      "source": [
        "val['lang'].unique()"
      ],
      "execution_count": 11,
      "outputs": [
        {
          "output_type": "execute_result",
          "data": {
            "text/plain": [
              "array(['es', 'it', 'tr'], dtype=object)"
            ]
          },
          "metadata": {
            "tags": []
          },
          "execution_count": 11
        }
      ]
    },
    {
      "cell_type": "code",
      "metadata": {
        "id": "fZ40ALCf7AR0",
        "colab_type": "code",
        "colab": {
          "base_uri": "https://localhost:8080/",
          "height": 85
        },
        "outputId": "6fdc87b9-24d8-446a-faea-936f694a6b6f"
      },
      "source": [
        "stats = {}\n",
        "stats[\"en\"] = {\"non-toxic\": train[train['toxic'] == 0].shape[0], \"toxic\": train[train['toxic'] == 1].shape[0]}\n",
        "for lang in val['lang'].unique():\n",
        "  stats[lang] = {\"non-toxic\": val[(val['lang'] == lang) & (val['toxic'] == 0)].shape[0], \"toxic\": val[(val['lang'] == lang) & (val['toxic'] == 1)].shape[0]}\n",
        "\n",
        "for lang in stats:\n",
        "  toxic = stats[lang][\"toxic\"]\n",
        "  non_toxic = stats[lang][\"non-toxic\"]\n",
        "  print(f\"lang: {lang}, toxic: {toxic}, non-toxic: {non_toxic}, ratio: {round((toxic+non_toxic)/toxic)}:{round((toxic+non_toxic)/non_toxic)}\")"
      ],
      "execution_count": 12,
      "outputs": [
        {
          "output_type": "stream",
          "text": [
            "lang: en, toxic: 21384, non-toxic: 202165, ratio: 10:1\n",
            "lang: es, toxic: 422, non-toxic: 2078, ratio: 6:1\n",
            "lang: it, toxic: 488, non-toxic: 2012, ratio: 5:1\n",
            "lang: tr, toxic: 320, non-toxic: 2680, ratio: 9:1\n"
          ],
          "name": "stdout"
        }
      ]
    },
    {
      "cell_type": "markdown",
      "metadata": {
        "id": "wle6ZXtlHas8",
        "colab_type": "text"
      },
      "source": [
        "Как мы видим, в val представлены данные по трем языкам - испанскому, итальянскому и турецкому; в трейн выборке у нас есть лишь английский язык.  \n",
        "Данных на английском языке ~100 раз больше, чем на других языках, при этом соотношения классов разнятся - для турецкого и английского соотношение классов ~ 10:1, для итальянского и испанского ~ 6:1"
      ]
    },
    {
      "cell_type": "code",
      "metadata": {
        "id": "orGJ_s1hEtbD",
        "colab_type": "code",
        "colab": {}
      },
      "source": [
        "train['text_length'] = train['comment_text'].str.len()\n",
        "val['text_length'] = val['comment_text'].str.len()"
      ],
      "execution_count": 13,
      "outputs": []
    },
    {
      "cell_type": "code",
      "metadata": {
        "id": "pz8E5kxzFdqW",
        "colab_type": "code",
        "colab": {
          "base_uri": "https://localhost:8080/",
          "height": 1000
        },
        "outputId": "441dc8ad-227e-4c9f-dc88-bc7ccf61fbb0"
      },
      "source": [
        "print(\"train, non-toxic: \\n\", train[train['toxic'] == 0]['text_length'].describe(), \"\\n\")\n",
        "print(\"train, toxic: \\n\", train[train['toxic'] == 1]['text_length'].describe(), \"\\n\")\n",
        "for lang in val['lang'].unique():\n",
        "  print(f\"{lang}, val, non-toxic: \\n\", val[(val['lang'] == lang) & (val['toxic'] == 0)]['text_length'].describe(), \"\\n\")\n",
        "  print(f\"{lang}, val, toxic: \\n\", val[(val['lang'] == lang) & (val['toxic'] == 1)]['text_length'].describe(), \"\\n\")"
      ],
      "execution_count": 14,
      "outputs": [
        {
          "output_type": "stream",
          "text": [
            "train, non-toxic: \n",
            " count    202165.000000\n",
            "mean        402.691178\n",
            "std         589.421496\n",
            "min           1.000000\n",
            "25%         100.000000\n",
            "50%         215.000000\n",
            "75%         450.000000\n",
            "max        5000.000000\n",
            "Name: text_length, dtype: float64 \n",
            "\n",
            "train, toxic: \n",
            " count    21384.000000\n",
            "mean       280.604097\n",
            "std        613.588485\n",
            "min          3.000000\n",
            "25%         55.000000\n",
            "50%        115.000000\n",
            "75%        250.000000\n",
            "max       5000.000000\n",
            "Name: text_length, dtype: float64 \n",
            "\n",
            "es, val, non-toxic: \n",
            " count    2078.000000\n",
            "mean      329.911453\n",
            "std       229.772217\n",
            "min        55.000000\n",
            "25%       165.000000\n",
            "50%       257.000000\n",
            "75%       419.750000\n",
            "max      1559.000000\n",
            "Name: text_length, dtype: float64 \n",
            "\n",
            "es, val, toxic: \n",
            " count     422.000000\n",
            "mean      285.921801\n",
            "std       189.783552\n",
            "min        48.000000\n",
            "25%       152.000000\n",
            "50%       223.000000\n",
            "75%       361.500000\n",
            "max      1089.000000\n",
            "Name: text_length, dtype: float64 \n",
            "\n",
            "it, val, non-toxic: \n",
            " count    2012.000000\n",
            "mean      347.234095\n",
            "std       252.975916\n",
            "min        65.000000\n",
            "25%       168.750000\n",
            "50%       260.500000\n",
            "75%       444.250000\n",
            "max      1419.000000\n",
            "Name: text_length, dtype: float64 \n",
            "\n",
            "it, val, toxic: \n",
            " count     488.000000\n",
            "mean      309.948770\n",
            "std       223.473658\n",
            "min        39.000000\n",
            "25%       154.000000\n",
            "50%       218.500000\n",
            "75%       394.250000\n",
            "max      1155.000000\n",
            "Name: text_length, dtype: float64 \n",
            "\n",
            "tr, val, non-toxic: \n",
            " count    2680.000000\n",
            "mean      439.900000\n",
            "std       317.228372\n",
            "min        91.000000\n",
            "25%       206.000000\n",
            "50%       337.500000\n",
            "75%       559.250000\n",
            "max      1785.000000\n",
            "Name: text_length, dtype: float64 \n",
            "\n",
            "tr, val, toxic: \n",
            " count     320.000000\n",
            "mean      365.209375\n",
            "std       253.454286\n",
            "min        85.000000\n",
            "25%       187.750000\n",
            "50%       292.500000\n",
            "75%       446.250000\n",
            "max      1372.000000\n",
            "Name: text_length, dtype: float64 \n",
            "\n"
          ],
          "name": "stdout"
        }
      ]
    },
    {
      "cell_type": "markdown",
      "metadata": {
        "id": "GMQBVm5BILWW",
        "colab_type": "text"
      },
      "source": [
        "Как мы можем заметить, для всех языков верно утверждение, что токсичный комментарий в среднем короче, чем нетоксичный; интересно, что std в английском у токсичных комментариев больше, для других языков верно обратное - с чем это связано, непонятно.  \n",
        "При этом и минимальная длина комментария в английском языке меньше у нетоксичного комментария, хотя в других языках ситуация обратная."
      ]
    },
    {
      "cell_type": "markdown",
      "metadata": {
        "id": "kv7kTMyFPj2B",
        "colab_type": "text"
      },
      "source": [
        "# Поиск признаков, которые могут обобщаться на многоязычные данные (минимум 10 признаков рассмотрено,, обучать можно любую модель, оценивать нужно на validation.csv)  - 3 балла + поделился признаками своими..."
      ]
    },
    {
      "cell_type": "code",
      "metadata": {
        "id": "7JQtcSjUPlX1",
        "colab_type": "code",
        "colab": {}
      },
      "source": [
        "# делаем минимум нормализации т.к. хотим учитывать как можно больше признаков\n",
        "def soft_normalize(text):\n",
        "  text = re.sub(\"\\n|\\t|\\s\\\"\", \" \", text)\n",
        "  return text\n",
        "\n",
        "def tokenize(text):\n",
        "  text = re.sub(f\"[{punctuation}]\", \" \", text)\n",
        "  text = re.sub(\"\\s+\", \" \", text)\n",
        "  return text.split()\n",
        "\n",
        "def sentenize(text):\n",
        "  sents = re.split(\"[\\n.!?]( |$)\", text)\n",
        "  return [s for s in sents if len(s) > 0 and s != \" \"]\n",
        "\n",
        "def sents_count(text):\n",
        "  return len(sentenize(text))\n",
        "\n",
        "def mean_token_length(text):\n",
        "  length = 0\n",
        "  tokens = tokenize(text)\n",
        "  if len(tokens) == 0:\n",
        "    return 0\n",
        "  for token in tokens:\n",
        "    length += len(token)\n",
        "  return length/len(tokens)\n",
        "\n",
        "def caps_ratio(text):\n",
        "  total = len(text)\n",
        "  caps = 0\n",
        "  for letter in text:\n",
        "    if letter not in punctuation and letter != \" \":\n",
        "      if letter.lower() != letter:\n",
        "        caps += 1\n",
        "  return caps/total\n",
        "\n",
        "def nonalpha_ratio(text):\n",
        "  total = len(text)\n",
        "  nonalpha = 0\n",
        "  sents = sentenize(text)\n",
        "  for sent in sents:\n",
        "    for letter in text:\n",
        "      if letter in punctuation:\n",
        "        nonalpha += 1\n",
        "  return nonalpha/total\n",
        "\n",
        "def numeric_ratio(text):\n",
        "  total = len(text)\n",
        "  numeric = 0\n",
        "  for letter in text:\n",
        "    if letter.isnumeric():\n",
        "      numeric += 1\n",
        "  return numeric/total\n",
        "\n",
        "def has_link(text):\n",
        "  return int(re.search(\"https?://[^ ]+\", text) is not None)\n",
        "\n",
        "def longest_word(text):\n",
        "  tokens = tokenize(text)\n",
        "  length = 0\n",
        "  for t in tokens:\n",
        "    if len(t) > length:\n",
        "      length = len(t)\n",
        "  return length\n",
        "\n",
        "def max_sent_complexity(text):\n",
        "  compl = 0\n",
        "  sents = sentenize(text)\n",
        "  for s in sents:\n",
        "    matches = re.findall(\"[,;\\:\\-()]+\", s)\n",
        "    if len(matches) > compl:\n",
        "      compl = len(matches)\n",
        "  return compl\n",
        "\n",
        "def rage_punctuation_length(text):\n",
        "  length = 0\n",
        "  matches = re.findall(\"[?!.]+\", text)\n",
        "  for m in matches:\n",
        "    if len(m) > length:\n",
        "      length = len(m)\n",
        "  return length\n",
        "\n",
        "def longest_same_char(text):\n",
        "  length = 0\n",
        "  curr_length = 1\n",
        "  for i in range(1,len(text)):\n",
        "    if text[i] == text[i-1]:\n",
        "      curr_length += 1\n",
        "    else:\n",
        "      if curr_length > length:\n",
        "        length = curr_length\n",
        "      curr_length = 1\n",
        "  if curr_length > length:\n",
        "    return curr_length\n",
        "  return length "
      ],
      "execution_count": 70,
      "outputs": []
    },
    {
      "cell_type": "code",
      "metadata": {
        "id": "ojetJbNHTfD5",
        "colab_type": "code",
        "colab": {}
      },
      "source": [
        "train['text_soft_normalized'] = train['comment_text'].apply(soft_normalize)\n",
        "\n",
        "train['text_mean_tokens_length'] = train['text_soft_normalized'].apply(mean_token_length)\n",
        "train['text_sents_count'] = train['comment_text'].apply(sents_count)\n",
        "train['text_caps_ratio'] = train['comment_text'].apply(caps_ratio)\n",
        "train['text_nonalpha_ratio'] = train['text_soft_normalized'].apply(nonalpha_ratio)\n",
        "train['text_numeric_ratio'] = train['comment_text'].apply(numeric_ratio)\n",
        "train['text_has_link'] = train['comment_text'].apply(has_link)\n",
        "train['text_longest_word'] = train['text_soft_normalized'].apply(longest_word)\n",
        "train['text_complexity'] = train['text_soft_normalized'].apply(max_sent_complexity)\n",
        "train['text_rage_punctuation_length'] = train['text_soft_normalized'].apply(rage_punctuation_length)\n",
        "train['text_longest_same_char'] = train['text_soft_normalized'].apply(longest_same_char)"
      ],
      "execution_count": 71,
      "outputs": []
    },
    {
      "cell_type": "code",
      "metadata": {
        "id": "rmms31ndc8f7",
        "colab_type": "code",
        "colab": {}
      },
      "source": [
        "val['text_soft_normalized'] = val['comment_text'].apply(soft_normalize)\n",
        "\n",
        "val['text_mean_tokens_length'] = val['text_soft_normalized'].apply(mean_token_length)\n",
        "val['text_sents_count'] = val['comment_text'].apply(sents_count)\n",
        "val['text_caps_ratio'] = val['comment_text'].apply(caps_ratio)\n",
        "val['text_nonalpha_ratio'] = val['text_soft_normalized'].apply(nonalpha_ratio)\n",
        "val['text_numeric_ratio'] = val['comment_text'].apply(numeric_ratio)\n",
        "val['text_has_link'] = val['comment_text'].apply(has_link)\n",
        "val['text_longest_word'] = val['text_soft_normalized'].apply(longest_word)\n",
        "val['text_complexity'] = val['text_soft_normalized'].apply(max_sent_complexity)\n",
        "val['text_rage_punctuation_length'] = val['text_soft_normalized'].apply(rage_punctuation_length)\n",
        "val['text_longest_same_char'] = val['text_soft_normalized'].apply(longest_same_char)"
      ],
      "execution_count": 72,
      "outputs": []
    },
    {
      "cell_type": "code",
      "metadata": {
        "id": "E73tZJBCcW5K",
        "colab_type": "code",
        "colab": {}
      },
      "source": [
        "X_train = train[['text_mean_tokens_length', 'text_sents_count', 'text_caps_ratio', 'text_nonalpha_ratio', 'text_numeric_ratio', 'text_has_link', 'text_longest_word', 'text_complexity', 'text_rage_punctuation_length', 'text_longest_same_char']].values\n",
        "Y_train = train['toxic']\n",
        "X_val = val[['text_mean_tokens_length', 'text_sents_count', 'text_caps_ratio', 'text_nonalpha_ratio', 'text_numeric_ratio', 'text_has_link', 'text_longest_word', 'text_complexity', 'text_rage_punctuation_length', 'text_longest_same_char']].values\n",
        "Y_val = val['toxic']"
      ],
      "execution_count": 73,
      "outputs": []
    },
    {
      "cell_type": "code",
      "metadata": {
        "id": "aszLE-QzJf1n",
        "colab_type": "code",
        "colab": {
          "base_uri": "https://localhost:8080/",
          "height": 68
        },
        "outputId": "cfdef460-9bc5-4077-9767-a6e3dd0df1ff"
      },
      "source": [
        "splits = 10\n",
        "\n",
        "kf = KFold(n_splits=splits, random_state=42, shuffle=True)\n",
        "score_train = []\n",
        "score_train_sum = 0\n",
        "for train, test in kf.split(X_train):\n",
        "  X_train_train, X_train_test, Y_train_train, Y_train_test = X_train[train], X_train[test], Y_train[train], Y_train[test]\n",
        "  clf = DecisionTreeClassifier(class_weight = {0: 0.91, 1:0.09}, random_state=42).fit(X_train_train, Y_train_train)\n",
        "  predicted = clf.predict_proba(X_train_test)\n",
        "  score = roc_auc_score(Y_train_test, predicted[:,1])\n",
        "  score_train_sum += score\n",
        "  score_train.append(score)\n",
        "\n",
        "mean_score_train = score_train_sum/splits\n",
        "std = 0\n",
        "for score in score_train:\n",
        "  std += (score - mean_score_train) * (score - mean_score_train)\n",
        "  \n",
        "print(std/splits)\n",
        "\n",
        "clf = DecisionTreeClassifier(class_weight = {0: 0.91, 1:0.09}, random_state=42).fit(X_train, Y_train)\n",
        "predicted = clf.predict_proba(X_val)\n",
        "score_val = roc_auc_score(Y_val, predicted[:,1])\n",
        "\n",
        "print(mean_score_train)\n",
        "print(score_val)"
      ],
      "execution_count": 76,
      "outputs": [
        {
          "output_type": "stream",
          "text": [
            "1.5913664753103432e-05\n",
            "0.5859285719491146\n",
            "0.5426875502876151\n"
          ],
          "name": "stdout"
        }
      ]
    },
    {
      "cell_type": "markdown",
      "metadata": {
        "id": "zSIUOo9ui8_Z",
        "colab_type": "text"
      },
      "source": [
        "Как видим, std очень маленькое, так что переобучения нет; roc_auc_score на val не особо хуже, чем на отложенных трейнах, радуемся этому!\n",
        "Похоже, что какие-то из признаков действительно рабочие"
      ]
    },
    {
      "cell_type": "markdown",
      "metadata": {
        "id": "DvpDAM3kJPkt",
        "colab_type": "text"
      },
      "source": [
        "# Бейзлайн модель, которая работает на отложенной выборке (из трейна) и validation.csv (различие в точности может быть большим, но главное попробовать любыми способами его уменьшить и зафиксировать эксперименты) - 3 балла"
      ]
    },
    {
      "cell_type": "markdown",
      "metadata": {
        "id": "sdCmP76O5i8r",
        "colab_type": "text"
      },
      "source": [
        "Будем использовать те же признаки, что и выше, однако попробуем разные модели"
      ]
    },
    {
      "cell_type": "code",
      "metadata": {
        "id": "uNYHlcOE5iGn",
        "colab_type": "code",
        "colab": {}
      },
      "source": [
        "splits = 10\n",
        "kf = KFold(n_splits=splits, random_state=42, shuffle=True)\n",
        "\n",
        "def baseline(model):\n",
        "  score_train = []\n",
        "  score_train_sum = 0\n",
        "  for train, test in kf.split(X_train):\n",
        "    X_train_train, X_train_test, Y_train_train, Y_train_test = X_train[train], X_train[test], Y_train[train], Y_train[test]\n",
        "    clf = model.fit(X_train_train, Y_train_train)\n",
        "    predicted = clf.predict_proba(X_train_test)\n",
        "    score = roc_auc_score(Y_train_test,  predicted[:,1])\n",
        "    score_train_sum += score\n",
        "    score_train.append(score)\n",
        "\n",
        "  mean_score_train = score_train_sum/splits\n",
        "  std = 0\n",
        "  for score in score_train:\n",
        "    std += (score - mean_score_train) * (score - mean_score_train)\n",
        "\n",
        "  clf = model.fit(X_train, Y_train)\n",
        "  predicted = clf.predict_proba(X_val)\n",
        "  score_val = roc_auc_score(Y_val,  predicted[:,1])\n",
        "\n",
        "  print(f\"train_score: {mean_score_train}, val_score: {score_val}\")"
      ],
      "execution_count": 77,
      "outputs": []
    },
    {
      "cell_type": "code",
      "metadata": {
        "id": "nEJLnQqv5oxm",
        "colab_type": "code",
        "colab": {
          "base_uri": "https://localhost:8080/",
          "height": 136
        },
        "outputId": "b63a57a2-9e60-4156-854a-6d829d64f84b"
      },
      "source": [
        "models = [\n",
        "          DecisionTreeClassifier(class_weight = {0: 0.91, 1:0.09}, random_state=42),\n",
        "          RandomForestClassifier(class_weight = {0: 0.91, 1:0.09}, random_state=42, n_estimators=50),\n",
        "          ExtraTreesClassifier(class_weight = {0: 0.91, 1:0.09}, random_state=42, n_estimators=50),\n",
        "          MultinomialNB(class_prior=[0.91,0.09]),\n",
        "          GaussianNB(priors=[0.91,0.09]),\n",
        "          LogisticRegression(class_weight={0: 0.91, 1:0.09}, max_iter=300),\n",
        "          KNeighborsClassifier(),\n",
        "]\n",
        "\n",
        "for model in models:\n",
        "  baseline(model)"
      ],
      "execution_count": 78,
      "outputs": [
        {
          "output_type": "stream",
          "text": [
            "train_score: 0.5859285719491146, val_score: 0.5426875502876151\n",
            "train_score: 0.7312826772661561, val_score: 0.6485904456533487\n",
            "train_score: 0.7135508171095305, val_score: 0.6387966398866352\n",
            "train_score: 0.6867655263336436, val_score: 0.6057530232613995\n",
            "train_score: 0.6605248197860274, val_score: 0.5829539095243242\n",
            "train_score: 0.7050580943294105, val_score: 0.621663364196419\n",
            "train_score: 0.6443288156403926, val_score: 0.5619443743920453\n"
          ],
          "name": "stdout"
        }
      ]
    },
    {
      "cell_type": "markdown",
      "metadata": {
        "id": "bGv5DfhjDhAw",
        "colab_type": "text"
      },
      "source": [
        "\"Классические\" модели не поднимаются выше 0.65, что насчет нейронок?"
      ]
    },
    {
      "cell_type": "code",
      "metadata": {
        "id": "5jyRw7z8-Cen",
        "colab_type": "code",
        "colab": {}
      },
      "source": [
        "early_stop = tf.keras.callbacks.EarlyStopping(monitor='val_auc', \n",
        "                                              min_delta=0.01, # какая разница считается как улучшение\n",
        "                                              patience=20, # сколько эпох терпеть отсутствие улучшений\n",
        "                                              verbose=1, \n",
        "                                              mode='max',\n",
        "                                              )"
      ],
      "execution_count": 42,
      "outputs": []
    },
    {
      "cell_type": "code",
      "metadata": {
        "id": "NrUwyUQ19RCB",
        "colab_type": "code",
        "colab": {
          "base_uri": "https://localhost:8080/",
          "height": 1000
        },
        "outputId": "67b2a8d5-da77-419e-88db-59076df2e11a"
      },
      "source": [
        "inputs = tf.keras.layers.Input(shape=(10,))\n",
        "dense = tf.keras.layers.Dense(10, activation='relu')(inputs)\n",
        "outputs = tf.keras.layers.Dense(1, activation='sigmoid')(dense)\n",
        "simple_keras_model = tf.keras.Model(inputs=inputs, outputs=outputs)\n",
        "optimizer = tf.keras.optimizers.Adam(learning_rate=0.001)\n",
        "simple_keras_model.compile(optimizer=optimizer,\n",
        "              loss='binary_crossentropy',\n",
        "              metrics=[keras.metrics.AUC(name='auc')])\n",
        "simple_keras_model.fit(X_train, Y_train, \n",
        "            validation_data=(X_val, Y_val),\n",
        "            batch_size=1024,\n",
        "            epochs=1000,\n",
        "            verbose=True,\n",
        "            callbacks=[early_stop])"
      ],
      "execution_count": 17,
      "outputs": [
        {
          "output_type": "stream",
          "text": [
            "Epoch 1/1000\n",
            "219/219 [==============================] - 1s 6ms/step - loss: 0.4949 - auc: 0.5848 - val_loss: 0.5005 - val_auc: 0.5583\n",
            "Epoch 2/1000\n",
            "219/219 [==============================] - 1s 5ms/step - loss: 0.3368 - auc: 0.6705 - val_loss: 0.4895 - val_auc: 0.6188\n",
            "Epoch 3/1000\n",
            "219/219 [==============================] - 1s 5ms/step - loss: 0.3136 - auc: 0.7042 - val_loss: 0.4683 - val_auc: 0.6468\n",
            "Epoch 4/1000\n",
            "219/219 [==============================] - 1s 5ms/step - loss: 0.2996 - auc: 0.7156 - val_loss: 0.4576 - val_auc: 0.6632\n",
            "Epoch 5/1000\n",
            "219/219 [==============================] - 1s 5ms/step - loss: 0.2960 - auc: 0.7224 - val_loss: 0.4607 - val_auc: 0.6728\n",
            "Epoch 6/1000\n",
            "219/219 [==============================] - 1s 5ms/step - loss: 0.2896 - auc: 0.7291 - val_loss: 0.4583 - val_auc: 0.6711\n",
            "Epoch 7/1000\n",
            "219/219 [==============================] - 1s 5ms/step - loss: 0.2903 - auc: 0.7312 - val_loss: 0.4623 - val_auc: 0.6709\n",
            "Epoch 8/1000\n",
            "219/219 [==============================] - 1s 5ms/step - loss: 0.2892 - auc: 0.7303 - val_loss: 0.4624 - val_auc: 0.6707\n",
            "Epoch 9/1000\n",
            "219/219 [==============================] - 1s 5ms/step - loss: 0.2885 - auc: 0.7322 - val_loss: 0.4389 - val_auc: 0.6733\n",
            "Epoch 10/1000\n",
            "219/219 [==============================] - 1s 5ms/step - loss: 0.2876 - auc: 0.7319 - val_loss: 0.4569 - val_auc: 0.6711\n",
            "Epoch 11/1000\n",
            "219/219 [==============================] - 1s 5ms/step - loss: 0.2864 - auc: 0.7345 - val_loss: 0.4643 - val_auc: 0.6692\n",
            "Epoch 12/1000\n",
            "219/219 [==============================] - 1s 5ms/step - loss: 0.2862 - auc: 0.7379 - val_loss: 0.4417 - val_auc: 0.6700\n",
            "Epoch 13/1000\n",
            "219/219 [==============================] - 1s 5ms/step - loss: 0.2884 - auc: 0.7295 - val_loss: 0.4645 - val_auc: 0.6695\n",
            "Epoch 14/1000\n",
            "219/219 [==============================] - 1s 5ms/step - loss: 0.2881 - auc: 0.7335 - val_loss: 0.4555 - val_auc: 0.6714\n",
            "Epoch 15/1000\n",
            "219/219 [==============================] - 1s 5ms/step - loss: 0.2867 - auc: 0.7352 - val_loss: 0.4515 - val_auc: 0.6701\n",
            "Epoch 16/1000\n",
            "219/219 [==============================] - 1s 5ms/step - loss: 0.2848 - auc: 0.7368 - val_loss: 0.4602 - val_auc: 0.6707\n",
            "Epoch 17/1000\n",
            "219/219 [==============================] - 1s 5ms/step - loss: 0.2853 - auc: 0.7373 - val_loss: 0.4558 - val_auc: 0.6711\n",
            "Epoch 18/1000\n",
            "219/219 [==============================] - 1s 5ms/step - loss: 0.2852 - auc: 0.7358 - val_loss: 0.4404 - val_auc: 0.6700\n",
            "Epoch 19/1000\n",
            "219/219 [==============================] - 1s 5ms/step - loss: 0.2854 - auc: 0.7371 - val_loss: 0.4670 - val_auc: 0.6678\n",
            "Epoch 20/1000\n",
            "219/219 [==============================] - 1s 5ms/step - loss: 0.2850 - auc: 0.7356 - val_loss: 0.4702 - val_auc: 0.6732\n",
            "Epoch 21/1000\n",
            "219/219 [==============================] - 1s 5ms/step - loss: 0.2868 - auc: 0.7350 - val_loss: 0.4600 - val_auc: 0.6731\n",
            "Epoch 22/1000\n",
            "219/219 [==============================] - 1s 5ms/step - loss: 0.2838 - auc: 0.7371 - val_loss: 0.4534 - val_auc: 0.6733\n",
            "Epoch 23/1000\n",
            "219/219 [==============================] - 1s 5ms/step - loss: 0.2850 - auc: 0.7392 - val_loss: 0.4721 - val_auc: 0.6754\n",
            "Epoch 24/1000\n",
            "219/219 [==============================] - 1s 5ms/step - loss: 0.2841 - auc: 0.7395 - val_loss: 0.4513 - val_auc: 0.6758\n",
            "Epoch 25/1000\n",
            "219/219 [==============================] - 1s 5ms/step - loss: 0.2839 - auc: 0.7391 - val_loss: 0.4636 - val_auc: 0.6716\n",
            "Epoch 26/1000\n",
            "219/219 [==============================] - 1s 5ms/step - loss: 0.2858 - auc: 0.7381 - val_loss: 0.4633 - val_auc: 0.6727\n",
            "Epoch 27/1000\n",
            "219/219 [==============================] - 1s 5ms/step - loss: 0.2864 - auc: 0.7374 - val_loss: 0.4571 - val_auc: 0.6760\n",
            "Epoch 28/1000\n",
            "219/219 [==============================] - 1s 5ms/step - loss: 0.2839 - auc: 0.7396 - val_loss: 0.4766 - val_auc: 0.6755\n",
            "Epoch 29/1000\n",
            "219/219 [==============================] - 1s 5ms/step - loss: 0.2848 - auc: 0.7405 - val_loss: 0.4833 - val_auc: 0.6785\n",
            "Epoch 00029: early stopping\n"
          ],
          "name": "stdout"
        },
        {
          "output_type": "execute_result",
          "data": {
            "text/plain": [
              "<tensorflow.python.keras.callbacks.History at 0x7f0d027d3a20>"
            ]
          },
          "metadata": {
            "tags": []
          },
          "execution_count": 17
        }
      ]
    },
    {
      "cell_type": "code",
      "metadata": {
        "id": "Y71WJYX6Ck73",
        "colab_type": "code",
        "colab": {
          "base_uri": "https://localhost:8080/",
          "height": 312
        },
        "outputId": "a39a5789-6a04-499c-b007-b6ff32b32fab"
      },
      "source": [
        "print(simple_keras_model.history.history.keys())\n",
        "# summarize history for auc\n",
        "plt.plot(simple_keras_model.history.history['auc'])\n",
        "plt.plot(simple_keras_model.history.history['val_auc'])\n",
        "plt.title('model auc')\n",
        "plt.ylabel('auc')\n",
        "plt.xlabel('epoch')\n",
        "plt.legend(['train', 'val'], loc='upper left')\n",
        "plt.show()"
      ],
      "execution_count": 18,
      "outputs": [
        {
          "output_type": "stream",
          "text": [
            "dict_keys(['loss', 'auc', 'val_loss', 'val_auc'])\n"
          ],
          "name": "stdout"
        },
        {
          "output_type": "display_data",
          "data": {
            "image/png": "[encoded data removed]",
            "text/plain": [
              "<Figure size 432x288 with 1 Axes>"
            ]
          },
          "metadata": {
            "tags": [],
            "needs_background": "light"
          }
        }
      ]
    },
    {
      "cell_type": "markdown",
      "metadata": {
        "id": "Gl8eMFegDrU9",
        "colab_type": "text"
      },
      "source": [
        "Немного лучше, будем пытаться ее тьюнить"
      ]
    },
    {
      "cell_type": "code",
      "metadata": {
        "id": "Wl1mRbCvEOh7",
        "colab_type": "code",
        "colab": {
          "base_uri": "https://localhost:8080/",
          "height": 312
        },
        "outputId": "f26fce25-e3e6-4814-ffae-40bc8b09748d"
      },
      "source": [
        "inputs = tf.keras.layers.Input(shape=(10,))\n",
        "dense = tf.keras.layers.Dense(10, activation='relu')(inputs)\n",
        "drop = tf.keras.layers.Dropout(0.1)(dense)\n",
        "\n",
        "outputs = tf.keras.layers.Dense(1, activation='sigmoid')(dense)\n",
        "simple_keras_model = tf.keras.Model(inputs=inputs, outputs=outputs)\n",
        "optimizer = tf.keras.optimizers.Adam(learning_rate=0.001)\n",
        "simple_keras_model.compile(optimizer=optimizer,\n",
        "              loss='binary_crossentropy',\n",
        "              metrics=[keras.metrics.AUC(name='auc')])\n",
        "simple_keras_model.fit(X_train, Y_train, \n",
        "            validation_data=(X_val, Y_val),\n",
        "            batch_size=1024,\n",
        "            epochs=1000,\n",
        "            verbose=False,\n",
        "            callbacks=[early_stop])\n",
        "plt.plot(simple_keras_model.history.history['auc'])\n",
        "plt.plot(simple_keras_model.history.history['val_auc'])\n",
        "plt.title('model auc')\n",
        "plt.ylabel('auc')\n",
        "plt.xlabel('epoch')\n",
        "plt.legend(['train', 'val'], loc='upper left')\n",
        "plt.show()"
      ],
      "execution_count": 49,
      "outputs": [
        {
          "output_type": "stream",
          "text": [
            "Epoch 00037: early stopping\n"
          ],
          "name": "stdout"
        },
        {
          "output_type": "display_data",
          "data": {
            "image/png": "[encoded data removed]",
            "text/plain": [
              "<Figure size 432x288 with 1 Axes>"
            ]
          },
          "metadata": {
            "tags": [],
            "needs_background": "light"
          }
        }
      ]
    },
    {
      "cell_type": "code",
      "metadata": {
        "id": "XtfzNK_KG4ZI",
        "colab_type": "code",
        "colab": {
          "base_uri": "https://localhost:8080/",
          "height": 1000
        },
        "outputId": "3b2ce5b1-a24c-4285-ad8d-d878898e5838"
      },
      "source": [
        "for a in ['relu',\n",
        "          'softmax',\n",
        "          'sigmoid',\n",
        "          'linear']:\n",
        "  inputs = tf.keras.layers.Input(shape=(10,))\n",
        "  dense = tf.keras.layers.Dense(10, activation=a)(inputs)\n",
        "  drop = tf.keras.layers.Dropout(0.1)(dense)\n",
        "\n",
        "  outputs = tf.keras.layers.Dense(1, activation='sigmoid')(dense)\n",
        "  simple_keras_model = tf.keras.Model(inputs=inputs, outputs=outputs)\n",
        "  optimizer = tf.keras.optimizers.Adam(learning_rate=0.001)\n",
        "  simple_keras_model.compile(optimizer=optimizer,\n",
        "                loss='binary_crossentropy',\n",
        "                metrics=[keras.metrics.AUC(name='auc')])\n",
        "  simple_keras_model.fit(X_train, Y_train, \n",
        "              validation_data=(X_val, Y_val),\n",
        "              batch_size=1024,\n",
        "              epochs=1000,\n",
        "              verbose=False,\n",
        "              callbacks=[early_stop])\n",
        "  plt.plot(simple_keras_model.history.history['auc'])\n",
        "  plt.plot(simple_keras_model.history.history['val_auc'])\n",
        "  plt.title('model auc')\n",
        "  plt.ylabel('auc')\n",
        "  plt.xlabel('epoch')\n",
        "  plt.legend(['train', 'val'], loc='upper left')\n",
        "  plt.show()"
      ],
      "execution_count": 62,
      "outputs": [
        {
          "output_type": "stream",
          "text": [
            "Epoch 00036: early stopping\n"
          ],
          "name": "stdout"
        },
        {
          "output_type": "display_data",
          "data": {
            "image/png": "[encoded data removed]",
            "text/plain": [
              "<Figure size 432x288 with 1 Axes>"
            ]
          },
          "metadata": {
            "tags": [],
            "needs_background": "light"
          }
        },
        {
          "output_type": "stream",
          "text": [
            "Epoch 00042: early stopping\n"
          ],
          "name": "stdout"
        },
        {
          "output_type": "display_data",
          "data": {
            "image/png": "[encoded data removed]",
            "text/plain": [
              "<Figure size 432x288 with 1 Axes>"
            ]
          },
          "metadata": {
            "tags": [],
            "needs_background": "light"
          }
        },
        {
          "output_type": "stream",
          "text": [
            "Epoch 00073: early stopping\n"
          ],
          "name": "stdout"
        },
        {
          "output_type": "display_data",
          "data": {
            "image/png": "[encoded data removed]",
            "text/plain": [
              "<Figure size 432x288 with 1 Axes>"
            ]
          },
          "metadata": {
            "tags": [],
            "needs_background": "light"
          }
        },
        {
          "output_type": "stream",
          "text": [
            "Epoch 00028: early stopping\n"
          ],
          "name": "stdout"
        },
        {
          "output_type": "display_data",
          "data": {
            "image/png": "[encoded data removed]",
            "text/plain": [
              "<Figure size 432x288 with 1 Axes>"
            ]
          },
          "metadata": {
            "tags": [],
            "needs_background": "light"
          }
        }
      ]
    },
    {
      "cell_type": "code",
      "metadata": {
        "id": "9W0OOpQ2LhKa",
        "colab_type": "code",
        "colab": {
          "base_uri": "https://localhost:8080/",
          "height": 1000
        },
        "outputId": "534bac97-fdff-4b45-fe9d-4ef6e627f1b4"
      },
      "source": [
        "for c in [2,3,4,5,6,7,8,9,10]:\n",
        "  inputs = tf.keras.layers.Input(shape=(10,))\n",
        "  dense = tf.keras.layers.Dense(c, activation='sigmoid')(inputs)\n",
        "  drop = tf.keras.layers.Dropout(0.1)(dense)\n",
        "\n",
        "  outputs = tf.keras.layers.Dense(1, activation='sigmoid')(dense)\n",
        "  simple_keras_model = tf.keras.Model(inputs=inputs, outputs=outputs)\n",
        "  optimizer = tf.keras.optimizers.Adam(learning_rate=0.001)\n",
        "  simple_keras_model.compile(optimizer=optimizer,\n",
        "                loss='binary_crossentropy',\n",
        "                metrics=[keras.metrics.AUC(name='auc')])\n",
        "  simple_keras_model.fit(X_train, Y_train, \n",
        "              validation_data=(X_val, Y_val),\n",
        "              batch_size=1024,\n",
        "              epochs=1000,\n",
        "              verbose=False,\n",
        "              callbacks=[early_stop])\n",
        "  plt.plot(simple_keras_model.history.history['auc'])\n",
        "  plt.plot(simple_keras_model.history.history['val_auc'])\n",
        "  plt.title('model auc')\n",
        "  plt.ylabel('auc')\n",
        "  plt.xlabel('epoch')\n",
        "  plt.legend(['train', 'val'], loc='upper left')\n",
        "  plt.show()"
      ],
      "execution_count": 63,
      "outputs": [
        {
          "output_type": "stream",
          "text": [
            "Epoch 00072: early stopping\n"
          ],
          "name": "stdout"
        },
        {
          "output_type": "display_data",
          "data": {
            "image/png": "[encoded data removed]",
            "text/plain": [
              "<Figure size 432x288 with 1 Axes>"
            ]
          },
          "metadata": {
            "tags": [],
            "needs_background": "light"
          }
        },
        {
          "output_type": "stream",
          "text": [
            "Epoch 00083: early stopping\n"
          ],
          "name": "stdout"
        },
        {
          "output_type": "display_data",
          "data": {
            "image/png": "[encoded data removed]",
            "text/plain": [
              "<Figure size 432x288 with 1 Axes>"
            ]
          },
          "metadata": {
            "tags": [],
            "needs_background": "light"
          }
        },
        {
          "output_type": "stream",
          "text": [
            "Epoch 00055: early stopping\n"
          ],
          "name": "stdout"
        },
        {
          "output_type": "display_data",
          "data": {
            "image/png": "[encoded data removed]",
            "text/plain": [
              "<Figure size 432x288 with 1 Axes>"
            ]
          },
          "metadata": {
            "tags": [],
            "needs_background": "light"
          }
        },
        {
          "output_type": "stream",
          "text": [
            "Epoch 00054: early stopping\n"
          ],
          "name": "stdout"
        },
        {
          "output_type": "display_data",
          "data": {
            "image/png": "[encoded data removed]",
            "text/plain": [
              "<Figure size 432x288 with 1 Axes>"
            ]
          },
          "metadata": {
            "tags": [],
            "needs_background": "light"
          }
        },
        {
          "output_type": "stream",
          "text": [
            "Epoch 00052: early stopping\n"
          ],
          "name": "stdout"
        },
        {
          "output_type": "display_data",
          "data": {
            "image/png": "[encoded data removed]",
            "text/plain": [
              "<Figure size 432x288 with 1 Axes>"
            ]
          },
          "metadata": {
            "tags": [],
            "needs_background": "light"
          }
        },
        {
          "output_type": "stream",
          "text": [
            "Epoch 00056: early stopping\n"
          ],
          "name": "stdout"
        },
        {
          "output_type": "display_data",
          "data": {
            "image/png": "[encoded data removed]",
            "text/plain": [
              "<Figure size 432x288 with 1 Axes>"
            ]
          },
          "metadata": {
            "tags": [],
            "needs_background": "light"
          }
        },
        {
          "output_type": "stream",
          "text": [
            "Epoch 00048: early stopping\n"
          ],
          "name": "stdout"
        },
        {
          "output_type": "display_data",
          "data": {
            "image/png": "[encoded data removed]",
            "text/plain": [
              "<Figure size 432x288 with 1 Axes>"
            ]
          },
          "metadata": {
            "tags": [],
            "needs_background": "light"
          }
        },
        {
          "output_type": "stream",
          "text": [
            "Epoch 00043: early stopping\n"
          ],
          "name": "stdout"
        },
        {
          "output_type": "display_data",
          "data": {
            "image/png": "[encoded data removed]",
            "text/plain": [
              "<Figure size 432x288 with 1 Axes>"
            ]
          },
          "metadata": {
            "tags": [],
            "needs_background": "light"
          }
        },
        {
          "output_type": "stream",
          "text": [
            "Epoch 00066: early stopping\n"
          ],
          "name": "stdout"
        },
        {
          "output_type": "display_data",
          "data": {
            "image/png": "[encoded data removed]",
            "text/plain": [
              "<Figure size 432x288 with 1 Axes>"
            ]
          },
          "metadata": {
            "tags": [],
            "needs_background": "light"
          }
        }
      ]
    },
    {
      "cell_type": "code",
      "metadata": {
        "id": "Ii9KdLvUNkvH",
        "colab_type": "code",
        "colab": {
          "base_uri": "https://localhost:8080/",
          "height": 607
        },
        "outputId": "82624655-e231-4887-ef31-8b9b5f341c12"
      },
      "source": [
        "for a in ['softmax',\n",
        "          'sigmoid']:\n",
        "  inputs = tf.keras.layers.Input(shape=(10,))\n",
        "  dense = tf.keras.layers.Dense(10, activation='sigmoid')(inputs)\n",
        "  drop = tf.keras.layers.Dropout(0.1)(dense)\n",
        "\n",
        "  outputs = tf.keras.layers.Dense(1, activation=a)(dense)\n",
        "  simple_keras_model = tf.keras.Model(inputs=inputs, outputs=outputs)\n",
        "  optimizer = tf.keras.optimizers.Adam(learning_rate=0.001)\n",
        "  simple_keras_model.compile(optimizer=optimizer,\n",
        "                loss='binary_crossentropy',\n",
        "                metrics=[keras.metrics.AUC(name='auc')])\n",
        "  simple_keras_model.fit(X_train, Y_train, \n",
        "              validation_data=(X_val, Y_val),\n",
        "              batch_size=1024,\n",
        "              epochs=1000,\n",
        "              verbose=False,\n",
        "              callbacks=[early_stop])\n",
        "  plt.plot(simple_keras_model.history.history['auc'])\n",
        "  plt.plot(simple_keras_model.history.history['val_auc'])\n",
        "  plt.title('model auc')\n",
        "  plt.ylabel('auc')\n",
        "  plt.xlabel('epoch')\n",
        "  plt.legend(['train', 'val'], loc='upper left')\n",
        "  plt.show()"
      ],
      "execution_count": 66,
      "outputs": [
        {
          "output_type": "stream",
          "text": [
            "Epoch 00021: early stopping\n"
          ],
          "name": "stdout"
        },
        {
          "output_type": "display_data",
          "data": {
            "image/png": "[encoded data removed]",
            "text/plain": [
              "<Figure size 432x288 with 1 Axes>"
            ]
          },
          "metadata": {
            "tags": [],
            "needs_background": "light"
          }
        },
        {
          "output_type": "stream",
          "text": [
            "Epoch 00048: early stopping\n"
          ],
          "name": "stdout"
        },
        {
          "output_type": "display_data",
          "data": {
            "image/png": "[encoded data removed]",
            "text/plain": [
              "<Figure size 432x288 with 1 Axes>"
            ]
          },
          "metadata": {
            "tags": [],
            "needs_background": "light"
          }
        }
      ]
    },
    {
      "cell_type": "code",
      "metadata": {
        "id": "-Qur6SAOPRR2",
        "colab_type": "code",
        "colab": {}
      },
      "source": [
        "checkpoint = tf.keras.callbacks.ModelCheckpoint('simple_keras_model.weights', # названия файла \n",
        "                                                monitor='val_auc', # за какой метрикой следить\n",
        "                                                verbose=1, # будет печатать что происходит\n",
        "                                                save_weights_only=True, # если нужно только веса сохранить\n",
        "                                                save_best_only=True, # сохранять только лучшие\n",
        "                                                mode='max', # если метрика должна расти, то тут max и min если наоборот\n",
        "                                                save_freq='epoch' # как часто вызывать\n",
        "                                               )"
      ],
      "execution_count": 43,
      "outputs": []
    },
    {
      "cell_type": "code",
      "metadata": {
        "id": "PaUt5rAmPGiq",
        "colab_type": "code",
        "colab": {
          "base_uri": "https://localhost:8080/",
          "height": 1000
        },
        "outputId": "b134d132-41c0-4aab-9ef2-f2999acbe22b"
      },
      "source": [
        "inputs = tf.keras.layers.Input(shape=(10,))\n",
        "dense = tf.keras.layers.Dense(10, activation='sigmoid')(inputs)\n",
        "drop = tf.keras.layers.Dropout(0.1)(dense)\n",
        "\n",
        "outputs = tf.keras.layers.Dense(1, activation='sigmoid')(dense)\n",
        "simple_keras_model = tf.keras.Model(inputs=inputs, outputs=outputs)\n",
        "optimizer = tf.keras.optimizers.Adam(learning_rate=0.001)\n",
        "simple_keras_model.compile(optimizer=optimizer,\n",
        "              loss='binary_crossentropy',\n",
        "              metrics=[keras.metrics.AUC(name='auc')])\n",
        "simple_keras_model.fit(X_train, Y_train, \n",
        "            validation_data=(X_val, Y_val),\n",
        "            batch_size=1024,\n",
        "            epochs=1000,\n",
        "            verbose=True,\n",
        "            callbacks=[early_stop, checkpoint])\n",
        "plt.plot(simple_keras_model.history.history['auc'])\n",
        "plt.plot(simple_keras_model.history.history['val_auc'])\n",
        "plt.title('model auc')\n",
        "plt.ylabel('auc')\n",
        "plt.xlabel('epoch')\n",
        "plt.legend(['train', 'val'], loc='upper left')\n",
        "plt.show()"
      ],
      "execution_count": 15,
      "outputs": [
        {
          "output_type": "stream",
          "text": [
            "Epoch 1/1000\n",
            "217/219 [============================>.] - ETA: 0s - loss: 0.3438 - auc: 0.5400\n",
            "Epoch 00001: val_auc improved from -inf to 0.55984, saving model to simple_keras_model.weights\n",
            "219/219 [==============================] - 1s 6ms/step - loss: 0.3436 - auc: 0.5405 - val_loss: 0.4492 - val_auc: 0.5598\n",
            "Epoch 2/1000\n",
            "212/219 [============================>.] - ETA: 0s - loss: 0.3039 - auc: 0.6489\n",
            "Epoch 00002: val_auc improved from 0.55984 to 0.60862, saving model to simple_keras_model.weights\n",
            "219/219 [==============================] - 1s 5ms/step - loss: 0.3041 - auc: 0.6505 - val_loss: 0.4411 - val_auc: 0.6086\n",
            "Epoch 3/1000\n",
            "218/219 [============================>.] - ETA: 0s - loss: 0.2980 - auc: 0.6901\n",
            "Epoch 00003: val_auc improved from 0.60862 to 0.62112, saving model to simple_keras_model.weights\n",
            "219/219 [==============================] - 1s 4ms/step - loss: 0.2979 - auc: 0.6901 - val_loss: 0.4410 - val_auc: 0.6211\n",
            "Epoch 4/1000\n",
            "208/219 [===========================>..] - ETA: 0s - loss: 0.2944 - auc: 0.7044\n",
            "Epoch 00004: val_auc improved from 0.62112 to 0.62733, saving model to simple_keras_model.weights\n",
            "219/219 [==============================] - 1s 4ms/step - loss: 0.2944 - auc: 0.7048 - val_loss: 0.4415 - val_auc: 0.6273\n",
            "Epoch 5/1000\n",
            "214/219 [============================>.] - ETA: 0s - loss: 0.2909 - auc: 0.7138\n",
            "Epoch 00005: val_auc improved from 0.62733 to 0.63344, saving model to simple_keras_model.weights\n",
            "219/219 [==============================] - 1s 4ms/step - loss: 0.2908 - auc: 0.7139 - val_loss: 0.4386 - val_auc: 0.6334\n",
            "Epoch 6/1000\n",
            "215/219 [============================>.] - ETA: 0s - loss: 0.2880 - auc: 0.7200\n",
            "Epoch 00006: val_auc improved from 0.63344 to 0.63487, saving model to simple_keras_model.weights\n",
            "219/219 [==============================] - 1s 4ms/step - loss: 0.2877 - auc: 0.7200 - val_loss: 0.4434 - val_auc: 0.6349\n",
            "Epoch 7/1000\n",
            "218/219 [============================>.] - ETA: 0s - loss: 0.2856 - auc: 0.7246\n",
            "Epoch 00007: val_auc improved from 0.63487 to 0.63644, saving model to simple_keras_model.weights\n",
            "219/219 [==============================] - 1s 4ms/step - loss: 0.2855 - auc: 0.7246 - val_loss: 0.4421 - val_auc: 0.6364\n",
            "Epoch 8/1000\n",
            "218/219 [============================>.] - ETA: 0s - loss: 0.2840 - auc: 0.7280\n",
            "Epoch 00008: val_auc improved from 0.63644 to 0.63903, saving model to simple_keras_model.weights\n",
            "219/219 [==============================] - 1s 4ms/step - loss: 0.2840 - auc: 0.7280 - val_loss: 0.4482 - val_auc: 0.6390\n",
            "Epoch 9/1000\n",
            "218/219 [============================>.] - ETA: 0s - loss: 0.2830 - auc: 0.7302\n",
            "Epoch 00009: val_auc improved from 0.63903 to 0.64177, saving model to simple_keras_model.weights\n",
            "219/219 [==============================] - 1s 4ms/step - loss: 0.2829 - auc: 0.7303 - val_loss: 0.4472 - val_auc: 0.6418\n",
            "Epoch 10/1000\n",
            "211/219 [===========================>..] - ETA: 0s - loss: 0.2819 - auc: 0.7325\n",
            "Epoch 00010: val_auc improved from 0.64177 to 0.64405, saving model to simple_keras_model.weights\n",
            "219/219 [==============================] - 1s 4ms/step - loss: 0.2819 - auc: 0.7328 - val_loss: 0.4489 - val_auc: 0.6441\n",
            "Epoch 11/1000\n",
            "211/219 [===========================>..] - ETA: 0s - loss: 0.2814 - auc: 0.7345\n",
            "Epoch 00011: val_auc improved from 0.64405 to 0.64847, saving model to simple_keras_model.weights\n",
            "219/219 [==============================] - 1s 5ms/step - loss: 0.2812 - auc: 0.7347 - val_loss: 0.4470 - val_auc: 0.6485\n",
            "Epoch 12/1000\n",
            "216/219 [============================>.] - ETA: 0s - loss: 0.2805 - auc: 0.7365\n",
            "Epoch 00012: val_auc improved from 0.64847 to 0.65112, saving model to simple_keras_model.weights\n",
            "219/219 [==============================] - 1s 4ms/step - loss: 0.2805 - auc: 0.7364 - val_loss: 0.4525 - val_auc: 0.6511\n",
            "Epoch 13/1000\n",
            "219/219 [==============================] - ETA: 0s - loss: 0.2801 - auc: 0.7377\n",
            "Epoch 00013: val_auc improved from 0.65112 to 0.65681, saving model to simple_keras_model.weights\n",
            "219/219 [==============================] - 1s 4ms/step - loss: 0.2801 - auc: 0.7377 - val_loss: 0.4540 - val_auc: 0.6568\n",
            "Epoch 14/1000\n",
            "215/219 [============================>.] - ETA: 0s - loss: 0.2798 - auc: 0.7390\n",
            "Epoch 00014: val_auc did not improve from 0.65681\n",
            "219/219 [==============================] - 1s 4ms/step - loss: 0.2797 - auc: 0.7394 - val_loss: 0.4517 - val_auc: 0.6566\n",
            "Epoch 15/1000\n",
            "211/219 [===========================>..] - ETA: 0s - loss: 0.2793 - auc: 0.7405\n",
            "Epoch 00015: val_auc improved from 0.65681 to 0.65994, saving model to simple_keras_model.weights\n",
            "219/219 [==============================] - 1s 5ms/step - loss: 0.2792 - auc: 0.7404 - val_loss: 0.4511 - val_auc: 0.6599\n",
            "Epoch 16/1000\n",
            "213/219 [============================>.] - ETA: 0s - loss: 0.2791 - auc: 0.7416\n",
            "Epoch 00016: val_auc improved from 0.65994 to 0.66153, saving model to simple_keras_model.weights\n",
            "219/219 [==============================] - 1s 4ms/step - loss: 0.2789 - auc: 0.7416 - val_loss: 0.4504 - val_auc: 0.6615\n",
            "Epoch 17/1000\n",
            "218/219 [============================>.] - ETA: 0s - loss: 0.2786 - auc: 0.7425\n",
            "Epoch 00017: val_auc improved from 0.66153 to 0.66376, saving model to simple_keras_model.weights\n",
            "219/219 [==============================] - 1s 4ms/step - loss: 0.2786 - auc: 0.7425 - val_loss: 0.4487 - val_auc: 0.6638\n",
            "Epoch 18/1000\n",
            "216/219 [============================>.] - ETA: 0s - loss: 0.2783 - auc: 0.7439\n",
            "Epoch 00018: val_auc improved from 0.66376 to 0.66621, saving model to simple_keras_model.weights\n",
            "219/219 [==============================] - 1s 4ms/step - loss: 0.2782 - auc: 0.7437 - val_loss: 0.4489 - val_auc: 0.6662\n",
            "Epoch 19/1000\n",
            "209/219 [===========================>..] - ETA: 0s - loss: 0.2778 - auc: 0.7444\n",
            "Epoch 00019: val_auc improved from 0.66621 to 0.66824, saving model to simple_keras_model.weights\n",
            "219/219 [==============================] - 1s 5ms/step - loss: 0.2780 - auc: 0.7445 - val_loss: 0.4497 - val_auc: 0.6682\n",
            "Epoch 20/1000\n",
            "214/219 [============================>.] - ETA: 0s - loss: 0.2776 - auc: 0.7457\n",
            "Epoch 00020: val_auc improved from 0.66824 to 0.66919, saving model to simple_keras_model.weights\n",
            "219/219 [==============================] - 1s 5ms/step - loss: 0.2777 - auc: 0.7457 - val_loss: 0.4502 - val_auc: 0.6692\n",
            "Epoch 21/1000\n",
            "217/219 [============================>.] - ETA: 0s - loss: 0.2773 - auc: 0.7464\n",
            "Epoch 00021: val_auc improved from 0.66919 to 0.67140, saving model to simple_keras_model.weights\n",
            "219/219 [==============================] - 1s 5ms/step - loss: 0.2774 - auc: 0.7462 - val_loss: 0.4502 - val_auc: 0.6714\n",
            "Epoch 22/1000\n",
            "214/219 [============================>.] - ETA: 0s - loss: 0.2775 - auc: 0.7470\n",
            "Epoch 00022: val_auc improved from 0.67140 to 0.67294, saving model to simple_keras_model.weights\n",
            "219/219 [==============================] - 1s 5ms/step - loss: 0.2772 - auc: 0.7471 - val_loss: 0.4532 - val_auc: 0.6729\n",
            "Epoch 23/1000\n",
            "213/219 [============================>.] - ETA: 0s - loss: 0.2775 - auc: 0.7475\n",
            "Epoch 00023: val_auc improved from 0.67294 to 0.67533, saving model to simple_keras_model.weights\n",
            "219/219 [==============================] - 1s 5ms/step - loss: 0.2769 - auc: 0.7479 - val_loss: 0.4564 - val_auc: 0.6753\n",
            "Epoch 24/1000\n",
            "217/219 [============================>.] - ETA: 0s - loss: 0.2763 - auc: 0.7492\n",
            "Epoch 00024: val_auc improved from 0.67533 to 0.67535, saving model to simple_keras_model.weights\n",
            "219/219 [==============================] - 1s 5ms/step - loss: 0.2765 - auc: 0.7492 - val_loss: 0.4459 - val_auc: 0.6754\n",
            "Epoch 25/1000\n",
            "216/219 [============================>.] - ETA: 0s - loss: 0.2766 - auc: 0.7493\n",
            "Epoch 00025: val_auc improved from 0.67535 to 0.67711, saving model to simple_keras_model.weights\n",
            "219/219 [==============================] - 1s 4ms/step - loss: 0.2765 - auc: 0.7494 - val_loss: 0.4511 - val_auc: 0.6771\n",
            "Epoch 26/1000\n",
            "215/219 [============================>.] - ETA: 0s - loss: 0.2764 - auc: 0.7502\n",
            "Epoch 00026: val_auc improved from 0.67711 to 0.67805, saving model to simple_keras_model.weights\n",
            "219/219 [==============================] - 1s 4ms/step - loss: 0.2762 - auc: 0.7503 - val_loss: 0.4575 - val_auc: 0.6780\n",
            "Epoch 27/1000\n",
            "214/219 [============================>.] - ETA: 0s - loss: 0.2763 - auc: 0.7499\n",
            "Epoch 00027: val_auc improved from 0.67805 to 0.67909, saving model to simple_keras_model.weights\n",
            "219/219 [==============================] - 1s 5ms/step - loss: 0.2761 - auc: 0.7503 - val_loss: 0.4552 - val_auc: 0.6791\n",
            "Epoch 28/1000\n",
            "217/219 [============================>.] - ETA: 0s - loss: 0.2759 - auc: 0.7510\n",
            "Epoch 00028: val_auc did not improve from 0.67909\n",
            "219/219 [==============================] - 1s 4ms/step - loss: 0.2758 - auc: 0.7511 - val_loss: 0.4497 - val_auc: 0.6787\n",
            "Epoch 29/1000\n",
            "211/219 [===========================>..] - ETA: 0s - loss: 0.2759 - auc: 0.7514\n",
            "Epoch 00029: val_auc improved from 0.67909 to 0.68000, saving model to simple_keras_model.weights\n",
            "219/219 [==============================] - 1s 5ms/step - loss: 0.2757 - auc: 0.7513 - val_loss: 0.4592 - val_auc: 0.6800\n",
            "Epoch 30/1000\n",
            "208/219 [===========================>..] - ETA: 0s - loss: 0.2756 - auc: 0.7518\n",
            "Epoch 00030: val_auc improved from 0.68000 to 0.68028, saving model to simple_keras_model.weights\n",
            "219/219 [==============================] - 1s 5ms/step - loss: 0.2756 - auc: 0.7517 - val_loss: 0.4582 - val_auc: 0.6803\n",
            "Epoch 31/1000\n",
            "210/219 [===========================>..] - ETA: 0s - loss: 0.2755 - auc: 0.7527\n",
            "Epoch 00031: val_auc improved from 0.68028 to 0.68122, saving model to simple_keras_model.weights\n",
            "219/219 [==============================] - 1s 5ms/step - loss: 0.2754 - auc: 0.7520 - val_loss: 0.4619 - val_auc: 0.6812\n",
            "Epoch 32/1000\n",
            "216/219 [============================>.] - ETA: 0s - loss: 0.2752 - auc: 0.7526\n",
            "Epoch 00032: val_auc improved from 0.68122 to 0.68184, saving model to simple_keras_model.weights\n",
            "219/219 [==============================] - 1s 5ms/step - loss: 0.2753 - auc: 0.7526 - val_loss: 0.4477 - val_auc: 0.6818\n",
            "Epoch 33/1000\n",
            "212/219 [============================>.] - ETA: 0s - loss: 0.2752 - auc: 0.7528\n",
            "Epoch 00033: val_auc did not improve from 0.68184\n",
            "219/219 [==============================] - 1s 5ms/step - loss: 0.2751 - auc: 0.7531 - val_loss: 0.4549 - val_auc: 0.6818\n",
            "Epoch 34/1000\n",
            "216/219 [============================>.] - ETA: 0s - loss: 0.2749 - auc: 0.7534\n",
            "Epoch 00034: val_auc improved from 0.68184 to 0.68360, saving model to simple_keras_model.weights\n",
            "219/219 [==============================] - 1s 5ms/step - loss: 0.2750 - auc: 0.7531 - val_loss: 0.4556 - val_auc: 0.6836\n",
            "Epoch 35/1000\n",
            "210/219 [===========================>..] - ETA: 0s - loss: 0.2752 - auc: 0.7531\n",
            "Epoch 00035: val_auc improved from 0.68360 to 0.68378, saving model to simple_keras_model.weights\n",
            "219/219 [==============================] - 1s 5ms/step - loss: 0.2749 - auc: 0.7536 - val_loss: 0.4575 - val_auc: 0.6838\n",
            "Epoch 36/1000\n",
            "214/219 [============================>.] - ETA: 0s - loss: 0.2745 - auc: 0.7536\n",
            "Epoch 00036: val_auc did not improve from 0.68378\n",
            "219/219 [==============================] - 1s 5ms/step - loss: 0.2748 - auc: 0.7536 - val_loss: 0.4475 - val_auc: 0.6838\n",
            "Epoch 37/1000\n",
            "219/219 [==============================] - ETA: 0s - loss: 0.2747 - auc: 0.7540\n",
            "Epoch 00037: val_auc improved from 0.68378 to 0.68412, saving model to simple_keras_model.weights\n",
            "219/219 [==============================] - 1s 5ms/step - loss: 0.2747 - auc: 0.7540 - val_loss: 0.4526 - val_auc: 0.6841\n",
            "Epoch 38/1000\n",
            "208/219 [===========================>..] - ETA: 0s - loss: 0.2745 - auc: 0.7547\n",
            "Epoch 00038: val_auc improved from 0.68412 to 0.68430, saving model to simple_keras_model.weights\n",
            "219/219 [==============================] - 1s 5ms/step - loss: 0.2745 - auc: 0.7542 - val_loss: 0.4515 - val_auc: 0.6843\n",
            "Epoch 39/1000\n",
            "215/219 [============================>.] - ETA: 0s - loss: 0.2746 - auc: 0.7542\n",
            "Epoch 00039: val_auc improved from 0.68430 to 0.68592, saving model to simple_keras_model.weights\n",
            "219/219 [==============================] - 1s 4ms/step - loss: 0.2745 - auc: 0.7545 - val_loss: 0.4531 - val_auc: 0.6859\n",
            "Epoch 40/1000\n",
            "216/219 [============================>.] - ETA: 0s - loss: 0.2743 - auc: 0.7546\n",
            "Epoch 00040: val_auc did not improve from 0.68592\n",
            "219/219 [==============================] - 1s 4ms/step - loss: 0.2743 - auc: 0.7547 - val_loss: 0.4514 - val_auc: 0.6853\n",
            "Epoch 41/1000\n",
            "213/219 [============================>.] - ETA: 0s - loss: 0.2743 - auc: 0.7554\n",
            "Epoch 00041: val_auc did not improve from 0.68592\n",
            "219/219 [==============================] - 1s 4ms/step - loss: 0.2743 - auc: 0.7549 - val_loss: 0.4512 - val_auc: 0.6854\n",
            "Epoch 42/1000\n",
            "213/219 [============================>.] - ETA: 0s - loss: 0.2744 - auc: 0.7549\n",
            "Epoch 00042: val_auc did not improve from 0.68592\n",
            "219/219 [==============================] - 1s 4ms/step - loss: 0.2742 - auc: 0.7551 - val_loss: 0.4518 - val_auc: 0.6856\n",
            "Epoch 43/1000\n",
            "219/219 [==============================] - ETA: 0s - loss: 0.2741 - auc: 0.7551\n",
            "Epoch 00043: val_auc did not improve from 0.68592\n",
            "219/219 [==============================] - 1s 4ms/step - loss: 0.2741 - auc: 0.7551 - val_loss: 0.4495 - val_auc: 0.6850\n",
            "Epoch 44/1000\n",
            "218/219 [============================>.] - ETA: 0s - loss: 0.2741 - auc: 0.7553\n",
            "Epoch 00044: val_auc improved from 0.68592 to 0.68612, saving model to simple_keras_model.weights\n",
            "219/219 [==============================] - 1s 4ms/step - loss: 0.2741 - auc: 0.7553 - val_loss: 0.4533 - val_auc: 0.6861\n",
            "Epoch 45/1000\n",
            "214/219 [============================>.] - ETA: 0s - loss: 0.2741 - auc: 0.7553\n",
            "Epoch 00045: val_auc did not improve from 0.68612\n",
            "219/219 [==============================] - 1s 4ms/step - loss: 0.2739 - auc: 0.7554 - val_loss: 0.4575 - val_auc: 0.6854\n",
            "Epoch 46/1000\n",
            "215/219 [============================>.] - ETA: 0s - loss: 0.2742 - auc: 0.7559\n",
            "Epoch 00046: val_auc improved from 0.68612 to 0.68683, saving model to simple_keras_model.weights\n",
            "219/219 [==============================] - 1s 4ms/step - loss: 0.2739 - auc: 0.7557 - val_loss: 0.4544 - val_auc: 0.6868\n",
            "Epoch 47/1000\n",
            "215/219 [============================>.] - ETA: 0s - loss: 0.2739 - auc: 0.7557\n",
            "Epoch 00047: val_auc did not improve from 0.68683\n",
            "219/219 [==============================] - 1s 4ms/step - loss: 0.2738 - auc: 0.7557 - val_loss: 0.4532 - val_auc: 0.6867\n",
            "Epoch 00047: early stopping\n"
          ],
          "name": "stdout"
        },
        {
          "output_type": "display_data",
          "data": {
            "image/png": "[encoded data removed]",
            "text/plain": [
              "<Figure size 432x288 with 1 Axes>"
            ]
          },
          "metadata": {
            "tags": [],
            "needs_background": "light"
          }
        }
      ]
    },
    {
      "cell_type": "markdown",
      "metadata": {
        "id": "CawxEY97P3kq",
        "colab_type": "text"
      },
      "source": [
        "Получили 0.68683 на val"
      ]
    },
    {
      "cell_type": "markdown",
      "metadata": {
        "id": "61PvQJTkRZDK",
        "colab_type": "text"
      },
      "source": [
        "Видимо, нам все же придется использовать слова при обучении..\n",
        "Хотим получить мультиязыковые эмбеддинги, возьмем для этого LASER, развернем у себя (https://towardsdatascience.com/multilingual-sentence-models-in-nlp-476f1f246d2f) и будем ходить в него"
      ]
    },
    {
      "cell_type": "code",
      "metadata": {
        "id": "fa8uuVReQL_4",
        "colab_type": "code",
        "colab": {}
      },
      "source": [
        "def get_vect(query_in, lang = 'en'):\n",
        "    url = \"http://95.27.245.212:8050/vectorize\"\n",
        "    params = {\"q\": query_in, \"lang\": lang}\n",
        "    resp = requests.get(url=url, params=params).json()\n",
        "    return np.array(resp[\"embedding\"])\n",
        "\n",
        "def get_vect_en(query_in):\n",
        "  return get_vect(query_in, lang = 'en')\n",
        "\n",
        "def get_vect_es(query_in):\n",
        "  return get_vect(query_in, lang = 'es')\n",
        "\n",
        "def get_vect_it(query_in):\n",
        "  return get_vect(query_in, lang = 'it')\n",
        "\n",
        "def get_vect_tr(query_in):\n",
        "  return get_vect(query_in, lang = 'tr')"
      ],
      "execution_count": 18,
      "outputs": []
    },
    {
      "cell_type": "markdown",
      "metadata": {
        "id": "QWQ9whGdQ29u",
        "colab_type": "text"
      },
      "source": [
        "Затестим:"
      ]
    },
    {
      "cell_type": "code",
      "metadata": {
        "id": "_KWdfs9bBXtX",
        "colab_type": "code",
        "colab": {
          "base_uri": "https://localhost:8080/",
          "height": 34
        },
        "outputId": "08691fb9-b516-415b-d0d8-fad18e3d9031"
      },
      "source": [
        "input_dict = {\n",
        "    \"tr\":\"Köpekleri severim. Onlar sevimli.\",\n",
        "    \"ru\":\"Я люблю собак. Они очень красивые.\",\n",
        "}\n",
        "embedded_dict = {}\n",
        "for key in input_dict:\n",
        "    embedded_dict[key] = get_vect(input_dict[key], lang = key)\n",
        "from sklearn.metrics.pairwise import cosine_similarity\n",
        "cos_lib = cosine_similarity(embedded_dict['tr'], embedded_dict['ru'])\n",
        "cos_lib"
      ],
      "execution_count": 89,
      "outputs": [
        {
          "output_type": "execute_result",
          "data": {
            "text/plain": [
              "array([[0.92918434]])"
            ]
          },
          "metadata": {
            "tags": []
          },
          "execution_count": 89
        }
      ]
    },
    {
      "cell_type": "code",
      "metadata": {
        "id": "_YQr5x8tQ5M8",
        "colab_type": "code",
        "colab": {}
      },
      "source": [
        "def hard_normalize(text):\n",
        "  text = re.sub(\"[^\\w.!?]\", \" \", text.lower())\n",
        "  text = re.sub(\"\\d+\", \" \", text.lower())\n",
        "  return re.sub(\"\\s+\", \" \", text)"
      ],
      "execution_count": 44,
      "outputs": []
    },
    {
      "cell_type": "markdown",
      "metadata": {
        "id": "a92-bnonat43",
        "colab_type": "text"
      },
      "source": [
        "Порежем размеры данных :С"
      ]
    },
    {
      "cell_type": "code",
      "metadata": {
        "id": "5aUvJat-aSs_",
        "colab_type": "code",
        "colab": {}
      },
      "source": [
        "train_cutted_toxic = train[train['toxic'] == 1]\n",
        "train_cutted_toxic = train_cutted_toxic[:int(len(train_cutted_toxic)*0.01)]\n",
        "\n",
        "train_cutted_non_toxic = train[train['toxic'] == 0]\n",
        "train_cutted_non_toxic = train_cutted_non_toxic[:int(len(train_cutted_non_toxic)*0.01)]\n",
        "\n",
        "train_cutted = pd.concat([train_cutted_toxic, train_cutted_non_toxic])\n",
        "train_cutted['text_hard_normalized'] = train_cutted['comment_text'].apply(hard_normalize)\n",
        "train_cutted['text_emb'] = train_cutted['text_hard_normalized'].apply(get_vect_en)"
      ],
      "execution_count": 45,
      "outputs": []
    },
    {
      "cell_type": "code",
      "metadata": {
        "id": "i3QZlHgfayGg",
        "colab_type": "code",
        "colab": {}
      },
      "source": [
        "val_cutted_toxic_es = val[(val['toxic'] == 1) & (val['lang']=='es')]\n",
        "val_cutted_toxic_es = val_cutted_toxic_es[:int(len(val_cutted_toxic_es)*0.1)]\n",
        "val_cutted_non_toxic_es = val[(val['toxic'] == 0) & (val['lang']=='es')]\n",
        "val_cutted_non_toxic_es = val_cutted_non_toxic_es[:int(len(val_cutted_non_toxic_es)*0.1)]\n",
        "val_cutted_es = pd.concat([val_cutted_toxic_es, val_cutted_non_toxic_es])\n",
        "val_cutted_es['text_hard_normalized'] = val_cutted_es['comment_text'].apply(hard_normalize)\n",
        "val_cutted_es['text_emb'] = val_cutted_es['text_hard_normalized'].apply(get_vect_es)\n",
        "\n",
        "\n",
        "val_cutted_toxic_it = val[(val['toxic'] == 1) & (val['lang']=='it')]\n",
        "val_cutted_toxic_it = val_cutted_toxic_it[:int(len(val_cutted_toxic_it)*0.1)]\n",
        "val_cutted_non_toxic_it = val[(val['toxic'] == 0) & (val['lang']=='it')]\n",
        "val_cutted_non_toxic_it = val_cutted_non_toxic_it[:int(len(val_cutted_non_toxic_it)*0.1)]\n",
        "val_cutted_it = pd.concat([val_cutted_toxic_it, val_cutted_non_toxic_it])\n",
        "val_cutted_it['text_hard_normalized'] = val_cutted_it['comment_text'].apply(hard_normalize)\n",
        "val_cutted_it['text_emb'] = val_cutted_it['text_hard_normalized'].apply(get_vect_it)\n",
        "\n",
        "\n",
        "val_cutted_toxic_tr = val[(val['toxic'] == 1) & (val['lang']=='tr')]\n",
        "val_cutted_toxic_tr = val_cutted_toxic_tr[:int(len(val_cutted_toxic_tr)*0.1)]\n",
        "val_cutted_non_toxic_tr = val[(val['toxic'] == 0) & (val['lang']=='tr')]\n",
        "val_cutted_non_toxic_tr = val_cutted_non_toxic_tr[:int(len(val_cutted_non_toxic_tr)*0.1)]\n",
        "val_cutted_tr = pd.concat([val_cutted_toxic_tr, val_cutted_non_toxic_tr])\n",
        "val_cutted_tr['text_hard_normalized'] = val_cutted_tr['comment_text'].apply(hard_normalize)\n",
        "val_cutted_tr['text_emb'] = val_cutted_tr['text_hard_normalized'].apply(get_vect_tr)\n",
        "\n",
        "val_cutted = pd.concat([val_cutted_es, val_cutted_it, val_cutted_tr])"
      ],
      "execution_count": 46,
      "outputs": []
    },
    {
      "cell_type": "code",
      "metadata": {
        "id": "ps4k9cpmUeia",
        "colab_type": "code",
        "colab": {
          "base_uri": "https://localhost:8080/",
          "height": 51
        },
        "outputId": "fdb89bf7-9f97-49f4-dfbc-f0a8927d8f7d"
      },
      "source": [
        "print(train_cutted.iloc[0]['text_emb'].shape)\n",
        "print(val_cutted.iloc[0]['text_emb'].shape)"
      ],
      "execution_count": 94,
      "outputs": [
        {
          "output_type": "stream",
          "text": [
            "(1, 1024)\n",
            "(1, 1024)\n"
          ],
          "name": "stdout"
        }
      ]
    },
    {
      "cell_type": "code",
      "metadata": {
        "id": "LEXpo8F9bbDU",
        "colab_type": "code",
        "colab": {}
      },
      "source": [
        "X_train = train_cutted[['text_mean_tokens_length', 'text_sents_count', 'text_caps_ratio', 'text_nonalpha_ratio', 'text_numeric_ratio', 'text_has_link', 'text_longest_word', 'text_complexity', 'text_rage_punctuation_length', 'text_longest_same_char']].values\n",
        "Y_train = train_cutted['toxic']\n",
        "X_val = val_cutted[['text_mean_tokens_length', 'text_sents_count', 'text_caps_ratio', 'text_nonalpha_ratio', 'text_numeric_ratio', 'text_has_link', 'text_longest_word', 'text_complexity', 'text_rage_punctuation_length', 'text_longest_same_char']].values\n",
        "Y_val = val_cutted['toxic']\n",
        "X_train_emb = train_cutted['text_emb'].values\n",
        "X_val_emb = val_cutted['text_emb'].values"
      ],
      "execution_count": 47,
      "outputs": []
    },
    {
      "cell_type": "code",
      "metadata": {
        "id": "cDHBOggujxfg",
        "colab_type": "code",
        "colab": {
          "base_uri": "https://localhost:8080/",
          "height": 85
        },
        "outputId": "0b99e48a-cb61-4814-9edb-776666c75f95"
      },
      "source": [
        "print(X_train[0].shape)\n",
        "print(X_val_emb[0].shape)\n",
        "print(X_train_emb[0].shape)\n",
        "print(X_val[0].shape)"
      ],
      "execution_count": 283,
      "outputs": [
        {
          "output_type": "stream",
          "text": [
            "(10,)\n",
            "(1, 1024)\n",
            "(1, 1024)\n",
            "(10,)\n"
          ],
          "name": "stdout"
        }
      ]
    },
    {
      "cell_type": "code",
      "metadata": {
        "id": "MtU5cG4g3Nnt",
        "colab_type": "code",
        "colab": {}
      },
      "source": [
        "X_train_emb = []\n",
        "for _, row in train_cutted.iterrows():\n",
        "  val = row['text_emb']\n",
        "  X_train_emb.append(val.reshape(1024))\n",
        "X_train_emb = np.array(X_train_emb)\n",
        "\n",
        "X_val_emb = []\n",
        "for _, row in val_cutted.iterrows():\n",
        "  val = row['text_emb']\n",
        "  X_val_emb.append(val.reshape(1024))\n",
        "X_val_emb = np.array(X_val_emb)"
      ],
      "execution_count": 284,
      "outputs": []
    },
    {
      "cell_type": "code",
      "metadata": {
        "id": "XT878mJ5rr3Q",
        "colab_type": "code",
        "colab": {
          "base_uri": "https://localhost:8080/",
          "height": 153
        },
        "outputId": "f4717f62-255d-4073-c546-5fb60baf6387"
      },
      "source": [
        "print(X_train[0], X_train[0].shape, type(X_train[0]), X_train.shape, type(X_train))\n",
        "print(X_val[0], X_val[0].shape, type(X_val[0]), X_val.shape, type(X_val))\n",
        "print(X_train_emb[0], X_train_emb[0].shape, type(X_train_emb[0]), X_train_emb.shape, type(X_train_emb))\n",
        "print(X_val_emb[0], X_val_emb[0].shape, type(X_val_emb[0]), X_val_emb.shape, type(X_val_emb))"
      ],
      "execution_count": 285,
      "outputs": [
        {
          "output_type": "stream",
          "text": [
            "[ 4.625       1.          0.84090909  0.          0.          0.\n",
            " 10.          0.          0.          2.        ] (10,) <class 'numpy.ndarray'> (2234, 10) <class 'numpy.ndarray'>\n",
            "[ 4.75        4.          0.03012048  0.14457831  0.01204819  0.\n",
            " 10.          2.          1.          1.        ] (10,) <class 'numpy.ndarray'> (798, 10) <class 'numpy.ndarray'>\n",
            "[ 5.74728101e-03  3.30164767e-05  4.73328587e-03 ... -1.45058997e-03\n",
            "  2.31614839e-02  1.36543624e-02] (1024,) <class 'numpy.ndarray'> (2234, 1024) <class 'numpy.ndarray'>\n",
            "[ 0.01698663  0.00306405 -0.00117845 ...  0.0068103   0.01594133\n",
            "  0.03619507] (1024,) <class 'numpy.ndarray'> (798, 1024) <class 'numpy.ndarray'>\n"
          ],
          "name": "stdout"
        }
      ]
    },
    {
      "cell_type": "code",
      "metadata": {
        "id": "n-2Fvcd3bsh2",
        "colab_type": "code",
        "colab": {}
      },
      "source": [
        "inputs = tf.keras.layers.Input(shape=(10,))\n",
        "dense = tf.keras.layers.Dense(10, activation='sigmoid')(inputs)\n",
        "drop = tf.keras.layers.Dropout(0.1)(dense)\n",
        "\n",
        "outputs = tf.keras.layers.Dense(1, activation='sigmoid')(dense)\n",
        "simple_keras_model = tf.keras.Model(inputs=inputs, outputs=outputs)\n",
        "optimizer = tf.keras.optimizers.Adam(learning_rate=0.001)\n",
        "simple_keras_model.compile(optimizer=optimizer,\n",
        "              loss='binary_crossentropy',\n",
        "              metrics=[keras.metrics.AUC(name='auc')])\n",
        "simple_keras_model.fit(X_train, Y_train, \n",
        "            validation_data=(X_val, Y_val),\n",
        "            batch_size=1024,\n",
        "            epochs=1000,\n",
        "            verbose=False,\n",
        "            callbacks=[early_stop, checkpoint])\n",
        "plt.plot(simple_keras_model.history.history['auc'])\n",
        "plt.plot(simple_keras_model.history.history['val_auc'])\n",
        "plt.title('model auc')\n",
        "plt.ylabel('auc')\n",
        "plt.xlabel('epoch')\n",
        "plt.legend(['train', 'val'], loc='upper left')\n",
        "plt.show()"
      ],
      "execution_count": null,
      "outputs": []
    },
    {
      "cell_type": "markdown",
      "metadata": {
        "id": "l2AnP2D1Josu",
        "colab_type": "text"
      },
      "source": [
        "Auc на val не так сильно упал (до 0.6425), радуемся. \n",
        "Теперь попробуем учитывать полученные нами эмбеддинги"
      ]
    },
    {
      "cell_type": "code",
      "metadata": {
        "id": "vRRpOJFxJ2gh",
        "colab_type": "code",
        "colab": {
          "base_uri": "https://localhost:8080/",
          "height": 1000
        },
        "outputId": "0742b9a1-7ad7-4b38-9b31-d0e3167ab45e"
      },
      "source": [
        "inputs_params = tf.keras.layers.Input(shape=(10,), name=\"input_params\")\n",
        "dense_params = tf.keras.layers.Dense(10, activation='sigmoid', name=\"dense_params\")(inputs_params)\n",
        "drop_params = tf.keras.layers.Dropout(0.1, name=\"drop_params\")(dense_params)\n",
        "\n",
        "inputs_embs = tf.keras.layers.Input(shape=(1024,), name=\"input_emb\")\n",
        "drop_emb = tf.keras.layers.Dropout(0.1, name=\"drop_emb\")(inputs_embs)\n",
        "\n",
        "conc = tf.keras.layers.concatenate([drop_params, drop_emb], name=\"concat\")\n",
        "\n",
        "dense = tf.keras.layers.Dense(1, name=\"dense\")(conc)\n",
        "outputs = tf.keras.layers.Activation('relu', name=\"activation\")(dense)\n",
        "simple_keras_model = tf.keras.Model(inputs=[inputs_params, inputs_embs], outputs=outputs, name=\"simple_model\")\n",
        "optimizer = tf.keras.optimizers.Adam(learning_rate=0.001)\n",
        "simple_keras_model.compile(optimizer=optimizer,\n",
        "              loss='binary_crossentropy',\n",
        "              metrics=[keras.metrics.AUC(name='auc')])\n",
        "simple_keras_model.fit([X_train,X_train_emb], Y_train, \n",
        "            validation_data=([X_val,X_val_emb], Y_val),\n",
        "            batch_size=1024,\n",
        "            epochs=1000,\n",
        "            verbose=False,\n",
        "            callbacks=[early_stop, checkpoint])\n",
        "plt.plot(simple_keras_model.history.history['auc'])\n",
        "plt.plot(simple_keras_model.history.history['val_auc'])\n",
        "plt.title('model auc')\n",
        "plt.ylabel('auc')\n",
        "plt.xlabel('epoch')\n",
        "plt.legend(['train', 'val'], loc='upper left')\n",
        "plt.show()"
      ],
      "execution_count": 338,
      "outputs": [
        {
          "output_type": "stream",
          "text": [
            "\n",
            "Epoch 00001: val_auc improved from -inf to 0.57028, saving model to simple_keras_model.weights\n",
            "\n",
            "Epoch 00002: val_auc improved from 0.57028 to 0.58273, saving model to simple_keras_model.weights\n",
            "\n",
            "Epoch 00003: val_auc improved from 0.58273 to 0.59811, saving model to simple_keras_model.weights\n",
            "\n",
            "Epoch 00004: val_auc improved from 0.59811 to 0.61597, saving model to simple_keras_model.weights\n",
            "\n",
            "Epoch 00005: val_auc improved from 0.61597 to 0.63349, saving model to simple_keras_model.weights\n",
            "\n",
            "Epoch 00006: val_auc improved from 0.63349 to 0.64444, saving model to simple_keras_model.weights\n",
            "\n",
            "Epoch 00007: val_auc improved from 0.64444 to 0.65815, saving model to simple_keras_model.weights\n",
            "\n",
            "Epoch 00008: val_auc improved from 0.65815 to 0.66917, saving model to simple_keras_model.weights\n",
            "\n",
            "Epoch 00009: val_auc improved from 0.66917 to 0.67972, saving model to simple_keras_model.weights\n",
            "\n",
            "Epoch 00010: val_auc improved from 0.67972 to 0.68923, saving model to simple_keras_model.weights\n",
            "\n",
            "Epoch 00011: val_auc improved from 0.68923 to 0.69681, saving model to simple_keras_model.weights\n",
            "\n",
            "Epoch 00012: val_auc improved from 0.69681 to 0.70781, saving model to simple_keras_model.weights\n",
            "\n",
            "Epoch 00013: val_auc improved from 0.70781 to 0.71390, saving model to simple_keras_model.weights\n",
            "\n",
            "Epoch 00014: val_auc improved from 0.71390 to 0.72334, saving model to simple_keras_model.weights\n",
            "\n",
            "Epoch 00015: val_auc improved from 0.72334 to 0.72965, saving model to simple_keras_model.weights\n",
            "\n",
            "Epoch 00016: val_auc improved from 0.72965 to 0.73594, saving model to simple_keras_model.weights\n",
            "\n",
            "Epoch 00017: val_auc improved from 0.73594 to 0.74280, saving model to simple_keras_model.weights\n",
            "\n",
            "Epoch 00018: val_auc improved from 0.74280 to 0.74774, saving model to simple_keras_model.weights\n",
            "\n",
            "Epoch 00019: val_auc improved from 0.74774 to 0.75149, saving model to simple_keras_model.weights\n",
            "\n",
            "Epoch 00020: val_auc improved from 0.75149 to 0.75928, saving model to simple_keras_model.weights\n",
            "\n",
            "Epoch 00021: val_auc improved from 0.75928 to 0.76453, saving model to simple_keras_model.weights\n",
            "\n",
            "Epoch 00022: val_auc improved from 0.76453 to 0.77133, saving model to simple_keras_model.weights\n",
            "\n",
            "Epoch 00023: val_auc improved from 0.77133 to 0.77281, saving model to simple_keras_model.weights\n",
            "\n",
            "Epoch 00024: val_auc improved from 0.77281 to 0.77643, saving model to simple_keras_model.weights\n",
            "\n",
            "Epoch 00025: val_auc improved from 0.77643 to 0.78119, saving model to simple_keras_model.weights\n",
            "\n",
            "Epoch 00026: val_auc improved from 0.78119 to 0.78505, saving model to simple_keras_model.weights\n",
            "\n",
            "Epoch 00027: val_auc improved from 0.78505 to 0.78848, saving model to simple_keras_model.weights\n",
            "\n",
            "Epoch 00028: val_auc improved from 0.78848 to 0.79213, saving model to simple_keras_model.weights\n",
            "\n",
            "Epoch 00029: val_auc improved from 0.79213 to 0.79508, saving model to simple_keras_model.weights\n",
            "\n",
            "Epoch 00030: val_auc improved from 0.79508 to 0.79850, saving model to simple_keras_model.weights\n",
            "\n",
            "Epoch 00031: val_auc improved from 0.79850 to 0.80064, saving model to simple_keras_model.weights\n",
            "\n",
            "Epoch 00032: val_auc improved from 0.80064 to 0.80148, saving model to simple_keras_model.weights\n",
            "\n",
            "Epoch 00033: val_auc improved from 0.80148 to 0.80596, saving model to simple_keras_model.weights\n",
            "\n",
            "Epoch 00034: val_auc improved from 0.80596 to 0.80615, saving model to simple_keras_model.weights\n",
            "\n",
            "Epoch 00035: val_auc improved from 0.80615 to 0.81011, saving model to simple_keras_model.weights\n",
            "\n",
            "Epoch 00036: val_auc improved from 0.81011 to 0.81203, saving model to simple_keras_model.weights\n",
            "\n",
            "Epoch 00037: val_auc improved from 0.81203 to 0.81339, saving model to simple_keras_model.weights\n",
            "\n",
            "Epoch 00038: val_auc improved from 0.81339 to 0.81491, saving model to simple_keras_model.weights\n",
            "\n",
            "Epoch 00039: val_auc improved from 0.81491 to 0.81702, saving model to simple_keras_model.weights\n",
            "\n",
            "Epoch 00040: val_auc improved from 0.81702 to 0.81833, saving model to simple_keras_model.weights\n",
            "\n",
            "Epoch 00041: val_auc improved from 0.81833 to 0.82038, saving model to simple_keras_model.weights\n",
            "\n",
            "Epoch 00042: val_auc improved from 0.82038 to 0.82088, saving model to simple_keras_model.weights\n",
            "\n",
            "Epoch 00043: val_auc did not improve from 0.82088\n",
            "\n",
            "Epoch 00044: val_auc improved from 0.82088 to 0.82218, saving model to simple_keras_model.weights\n",
            "\n",
            "Epoch 00045: val_auc improved from 0.82218 to 0.82457, saving model to simple_keras_model.weights\n",
            "\n",
            "Epoch 00046: val_auc improved from 0.82457 to 0.82529, saving model to simple_keras_model.weights\n",
            "\n",
            "Epoch 00047: val_auc improved from 0.82529 to 0.82555, saving model to simple_keras_model.weights\n",
            "\n",
            "Epoch 00048: val_auc improved from 0.82555 to 0.82657, saving model to simple_keras_model.weights\n",
            "\n",
            "Epoch 00049: val_auc improved from 0.82657 to 0.82765, saving model to simple_keras_model.weights\n",
            "\n",
            "Epoch 00050: val_auc improved from 0.82765 to 0.82809, saving model to simple_keras_model.weights\n",
            "\n",
            "Epoch 00051: val_auc improved from 0.82809 to 0.82991, saving model to simple_keras_model.weights\n",
            "\n",
            "Epoch 00052: val_auc did not improve from 0.82991\n",
            "\n",
            "Epoch 00053: val_auc improved from 0.82991 to 0.83254, saving model to simple_keras_model.weights\n",
            "\n",
            "Epoch 00054: val_auc improved from 0.83254 to 0.83328, saving model to simple_keras_model.weights\n",
            "\n",
            "Epoch 00055: val_auc improved from 0.83328 to 0.83447, saving model to simple_keras_model.weights\n",
            "\n",
            "Epoch 00056: val_auc improved from 0.83447 to 0.83517, saving model to simple_keras_model.weights\n",
            "\n",
            "Epoch 00057: val_auc improved from 0.83517 to 0.83644, saving model to simple_keras_model.weights\n",
            "\n",
            "Epoch 00058: val_auc improved from 0.83644 to 0.83790, saving model to simple_keras_model.weights\n",
            "\n",
            "Epoch 00059: val_auc improved from 0.83790 to 0.83832, saving model to simple_keras_model.weights\n",
            "\n",
            "Epoch 00060: val_auc improved from 0.83832 to 0.83870, saving model to simple_keras_model.weights\n",
            "\n",
            "Epoch 00061: val_auc improved from 0.83870 to 0.83883, saving model to simple_keras_model.weights\n",
            "\n",
            "Epoch 00062: val_auc improved from 0.83883 to 0.84080, saving model to simple_keras_model.weights\n",
            "\n",
            "Epoch 00063: val_auc improved from 0.84080 to 0.84250, saving model to simple_keras_model.weights\n",
            "\n",
            "Epoch 00064: val_auc did not improve from 0.84250\n",
            "\n",
            "Epoch 00065: val_auc improved from 0.84250 to 0.84262, saving model to simple_keras_model.weights\n",
            "\n",
            "Epoch 00066: val_auc improved from 0.84262 to 0.84287, saving model to simple_keras_model.weights\n",
            "\n",
            "Epoch 00067: val_auc improved from 0.84287 to 0.84397, saving model to simple_keras_model.weights\n",
            "\n",
            "Epoch 00068: val_auc improved from 0.84397 to 0.84555, saving model to simple_keras_model.weights\n",
            "\n",
            "Epoch 00069: val_auc improved from 0.84555 to 0.84624, saving model to simple_keras_model.weights\n",
            "\n",
            "Epoch 00070: val_auc did not improve from 0.84624\n",
            "\n",
            "Epoch 00071: val_auc improved from 0.84624 to 0.84687, saving model to simple_keras_model.weights\n",
            "\n",
            "Epoch 00072: val_auc did not improve from 0.84687\n",
            "\n",
            "Epoch 00073: val_auc improved from 0.84687 to 0.84760, saving model to simple_keras_model.weights\n",
            "\n",
            "Epoch 00074: val_auc improved from 0.84760 to 0.84846, saving model to simple_keras_model.weights\n",
            "\n",
            "Epoch 00075: val_auc improved from 0.84846 to 0.84911, saving model to simple_keras_model.weights\n",
            "\n",
            "Epoch 00076: val_auc improved from 0.84911 to 0.84951, saving model to simple_keras_model.weights\n",
            "\n",
            "Epoch 00077: val_auc improved from 0.84951 to 0.85003, saving model to simple_keras_model.weights\n",
            "\n",
            "Epoch 00078: val_auc did not improve from 0.85003\n",
            "\n",
            "Epoch 00079: val_auc improved from 0.85003 to 0.85113, saving model to simple_keras_model.weights\n",
            "\n",
            "Epoch 00080: val_auc improved from 0.85113 to 0.85156, saving model to simple_keras_model.weights\n",
            "\n",
            "Epoch 00081: val_auc improved from 0.85156 to 0.85301, saving model to simple_keras_model.weights\n",
            "\n",
            "Epoch 00082: val_auc did not improve from 0.85301\n",
            "\n",
            "Epoch 00083: val_auc improved from 0.85301 to 0.85408, saving model to simple_keras_model.weights\n",
            "\n",
            "Epoch 00084: val_auc improved from 0.85408 to 0.85436, saving model to simple_keras_model.weights\n",
            "\n",
            "Epoch 00085: val_auc did not improve from 0.85436\n",
            "\n",
            "Epoch 00086: val_auc did not improve from 0.85436\n",
            "\n",
            "Epoch 00087: val_auc improved from 0.85436 to 0.85448, saving model to simple_keras_model.weights\n",
            "\n",
            "Epoch 00088: val_auc improved from 0.85448 to 0.85584, saving model to simple_keras_model.weights\n",
            "\n",
            "Epoch 00089: val_auc improved from 0.85584 to 0.85674, saving model to simple_keras_model.weights\n",
            "\n",
            "Epoch 00090: val_auc did not improve from 0.85674\n",
            "\n",
            "Epoch 00091: val_auc did not improve from 0.85674\n",
            "\n",
            "Epoch 00092: val_auc improved from 0.85674 to 0.85701, saving model to simple_keras_model.weights\n",
            "\n",
            "Epoch 00093: val_auc did not improve from 0.85701\n",
            "\n",
            "Epoch 00094: val_auc improved from 0.85701 to 0.85772, saving model to simple_keras_model.weights\n",
            "Epoch 00094: early stopping\n"
          ],
          "name": "stdout"
        },
        {
          "output_type": "display_data",
          "data": {
            "image/png": "[encoded data removed]",
            "text/plain": [
              "<Figure size 432x288 with 1 Axes>"
            ]
          },
          "metadata": {
            "tags": [],
            "needs_background": "light"
          }
        }
      ]
    },
    {
      "cell_type": "code",
      "metadata": {
        "id": "IqI4qb1j93ke",
        "colab_type": "code",
        "colab": {
          "base_uri": "https://localhost:8080/",
          "height": 1000
        },
        "outputId": "0e9a9b62-2cf2-470b-cae4-dc00ff85e2f9"
      },
      "source": [
        "inputs_params = tf.keras.layers.Input(shape=(10,), name=\"input_params\")\n",
        "dense_params = tf.keras.layers.Dense(10, activation='sigmoid', name=\"dense_params\")(inputs_params)\n",
        "\n",
        "inputs_embs = tf.keras.layers.Input(shape=(1024,), name=\"input_emb\")\n",
        "\n",
        "conc = tf.keras.layers.concatenate([dense_params, inputs_embs], name=\"concat\")\n",
        "\n",
        "dense = tf.keras.layers.Dense(1, name=\"dense\")(conc)\n",
        "outputs = tf.keras.layers.Activation('relu', name=\"activation\")(dense)\n",
        "simple_keras_model = tf.keras.Model(inputs=[inputs_params, inputs_embs], outputs=outputs, name=\"simple_model\")\n",
        "optimizer = tf.keras.optimizers.Adam(learning_rate=0.001)\n",
        "simple_keras_model.compile(optimizer=optimizer,\n",
        "              loss='binary_crossentropy',\n",
        "              metrics=[keras.metrics.AUC(name='auc')])\n",
        "simple_keras_model.fit([X_train,X_train_emb], Y_train, \n",
        "            validation_data=([X_val,X_val_emb], Y_val),\n",
        "            batch_size=1024,\n",
        "            epochs=1000,\n",
        "            verbose=False,\n",
        "            callbacks=[early_stop, checkpoint])\n",
        "plt.plot(simple_keras_model.history.history['auc'])\n",
        "plt.plot(simple_keras_model.history.history['val_auc'])\n",
        "plt.title('model auc')\n",
        "plt.ylabel('auc')\n",
        "plt.xlabel('epoch')\n",
        "plt.legend(['train', 'val'], loc='upper left')\n",
        "plt.show()"
      ],
      "execution_count": 342,
      "outputs": [
        {
          "output_type": "stream",
          "text": [
            "\n",
            "Epoch 00001: val_auc did not improve from 0.85772\n",
            "\n",
            "Epoch 00002: val_auc did not improve from 0.85772\n",
            "\n",
            "Epoch 00003: val_auc did not improve from 0.85772\n",
            "\n",
            "Epoch 00004: val_auc did not improve from 0.85772\n",
            "\n",
            "Epoch 00005: val_auc did not improve from 0.85772\n",
            "\n",
            "Epoch 00006: val_auc did not improve from 0.85772\n",
            "\n",
            "Epoch 00007: val_auc did not improve from 0.85772\n",
            "\n",
            "Epoch 00008: val_auc did not improve from 0.85772\n",
            "\n",
            "Epoch 00009: val_auc did not improve from 0.85772\n",
            "\n",
            "Epoch 00010: val_auc did not improve from 0.85772\n",
            "\n",
            "Epoch 00011: val_auc did not improve from 0.85772\n",
            "\n",
            "Epoch 00012: val_auc did not improve from 0.85772\n",
            "\n",
            "Epoch 00013: val_auc did not improve from 0.85772\n",
            "\n",
            "Epoch 00014: val_auc did not improve from 0.85772\n",
            "\n",
            "Epoch 00015: val_auc did not improve from 0.85772\n",
            "\n",
            "Epoch 00016: val_auc did not improve from 0.85772\n",
            "\n",
            "Epoch 00017: val_auc did not improve from 0.85772\n",
            "\n",
            "Epoch 00018: val_auc did not improve from 0.85772\n",
            "\n",
            "Epoch 00019: val_auc did not improve from 0.85772\n",
            "\n",
            "Epoch 00020: val_auc did not improve from 0.85772\n",
            "\n",
            "Epoch 00021: val_auc did not improve from 0.85772\n",
            "\n",
            "Epoch 00022: val_auc did not improve from 0.85772\n",
            "\n",
            "Epoch 00023: val_auc did not improve from 0.85772\n",
            "\n",
            "Epoch 00024: val_auc did not improve from 0.85772\n",
            "\n",
            "Epoch 00025: val_auc did not improve from 0.85772\n",
            "\n",
            "Epoch 00026: val_auc did not improve from 0.85772\n",
            "\n",
            "Epoch 00027: val_auc did not improve from 0.85772\n",
            "\n",
            "Epoch 00028: val_auc did not improve from 0.85772\n",
            "\n",
            "Epoch 00029: val_auc did not improve from 0.85772\n",
            "\n",
            "Epoch 00030: val_auc did not improve from 0.85772\n",
            "\n",
            "Epoch 00031: val_auc did not improve from 0.85772\n",
            "\n",
            "Epoch 00032: val_auc did not improve from 0.85772\n",
            "\n",
            "Epoch 00033: val_auc did not improve from 0.85772\n",
            "\n",
            "Epoch 00034: val_auc did not improve from 0.85772\n",
            "\n",
            "Epoch 00035: val_auc did not improve from 0.85772\n",
            "\n",
            "Epoch 00036: val_auc did not improve from 0.85772\n",
            "\n",
            "Epoch 00037: val_auc did not improve from 0.85772\n",
            "\n",
            "Epoch 00038: val_auc did not improve from 0.85772\n",
            "\n",
            "Epoch 00039: val_auc did not improve from 0.85772\n",
            "\n",
            "Epoch 00040: val_auc did not improve from 0.85772\n",
            "\n",
            "Epoch 00041: val_auc did not improve from 0.85772\n",
            "\n",
            "Epoch 00042: val_auc did not improve from 0.85772\n",
            "\n",
            "Epoch 00043: val_auc did not improve from 0.85772\n",
            "\n",
            "Epoch 00044: val_auc did not improve from 0.85772\n",
            "\n",
            "Epoch 00045: val_auc did not improve from 0.85772\n",
            "\n",
            "Epoch 00046: val_auc did not improve from 0.85772\n",
            "\n",
            "Epoch 00047: val_auc did not improve from 0.85772\n",
            "\n",
            "Epoch 00048: val_auc did not improve from 0.85772\n",
            "\n",
            "Epoch 00049: val_auc did not improve from 0.85772\n",
            "\n",
            "Epoch 00050: val_auc did not improve from 0.85772\n",
            "\n",
            "Epoch 00051: val_auc did not improve from 0.85772\n",
            "\n",
            "Epoch 00052: val_auc did not improve from 0.85772\n",
            "\n",
            "Epoch 00053: val_auc did not improve from 0.85772\n",
            "\n",
            "Epoch 00054: val_auc improved from 0.85772 to 0.85777, saving model to simple_keras_model.weights\n",
            "\n",
            "Epoch 00055: val_auc did not improve from 0.85777\n",
            "\n",
            "Epoch 00056: val_auc improved from 0.85777 to 0.85935, saving model to simple_keras_model.weights\n",
            "\n",
            "Epoch 00057: val_auc improved from 0.85935 to 0.85996, saving model to simple_keras_model.weights\n",
            "\n",
            "Epoch 00058: val_auc did not improve from 0.85996\n",
            "\n",
            "Epoch 00059: val_auc improved from 0.85996 to 0.86107, saving model to simple_keras_model.weights\n",
            "\n",
            "Epoch 00060: val_auc improved from 0.86107 to 0.86111, saving model to simple_keras_model.weights\n",
            "\n",
            "Epoch 00061: val_auc improved from 0.86111 to 0.86212, saving model to simple_keras_model.weights\n",
            "\n",
            "Epoch 00062: val_auc improved from 0.86212 to 0.86235, saving model to simple_keras_model.weights\n",
            "\n",
            "Epoch 00063: val_auc improved from 0.86235 to 0.86313, saving model to simple_keras_model.weights\n",
            "\n",
            "Epoch 00064: val_auc improved from 0.86313 to 0.86322, saving model to simple_keras_model.weights\n",
            "\n",
            "Epoch 00065: val_auc did not improve from 0.86322\n",
            "\n",
            "Epoch 00066: val_auc improved from 0.86322 to 0.86421, saving model to simple_keras_model.weights\n",
            "\n",
            "Epoch 00067: val_auc improved from 0.86421 to 0.86444, saving model to simple_keras_model.weights\n",
            "\n",
            "Epoch 00068: val_auc improved from 0.86444 to 0.86465, saving model to simple_keras_model.weights\n",
            "\n",
            "Epoch 00069: val_auc did not improve from 0.86465\n",
            "\n",
            "Epoch 00070: val_auc did not improve from 0.86465\n",
            "\n",
            "Epoch 00071: val_auc did not improve from 0.86465\n",
            "Epoch 00071: early stopping\n"
          ],
          "name": "stdout"
        },
        {
          "output_type": "display_data",
          "data": {
            "image/png": "[encoded data removed]",
            "text/plain": [
              "<Figure size 432x288 with 1 Axes>"
            ]
          },
          "metadata": {
            "tags": [],
            "needs_background": "light"
          }
        }
      ]
    },
    {
      "cell_type": "code",
      "metadata": {
        "id": "w5-fP08C-SMt",
        "colab_type": "code",
        "colab": {
          "base_uri": "https://localhost:8080/",
          "height": 1000
        },
        "outputId": "2a27fc6b-d67c-4501-cfb7-52348653e42c"
      },
      "source": [
        "inputs_params = tf.keras.layers.Input(shape=(10,), name=\"input_params\")\n",
        "dense_params = tf.keras.layers.Dense(10, activation='sigmoid', name=\"dense_params\")(inputs_params)\n",
        "\n",
        "inputs_embs = tf.keras.layers.Input(shape=(1024,), name=\"input_emb\")\n",
        "dense_embs = tf.keras.layers.Dense(500, activation=\"relu\", name=\"dense_embs\")(inputs_embs)\n",
        "\n",
        "conc = tf.keras.layers.concatenate([dense_params, dense_embs], name=\"concat\")\n",
        "\n",
        "dense = tf.keras.layers.Dense(1, name=\"dense\")(conc)\n",
        "outputs = tf.keras.layers.Activation('relu', name=\"activation\")(dense)\n",
        "simple_keras_model = tf.keras.Model(inputs=[inputs_params, inputs_embs], outputs=outputs, name=\"simple_model\")\n",
        "optimizer = tf.keras.optimizers.Adam(learning_rate=0.001)\n",
        "simple_keras_model.compile(optimizer=optimizer,\n",
        "              loss='binary_crossentropy',\n",
        "              metrics=[keras.metrics.AUC(name='auc')])\n",
        "simple_keras_model.fit([X_train,X_train_emb], Y_train, \n",
        "            validation_data=([X_val,X_val_emb], Y_val),\n",
        "            batch_size=3000,\n",
        "            epochs=200,\n",
        "            verbose=False,\n",
        "            callbacks=[early_stop, checkpoint])\n",
        "plt.plot(simple_keras_model.history.history['auc'])\n",
        "plt.plot(simple_keras_model.history.history['val_auc'])\n",
        "plt.title('model auc')\n",
        "plt.ylabel('auc')\n",
        "plt.xlabel('epoch')\n",
        "plt.legend(['train', 'val'], loc='upper left')\n",
        "plt.show()"
      ],
      "execution_count": 380,
      "outputs": [
        {
          "output_type": "stream",
          "text": [
            "\n",
            "Epoch 00001: val_auc did not improve from 0.88067\n",
            "\n",
            "Epoch 00002: val_auc did not improve from 0.88067\n",
            "\n",
            "Epoch 00003: val_auc did not improve from 0.88067\n",
            "\n",
            "Epoch 00004: val_auc did not improve from 0.88067\n",
            "\n",
            "Epoch 00005: val_auc did not improve from 0.88067\n",
            "\n",
            "Epoch 00006: val_auc did not improve from 0.88067\n",
            "\n",
            "Epoch 00007: val_auc did not improve from 0.88067\n",
            "\n",
            "Epoch 00008: val_auc did not improve from 0.88067\n",
            "\n",
            "Epoch 00009: val_auc did not improve from 0.88067\n",
            "\n",
            "Epoch 00010: val_auc did not improve from 0.88067\n",
            "\n",
            "Epoch 00011: val_auc did not improve from 0.88067\n",
            "\n",
            "Epoch 00012: val_auc did not improve from 0.88067\n",
            "\n",
            "Epoch 00013: val_auc did not improve from 0.88067\n",
            "\n",
            "Epoch 00014: val_auc did not improve from 0.88067\n",
            "\n",
            "Epoch 00015: val_auc did not improve from 0.88067\n",
            "\n",
            "Epoch 00016: val_auc did not improve from 0.88067\n",
            "\n",
            "Epoch 00017: val_auc did not improve from 0.88067\n",
            "\n",
            "Epoch 00018: val_auc did not improve from 0.88067\n",
            "\n",
            "Epoch 00019: val_auc did not improve from 0.88067\n",
            "\n",
            "Epoch 00020: val_auc did not improve from 0.88067\n",
            "\n",
            "Epoch 00021: val_auc improved from 0.88067 to 0.88172, saving model to simple_keras_model.weights\n",
            "\n",
            "Epoch 00022: val_auc did not improve from 0.88172\n",
            "\n",
            "Epoch 00023: val_auc did not improve from 0.88172\n",
            "\n",
            "Epoch 00024: val_auc did not improve from 0.88172\n",
            "\n",
            "Epoch 00025: val_auc did not improve from 0.88172\n",
            "\n",
            "Epoch 00026: val_auc did not improve from 0.88172\n",
            "\n",
            "Epoch 00027: val_auc did not improve from 0.88172\n",
            "\n",
            "Epoch 00028: val_auc did not improve from 0.88172\n",
            "\n",
            "Epoch 00029: val_auc improved from 0.88172 to 0.88204, saving model to simple_keras_model.weights\n",
            "\n",
            "Epoch 00030: val_auc improved from 0.88204 to 0.88323, saving model to simple_keras_model.weights\n",
            "\n",
            "Epoch 00031: val_auc improved from 0.88323 to 0.88481, saving model to simple_keras_model.weights\n",
            "\n",
            "Epoch 00032: val_auc did not improve from 0.88481\n",
            "\n",
            "Epoch 00033: val_auc did not improve from 0.88481\n",
            "\n",
            "Epoch 00034: val_auc did not improve from 0.88481\n",
            "\n",
            "Epoch 00035: val_auc did not improve from 0.88481\n",
            "\n",
            "Epoch 00036: val_auc did not improve from 0.88481\n",
            "\n",
            "Epoch 00037: val_auc did not improve from 0.88481\n",
            "\n",
            "Epoch 00038: val_auc did not improve from 0.88481\n",
            "\n",
            "Epoch 00039: val_auc improved from 0.88481 to 0.88762, saving model to simple_keras_model.weights\n",
            "\n",
            "Epoch 00040: val_auc did not improve from 0.88762\n",
            "Epoch 00040: early stopping\n"
          ],
          "name": "stdout"
        },
        {
          "output_type": "display_data",
          "data": {
            "image/png": "[encoded data removed]",
            "text/plain": [
              "<Figure size 432x288 with 1 Axes>"
            ]
          },
          "metadata": {
            "tags": [],
            "needs_background": "light"
          }
        }
      ]
    },
    {
      "cell_type": "markdown",
      "metadata": {
        "id": "1QFGgMZpB-DS",
        "colab_type": "text"
      },
      "source": [
        "Лучший результат - 0.88762 на val"
      ]
    },
    {
      "cell_type": "markdown",
      "metadata": {
        "id": "ZJhI1ofn0_B2",
        "colab_type": "text"
      },
      "source": [
        "# Использование предобучнной модели из huggingface для обучения классификатора с оценкой на validation.csv - 3 балла"
      ]
    },
    {
      "cell_type": "code",
      "metadata": {
        "id": "-KvZUaPKaQDn",
        "colab_type": "code",
        "colab": {}
      },
      "source": [
        "tokenizer = DistilBertTokenizer.from_pretrained('distilbert-base-multilingual-cased')\n",
        "model_bert = AutoModel.from_pretrained('distilbert-base-multilingual-cased').to(torch.device('cuda'))"
      ],
      "execution_count": 48,
      "outputs": []
    },
    {
      "cell_type": "code",
      "metadata": {
        "id": "mMaXd5Y7hKUB",
        "colab_type": "code",
        "colab": {}
      },
      "source": [
        "def get_bert_tokens(texts):\n",
        "  texts_ids = [torch.tensor(tokenizer.encode(t, add_special_tokens=True, max_length=300, pad_to_max_length=True)) for t in texts]\n",
        "  texts_ids = torch.nn.utils.rnn.pad_sequence(texts_ids, batch_first=True, padding_value=tokenizer.pad_token_id)\n",
        "  return texts_ids"
      ],
      "execution_count": 49,
      "outputs": []
    },
    {
      "cell_type": "code",
      "metadata": {
        "id": "YH-jaQHXg3gy",
        "colab_type": "code",
        "colab": {}
      },
      "source": [
        "train_texts = [row['text_hard_normalized'] for _, row in train_cutted.iterrows()]\n",
        "val_texts = [row['text_hard_normalized'] for _, row in val_cutted.iterrows()]"
      ],
      "execution_count": 50,
      "outputs": []
    },
    {
      "cell_type": "code",
      "metadata": {
        "id": "1k-JSCZ_gzh0",
        "colab_type": "code",
        "colab": {}
      },
      "source": [
        "train_embs_bert = np.zeros((len(train_texts), 768))\n",
        "batch = []\n",
        "inds = []\n",
        "for i, text in enumerate(train_texts):\n",
        "  batch.append(text)\n",
        "  inds.append(i)\n",
        "  if len(batch) == 32:\n",
        "    tokens = get_bert_tokens(batch).to(torch.device('cuda'))\n",
        "    mask = (tokens != tokenizer.pad_token_id).long().to(torch.device('cuda'))\n",
        "    embs = model_bert(tokens, attention_mask=mask)\n",
        "    train_embs_bert[inds] = embs[0][:, 0].cpu().detach().numpy()\n",
        "    batch = []\n",
        "    inds = []\n",
        "\n",
        "train_embs_bert = np.array(train_embs_bert)"
      ],
      "execution_count": 51,
      "outputs": []
    },
    {
      "cell_type": "code",
      "metadata": {
        "id": "IO78hlOKhsUr",
        "colab_type": "code",
        "colab": {}
      },
      "source": [
        "val_embs_bert = np.zeros((len(val_texts), 768))\n",
        "batch = []\n",
        "inds = []\n",
        "for i, text in enumerate(val_texts):\n",
        "  batch.append(text)\n",
        "  inds.append(i)\n",
        "  if len(batch) == 32:\n",
        "    tokens = get_bert_tokens(batch).to(torch.device('cuda')) \n",
        "    mask = (tokens != tokenizer.pad_token_id).long().to(torch.device('cuda'))\n",
        "    embs = model_bert(tokens, attention_mask=mask)\n",
        "    val_embs_bert[inds] = embs[0][:, 0].cpu().detach().numpy()\n",
        "    batch = []\n",
        "    inds = []\n",
        "\n",
        "val_embs_bert = np.array(val_embs_bert)"
      ],
      "execution_count": 52,
      "outputs": []
    },
    {
      "cell_type": "code",
      "metadata": {
        "id": "xKR72Gx5cP2j",
        "colab_type": "code",
        "colab": {}
      },
      "source": [
        "inputs_params = tf.keras.layers.Input(shape=(10,), name=\"input_params\")\n",
        "dense_params = tf.keras.layers.Dense(10, activation='sigmoid', name=\"dense_params\")(inputs_params)\n",
        "\n",
        "inputs_hard = tf.keras.layers.Input(shape=(768,), name=\"input_hard\")\n",
        "dense_hard = tf.keras.layers.Dense(768, activation=\"relu\", name=\"dense_hard\")(inputs_hard)\n",
        "\n",
        "conc = tf.keras.layers.concatenate([dense_params, dense_hard], name=\"concat\")\n",
        "\n",
        "dense = tf.keras.layers.Dense(1, name=\"dense\")(conc)\n",
        "outputs = tf.keras.layers.Activation('sigmoid', name=\"activation\")(dense)\n",
        "simple_keras_model = tf.keras.Model(inputs=[inputs_params, inputs_hard], outputs=outputs, name=\"simple_model_2\")\n",
        "optimizer = tf.keras.optimizers.Adam(lr=1e-6)\n",
        "simple_keras_model.compile(optimizer=optimizer,\n",
        "              loss='binary_crossentropy',\n",
        "              metrics=[keras.metrics.AUC(name='auc')])"
      ],
      "execution_count": 64,
      "outputs": []
    },
    {
      "cell_type": "code",
      "metadata": {
        "id": "AIPASFOqBLRO",
        "colab_type": "code",
        "colab": {
          "base_uri": "https://localhost:8080/",
          "height": 1000
        },
        "outputId": "6a456aa1-7d65-4706-d064-e9a18c0a3668"
      },
      "source": [
        "simple_keras_model.fit([X_train,train_embs_bert], Y_train, \n",
        "            validation_data=([X_val,val_embs_bert], Y_val),\n",
        "            batch_size=16,\n",
        "            epochs=500,\n",
        "            verbose=True,\n",
        "            callbacks=[early_stop])\n",
        "plt.plot(simple_keras_model.history.history['auc'])\n",
        "plt.plot(simple_keras_model.history.history['val_auc'])\n",
        "plt.title('model auc')\n",
        "plt.ylabel('auc')\n",
        "plt.xlabel('epoch')\n",
        "plt.legend(['train', 'val'], loc='upper left')\n",
        "plt.show()"
      ],
      "execution_count": 65,
      "outputs": [
        {
          "output_type": "stream",
          "text": [
            "Epoch 1/500\n",
            "140/140 [==============================] - 1s 8ms/step - loss: 0.5595 - auc: 0.4915 - val_loss: 0.5531 - val_auc: 0.3873\n",
            "Epoch 2/500\n",
            "140/140 [==============================] - 1s 6ms/step - loss: 0.4746 - auc: 0.5007 - val_loss: 0.5088 - val_auc: 0.3835\n",
            "Epoch 3/500\n",
            "140/140 [==============================] - 1s 6ms/step - loss: 0.4192 - auc: 0.5194 - val_loss: 0.4828 - val_auc: 0.3882\n",
            "Epoch 4/500\n",
            "140/140 [==============================] - 1s 6ms/step - loss: 0.3829 - auc: 0.5514 - val_loss: 0.4677 - val_auc: 0.3962\n",
            "Epoch 5/500\n",
            "140/140 [==============================] - 1s 6ms/step - loss: 0.3587 - auc: 0.5958 - val_loss: 0.4596 - val_auc: 0.4087\n",
            "Epoch 6/500\n",
            "140/140 [==============================] - 1s 6ms/step - loss: 0.3426 - auc: 0.6055 - val_loss: 0.4555 - val_auc: 0.4206\n",
            "Epoch 7/500\n",
            "140/140 [==============================] - 1s 6ms/step - loss: 0.3316 - auc: 0.6465 - val_loss: 0.4540 - val_auc: 0.4316\n",
            "Epoch 8/500\n",
            "140/140 [==============================] - 1s 6ms/step - loss: 0.3238 - auc: 0.6622 - val_loss: 0.4538 - val_auc: 0.4482\n",
            "Epoch 9/500\n",
            "140/140 [==============================] - 1s 6ms/step - loss: 0.3181 - auc: 0.6879 - val_loss: 0.4542 - val_auc: 0.4619\n",
            "Epoch 10/500\n",
            "140/140 [==============================] - 1s 6ms/step - loss: 0.3136 - auc: 0.7059 - val_loss: 0.4549 - val_auc: 0.4794\n",
            "Epoch 11/500\n",
            "140/140 [==============================] - 1s 6ms/step - loss: 0.3099 - auc: 0.7275 - val_loss: 0.4556 - val_auc: 0.4981\n",
            "Epoch 12/500\n",
            "140/140 [==============================] - 1s 6ms/step - loss: 0.3069 - auc: 0.7414 - val_loss: 0.4563 - val_auc: 0.5074\n",
            "Epoch 13/500\n",
            "140/140 [==============================] - 1s 6ms/step - loss: 0.3041 - auc: 0.7527 - val_loss: 0.4569 - val_auc: 0.5178\n",
            "Epoch 14/500\n",
            "140/140 [==============================] - 1s 6ms/step - loss: 0.3016 - auc: 0.7658 - val_loss: 0.4571 - val_auc: 0.5301\n",
            "Epoch 15/500\n",
            "140/140 [==============================] - 1s 6ms/step - loss: 0.2993 - auc: 0.7723 - val_loss: 0.4573 - val_auc: 0.5428\n",
            "Epoch 16/500\n",
            "140/140 [==============================] - 1s 6ms/step - loss: 0.2971 - auc: 0.7803 - val_loss: 0.4571 - val_auc: 0.5528\n",
            "Epoch 17/500\n",
            "140/140 [==============================] - 1s 6ms/step - loss: 0.2950 - auc: 0.7872 - val_loss: 0.4569 - val_auc: 0.5618\n",
            "Epoch 18/500\n",
            "140/140 [==============================] - 1s 6ms/step - loss: 0.2929 - auc: 0.7936 - val_loss: 0.4569 - val_auc: 0.5691\n",
            "Epoch 19/500\n",
            "140/140 [==============================] - 1s 6ms/step - loss: 0.2909 - auc: 0.7971 - val_loss: 0.4566 - val_auc: 0.5764\n",
            "Epoch 20/500\n",
            "140/140 [==============================] - 1s 6ms/step - loss: 0.2891 - auc: 0.7992 - val_loss: 0.4562 - val_auc: 0.5783\n",
            "Epoch 21/500\n",
            "140/140 [==============================] - 1s 6ms/step - loss: 0.2872 - auc: 0.8036 - val_loss: 0.4557 - val_auc: 0.5900\n",
            "Epoch 22/500\n",
            "140/140 [==============================] - 1s 6ms/step - loss: 0.2855 - auc: 0.8075 - val_loss: 0.4551 - val_auc: 0.5970\n",
            "Epoch 23/500\n",
            "140/140 [==============================] - 1s 6ms/step - loss: 0.2838 - auc: 0.8093 - val_loss: 0.4545 - val_auc: 0.6006\n",
            "Epoch 24/500\n",
            "140/140 [==============================] - 1s 6ms/step - loss: 0.2822 - auc: 0.8125 - val_loss: 0.4537 - val_auc: 0.6028\n",
            "Epoch 25/500\n",
            "140/140 [==============================] - 1s 6ms/step - loss: 0.2806 - auc: 0.8150 - val_loss: 0.4533 - val_auc: 0.6067\n",
            "Epoch 26/500\n",
            "140/140 [==============================] - 1s 6ms/step - loss: 0.2790 - auc: 0.8173 - val_loss: 0.4530 - val_auc: 0.6141\n",
            "Epoch 27/500\n",
            "140/140 [==============================] - 1s 6ms/step - loss: 0.2776 - auc: 0.8197 - val_loss: 0.4525 - val_auc: 0.6155\n",
            "Epoch 28/500\n",
            "140/140 [==============================] - 1s 6ms/step - loss: 0.2762 - auc: 0.8219 - val_loss: 0.4524 - val_auc: 0.6197\n",
            "Epoch 29/500\n",
            "140/140 [==============================] - 1s 6ms/step - loss: 0.2748 - auc: 0.8220 - val_loss: 0.4519 - val_auc: 0.6220\n",
            "Epoch 30/500\n",
            "140/140 [==============================] - 1s 6ms/step - loss: 0.2735 - auc: 0.8245 - val_loss: 0.4510 - val_auc: 0.6240\n",
            "Epoch 31/500\n",
            "140/140 [==============================] - 1s 6ms/step - loss: 0.2723 - auc: 0.8256 - val_loss: 0.4503 - val_auc: 0.6265\n",
            "Epoch 32/500\n",
            "140/140 [==============================] - 1s 6ms/step - loss: 0.2710 - auc: 0.8263 - val_loss: 0.4501 - val_auc: 0.6278\n",
            "Epoch 33/500\n",
            "140/140 [==============================] - 1s 6ms/step - loss: 0.2698 - auc: 0.8285 - val_loss: 0.4494 - val_auc: 0.6307\n",
            "Epoch 34/500\n",
            "140/140 [==============================] - 1s 6ms/step - loss: 0.2687 - auc: 0.8301 - val_loss: 0.4488 - val_auc: 0.6297\n",
            "Epoch 35/500\n",
            "140/140 [==============================] - 1s 6ms/step - loss: 0.2676 - auc: 0.8321 - val_loss: 0.4483 - val_auc: 0.6350\n",
            "Epoch 36/500\n",
            "140/140 [==============================] - 1s 6ms/step - loss: 0.2666 - auc: 0.8314 - val_loss: 0.4483 - val_auc: 0.6386\n",
            "Epoch 37/500\n",
            "140/140 [==============================] - 1s 6ms/step - loss: 0.2655 - auc: 0.8338 - val_loss: 0.4473 - val_auc: 0.6406\n",
            "Epoch 38/500\n",
            "140/140 [==============================] - 1s 6ms/step - loss: 0.2646 - auc: 0.8345 - val_loss: 0.4468 - val_auc: 0.6422\n",
            "Epoch 39/500\n",
            "140/140 [==============================] - 1s 6ms/step - loss: 0.2636 - auc: 0.8356 - val_loss: 0.4467 - val_auc: 0.6438\n",
            "Epoch 40/500\n",
            "140/140 [==============================] - 1s 6ms/step - loss: 0.2627 - auc: 0.8361 - val_loss: 0.4457 - val_auc: 0.6461\n",
            "Epoch 41/500\n",
            "140/140 [==============================] - 1s 6ms/step - loss: 0.2618 - auc: 0.8387 - val_loss: 0.4457 - val_auc: 0.6509\n",
            "Epoch 42/500\n",
            "140/140 [==============================] - 1s 6ms/step - loss: 0.2610 - auc: 0.8398 - val_loss: 0.4447 - val_auc: 0.6512\n",
            "Epoch 43/500\n",
            "140/140 [==============================] - 1s 6ms/step - loss: 0.2601 - auc: 0.8402 - val_loss: 0.4444 - val_auc: 0.6534\n",
            "Epoch 44/500\n",
            "140/140 [==============================] - 1s 6ms/step - loss: 0.2593 - auc: 0.8404 - val_loss: 0.4439 - val_auc: 0.6553\n",
            "Epoch 45/500\n",
            "140/140 [==============================] - 1s 6ms/step - loss: 0.2585 - auc: 0.8417 - val_loss: 0.4438 - val_auc: 0.6562\n",
            "Epoch 46/500\n",
            "140/140 [==============================] - 1s 6ms/step - loss: 0.2577 - auc: 0.8431 - val_loss: 0.4428 - val_auc: 0.6589\n",
            "Epoch 47/500\n",
            "140/140 [==============================] - 1s 7ms/step - loss: 0.2570 - auc: 0.8436 - val_loss: 0.4427 - val_auc: 0.6603\n",
            "Epoch 48/500\n",
            "140/140 [==============================] - 1s 7ms/step - loss: 0.2563 - auc: 0.8450 - val_loss: 0.4424 - val_auc: 0.6595\n",
            "Epoch 49/500\n",
            "140/140 [==============================] - 1s 7ms/step - loss: 0.2556 - auc: 0.8451 - val_loss: 0.4411 - val_auc: 0.6650\n",
            "Epoch 50/500\n",
            "140/140 [==============================] - 1s 7ms/step - loss: 0.2549 - auc: 0.8467 - val_loss: 0.4414 - val_auc: 0.6641\n",
            "Epoch 51/500\n",
            "140/140 [==============================] - 1s 7ms/step - loss: 0.2542 - auc: 0.8472 - val_loss: 0.4402 - val_auc: 0.6663\n",
            "Epoch 52/500\n",
            "140/140 [==============================] - 1s 7ms/step - loss: 0.2536 - auc: 0.8484 - val_loss: 0.4401 - val_auc: 0.6642\n",
            "Epoch 53/500\n",
            "140/140 [==============================] - 1s 6ms/step - loss: 0.2530 - auc: 0.8478 - val_loss: 0.4395 - val_auc: 0.6672\n",
            "Epoch 54/500\n",
            "140/140 [==============================] - 1s 6ms/step - loss: 0.2523 - auc: 0.8485 - val_loss: 0.4387 - val_auc: 0.6694\n",
            "Epoch 55/500\n",
            "140/140 [==============================] - 1s 6ms/step - loss: 0.2517 - auc: 0.8493 - val_loss: 0.4383 - val_auc: 0.6710\n",
            "Epoch 56/500\n",
            "140/140 [==============================] - 1s 6ms/step - loss: 0.2512 - auc: 0.8504 - val_loss: 0.4380 - val_auc: 0.6728\n",
            "Epoch 57/500\n",
            "140/140 [==============================] - 1s 6ms/step - loss: 0.2506 - auc: 0.8508 - val_loss: 0.4378 - val_auc: 0.6734\n",
            "Epoch 58/500\n",
            "140/140 [==============================] - 1s 6ms/step - loss: 0.2500 - auc: 0.8514 - val_loss: 0.4377 - val_auc: 0.6732\n",
            "Epoch 59/500\n",
            "140/140 [==============================] - 1s 6ms/step - loss: 0.2494 - auc: 0.8518 - val_loss: 0.4368 - val_auc: 0.6750\n",
            "Epoch 60/500\n",
            "140/140 [==============================] - 1s 8ms/step - loss: 0.2489 - auc: 0.8526 - val_loss: 0.4362 - val_auc: 0.6780\n",
            "Epoch 61/500\n",
            "140/140 [==============================] - 1s 6ms/step - loss: 0.2483 - auc: 0.8537 - val_loss: 0.4348 - val_auc: 0.6785\n",
            "Epoch 62/500\n",
            "140/140 [==============================] - 1s 6ms/step - loss: 0.2478 - auc: 0.8542 - val_loss: 0.4352 - val_auc: 0.6797\n",
            "Epoch 63/500\n",
            "140/140 [==============================] - 1s 6ms/step - loss: 0.2473 - auc: 0.8552 - val_loss: 0.4346 - val_auc: 0.6804\n",
            "Epoch 64/500\n",
            "140/140 [==============================] - 1s 6ms/step - loss: 0.2468 - auc: 0.8554 - val_loss: 0.4344 - val_auc: 0.6814\n",
            "Epoch 65/500\n",
            "140/140 [==============================] - 1s 6ms/step - loss: 0.2463 - auc: 0.8561 - val_loss: 0.4341 - val_auc: 0.6819\n",
            "Epoch 66/500\n",
            "140/140 [==============================] - 1s 6ms/step - loss: 0.2458 - auc: 0.8569 - val_loss: 0.4336 - val_auc: 0.6824\n",
            "Epoch 67/500\n",
            "140/140 [==============================] - 1s 6ms/step - loss: 0.2454 - auc: 0.8578 - val_loss: 0.4329 - val_auc: 0.6845\n",
            "Epoch 68/500\n",
            "140/140 [==============================] - 1s 6ms/step - loss: 0.2449 - auc: 0.8578 - val_loss: 0.4326 - val_auc: 0.6859\n",
            "Epoch 69/500\n",
            "140/140 [==============================] - 1s 6ms/step - loss: 0.2444 - auc: 0.8583 - val_loss: 0.4324 - val_auc: 0.6867\n",
            "Epoch 70/500\n",
            "140/140 [==============================] - 1s 6ms/step - loss: 0.2440 - auc: 0.8596 - val_loss: 0.4322 - val_auc: 0.6875\n",
            "Epoch 71/500\n",
            "140/140 [==============================] - 1s 6ms/step - loss: 0.2435 - auc: 0.8585 - val_loss: 0.4315 - val_auc: 0.6878\n",
            "Epoch 72/500\n",
            "140/140 [==============================] - 1s 6ms/step - loss: 0.2431 - auc: 0.8602 - val_loss: 0.4318 - val_auc: 0.6894\n",
            "Epoch 73/500\n",
            "140/140 [==============================] - 1s 6ms/step - loss: 0.2426 - auc: 0.8605 - val_loss: 0.4304 - val_auc: 0.6879\n",
            "Epoch 74/500\n",
            "140/140 [==============================] - 1s 6ms/step - loss: 0.2422 - auc: 0.8613 - val_loss: 0.4304 - val_auc: 0.6912\n",
            "Epoch 75/500\n",
            "140/140 [==============================] - 1s 6ms/step - loss: 0.2418 - auc: 0.8618 - val_loss: 0.4298 - val_auc: 0.6909\n",
            "Epoch 76/500\n",
            "140/140 [==============================] - 1s 6ms/step - loss: 0.2414 - auc: 0.8625 - val_loss: 0.4294 - val_auc: 0.6907\n",
            "Epoch 77/500\n",
            "140/140 [==============================] - 1s 6ms/step - loss: 0.2409 - auc: 0.8634 - val_loss: 0.4287 - val_auc: 0.6917\n",
            "Epoch 78/500\n",
            "140/140 [==============================] - 1s 6ms/step - loss: 0.2406 - auc: 0.8632 - val_loss: 0.4281 - val_auc: 0.6921\n",
            "Epoch 79/500\n",
            "140/140 [==============================] - 1s 6ms/step - loss: 0.2402 - auc: 0.8635 - val_loss: 0.4283 - val_auc: 0.6923\n",
            "Epoch 80/500\n",
            "140/140 [==============================] - 1s 6ms/step - loss: 0.2397 - auc: 0.8635 - val_loss: 0.4278 - val_auc: 0.6947\n",
            "Epoch 81/500\n",
            "140/140 [==============================] - 1s 6ms/step - loss: 0.2393 - auc: 0.8647 - val_loss: 0.4272 - val_auc: 0.6935\n",
            "Epoch 82/500\n",
            "140/140 [==============================] - 1s 6ms/step - loss: 0.2389 - auc: 0.8655 - val_loss: 0.4268 - val_auc: 0.6950\n",
            "Epoch 83/500\n",
            "140/140 [==============================] - 1s 6ms/step - loss: 0.2386 - auc: 0.8651 - val_loss: 0.4262 - val_auc: 0.6958\n",
            "Epoch 84/500\n",
            "140/140 [==============================] - 1s 6ms/step - loss: 0.2382 - auc: 0.8667 - val_loss: 0.4259 - val_auc: 0.6960\n",
            "Epoch 85/500\n",
            "140/140 [==============================] - 1s 6ms/step - loss: 0.2379 - auc: 0.8673 - val_loss: 0.4261 - val_auc: 0.6963\n",
            "Epoch 86/500\n",
            "140/140 [==============================] - 1s 6ms/step - loss: 0.2375 - auc: 0.8679 - val_loss: 0.4251 - val_auc: 0.6986\n",
            "Epoch 87/500\n",
            "140/140 [==============================] - 1s 6ms/step - loss: 0.2371 - auc: 0.8680 - val_loss: 0.4255 - val_auc: 0.6970\n",
            "Epoch 88/500\n",
            "140/140 [==============================] - 1s 6ms/step - loss: 0.2368 - auc: 0.8688 - val_loss: 0.4246 - val_auc: 0.6993\n",
            "Epoch 89/500\n",
            "140/140 [==============================] - 1s 6ms/step - loss: 0.2364 - auc: 0.8698 - val_loss: 0.4242 - val_auc: 0.6999\n",
            "Epoch 90/500\n",
            "140/140 [==============================] - 1s 6ms/step - loss: 0.2361 - auc: 0.8694 - val_loss: 0.4239 - val_auc: 0.7011\n",
            "Epoch 91/500\n",
            "140/140 [==============================] - 1s 6ms/step - loss: 0.2357 - auc: 0.8697 - val_loss: 0.4242 - val_auc: 0.7006\n",
            "Epoch 92/500\n",
            "140/140 [==============================] - 1s 6ms/step - loss: 0.2354 - auc: 0.8699 - val_loss: 0.4234 - val_auc: 0.7011\n",
            "Epoch 93/500\n",
            "140/140 [==============================] - 1s 6ms/step - loss: 0.2351 - auc: 0.8701 - val_loss: 0.4227 - val_auc: 0.7013\n",
            "Epoch 94/500\n",
            "140/140 [==============================] - 1s 6ms/step - loss: 0.2347 - auc: 0.8712 - val_loss: 0.4224 - val_auc: 0.7008\n",
            "Epoch 95/500\n",
            "140/140 [==============================] - 1s 6ms/step - loss: 0.2344 - auc: 0.8712 - val_loss: 0.4219 - val_auc: 0.7011\n",
            "Epoch 96/500\n",
            "140/140 [==============================] - 1s 6ms/step - loss: 0.2341 - auc: 0.8716 - val_loss: 0.4212 - val_auc: 0.7027\n",
            "Epoch 97/500\n",
            "140/140 [==============================] - 1s 6ms/step - loss: 0.2337 - auc: 0.8720 - val_loss: 0.4217 - val_auc: 0.7029\n",
            "Epoch 98/500\n",
            "140/140 [==============================] - 1s 6ms/step - loss: 0.2334 - auc: 0.8725 - val_loss: 0.4221 - val_auc: 0.7012\n",
            "Epoch 99/500\n",
            "140/140 [==============================] - 1s 6ms/step - loss: 0.2331 - auc: 0.8723 - val_loss: 0.4212 - val_auc: 0.7035\n",
            "Epoch 100/500\n",
            "140/140 [==============================] - 1s 6ms/step - loss: 0.2328 - auc: 0.8729 - val_loss: 0.4206 - val_auc: 0.7050\n",
            "Epoch 101/500\n",
            "140/140 [==============================] - 1s 6ms/step - loss: 0.2325 - auc: 0.8730 - val_loss: 0.4207 - val_auc: 0.7051\n",
            "Epoch 102/500\n",
            "140/140 [==============================] - 1s 6ms/step - loss: 0.2322 - auc: 0.8735 - val_loss: 0.4198 - val_auc: 0.7057\n",
            "Epoch 103/500\n",
            "140/140 [==============================] - 1s 6ms/step - loss: 0.2318 - auc: 0.8740 - val_loss: 0.4196 - val_auc: 0.7061\n",
            "Epoch 104/500\n",
            "140/140 [==============================] - 1s 6ms/step - loss: 0.2316 - auc: 0.8744 - val_loss: 0.4193 - val_auc: 0.7057\n",
            "Epoch 105/500\n",
            "140/140 [==============================] - 1s 6ms/step - loss: 0.2313 - auc: 0.8746 - val_loss: 0.4188 - val_auc: 0.7067\n",
            "Epoch 106/500\n",
            "140/140 [==============================] - 1s 6ms/step - loss: 0.2310 - auc: 0.8748 - val_loss: 0.4184 - val_auc: 0.7070\n",
            "Epoch 107/500\n",
            "140/140 [==============================] - 1s 6ms/step - loss: 0.2307 - auc: 0.8755 - val_loss: 0.4180 - val_auc: 0.7071\n",
            "Epoch 108/500\n",
            "140/140 [==============================] - 1s 6ms/step - loss: 0.2304 - auc: 0.8756 - val_loss: 0.4180 - val_auc: 0.7074\n",
            "Epoch 109/500\n",
            "140/140 [==============================] - 1s 6ms/step - loss: 0.2301 - auc: 0.8763 - val_loss: 0.4179 - val_auc: 0.7078\n",
            "Epoch 110/500\n",
            "140/140 [==============================] - 1s 6ms/step - loss: 0.2298 - auc: 0.8769 - val_loss: 0.4173 - val_auc: 0.7094\n",
            "Epoch 111/500\n",
            "140/140 [==============================] - 1s 6ms/step - loss: 0.2296 - auc: 0.8770 - val_loss: 0.4170 - val_auc: 0.7098\n",
            "Epoch 112/500\n",
            "140/140 [==============================] - 1s 6ms/step - loss: 0.2292 - auc: 0.8773 - val_loss: 0.4175 - val_auc: 0.7079\n",
            "Epoch 113/500\n",
            "140/140 [==============================] - 1s 6ms/step - loss: 0.2290 - auc: 0.8778 - val_loss: 0.4164 - val_auc: 0.7114\n",
            "Epoch 114/500\n",
            "140/140 [==============================] - 1s 6ms/step - loss: 0.2287 - auc: 0.8772 - val_loss: 0.4165 - val_auc: 0.7109\n",
            "Epoch 115/500\n",
            "140/140 [==============================] - 1s 6ms/step - loss: 0.2284 - auc: 0.8779 - val_loss: 0.4159 - val_auc: 0.7115\n",
            "Epoch 116/500\n",
            "140/140 [==============================] - 1s 6ms/step - loss: 0.2281 - auc: 0.8785 - val_loss: 0.4156 - val_auc: 0.7105\n",
            "Epoch 117/500\n",
            "140/140 [==============================] - 1s 6ms/step - loss: 0.2279 - auc: 0.8788 - val_loss: 0.4154 - val_auc: 0.7098\n",
            "Epoch 118/500\n",
            "140/140 [==============================] - 1s 6ms/step - loss: 0.2276 - auc: 0.8786 - val_loss: 0.4160 - val_auc: 0.7110\n",
            "Epoch 119/500\n",
            "140/140 [==============================] - 1s 6ms/step - loss: 0.2274 - auc: 0.8792 - val_loss: 0.4154 - val_auc: 0.7108\n",
            "Epoch 120/500\n",
            "140/140 [==============================] - 1s 6ms/step - loss: 0.2271 - auc: 0.8803 - val_loss: 0.4155 - val_auc: 0.7117\n",
            "Epoch 121/500\n",
            "140/140 [==============================] - 1s 6ms/step - loss: 0.2268 - auc: 0.8801 - val_loss: 0.4148 - val_auc: 0.7099\n",
            "Epoch 122/500\n",
            "140/140 [==============================] - 1s 6ms/step - loss: 0.2265 - auc: 0.8806 - val_loss: 0.4147 - val_auc: 0.7098\n",
            "Epoch 123/500\n",
            "140/140 [==============================] - 1s 6ms/step - loss: 0.2263 - auc: 0.8803 - val_loss: 0.4145 - val_auc: 0.7104\n",
            "Epoch 00123: early stopping\n"
          ],
          "name": "stdout"
        },
        {
          "output_type": "display_data",
          "data": {
            "image/png": "[encoded data removed]",
            "text/plain": [
              "<Figure size 432x288 with 1 Axes>"
            ]
          },
          "metadata": {
            "tags": [],
            "needs_background": "light"
          }
        }
      ]
    },
    {
      "cell_type": "code",
      "metadata": {
        "id": "Z8Jzwhizwg7P",
        "colab_type": "code",
        "colab": {}
      },
      "source": [
        ""
      ],
      "execution_count": 25,
      "outputs": []
    }
  ]
}