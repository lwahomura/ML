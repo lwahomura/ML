{
  "nbformat": 4,
  "nbformat_minor": 0,
  "metadata": {
    "colab": {
      "name": "Untitled10.ipynb",
      "provenance": []
    },
    "kernelspec": {
      "name": "python3",
      "display_name": "Python 3"
    },
    "accelerator": "GPU"
  },
  "cells": [
    {
      "cell_type": "code",
      "metadata": {
        "id": "IazHQ4-s1nJ4",
        "colab_type": "code",
        "colab": {
          "resources": {
            "http://localhost:8080/nbextensions/google.colab/files.js": {
              "data": "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",
              "ok": true,
              "headers": [
                [
                  "content-type",
                  "application/javascript"
                ]
              ],
              "status": 200,
              "status_text": ""
            }
          },
          "base_uri": "https://localhost:8080/",
          "height": 106
        },
        "outputId": "bcf83c35-66c8-4cf2-bd32-7b81fd1e2893"
      },
      "source": [
        "from google.colab import files\n",
        "\n",
        "uploaded = files.upload()"
      ],
      "execution_count": 6,
      "outputs": [
        {
          "output_type": "display_data",
          "data": {
            "text/html": [
              "\n",
              "     <input type=\"file\" id=\"files-863ad56f-efd2-43cf-931e-e51e24bc565f\" name=\"files[]\" multiple disabled\n",
              "        style=\"border:none\" />\n",
              "     <output id=\"result-863ad56f-efd2-43cf-931e-e51e24bc565f\">\n",
              "      Upload widget is only available when the cell has been executed in the\n",
              "      current browser session. Please rerun this cell to enable.\n",
              "      </output>\n",
              "      <script src=\"/nbextensions/google.colab/files.js\"></script> "
            ],
            "text/plain": [
              "<IPython.core.display.HTML object>"
            ]
          },
          "metadata": {
            "tags": []
          }
        },
        {
          "output_type": "stream",
          "text": [
            "Saving jigsaw-toxic-comment-train.csv.zip to jigsaw-toxic-comment-train.csv.zip\n",
            "Saving validation.csv.zip to validation.csv.zip\n"
          ],
          "name": "stdout"
        }
      ]
    },
    {
      "cell_type": "code",
      "metadata": {
        "id": "QTnuc8cX2_cw",
        "colab_type": "code",
        "colab": {
          "base_uri": "https://localhost:8080/",
          "height": 85
        },
        "outputId": "b3f0a3c8-653b-4dd6-8b60-1dbc56ec4135"
      },
      "source": [
        "!unzip jigsaw-toxic-comment-train.csv.zip\n",
        "!unzip validation.csv.zip"
      ],
      "execution_count": 7,
      "outputs": [
        {
          "output_type": "stream",
          "text": [
            "Archive:  jigsaw-toxic-comment-train.csv.zip\n",
            "  inflating: jigsaw-toxic-comment-train.csv  \n",
            "Archive:  validation.csv.zip\n",
            "  inflating: validation.csv          \n"
          ],
          "name": "stdout"
        }
      ]
    },
    {
      "cell_type": "code",
      "metadata": {
        "id": "RqoxZADd24r1",
        "colab_type": "code",
        "colab": {}
      },
      "source": [
        "import pandas as pd\n",
        "train = pd.read_csv('jigsaw-toxic-comment-train.csv')\n",
        "val = pd.read_csv('validation.csv')\n",
        "pd.set_option('display.max_columns', 100)\n",
        "pd.set_option('display.max_rows', 100)"
      ],
      "execution_count": 8,
      "outputs": []
    },
    {
      "cell_type": "code",
      "metadata": {
        "id": "-QzfpmXW6lTK",
        "colab_type": "code",
        "colab": {
          "base_uri": "https://localhost:8080/",
          "height": 419
        },
        "outputId": "a6eb5ded-2307-48d6-b87f-8ea53781de9c"
      },
      "source": [
        "train"
      ],
      "execution_count": 9,
      "outputs": [
        {
          "output_type": "execute_result",
          "data": {
            "text/html": [
              "<div>\n",
              "<style scoped>\n",
              "    .dataframe tbody tr th:only-of-type {\n",
              "        vertical-align: middle;\n",
              "    }\n",
              "\n",
              "    .dataframe tbody tr th {\n",
              "        vertical-align: top;\n",
              "    }\n",
              "\n",
              "    .dataframe thead th {\n",
              "        text-align: right;\n",
              "    }\n",
              "</style>\n",
              "<table border=\"1\" class=\"dataframe\">\n",
              "  <thead>\n",
              "    <tr style=\"text-align: right;\">\n",
              "      <th></th>\n",
              "      <th>id</th>\n",
              "      <th>comment_text</th>\n",
              "      <th>toxic</th>\n",
              "      <th>severe_toxic</th>\n",
              "      <th>obscene</th>\n",
              "      <th>threat</th>\n",
              "      <th>insult</th>\n",
              "      <th>identity_hate</th>\n",
              "    </tr>\n",
              "  </thead>\n",
              "  <tbody>\n",
              "    <tr>\n",
              "      <th>0</th>\n",
              "      <td>0000997932d777bf</td>\n",
              "      <td>Explanation\\nWhy the edits made under my usern...</td>\n",
              "      <td>0</td>\n",
              "      <td>0</td>\n",
              "      <td>0</td>\n",
              "      <td>0</td>\n",
              "      <td>0</td>\n",
              "      <td>0</td>\n",
              "    </tr>\n",
              "    <tr>\n",
              "      <th>1</th>\n",
              "      <td>000103f0d9cfb60f</td>\n",
              "      <td>D'aww! He matches this background colour I'm s...</td>\n",
              "      <td>0</td>\n",
              "      <td>0</td>\n",
              "      <td>0</td>\n",
              "      <td>0</td>\n",
              "      <td>0</td>\n",
              "      <td>0</td>\n",
              "    </tr>\n",
              "    <tr>\n",
              "      <th>2</th>\n",
              "      <td>000113f07ec002fd</td>\n",
              "      <td>Hey man, I'm really not trying to edit war. It...</td>\n",
              "      <td>0</td>\n",
              "      <td>0</td>\n",
              "      <td>0</td>\n",
              "      <td>0</td>\n",
              "      <td>0</td>\n",
              "      <td>0</td>\n",
              "    </tr>\n",
              "    <tr>\n",
              "      <th>3</th>\n",
              "      <td>0001b41b1c6bb37e</td>\n",
              "      <td>\"\\nMore\\nI can't make any real suggestions on ...</td>\n",
              "      <td>0</td>\n",
              "      <td>0</td>\n",
              "      <td>0</td>\n",
              "      <td>0</td>\n",
              "      <td>0</td>\n",
              "      <td>0</td>\n",
              "    </tr>\n",
              "    <tr>\n",
              "      <th>4</th>\n",
              "      <td>0001d958c54c6e35</td>\n",
              "      <td>You, sir, are my hero. Any chance you remember...</td>\n",
              "      <td>0</td>\n",
              "      <td>0</td>\n",
              "      <td>0</td>\n",
              "      <td>0</td>\n",
              "      <td>0</td>\n",
              "      <td>0</td>\n",
              "    </tr>\n",
              "    <tr>\n",
              "      <th>...</th>\n",
              "      <td>...</td>\n",
              "      <td>...</td>\n",
              "      <td>...</td>\n",
              "      <td>...</td>\n",
              "      <td>...</td>\n",
              "      <td>...</td>\n",
              "      <td>...</td>\n",
              "      <td>...</td>\n",
              "    </tr>\n",
              "    <tr>\n",
              "      <th>223544</th>\n",
              "      <td>fff8f64043129fa2</td>\n",
              "      <td>:Jerome, I see you never got around to this…! ...</td>\n",
              "      <td>0</td>\n",
              "      <td>0</td>\n",
              "      <td>0</td>\n",
              "      <td>0</td>\n",
              "      <td>0</td>\n",
              "      <td>0</td>\n",
              "    </tr>\n",
              "    <tr>\n",
              "      <th>223545</th>\n",
              "      <td>fff9d70fe0722906</td>\n",
              "      <td>==Lucky bastard== \\n http://wikimediafoundatio...</td>\n",
              "      <td>0</td>\n",
              "      <td>0</td>\n",
              "      <td>0</td>\n",
              "      <td>0</td>\n",
              "      <td>0</td>\n",
              "      <td>0</td>\n",
              "    </tr>\n",
              "    <tr>\n",
              "      <th>223546</th>\n",
              "      <td>fffa8a11c4378854</td>\n",
              "      <td>==shame on you all!!!== \\n\\n You want to speak...</td>\n",
              "      <td>0</td>\n",
              "      <td>0</td>\n",
              "      <td>0</td>\n",
              "      <td>0</td>\n",
              "      <td>0</td>\n",
              "      <td>0</td>\n",
              "    </tr>\n",
              "    <tr>\n",
              "      <th>223547</th>\n",
              "      <td>fffac2a094c8e0e2</td>\n",
              "      <td>MEL GIBSON IS A NAZI BITCH WHO MAKES SHITTY MO...</td>\n",
              "      <td>1</td>\n",
              "      <td>0</td>\n",
              "      <td>1</td>\n",
              "      <td>0</td>\n",
              "      <td>1</td>\n",
              "      <td>0</td>\n",
              "    </tr>\n",
              "    <tr>\n",
              "      <th>223548</th>\n",
              "      <td>fffb5451268fb5ba</td>\n",
              "      <td>\" \\n\\n == Unicorn lair discovery == \\n\\n Suppo...</td>\n",
              "      <td>0</td>\n",
              "      <td>0</td>\n",
              "      <td>0</td>\n",
              "      <td>0</td>\n",
              "      <td>0</td>\n",
              "      <td>0</td>\n",
              "    </tr>\n",
              "  </tbody>\n",
              "</table>\n",
              "<p>223549 rows × 8 columns</p>\n",
              "</div>"
            ],
            "text/plain": [
              "                      id                                       comment_text  \\\n",
              "0       0000997932d777bf  Explanation\\nWhy the edits made under my usern...   \n",
              "1       000103f0d9cfb60f  D'aww! He matches this background colour I'm s...   \n",
              "2       000113f07ec002fd  Hey man, I'm really not trying to edit war. It...   \n",
              "3       0001b41b1c6bb37e  \"\\nMore\\nI can't make any real suggestions on ...   \n",
              "4       0001d958c54c6e35  You, sir, are my hero. Any chance you remember...   \n",
              "...                  ...                                                ...   \n",
              "223544  fff8f64043129fa2  :Jerome, I see you never got around to this…! ...   \n",
              "223545  fff9d70fe0722906  ==Lucky bastard== \\n http://wikimediafoundatio...   \n",
              "223546  fffa8a11c4378854  ==shame on you all!!!== \\n\\n You want to speak...   \n",
              "223547  fffac2a094c8e0e2  MEL GIBSON IS A NAZI BITCH WHO MAKES SHITTY MO...   \n",
              "223548  fffb5451268fb5ba  \" \\n\\n == Unicorn lair discovery == \\n\\n Suppo...   \n",
              "\n",
              "        toxic  severe_toxic  obscene  threat  insult  identity_hate  \n",
              "0           0             0        0       0       0              0  \n",
              "1           0             0        0       0       0              0  \n",
              "2           0             0        0       0       0              0  \n",
              "3           0             0        0       0       0              0  \n",
              "4           0             0        0       0       0              0  \n",
              "...       ...           ...      ...     ...     ...            ...  \n",
              "223544      0             0        0       0       0              0  \n",
              "223545      0             0        0       0       0              0  \n",
              "223546      0             0        0       0       0              0  \n",
              "223547      1             0        1       0       1              0  \n",
              "223548      0             0        0       0       0              0  \n",
              "\n",
              "[223549 rows x 8 columns]"
            ]
          },
          "metadata": {
            "tags": []
          },
          "execution_count": 9
        }
      ]
    },
    {
      "cell_type": "code",
      "metadata": {
        "id": "gWz2nTjW6m0F",
        "colab_type": "code",
        "colab": {
          "base_uri": "https://localhost:8080/",
          "height": 419
        },
        "outputId": "62b5a61b-729b-4916-ce53-9ec15b3bb222"
      },
      "source": [
        "val"
      ],
      "execution_count": 10,
      "outputs": [
        {
          "output_type": "execute_result",
          "data": {
            "text/html": [
              "<div>\n",
              "<style scoped>\n",
              "    .dataframe tbody tr th:only-of-type {\n",
              "        vertical-align: middle;\n",
              "    }\n",
              "\n",
              "    .dataframe tbody tr th {\n",
              "        vertical-align: top;\n",
              "    }\n",
              "\n",
              "    .dataframe thead th {\n",
              "        text-align: right;\n",
              "    }\n",
              "</style>\n",
              "<table border=\"1\" class=\"dataframe\">\n",
              "  <thead>\n",
              "    <tr style=\"text-align: right;\">\n",
              "      <th></th>\n",
              "      <th>id</th>\n",
              "      <th>comment_text</th>\n",
              "      <th>lang</th>\n",
              "      <th>toxic</th>\n",
              "    </tr>\n",
              "  </thead>\n",
              "  <tbody>\n",
              "    <tr>\n",
              "      <th>0</th>\n",
              "      <td>0</td>\n",
              "      <td>Este usuario ni siquiera llega al rango de    ...</td>\n",
              "      <td>es</td>\n",
              "      <td>0</td>\n",
              "    </tr>\n",
              "    <tr>\n",
              "      <th>1</th>\n",
              "      <td>1</td>\n",
              "      <td>Il testo di questa voce pare esser scopiazzato...</td>\n",
              "      <td>it</td>\n",
              "      <td>0</td>\n",
              "    </tr>\n",
              "    <tr>\n",
              "      <th>2</th>\n",
              "      <td>2</td>\n",
              "      <td>Vale. Sólo expongo mi pasado. Todo tiempo pasa...</td>\n",
              "      <td>es</td>\n",
              "      <td>1</td>\n",
              "    </tr>\n",
              "    <tr>\n",
              "      <th>3</th>\n",
              "      <td>3</td>\n",
              "      <td>Bu maddenin alt başlığı olarak  uluslararası i...</td>\n",
              "      <td>tr</td>\n",
              "      <td>0</td>\n",
              "    </tr>\n",
              "    <tr>\n",
              "      <th>4</th>\n",
              "      <td>4</td>\n",
              "      <td>Belçika nın şehirlerinin yanında ilçe ve belde...</td>\n",
              "      <td>tr</td>\n",
              "      <td>0</td>\n",
              "    </tr>\n",
              "    <tr>\n",
              "      <th>...</th>\n",
              "      <td>...</td>\n",
              "      <td>...</td>\n",
              "      <td>...</td>\n",
              "      <td>...</td>\n",
              "    </tr>\n",
              "    <tr>\n",
              "      <th>7995</th>\n",
              "      <td>7995</td>\n",
              "      <td>Il fatto è che la pagina dei personaggi minor...</td>\n",
              "      <td>it</td>\n",
              "      <td>0</td>\n",
              "    </tr>\n",
              "    <tr>\n",
              "      <th>7996</th>\n",
              "      <td>7996</td>\n",
              "      <td>El imbesil ete dela luna no se entera ni ostia...</td>\n",
              "      <td>es</td>\n",
              "      <td>1</td>\n",
              "    </tr>\n",
              "    <tr>\n",
              "      <th>7997</th>\n",
              "      <td>7997</td>\n",
              "      <td>olum sız manyakmısınz siz adam sıze sanal yıld...</td>\n",
              "      <td>tr</td>\n",
              "      <td>1</td>\n",
              "    </tr>\n",
              "    <tr>\n",
              "      <th>7998</th>\n",
              "      <td>7998</td>\n",
              "      <td>El mapa del reinado de Alhaken esta ligerament...</td>\n",
              "      <td>es</td>\n",
              "      <td>0</td>\n",
              "    </tr>\n",
              "    <tr>\n",
              "      <th>7999</th>\n",
              "      <td>7999</td>\n",
              "      <td>lasciami la tua email per favore. ad ogni modo...</td>\n",
              "      <td>it</td>\n",
              "      <td>0</td>\n",
              "    </tr>\n",
              "  </tbody>\n",
              "</table>\n",
              "<p>8000 rows × 4 columns</p>\n",
              "</div>"
            ],
            "text/plain": [
              "        id                                       comment_text lang  toxic\n",
              "0        0  Este usuario ni siquiera llega al rango de    ...   es      0\n",
              "1        1  Il testo di questa voce pare esser scopiazzato...   it      0\n",
              "2        2  Vale. Sólo expongo mi pasado. Todo tiempo pasa...   es      1\n",
              "3        3  Bu maddenin alt başlığı olarak  uluslararası i...   tr      0\n",
              "4        4  Belçika nın şehirlerinin yanında ilçe ve belde...   tr      0\n",
              "...    ...                                                ...  ...    ...\n",
              "7995  7995   Il fatto è che la pagina dei personaggi minor...   it      0\n",
              "7996  7996  El imbesil ete dela luna no se entera ni ostia...   es      1\n",
              "7997  7997  olum sız manyakmısınz siz adam sıze sanal yıld...   tr      1\n",
              "7998  7998  El mapa del reinado de Alhaken esta ligerament...   es      0\n",
              "7999  7999  lasciami la tua email per favore. ad ogni modo...   it      0\n",
              "\n",
              "[8000 rows x 4 columns]"
            ]
          },
          "metadata": {
            "tags": []
          },
          "execution_count": 10
        }
      ]
    },
    {
      "cell_type": "markdown",
      "metadata": {
        "id": "Q6-r3u446vHb",
        "colab_type": "text"
      },
      "source": [
        "# Описательный анализ тестовой выборки в сравнение с обучающей - (какие языки представлены, как они по статистикам отличаются от трейна) - 1.75 балла\n"
      ]
    },
    {
      "cell_type": "code",
      "metadata": {
        "id": "VMNqNt1u6npC",
        "colab_type": "code",
        "colab": {
          "base_uri": "https://localhost:8080/",
          "height": 34
        },
        "outputId": "ddbb7c64-45be-46dd-ce57-3661547c538d"
      },
      "source": [
        "val['lang'].unique()"
      ],
      "execution_count": 11,
      "outputs": [
        {
          "output_type": "execute_result",
          "data": {
            "text/plain": [
              "array(['es', 'it', 'tr'], dtype=object)"
            ]
          },
          "metadata": {
            "tags": []
          },
          "execution_count": 11
        }
      ]
    },
    {
      "cell_type": "code",
      "metadata": {
        "id": "fZ40ALCf7AR0",
        "colab_type": "code",
        "colab": {
          "base_uri": "https://localhost:8080/",
          "height": 85
        },
        "outputId": "6fdc87b9-24d8-446a-faea-936f694a6b6f"
      },
      "source": [
        "stats = {}\n",
        "stats[\"en\"] = {\"non-toxic\": train[train['toxic'] == 0].shape[0], \"toxic\": train[train['toxic'] == 1].shape[0]}\n",
        "for lang in val['lang'].unique():\n",
        "  stats[lang] = {\"non-toxic\": val[(val['lang'] == lang) & (val['toxic'] == 0)].shape[0], \"toxic\": val[(val['lang'] == lang) & (val['toxic'] == 1)].shape[0]}\n",
        "\n",
        "for lang in stats:\n",
        "  toxic = stats[lang][\"toxic\"]\n",
        "  non_toxic = stats[lang][\"non-toxic\"]\n",
        "  print(f\"lang: {lang}, toxic: {toxic}, non-toxic: {non_toxic}, ratio: {round((toxic+non_toxic)/toxic)}:{round((toxic+non_toxic)/non_toxic)}\")"
      ],
      "execution_count": 12,
      "outputs": [
        {
          "output_type": "stream",
          "text": [
            "lang: en, toxic: 21384, non-toxic: 202165, ratio: 10:1\n",
            "lang: es, toxic: 422, non-toxic: 2078, ratio: 6:1\n",
            "lang: it, toxic: 488, non-toxic: 2012, ratio: 5:1\n",
            "lang: tr, toxic: 320, non-toxic: 2680, ratio: 9:1\n"
          ],
          "name": "stdout"
        }
      ]
    },
    {
      "cell_type": "markdown",
      "metadata": {
        "id": "wle6ZXtlHas8",
        "colab_type": "text"
      },
      "source": [
        "Как мы видим, в val представлены данные по трем языкам - испанскому, итальянскому и турецкому; в трейн выборке у нас есть лишь английский язык.  \n",
        "Данных на английском языке ~100 раз больше, чем на других языках, при этом соотношения классов разнятся - для турецкого и английского соотношение классов ~ 10:1, для итальянского и испанского ~ 6:1"
      ]
    },
    {
      "cell_type": "code",
      "metadata": {
        "id": "orGJ_s1hEtbD",
        "colab_type": "code",
        "colab": {}
      },
      "source": [
        "train['text_length'] = train['comment_text'].str.len()\n",
        "val['text_length'] = val['comment_text'].str.len()"
      ],
      "execution_count": 13,
      "outputs": []
    },
    {
      "cell_type": "code",
      "metadata": {
        "id": "pz8E5kxzFdqW",
        "colab_type": "code",
        "colab": {
          "base_uri": "https://localhost:8080/",
          "height": 1000
        },
        "outputId": "441dc8ad-227e-4c9f-dc88-bc7ccf61fbb0"
      },
      "source": [
        "print(\"train, non-toxic: \\n\", train[train['toxic'] == 0]['text_length'].describe(), \"\\n\")\n",
        "print(\"train, toxic: \\n\", train[train['toxic'] == 1]['text_length'].describe(), \"\\n\")\n",
        "for lang in val['lang'].unique():\n",
        "  print(f\"{lang}, val, non-toxic: \\n\", val[(val['lang'] == lang) & (val['toxic'] == 0)]['text_length'].describe(), \"\\n\")\n",
        "  print(f\"{lang}, val, toxic: \\n\", val[(val['lang'] == lang) & (val['toxic'] == 1)]['text_length'].describe(), \"\\n\")"
      ],
      "execution_count": 14,
      "outputs": [
        {
          "output_type": "stream",
          "text": [
            "train, non-toxic: \n",
            " count    202165.000000\n",
            "mean        402.691178\n",
            "std         589.421496\n",
            "min           1.000000\n",
            "25%         100.000000\n",
            "50%         215.000000\n",
            "75%         450.000000\n",
            "max        5000.000000\n",
            "Name: text_length, dtype: float64 \n",
            "\n",
            "train, toxic: \n",
            " count    21384.000000\n",
            "mean       280.604097\n",
            "std        613.588485\n",
            "min          3.000000\n",
            "25%         55.000000\n",
            "50%        115.000000\n",
            "75%        250.000000\n",
            "max       5000.000000\n",
            "Name: text_length, dtype: float64 \n",
            "\n",
            "es, val, non-toxic: \n",
            " count    2078.000000\n",
            "mean      329.911453\n",
            "std       229.772217\n",
            "min        55.000000\n",
            "25%       165.000000\n",
            "50%       257.000000\n",
            "75%       419.750000\n",
            "max      1559.000000\n",
            "Name: text_length, dtype: float64 \n",
            "\n",
            "es, val, toxic: \n",
            " count     422.000000\n",
            "mean      285.921801\n",
            "std       189.783552\n",
            "min        48.000000\n",
            "25%       152.000000\n",
            "50%       223.000000\n",
            "75%       361.500000\n",
            "max      1089.000000\n",
            "Name: text_length, dtype: float64 \n",
            "\n",
            "it, val, non-toxic: \n",
            " count    2012.000000\n",
            "mean      347.234095\n",
            "std       252.975916\n",
            "min        65.000000\n",
            "25%       168.750000\n",
            "50%       260.500000\n",
            "75%       444.250000\n",
            "max      1419.000000\n",
            "Name: text_length, dtype: float64 \n",
            "\n",
            "it, val, toxic: \n",
            " count     488.000000\n",
            "mean      309.948770\n",
            "std       223.473658\n",
            "min        39.000000\n",
            "25%       154.000000\n",
            "50%       218.500000\n",
            "75%       394.250000\n",
            "max      1155.000000\n",
            "Name: text_length, dtype: float64 \n",
            "\n",
            "tr, val, non-toxic: \n",
            " count    2680.000000\n",
            "mean      439.900000\n",
            "std       317.228372\n",
            "min        91.000000\n",
            "25%       206.000000\n",
            "50%       337.500000\n",
            "75%       559.250000\n",
            "max      1785.000000\n",
            "Name: text_length, dtype: float64 \n",
            "\n",
            "tr, val, toxic: \n",
            " count     320.000000\n",
            "mean      365.209375\n",
            "std       253.454286\n",
            "min        85.000000\n",
            "25%       187.750000\n",
            "50%       292.500000\n",
            "75%       446.250000\n",
            "max      1372.000000\n",
            "Name: text_length, dtype: float64 \n",
            "\n"
          ],
          "name": "stdout"
        }
      ]
    },
    {
      "cell_type": "markdown",
      "metadata": {
        "id": "GMQBVm5BILWW",
        "colab_type": "text"
      },
      "source": [
        "Как мы можем заметить, для всех языков верно утверждение, что токсичный комментарий в среднем короче, чем нетоксичный; интересно, что std в английском у токсичных комментариев больше, для других языков верно обратное - с чем это связано, непонятно.  \n",
        "При этом и минимальная длина комментария в английском языке меньше у нетоксичного комментария, хотя в других языках ситуация обратная."
      ]
    },
    {
      "cell_type": "markdown",
      "metadata": {
        "id": "kv7kTMyFPj2B",
        "colab_type": "text"
      },
      "source": [
        "# Поиск признаков, которые могут обобщаться на многоязычные данные (минимум 10 признаков рассмотрено,, обучать можно любую модель, оценивать нужно на validation.csv)  - 3 балла"
      ]
    },
    {
      "cell_type": "code",
      "metadata": {
        "id": "7JQtcSjUPlX1",
        "colab_type": "code",
        "colab": {}
      },
      "source": [
        "import re \n",
        "from string import punctuation\n",
        "\n",
        "# делаем минимум нормализации т.к. хотим учитывать как можно больше признаков\n",
        "def soft_normalize(text):\n",
        "  text = re.sub(\"\\n|\\t|\\s\\\"\", \" \", text)\n",
        "  return text\n",
        "\n",
        "def tokenize(text):\n",
        "  text = re.sub(f\"[{punctuation}]\", \" \", text)\n",
        "  text = re.sub(\"\\s+\", \" \", text)\n",
        "  return text.split()\n",
        "\n",
        "def sentenize(text):\n",
        "  sents = re.split(\"[\\n.!?]( |$)\", text)\n",
        "  return [s for s in sents if len(s) > 0 and s != \" \"]\n",
        "\n",
        "def sents_count(text):\n",
        "  return len(sentenize(text))\n",
        "\n",
        "def mean_token_length(text):\n",
        "  length = 0\n",
        "  tokens = tokenize(text)\n",
        "  if len(tokens) == 0:\n",
        "    return 0\n",
        "  for token in tokens:\n",
        "    length += len(token)\n",
        "  return length/len(tokens)\n",
        "\n",
        "def caps_ratio(text):\n",
        "  total = len(text)\n",
        "  caps = 0\n",
        "  for letter in text:\n",
        "    if letter not in punctuation and letter != \" \":\n",
        "      if letter.lower() != letter:\n",
        "        caps += 1\n",
        "  return caps/total\n",
        "\n",
        "def nonalpha_ratio(text):\n",
        "  total = len(text)\n",
        "  nonalpha = 0\n",
        "  sents = sentenize(text)\n",
        "  for sent in sents:\n",
        "    for letter in text:\n",
        "      if letter in punctuation:\n",
        "        nonalpha += 1\n",
        "  return nonalpha/total\n",
        "\n",
        "def numeric_ratio(text):\n",
        "  total = len(text)\n",
        "  numeric = 0\n",
        "  for letter in text:\n",
        "    if letter.isnumeric():\n",
        "      numeric += 1\n",
        "  return numeric/total\n",
        "\n",
        "def has_link(text):\n",
        "  return int(re.search(\"https?://[^ ]+\", text) is not None)\n",
        "\n",
        "def longest_word(text):\n",
        "  tokens = tokenize(text)\n",
        "  length = 0\n",
        "  for t in tokens:\n",
        "    if len(t) > length:\n",
        "      length = len(t)\n",
        "  return length\n",
        "\n",
        "def max_sent_complexity(text):\n",
        "  compl = 0\n",
        "  sents = sentenize(text)\n",
        "  for s in sents:\n",
        "    matches = re.findall(\"[,;\\:\\-()]+\", s)\n",
        "    if len(matches) > compl:\n",
        "      compl = len(matches)\n",
        "  return compl\n",
        "\n",
        "def rage_punctuation_length(text):\n",
        "  length = 0\n",
        "  matches = re.findall(\"[?!.]+\", text)\n",
        "  for m in matches:\n",
        "    if len(m) > length:\n",
        "      length = len(m)\n",
        "  return length\n",
        "\n",
        "def longest_same_char(text):\n",
        "  length = 0\n",
        "  curr_length = 1\n",
        "  for i in range(1,len(text)):\n",
        "    if text[i] == text[i-1]:\n",
        "      curr_length += 1\n",
        "    else:\n",
        "      if curr_length > length:\n",
        "        length = curr_length\n",
        "      curr_length = 1\n",
        "  if curr_length > length:\n",
        "    return curr_length\n",
        "  return length "
      ],
      "execution_count": 15,
      "outputs": []
    },
    {
      "cell_type": "code",
      "metadata": {
        "id": "ojetJbNHTfD5",
        "colab_type": "code",
        "colab": {}
      },
      "source": [
        "train['text_soft_normalized'] = train['comment_text'].apply(soft_normalize)\n",
        "\n",
        "train['text_mean_tokens_length'] = train['text_soft_normalized'].apply(mean_token_length)\n",
        "train['text_sents_count'] = train['comment_text'].apply(sents_count)\n",
        "train['text_caps_ratio'] = train['comment_text'].apply(caps_ratio)\n",
        "train['text_nonalpha_ratio'] = train['text_soft_normalized'].apply(nonalpha_ratio)\n",
        "train['text_numeric_ratio'] = train['comment_text'].apply(numeric_ratio)\n",
        "train['text_has_link'] = train['comment_text'].apply(has_link)\n",
        "train['text_longest_word'] = train['text_soft_normalized'].apply(longest_word)\n",
        "train['text_complexity'] = train['text_soft_normalized'].apply(max_sent_complexity)\n",
        "train['text_rage_punctuation_length'] = train['text_soft_normalized'].apply(rage_punctuation_length)\n",
        "train['text_longest_same_char'] = train['text_soft_normalized'].apply(longest_same_char)"
      ],
      "execution_count": 16,
      "outputs": []
    },
    {
      "cell_type": "code",
      "metadata": {
        "id": "rmms31ndc8f7",
        "colab_type": "code",
        "colab": {}
      },
      "source": [
        "val['text_soft_normalized'] = val['comment_text'].apply(soft_normalize)\n",
        "\n",
        "val['text_mean_tokens_length'] = val['text_soft_normalized'].apply(mean_token_length)\n",
        "val['text_sents_count'] = val['comment_text'].apply(sents_count)\n",
        "val['text_caps_ratio'] = val['comment_text'].apply(caps_ratio)\n",
        "val['text_nonalpha_ratio'] = val['text_soft_normalized'].apply(nonalpha_ratio)\n",
        "val['text_numeric_ratio'] = val['comment_text'].apply(numeric_ratio)\n",
        "val['text_has_link'] = val['comment_text'].apply(has_link)\n",
        "val['text_longest_word'] = val['text_soft_normalized'].apply(longest_word)\n",
        "val['text_complexity'] = val['text_soft_normalized'].apply(max_sent_complexity)\n",
        "val['text_rage_punctuation_length'] = val['text_soft_normalized'].apply(rage_punctuation_length)\n",
        "val['text_longest_same_char'] = val['text_soft_normalized'].apply(longest_same_char)"
      ],
      "execution_count": 17,
      "outputs": []
    },
    {
      "cell_type": "code",
      "metadata": {
        "id": "E73tZJBCcW5K",
        "colab_type": "code",
        "colab": {}
      },
      "source": [
        "X_train = train[['text_mean_tokens_length', 'text_sents_count', 'text_caps_ratio', 'text_nonalpha_ratio', 'text_numeric_ratio', 'text_has_link', 'text_longest_word', 'text_complexity', 'text_rage_punctuation_length', 'text_longest_same_char']].values\n",
        "Y_train = train['toxic']\n",
        "X_val = val[['text_mean_tokens_length', 'text_sents_count', 'text_caps_ratio', 'text_nonalpha_ratio', 'text_numeric_ratio', 'text_has_link', 'text_longest_word', 'text_complexity', 'text_rage_punctuation_length', 'text_longest_same_char']].values\n",
        "Y_val = val['toxic']"
      ],
      "execution_count": 18,
      "outputs": []
    },
    {
      "cell_type": "code",
      "metadata": {
        "id": "m5G3eCTydOMF",
        "colab_type": "code",
        "colab": {
          "base_uri": "https://localhost:8080/",
          "height": 68
        },
        "outputId": "bb15bf90-e00b-4cf8-c5f0-f16e4a770df7"
      },
      "source": [
        "from sklearn.model_selection import KFold\n",
        "from sklearn.tree import DecisionTreeClassifier\n",
        "from sklearn.metrics import roc_auc_score\n",
        "\n",
        "splits = 10\n",
        "\n",
        "kf = KFold(n_splits=splits, random_state=42, shuffle=True)\n",
        "score_train = []\n",
        "score_train_sum = 0\n",
        "for train, test in kf.split(X_train):\n",
        "  X_train_train, X_train_test, Y_train_train, Y_train_test = X_train[train], X_train[test], Y_train[train], Y_train[test]\n",
        "  clf = DecisionTreeClassifier(class_weight = {0: 0.91, 1:0.09}, random_state=42).fit(X_train_train, Y_train_train)\n",
        "  predicted = clf.predict(X_train_test)\n",
        "  score = roc_auc_score(Y_train_test, predicted)\n",
        "  score_train_sum += score\n",
        "  score_train.append(score)\n",
        "\n",
        "mean_score_train = score_train_sum/splits\n",
        "std = 0\n",
        "for score in score_train:\n",
        "  std += (score - mean_score_train) * (score - mean_score_train)\n",
        "  \n",
        "print(std/splits)\n",
        "\n",
        "clf = DecisionTreeClassifier(class_weight = {0: 0.91, 1:0.09}, random_state=42).fit(X_train, Y_train)\n",
        "predicted = clf.predict(X_val)\n",
        "score_val = roc_auc_score(Y_val, predicted)\n",
        "\n",
        "print(mean_score_train)\n",
        "print(score_val)"
      ],
      "execution_count": 19,
      "outputs": [
        {
          "output_type": "stream",
          "text": [
            "1.599411843405361e-05\n",
            "0.5751383882122605\n",
            "0.5421227077854235\n"
          ],
          "name": "stdout"
        }
      ]
    },
    {
      "cell_type": "markdown",
      "metadata": {
        "id": "zSIUOo9ui8_Z",
        "colab_type": "text"
      },
      "source": [
        "Как видим, std очень маленькое, так что переобучения нет; roc_auc_score на val не особо хуже, чем на отложенных трейнах, радуемся этому!\n",
        "Похоже, что какие-то из признаков действительно рабочие"
      ]
    },
    {
      "cell_type": "markdown",
      "metadata": {
        "id": "DvpDAM3kJPkt",
        "colab_type": "text"
      },
      "source": [
        "# Бейзлайн модель, которая работает на отложенной выборке (из трейна) и validation.csv (различие в точности может быть большим, но главное попробовать любыми способами его уменьшить и зафиксировать эксперименты) - 3 балла"
      ]
    },
    {
      "cell_type": "markdown",
      "metadata": {
        "id": "pZVQlAV2j9Ml",
        "colab_type": "text"
      },
      "source": [
        "Будем использовать ту же модель, что сделали выше, попробуем ее улучшить"
      ]
    },
    {
      "cell_type": "code",
      "metadata": {
        "id": "8muj8ASNPjKy",
        "colab_type": "code",
        "colab": {}
      },
      "source": [
        "from sklearn.tree import DecisionTreeClassifier\n",
        "from sklearn.model_selection import KFold\n",
        "\n",
        "splits = 10\n",
        "kf = KFold(n_splits=splits, random_state=42, shuffle=True)\n",
        "\n",
        "def baseline(model):\n",
        "  score_train = []\n",
        "  score_train_sum = 0\n",
        "  for train, test in kf.split(X_train):\n",
        "    X_train_train, X_train_test, Y_train_train, Y_train_test = X_train[train], X_train[test], Y_train[train], Y_train[test]\n",
        "    clf = model.fit(X_train_train, Y_train_train)\n",
        "    predicted = clf.predict(X_train_test)\n",
        "    score = roc_auc_score(Y_train_test, predicted)\n",
        "    score_train_sum += score\n",
        "    score_train.append(score)\n",
        "\n",
        "  mean_score_train = score_train_sum/splits\n",
        "  std = 0\n",
        "  for score in score_train:\n",
        "    std += (score - mean_score_train) * (score - mean_score_train)\n",
        "\n",
        "  clf = model.fit(X_train, Y_train)\n",
        "  predicted = clf.predict(X_val)\n",
        "  score_val = roc_auc_score(Y_val, predicted)\n",
        "\n",
        "  print(f\"train_score: {mean_score_train}, val_score: {score_val}\")"
      ],
      "execution_count": 27,
      "outputs": []
    },
    {
      "cell_type": "code",
      "metadata": {
        "id": "V2EFQm-8nz98",
        "colab_type": "code",
        "colab": {
          "base_uri": "https://localhost:8080/",
          "height": 323
        },
        "outputId": "09271b5a-d484-4696-9019-839dc3d3e33d"
      },
      "source": [
        "first_class_weights = [0.1, 0.2, 0.3, 0.4, 0.5, 0.6, 0.7, 0.8, 0.9]\n",
        "\n",
        "for i in first_class_weights:\n",
        "  print(f\"weights: {i}, {1-i}\")\n",
        "  model = DecisionTreeClassifier(class_weight = {0: i, 1: 1-i}, random_state=42)\n",
        "  baseline(model)"
      ],
      "execution_count": 21,
      "outputs": [
        {
          "output_type": "stream",
          "text": [
            "weights: 0.1, 0.9\n",
            "train_score: 0.5750142868401349, val_score: 0.5273300428720683\n",
            "weights: 0.2, 0.8\n",
            "train_score: 0.5767710651888928, val_score: 0.5379772069507992\n",
            "weights: 0.3, 0.7\n",
            "train_score: 0.5791864874919617, val_score: 0.5363547933854522\n",
            "weights: 0.4, 0.6\n",
            "train_score: 0.575905152958435, val_score: 0.5427465744376794\n",
            "weights: 0.5, 0.5\n",
            "train_score: 0.5706613109885532, val_score: 0.5438201774927646\n",
            "weights: 0.6, 0.4\n",
            "train_score: 0.5713590214314728, val_score: 0.5433037912358445\n",
            "weights: 0.7, 0.30000000000000004\n",
            "train_score: 0.5717810966336813, val_score: 0.5413078983079342\n",
            "weights: 0.8, 0.19999999999999996\n",
            "train_score: 0.5741593776202095, val_score: 0.5480323281814798\n",
            "weights: 0.9, 0.09999999999999998\n",
            "train_score: 0.5752629939451948, val_score: 0.5457055877796592\n"
          ],
          "name": "stdout"
        }
      ]
    },
    {
      "cell_type": "markdown",
      "metadata": {
        "id": "zAhfJQ5PsCfx",
        "colab_type": "text"
      },
      "source": [
        "При весах классов 0.8, 0.2 мы получаем самый высокий val_score, при этом train_score не сильно падает;  \n",
        "train_score: 0.5741593776202095, val_score: 0.5480323281814798"
      ]
    },
    {
      "cell_type": "code",
      "metadata": {
        "id": "GyrGmdDTFeWU",
        "colab_type": "code",
        "colab": {
          "base_uri": "https://localhost:8080/",
          "height": 187
        },
        "outputId": "a189c260-b3c3-4ab7-bcb9-fb77d0099efb"
      },
      "source": [
        "samples = [1,2,3,4,5]\n",
        "for sample in samples:\n",
        "  print(f\"samples: {sample}\")\n",
        "  model = DecisionTreeClassifier(class_weight = {0: 0.8, 1: 0.2}, min_samples_leaf=sample, random_state=42)\n",
        "  baseline(model)"
      ],
      "execution_count": 29,
      "outputs": [
        {
          "output_type": "stream",
          "text": [
            "samples: 1\n",
            "train_score: 0.5734202641751349, val_score: 0.5417162037203829\n",
            "samples: 2\n",
            "train_score: 0.5544395284523362, val_score: 0.5360053319883273\n",
            "samples: 3\n",
            "train_score: 0.5404313664425986, val_score: 0.520071213267524\n",
            "samples: 4\n",
            "train_score: 0.5339024565320598, val_score: 0.5166318406167814\n",
            "samples: 5\n",
            "train_score: 0.5302379119245937, val_score: 0.5122713789914857\n"
          ],
          "name": "stdout"
        }
      ]
    },
    {
      "cell_type": "code",
      "metadata": {
        "id": "AYxNjvF0tYTG",
        "colab_type": "code",
        "colab": {
          "base_uri": "https://localhost:8080/",
          "height": 85
        },
        "outputId": "eb671a38-3fab-4921-8507-d06a727ee3b5"
      },
      "source": [
        "splitters = ['best', 'random']\n",
        "for splitter in splitters:\n",
        "  print(f\"splitter: {splitter}\")\n",
        "  model = DecisionTreeClassifier(class_weight = {0: 0.8, 1: 0.2}, min_samples_leaf=1, splitter=splitter, random_state=42)\n",
        "  baseline(model)"
      ],
      "execution_count": 30,
      "outputs": [
        {
          "output_type": "stream",
          "text": [
            "splitter: best\n",
            "train_score: 0.5734202641751349, val_score: 0.5417162037203829\n",
            "splitter: random\n",
            "train_score: 0.5717158287794799, val_score: 0.5469611269229383\n"
          ],
          "name": "stdout"
        }
      ]
    },
    {
      "cell_type": "code",
      "metadata": {
        "id": "bRGMMzVbxnjV",
        "colab_type": "code",
        "colab": {
          "base_uri": "https://localhost:8080/",
          "height": 85
        },
        "outputId": "bc83036b-85ce-4186-cc16-5536b5ac4c78"
      },
      "source": [
        "criterions = ['gini', 'entropy']\n",
        "for criterion in criterions:\n",
        "  print(f\"criterion: {criterion}\")\n",
        "  model = DecisionTreeClassifier(class_weight = {0: 0.8, 1: 0.2}, min_samples_leaf=1, splitter='random', criterion=criterion, random_state=42)\n",
        "  baseline(model)"
      ],
      "execution_count": 32,
      "outputs": [
        {
          "output_type": "stream",
          "text": [
            "criterion: gini\n",
            "train_score: 0.5717158287794799, val_score: 0.5469611269229383\n",
            "criterion: entropy\n",
            "train_score: 0.5720764380461504, val_score: 0.5251606201438677\n"
          ],
          "name": "stdout"
        }
      ]
    },
    {
      "cell_type": "code",
      "metadata": {
        "id": "ifyo5lNLyCS3",
        "colab_type": "code",
        "colab": {
          "base_uri": "https://localhost:8080/",
          "height": 153
        },
        "outputId": "6a2e209f-31b1-4ff0-8fec-225ec02e8742"
      },
      "source": [
        "features = ['auto', 'sqrt', 'log2', None]\n",
        "for feature in features:\n",
        "  print(f\"max features: {feature}\")\n",
        "  model = DecisionTreeClassifier(class_weight = {0: 0.8, 1: 0.2}, min_samples_leaf=1, splitter='random', criterion='gini', random_state=42, max_features=feature)\n",
        "  baseline(model)"
      ],
      "execution_count": 34,
      "outputs": [
        {
          "output_type": "stream",
          "text": [
            "max features: auto\n",
            "train_score: 0.5685961466154824, val_score: 0.5404522582892004\n",
            "max features: sqrt\n",
            "train_score: 0.5685961466154824, val_score: 0.5404522582892004\n",
            "max features: log2\n",
            "train_score: 0.5685961466154824, val_score: 0.5404522582892004\n",
            "max features: None\n",
            "train_score: 0.5717158287794799, val_score: 0.5469611269229383\n"
          ],
          "name": "stdout"
        }
      ]
    },
    {
      "cell_type": "code",
      "metadata": {
        "id": "9yvSMQ-zyZYO",
        "colab_type": "code",
        "colab": {
          "base_uri": "https://localhost:8080/",
          "height": 68
        },
        "outputId": "531f0e31-b3a3-40bd-a6a2-c15388e5ced7"
      },
      "source": [
        "baseline_model = DecisionTreeClassifier(class_weight = {0: 0.8, 1: 0.2}, min_samples_leaf=1, splitter='random', criterion='gini', random_state=42, max_features=None)\n",
        "baseline_model = baseline_model.fit(X_train, Y_train)\n",
        "predicted = baseline_model.predict(X_val)\n",
        "score_val = roc_auc_score(Y_val, predicted)\n",
        "print(score_val)\n",
        "print(baseline_model.feature_importances_)"
      ],
      "execution_count": 37,
      "outputs": [
        {
          "output_type": "stream",
          "text": [
            "0.5469611269229383\n",
            "[0.22146641 0.06784836 0.21359617 0.18782283 0.04220467 0.00031634\n",
            " 0.09445116 0.05256964 0.0350566  0.0846678 ]\n"
          ],
          "name": "stdout"
        }
      ]
    },
    {
      "cell_type": "markdown",
      "metadata": {
        "id": "ZadJ1T-zzBta",
        "colab_type": "text"
      },
      "source": [
        "Как мы видим, самыми важными параметрами оказались:  \n",
        "- text_mean_tokens_length - 0.22146641\n",
        "- text_caps_ratio - 0.21359617\n",
        "- text_nonalpha_ratio - 0.1878228"
      ]
    },
    {
      "cell_type": "code",
      "metadata": {
        "id": "rjjb4yR-zHFJ",
        "colab_type": "code",
        "colab": {}
      },
      "source": [
        ""
      ],
      "execution_count": null,
      "outputs": []
    }
  ]
}