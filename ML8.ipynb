{
  "nbformat": 4,
  "nbformat_minor": 0,
  "metadata": {
    "colab": {
      "name": "RNN.ipynb",
      "provenance": [],
      "collapsed_sections": []
    },
    "kernelspec": {
      "name": "python3",
      "display_name": "Python 3"
    },
    "accelerator": "GPU"
  },
  "cells": [
    {
      "cell_type": "code",
      "metadata": {
        "id": "P7DURgW0Ftzb",
        "colab_type": "code",
        "colab": {}
      },
      "source": [
        "from tensorflow.keras.models import Sequential\n",
        "from tensorflow.keras.layers import Dense, Activation, Dropout, LSTM, GRU, Bidirectional, TimeDistributed, InputLayer, Embedding, Conv1D, Input, concatenate, Flatten\n",
        "from tensorflow.keras.preprocessing.sequence import pad_sequences\n",
        "from tensorflow.keras.utils import to_categorical\n",
        "import numpy as np\n",
        "from sklearn.model_selection import train_test_split\n",
        "import matplotlib.pyplot as plt\n",
        "from collections import Counter\n",
        "from tensorflow.keras import Model"
      ],
      "execution_count": 150,
      "outputs": []
    },
    {
      "cell_type": "code",
      "metadata": {
        "id": "Pleghxf3J8DU",
        "colab_type": "code",
        "colab": {}
      },
      "source": [
        "from numpy.random import seed\n",
        "seed(0)\n",
        "from tensorflow.random import set_seed\n",
        "set_seed(0)"
      ],
      "execution_count": 2,
      "outputs": []
    },
    {
      "cell_type": "markdown",
      "metadata": {
        "id": "F6vFO6bUn59g",
        "colab_type": "text"
      },
      "source": [
        "\n",
        "**POS tagging**\n",
        "\n",
        "А теперь модифицируем нашу сеть для задачи тэгирования последовательности(many-to-many). На вход сеть будет брать предложение длины n, а на выход отдавать n частеречных тэгов, соответсвующих словам в предложении.   "
      ]
    },
    {
      "cell_type": "code",
      "metadata": {
        "id": "dsRKLCFPposv",
        "colab_type": "code",
        "colab": {
          "base_uri": "https://localhost:8080/",
          "height": 68
        },
        "outputId": "f144e492-1e1f-4135-f8d0-1fb7035ed681"
      },
      "source": [
        "import nltk\n",
        "nltk.download('treebank')"
      ],
      "execution_count": 22,
      "outputs": [
        {
          "output_type": "stream",
          "text": [
            "[nltk_data] Downloading package treebank to /root/nltk_data...\n",
            "[nltk_data]   Unzipping corpora/treebank.zip.\n"
          ],
          "name": "stdout"
        },
        {
          "output_type": "execute_result",
          "data": {
            "text/plain": [
              "True"
            ]
          },
          "metadata": {
            "tags": []
          },
          "execution_count": 22
        }
      ]
    },
    {
      "cell_type": "code",
      "metadata": {
        "id": "zpdEYY8TrMTL",
        "colab_type": "code",
        "colab": {}
      },
      "source": [
        "tagged_sentences = nltk.corpus.treebank.tagged_sents()"
      ],
      "execution_count": 23,
      "outputs": []
    },
    {
      "cell_type": "code",
      "metadata": {
        "id": "2XgzWnhnrPdS",
        "colab_type": "code",
        "colab": {
          "base_uri": "https://localhost:8080/",
          "height": 323
        },
        "outputId": "df1257ac-f606-4aeb-da11-f3e33cbd0c7a"
      },
      "source": [
        "tagged_sentences[0]"
      ],
      "execution_count": 24,
      "outputs": [
        {
          "output_type": "execute_result",
          "data": {
            "text/plain": [
              "[('Pierre', 'NNP'),\n",
              " ('Vinken', 'NNP'),\n",
              " (',', ','),\n",
              " ('61', 'CD'),\n",
              " ('years', 'NNS'),\n",
              " ('old', 'JJ'),\n",
              " (',', ','),\n",
              " ('will', 'MD'),\n",
              " ('join', 'VB'),\n",
              " ('the', 'DT'),\n",
              " ('board', 'NN'),\n",
              " ('as', 'IN'),\n",
              " ('a', 'DT'),\n",
              " ('nonexecutive', 'JJ'),\n",
              " ('director', 'NN'),\n",
              " ('Nov.', 'NNP'),\n",
              " ('29', 'CD'),\n",
              " ('.', '.')]"
            ]
          },
          "metadata": {
            "tags": []
          },
          "execution_count": 24
        }
      ]
    },
    {
      "cell_type": "code",
      "metadata": {
        "id": "GpOeKGzorn-K",
        "colab_type": "code",
        "colab": {}
      },
      "source": [
        "sentences, sentence_tags =[], [] \n",
        "for tagged_sentence in tagged_sentences:\n",
        "    sentence, tags = zip(*tagged_sentence)\n",
        "    sentences.append(sentence)\n",
        "    sentence_tags.append(tags)"
      ],
      "execution_count": 25,
      "outputs": []
    },
    {
      "cell_type": "code",
      "metadata": {
        "id": "ZwvfV0ArrbaJ",
        "colab_type": "code",
        "colab": {
          "base_uri": "https://localhost:8080/",
          "height": 323
        },
        "outputId": "c7d674d1-ead9-4e4e-ec65-db89122a90d9"
      },
      "source": [
        "sentences[0]"
      ],
      "execution_count": 26,
      "outputs": [
        {
          "output_type": "execute_result",
          "data": {
            "text/plain": [
              "('Pierre',\n",
              " 'Vinken',\n",
              " ',',\n",
              " '61',\n",
              " 'years',\n",
              " 'old',\n",
              " ',',\n",
              " 'will',\n",
              " 'join',\n",
              " 'the',\n",
              " 'board',\n",
              " 'as',\n",
              " 'a',\n",
              " 'nonexecutive',\n",
              " 'director',\n",
              " 'Nov.',\n",
              " '29',\n",
              " '.')"
            ]
          },
          "metadata": {
            "tags": []
          },
          "execution_count": 26
        }
      ]
    },
    {
      "cell_type": "code",
      "metadata": {
        "id": "XZ0cV_zO7C11",
        "colab_type": "code",
        "colab": {
          "base_uri": "https://localhost:8080/",
          "height": 34
        },
        "outputId": "f21e883c-766c-44d5-8b2e-e8c97ba4c374"
      },
      "source": [
        "len(sentence_tags)"
      ],
      "execution_count": 27,
      "outputs": [
        {
          "output_type": "execute_result",
          "data": {
            "text/plain": [
              "3914"
            ]
          },
          "metadata": {
            "tags": []
          },
          "execution_count": 27
        }
      ]
    },
    {
      "cell_type": "code",
      "metadata": {
        "id": "N6U9MiGvswZQ",
        "colab_type": "code",
        "colab": {}
      },
      "source": [
        "sent_train, sent_test, tag_train, tag_test = train_test_split(sentences, sentence_tags, test_size=0.2, random_state=0)"
      ],
      "execution_count": 28,
      "outputs": []
    },
    {
      "cell_type": "code",
      "metadata": {
        "id": "zMVyCfBudYx2",
        "colab_type": "code",
        "colab": {}
      },
      "source": [
        "vocab = Counter()\n",
        "for sent in sent_train:\n",
        "    sent = [word.lower() for word in sent]\n",
        "    vocab.update(sent)"
      ],
      "execution_count": 29,
      "outputs": []
    },
    {
      "cell_type": "code",
      "metadata": {
        "id": "kFs5LQa8dtmQ",
        "colab_type": "code",
        "colab": {}
      },
      "source": [
        "filtered_vocab = {word for word in vocab if vocab[word] > 5}"
      ],
      "execution_count": 30,
      "outputs": []
    },
    {
      "cell_type": "code",
      "metadata": {
        "id": "_0CeXTZmrlSA",
        "colab_type": "code",
        "colab": {
          "base_uri": "https://localhost:8080/",
          "height": 34
        },
        "outputId": "f8f2cd0f-4771-4ee2-8e09-4a6e387dc038"
      },
      "source": [
        "len(filtered_vocab)"
      ],
      "execution_count": 31,
      "outputs": [
        {
          "output_type": "execute_result",
          "data": {
            "text/plain": [
              "1679"
            ]
          },
          "metadata": {
            "tags": []
          },
          "execution_count": 31
        }
      ]
    },
    {
      "cell_type": "code",
      "metadata": {
        "id": "6pI4J0KRbxEH",
        "colab_type": "code",
        "colab": {}
      },
      "source": [
        "word2id = {'PAD':0,'UNK':1}    \n",
        "for i,word in enumerate(filtered_vocab):\n",
        "      word2id[word] = i + 2\n",
        "\n",
        "id2word = {i:word for word, i in word2id.items()}"
      ],
      "execution_count": 32,
      "outputs": []
    },
    {
      "cell_type": "code",
      "metadata": {
        "id": "fq5TYAW47cuE",
        "colab_type": "code",
        "colab": {
          "base_uri": "https://localhost:8080/",
          "height": 34
        },
        "outputId": "9908edfe-619e-4d5c-f395-bb590a5e7d89"
      },
      "source": [
        "len(id2word)"
      ],
      "execution_count": 33,
      "outputs": [
        {
          "output_type": "execute_result",
          "data": {
            "text/plain": [
              "1681"
            ]
          },
          "metadata": {
            "tags": []
          },
          "execution_count": 33
        }
      ]
    },
    {
      "cell_type": "code",
      "metadata": {
        "id": "kxsX1P2dsy6G",
        "colab_type": "code",
        "colab": {}
      },
      "source": [
        "tag2id = {'PAD':0}  \n",
        "for tags in tag_train:\n",
        "    for tag in tags:\n",
        "      if tag.lower() not in tag2id:\n",
        "        tag2id[tag.lower()] = len(tag2id)\n",
        "\n",
        "id2tag = {i:tag for tag, i in tag2id.items()}"
      ],
      "execution_count": 34,
      "outputs": []
    },
    {
      "cell_type": "code",
      "metadata": {
        "id": "C7BWPXIH7juM",
        "colab_type": "code",
        "colab": {
          "base_uri": "https://localhost:8080/",
          "height": 34
        },
        "outputId": "169d18c0-f991-43a5-b659-8dfc2ce3f46b"
      },
      "source": [
        "len(id2tag)"
      ],
      "execution_count": 35,
      "outputs": [
        {
          "output_type": "execute_result",
          "data": {
            "text/plain": [
              "47"
            ]
          },
          "metadata": {
            "tags": []
          },
          "execution_count": 35
        }
      ]
    },
    {
      "cell_type": "code",
      "metadata": {
        "id": "uEj5MvnDc4M8",
        "colab_type": "code",
        "colab": {}
      },
      "source": [
        "def data2ints(data, smth2id):\n",
        "  int_data = []\n",
        "  for seq in data:\n",
        "      int_seq = []\n",
        "      for i in seq:\n",
        "          try:\n",
        "            int_seq.append(smth2id[i.lower()])\n",
        "          except KeyError:\n",
        "            int_seq.append(smth2id['UNK'])\n",
        "  \n",
        "      int_data.append(int_seq)\n",
        "  return int_data\n",
        " "
      ],
      "execution_count": 36,
      "outputs": []
    },
    {
      "cell_type": "code",
      "metadata": {
        "id": "DGQLTQhP2Cli",
        "colab_type": "code",
        "colab": {
          "base_uri": "https://localhost:8080/",
          "height": 85
        },
        "outputId": "11a1e6a7-38d0-49d4-9d48-63cb234a12f2"
      },
      "source": [
        "X_train_ids, X_test_ids = data2ints(sent_train, word2id), data2ints(sent_test, word2id)\n",
        "y_train_ids, y_test_ids = data2ints(tag_train, tag2id), data2ints(tag_test, tag2id)\n",
        "\n",
        "\n",
        "print(X_train_ids[0])\n",
        "print(X_test_ids[0])\n",
        "print(y_train_ids[0])\n",
        "print(y_test_ids[0])"
      ],
      "execution_count": 37,
      "outputs": [
        {
          "output_type": "stream",
          "text": [
            "[1427, 1, 1, 1, 1069, 1, 1611, 29, 928]\n",
            "[392, 1035, 1188, 1325, 116, 615, 838, 1, 598, 1, 577, 629, 278, 928]\n",
            "[1, 1, 1, 2, 1, 1, 3, 4, 5]\n",
            "[18, 19, 21, 24, 10, 25, 24, 18, 21, 14, 3, 7, 15, 5]\n"
          ],
          "name": "stdout"
        }
      ]
    },
    {
      "cell_type": "code",
      "metadata": {
        "id": "_GZKZJlK2MgG",
        "colab_type": "code",
        "colab": {}
      },
      "source": [
        "MAX_LEN = max(len(x) for x in X_train)"
      ],
      "execution_count": 126,
      "outputs": []
    },
    {
      "cell_type": "code",
      "metadata": {
        "id": "2uQTyrSvggTf",
        "colab_type": "code",
        "colab": {}
      },
      "source": [
        "X_train, X_test = pad_sequences(X_train_ids, maxlen=MAX_LEN, padding='post'), pad_sequences(X_test_ids, maxlen=MAX_LEN, padding='post')\n",
        "y_train_pad, y_test_pad = pad_sequences(y_train_ids, maxlen=MAX_LEN, padding='post'), pad_sequences(y_test_ids, maxlen=MAX_LEN, padding='post')"
      ],
      "execution_count": 63,
      "outputs": []
    },
    {
      "cell_type": "code",
      "metadata": {
        "id": "Z7lSjAeHhlip",
        "colab_type": "code",
        "colab": {
          "base_uri": "https://localhost:8080/",
          "height": 34
        },
        "outputId": "f2a026ae-ed37-4bb7-8f2b-628d78f311d5"
      },
      "source": [
        "print(X_train.shape, y_train_pad.shape, X_test.shape, y_test_pad.shape)"
      ],
      "execution_count": 135,
      "outputs": [
        {
          "output_type": "stream",
          "text": [
            "(3131, 32) (3131, 32) (783, 32) (783, 32)\n"
          ],
          "name": "stdout"
        }
      ]
    },
    {
      "cell_type": "code",
      "metadata": {
        "id": "iZ-oTLnVpsp7",
        "colab_type": "code",
        "colab": {}
      },
      "source": [
        "y_train, y_test = to_categorical(y_train_pad, num_classes=len(tag2id)), to_categorical(y_test_pad, num_classes=len(tag2id))"
      ],
      "execution_count": 65,
      "outputs": []
    },
    {
      "cell_type": "code",
      "metadata": {
        "id": "ALav5c9kecfk",
        "colab_type": "code",
        "colab": {
          "base_uri": "https://localhost:8080/",
          "height": 136
        },
        "outputId": "e85a5012-08b4-4529-f5fd-8398dd7785e0"
      },
      "source": [
        "y_test[6]\n"
      ],
      "execution_count": 66,
      "outputs": [
        {
          "output_type": "execute_result",
          "data": {
            "text/plain": [
              "array([[0., 0., 0., ..., 0., 0., 0.],\n",
              "       [0., 0., 0., ..., 0., 0., 0.],\n",
              "       [0., 0., 0., ..., 0., 0., 0.],\n",
              "       ...,\n",
              "       [1., 0., 0., ..., 0., 0., 0.],\n",
              "       [1., 0., 0., ..., 0., 0., 0.],\n",
              "       [1., 0., 0., ..., 0., 0., 0.]], dtype=float32)"
            ]
          },
          "metadata": {
            "tags": []
          },
          "execution_count": 66
        }
      ]
    },
    {
      "cell_type": "code",
      "metadata": {
        "id": "WhBkA8Bqb0CR",
        "colab_type": "code",
        "colab": {
          "base_uri": "https://localhost:8080/",
          "height": 51
        },
        "outputId": "d5262591-8824-4c74-d9f2-df5bc0d2b75a"
      },
      "source": [
        "np.argmax(y_test[6], axis=1)"
      ],
      "execution_count": 67,
      "outputs": [
        {
          "output_type": "execute_result",
          "data": {
            "text/plain": [
              "array([21,  7, 16,  2, 15,  3,  7,  4,  5,  0,  0,  0,  0,  0,  0,  0,  0,\n",
              "        0,  0,  0,  0,  0,  0,  0,  0,  0,  0,  0,  0,  0,  0,  0])"
            ]
          },
          "metadata": {
            "tags": []
          },
          "execution_count": 67
        }
      ]
    },
    {
      "cell_type": "markdown",
      "metadata": {
        "id": "QHepfiYWbIn6",
        "colab_type": "text"
      },
      "source": [
        "# HW"
      ]
    },
    {
      "cell_type": "code",
      "metadata": {
        "id": "58d5-tA3iqBP",
        "colab_type": "code",
        "colab": {
          "base_uri": "https://localhost:8080/",
          "height": 204
        },
        "outputId": "0ba5c792-2bd5-4a52-9953-a04df92106bc"
      },
      "source": [
        "m = 0\n",
        "for sent in char_sent_train:\n",
        "  for word in sent:\n",
        "    if len(word) > m:\n",
        "      m = len(word)\n",
        "      print(word, m)"
      ],
      "execution_count": 105,
      "outputs": [
        {
          "output_type": "stream",
          "text": [
            "['E', 'd', 'w', 'a', 'r', 'd'] 6\n",
            "['s', 'u', 'c', 'c', 'e', 'e', 'd', 'e', 'd'] 9\n",
            "['c', 'h', 'a', 'r', 'a', 'c', 't', 'e', 'r', 's'] 10\n",
            "['i', 'n', 't', 'e', 'r', 't', 'i', 't', 'l', 'e', 's'] 11\n",
            "['m', 'u', 'l', 't', 'i', '-', 'c', 'r', 'y', 's', 't', 'a', 'l'] 13\n",
            "['s', 't', 'o', 'c', 'k', '-', 's', 'p', 'e', 'c', 'i', 'a', 'l', 'i', 's', 't'] 16\n",
            "['C', 'o', 'r', 't', 'o', 'n', '-', 'C', 'h', 'a', 'r', 'l', 'e', 'm', 'a', 'g', 'n', 'e'] 18\n",
            "['t', 'e', 'l', 'e', 'p', 'h', 'o', 'n', 'e', '-', 'i', 'n', 'f', 'o', 'r', 'm', 'a', 't', 'i', 'o', 'n'] 21\n",
            "['M', 'a', 'c', 'm', 'i', 'l', 'l', 'a', 'n', '\\\\', '/', 'M', 'c', 'G', 'r', 'a', 'w', '-', 'H', 'i', 'l', 'l'] 22\n",
            "['m', 'a', 'r', 'k', 'e', 't', 'i', 'n', 'g', '-', 'c', 'o', 'm', 'm', 'u', 'n', 'i', 'c', 'a', 't', 'i', 'o', 'n', 's'] 24\n"
          ],
          "name": "stdout"
        },
        {
          "output_type": "execute_result",
          "data": {
            "text/plain": [
              "'s'"
            ]
          },
          "metadata": {
            "tags": []
          },
          "execution_count": 105
        }
      ]
    },
    {
      "cell_type": "code",
      "metadata": {
        "id": "WxSSZK_IgUWg",
        "colab_type": "code",
        "colab": {}
      },
      "source": [
        "char_sent_train, char_sent_test = [], []\n",
        "for s in sent_train:\n",
        "  char_s = [list(word) for word in s]\n",
        "  char_sent_train.append(char_s)\n",
        "for s in sent_test:\n",
        "  char_s = [list(word) for word in s]\n",
        "  char_sentences.append(char_s)  "
      ],
      "execution_count": null,
      "outputs": []
    },
    {
      "cell_type": "code",
      "metadata": {
        "id": "A9ePr3cygt6L",
        "colab_type": "code",
        "colab": {}
      },
      "source": [
        "char_vocab = Counter()\n",
        "for s in char_sent_train:\n",
        "    for word in s:\n",
        "      char_vocab.update(word)"
      ],
      "execution_count": 83,
      "outputs": []
    },
    {
      "cell_type": "code",
      "metadata": {
        "id": "13CAO907g55V",
        "colab_type": "code",
        "colab": {
          "base_uri": "https://localhost:8080/",
          "height": 34
        },
        "outputId": "1b2063ed-158d-4f6e-b41b-a04f45410567"
      },
      "source": [
        "len(char_vocab)"
      ],
      "execution_count": 84,
      "outputs": [
        {
          "output_type": "execute_result",
          "data": {
            "text/plain": [
              "78"
            ]
          },
          "metadata": {
            "tags": []
          },
          "execution_count": 84
        }
      ]
    },
    {
      "cell_type": "code",
      "metadata": {
        "id": "vG9dgO5DhDFx",
        "colab_type": "code",
        "colab": {
          "base_uri": "https://localhost:8080/",
          "height": 34
        },
        "outputId": "107c93e6-59e4-47d8-b348-627fb71f90fc"
      },
      "source": [
        "char_filtered_vocab = {word for word in char_vocab if char_vocab[word] > 5}\n",
        "len(char_filtered_vocab)"
      ],
      "execution_count": null,
      "outputs": [
        {
          "output_type": "execute_result",
          "data": {
            "text/plain": [
              "77"
            ]
          },
          "metadata": {
            "tags": []
          },
          "execution_count": 85
        }
      ]
    },
    {
      "cell_type": "code",
      "metadata": {
        "id": "tW_nUqechI72",
        "colab_type": "code",
        "colab": {}
      },
      "source": [
        "char2id = {'PAD':0,'UNK':1}    \n",
        "for i,char in enumerate(char_filtered_vocab):\n",
        "      char2id[char] = i + 2\n",
        "\n",
        "id2char = {i:char for char, i in char2id.items()}\n",
        "\n",
        "def data2ints_char(data, smth2id):\n",
        "  int_data = []\n",
        "  for s in data:\n",
        "      int_s = []\n",
        "      for word in s:\n",
        "          int_w = []\n",
        "          for i in word:\n",
        "            try:\n",
        "              int_w.append(smth2id[i])\n",
        "            except KeyError:\n",
        "              int_w.append(smth2id['UNK'])\n",
        "          int_s.append(int_w)\n",
        "  \n",
        "      int_data.append(int_s)\n",
        "  return int_data"
      ],
      "execution_count": 111,
      "outputs": []
    },
    {
      "cell_type": "code",
      "metadata": {
        "id": "7sXlX0s7hdVj",
        "colab_type": "code",
        "colab": {}
      },
      "source": [
        "char_X_train_ids, char_X_test_ids = data2ints_char(char_sent_train, char2id), data2ints_char(char_sent_test, char2id)"
      ],
      "execution_count": 112,
      "outputs": []
    },
    {
      "cell_type": "code",
      "metadata": {
        "id": "afjeTCEniVeN",
        "colab_type": "code",
        "colab": {
          "base_uri": "https://localhost:8080/",
          "height": 34
        },
        "outputId": "b509430a-21d5-4354-fb6a-2a7a48b7565f"
      },
      "source": [
        "CHAR_MAX_LEN = 0\n",
        "for s in char_X_train_ids:\n",
        "  for w in s:\n",
        "    if len(w) > CHAR_MAX_LEN:\n",
        "      CHAR_MAX_LEN = len(w)\n",
        "CHAR_MAX_LEN"
      ],
      "execution_count": 121,
      "outputs": [
        {
          "output_type": "execute_result",
          "data": {
            "text/plain": [
              "24"
            ]
          },
          "metadata": {
            "tags": []
          },
          "execution_count": 121
        }
      ]
    },
    {
      "cell_type": "code",
      "metadata": {
        "id": "Y-p8JO3WkMph",
        "colab_type": "code",
        "colab": {}
      },
      "source": [
        "char_X_train_ids_padded = []\n",
        "for c in char_X_train_ids:\n",
        "  char_X_train_ids_padded.append(pad_sequences(c, maxlen=CHAR_MAX_LEN, padding='post'))\n",
        "char_X_train = pad_sequences(char_X_train_ids_padded, maxlen=MAX_LEN, padding='post')\n",
        "\n",
        "char_X_test_ids_padded = []\n",
        "for c in char_X_test_ids:\n",
        "  char_X_test_ids_padded.append(pad_sequences(c, maxlen=CHAR_MAX_LEN, padding='post'))\n",
        "char_X_test = pad_sequences(char_X_test_ids_padded, maxlen=MAX_LEN, padding='post')"
      ],
      "execution_count": 139,
      "outputs": []
    },
    {
      "cell_type": "code",
      "metadata": {
        "id": "E_T-d5T2leYl",
        "colab_type": "code",
        "colab": {
          "base_uri": "https://localhost:8080/",
          "height": 34
        },
        "outputId": "1702e106-b326-40db-d70d-dd1577a3955e"
      },
      "source": [
        "print(char_X_train.shape, char_X_test.shape)"
      ],
      "execution_count": 140,
      "outputs": [
        {
          "output_type": "stream",
          "text": [
            "(3131, 32, 24) (783, 32, 24)\n"
          ],
          "name": "stdout"
        }
      ]
    },
    {
      "cell_type": "code",
      "metadata": {
        "id": "V_NOw_20jcvy",
        "colab_type": "code",
        "colab": {
          "base_uri": "https://localhost:8080/",
          "height": 578
        },
        "outputId": "f49b8c6a-71d6-4009-eb52-a014918059f4"
      },
      "source": [
        "word_in = Input(shape=(MAX_LEN), name=\"word_input\")\n",
        "word_embeddings = Embedding(len(word2id),100, name=\"word_emb\", mask_zero=True)(word_in)\n",
        "word_bilstm = Bidirectional(LSTM(16, return_sequences=True), merge_mode='concat', name=\"word_bi\")(word_embeddings)\n",
        "word_drop = Dropout(0.2, name=\"drop\")(word_bilstm)\n",
        "\n",
        "char_in = Input(shape=(MAX_LEN, CHAR_MAX_LEN), name=\"char_input\")\n",
        "char_embeddings = Embedding(len(char2id),100, input_length=CHAR_MAX_LEN, name=\"char_emb\")(char_in)\n",
        "char_conv = TimeDistributed(Conv1D(kernel_size=20, filters=24, kernel_regularizer='l2', padding='same'), name=\"conv\")(char_embeddings)\n",
        "char_flat = TimeDistributed(Flatten(), name =\"flat\")(char_conv)\n",
        "\n",
        "x = concatenate([word_drop, char_flat], name=\"concat\")\n",
        "\n",
        "bilstm = Bidirectional(LSTM(16, return_sequences=True), merge_mode='concat', name=\"bi\")(x)\n",
        "dense = TimeDistributed(Dense(len(tag2id)), name=\"dense\")(bilstm)\n",
        "outs = Activation('softmax', name=\"activation\")(dense)\n",
        "hw_model = Model(inputs=[word_in, char_in], outputs=outs, name=\"hw_model\")\n",
        "\n",
        "hw_model.compile(loss='categorical_crossentropy', optimizer='rmsprop', metrics=['accuracy'])\n",
        "hw_model.summary()"
      ],
      "execution_count": 184,
      "outputs": [
        {
          "output_type": "stream",
          "text": [
            "Model: \"hw_model\"\n",
            "__________________________________________________________________________________________________\n",
            "Layer (type)                    Output Shape         Param #     Connected to                     \n",
            "==================================================================================================\n",
            "word_input (InputLayer)         [(None, 32)]         0                                            \n",
            "__________________________________________________________________________________________________\n",
            "char_input (InputLayer)         [(None, 32, 24)]     0                                            \n",
            "__________________________________________________________________________________________________\n",
            "word_emb (Embedding)            (None, 32, 100)      168100      word_input[0][0]                 \n",
            "__________________________________________________________________________________________________\n",
            "char_emb (Embedding)            (None, 32, 24, 100)  7900        char_input[0][0]                 \n",
            "__________________________________________________________________________________________________\n",
            "word_bi (Bidirectional)         (None, 32, 32)       14976       word_emb[0][0]                   \n",
            "__________________________________________________________________________________________________\n",
            "conv (TimeDistributed)          (None, 32, 24, 24)   48024       char_emb[0][0]                   \n",
            "__________________________________________________________________________________________________\n",
            "drop (Dropout)                  (None, 32, 32)       0           word_bi[0][0]                    \n",
            "__________________________________________________________________________________________________\n",
            "flat (TimeDistributed)          (None, 32, 576)      0           conv[0][0]                       \n",
            "__________________________________________________________________________________________________\n",
            "concat (Concatenate)            (None, 32, 608)      0           drop[0][0]                       \n",
            "                                                                 flat[0][0]                       \n",
            "__________________________________________________________________________________________________\n",
            "bi (Bidirectional)              (None, 32, 32)       80000       concat[0][0]                     \n",
            "__________________________________________________________________________________________________\n",
            "dense (TimeDistributed)         (None, 32, 47)       1551        bi[0][0]                         \n",
            "__________________________________________________________________________________________________\n",
            "activation (Activation)         (None, 32, 47)       0           dense[0][0]                      \n",
            "==================================================================================================\n",
            "Total params: 320,551\n",
            "Trainable params: 320,551\n",
            "Non-trainable params: 0\n",
            "__________________________________________________________________________________________________\n"
          ],
          "name": "stdout"
        }
      ]
    },
    {
      "cell_type": "code",
      "metadata": {
        "id": "2nmOi272rvvn",
        "colab_type": "code",
        "colab": {}
      },
      "source": [
        "import tensorflow as tf\n",
        "# ModelCheckpoint сохраняет лучшие версии моделей\n",
        "checkpoint = tf.keras.callbacks.ModelCheckpoint('model.weights', # названия файла \n",
        "                                                monitor='val_accuracy', # за какой метрикой следить\n",
        "                                                verbose=1, # будет печатать что происходит\n",
        "                                                save_weights_only=True, # если нужно только веса сохранить\n",
        "                                                save_best_only=True, # сохранять только лучшие\n",
        "                                                mode='max', # если метрика должна расти, то тут max и min если наоборот\n",
        "                                                save_freq='epoch' # как часто вызывать\n",
        "                                               )\n",
        "                                               \n",
        "\n",
        "# EarlyStopping позволяет автоматически остановить обучение, если качество не улучшается \n",
        "early_stop = tf.keras.callbacks.EarlyStopping(monitor='val_accuracy', \n",
        "                                              min_delta=0.01, # какая разница считается как улучшение\n",
        "                                              patience=5, # сколько эпох терпеть отсутствие улучшений\n",
        "                                              verbose=1, \n",
        "                                              mode='max',\n",
        "                                              )"
      ],
      "execution_count": 183,
      "outputs": []
    },
    {
      "cell_type": "code",
      "metadata": {
        "id": "55jHHBHGcAqk",
        "colab_type": "code",
        "colab": {
          "base_uri": "https://localhost:8080/",
          "height": 1000
        },
        "outputId": "8617d85e-10e1-45c9-b71b-36708c69c9eb"
      },
      "source": [
        "hw_model.fit([X_train, char_X_train],y_train, validation_data=([X_test, char_X_test], y_test), batch_size=128, epochs=40, callbacks=[checkpoint, early_stop])"
      ],
      "execution_count": 185,
      "outputs": [
        {
          "output_type": "stream",
          "text": [
            "Epoch 1/40\n",
            "24/25 [===========================>..] - ETA: 0s - loss: 2.5322 - accuracy: 0.0957\n",
            "Epoch 00001: val_accuracy improved from -inf to 0.10345, saving model to model.weights\n",
            "25/25 [==============================] - 6s 250ms/step - loss: 2.5267 - accuracy: 0.0958 - val_loss: 2.2912 - val_accuracy: 0.1034\n",
            "Epoch 2/40\n",
            "24/25 [===========================>..] - ETA: 0s - loss: 2.1226 - accuracy: 0.1454\n",
            "Epoch 00002: val_accuracy improved from 0.10345 to 0.20318, saving model to model.weights\n",
            "25/25 [==============================] - 2s 61ms/step - loss: 2.1214 - accuracy: 0.1471 - val_loss: 2.0526 - val_accuracy: 0.2032\n",
            "Epoch 3/40\n",
            "24/25 [===========================>..] - ETA: 0s - loss: 1.9484 - accuracy: 0.2117\n",
            "Epoch 00003: val_accuracy improved from 0.20318 to 0.26094, saving model to model.weights\n",
            "25/25 [==============================] - 2s 62ms/step - loss: 1.9476 - accuracy: 0.2120 - val_loss: 1.9231 - val_accuracy: 0.2609\n",
            "Epoch 4/40\n",
            "24/25 [===========================>..] - ETA: 0s - loss: 1.8137 - accuracy: 0.2599\n",
            "Epoch 00004: val_accuracy improved from 0.26094 to 0.28696, saving model to model.weights\n",
            "25/25 [==============================] - 2s 61ms/step - loss: 1.8083 - accuracy: 0.2599 - val_loss: 1.7586 - val_accuracy: 0.2870\n",
            "Epoch 5/40\n",
            "24/25 [===========================>..] - ETA: 0s - loss: 1.6671 - accuracy: 0.2855\n",
            "Epoch 00005: val_accuracy improved from 0.28696 to 0.30863, saving model to model.weights\n",
            "25/25 [==============================] - 2s 61ms/step - loss: 1.6652 - accuracy: 0.2852 - val_loss: 1.6220 - val_accuracy: 0.3086\n",
            "Epoch 6/40\n",
            "24/25 [===========================>..] - ETA: 0s - loss: 1.5342 - accuracy: 0.3079\n",
            "Epoch 00006: val_accuracy improved from 0.30863 to 0.32890, saving model to model.weights\n",
            "25/25 [==============================] - 2s 60ms/step - loss: 1.5312 - accuracy: 0.3078 - val_loss: 1.4892 - val_accuracy: 0.3289\n",
            "Epoch 7/40\n",
            "24/25 [===========================>..] - ETA: 0s - loss: 1.3986 - accuracy: 0.3434\n",
            "Epoch 00007: val_accuracy improved from 0.32890 to 0.36075, saving model to model.weights\n",
            "25/25 [==============================] - 2s 61ms/step - loss: 1.3984 - accuracy: 0.3435 - val_loss: 1.3743 - val_accuracy: 0.3608\n",
            "Epoch 8/40\n",
            "24/25 [===========================>..] - ETA: 0s - loss: 1.2748 - accuracy: 0.3851\n",
            "Epoch 00008: val_accuracy improved from 0.36075 to 0.42928, saving model to model.weights\n",
            "25/25 [==============================] - 2s 61ms/step - loss: 1.2739 - accuracy: 0.3851 - val_loss: 1.2176 - val_accuracy: 0.4293\n",
            "Epoch 9/40\n",
            "24/25 [===========================>..] - ETA: 0s - loss: 1.1489 - accuracy: 0.4280\n",
            "Epoch 00009: val_accuracy improved from 0.42928 to 0.46911, saving model to model.weights\n",
            "25/25 [==============================] - 2s 62ms/step - loss: 1.1465 - accuracy: 0.4279 - val_loss: 1.0968 - val_accuracy: 0.4691\n",
            "Epoch 10/40\n",
            "24/25 [===========================>..] - ETA: 0s - loss: 1.0276 - accuracy: 0.4690\n",
            "Epoch 00010: val_accuracy improved from 0.46911 to 0.50874, saving model to model.weights\n",
            "25/25 [==============================] - 2s 61ms/step - loss: 1.0270 - accuracy: 0.4697 - val_loss: 0.9819 - val_accuracy: 0.5087\n",
            "Epoch 11/40\n",
            "24/25 [===========================>..] - ETA: 0s - loss: 0.9158 - accuracy: 0.5076\n",
            "Epoch 00011: val_accuracy improved from 0.50874 to 0.53305, saving model to model.weights\n",
            "25/25 [==============================] - 2s 61ms/step - loss: 0.9146 - accuracy: 0.5081 - val_loss: 0.9105 - val_accuracy: 0.5330\n",
            "Epoch 12/40\n",
            "24/25 [===========================>..] - ETA: 0s - loss: 0.8249 - accuracy: 0.5400\n",
            "Epoch 00012: val_accuracy improved from 0.53305 to 0.56980, saving model to model.weights\n",
            "25/25 [==============================] - 2s 62ms/step - loss: 0.8219 - accuracy: 0.5402 - val_loss: 0.7848 - val_accuracy: 0.5698\n",
            "Epoch 13/40\n",
            "24/25 [===========================>..] - ETA: 0s - loss: 0.7401 - accuracy: 0.5655\n",
            "Epoch 00013: val_accuracy improved from 0.56980 to 0.59215, saving model to model.weights\n",
            "25/25 [==============================] - 2s 61ms/step - loss: 0.7380 - accuracy: 0.5657 - val_loss: 0.7042 - val_accuracy: 0.5922\n",
            "Epoch 14/40\n",
            "25/25 [==============================] - ETA: 0s - loss: 0.6620 - accuracy: 0.5860\n",
            "Epoch 00014: val_accuracy improved from 0.59215 to 0.60955, saving model to model.weights\n",
            "25/25 [==============================] - 2s 61ms/step - loss: 0.6620 - accuracy: 0.5860 - val_loss: 0.6408 - val_accuracy: 0.6096\n",
            "Epoch 15/40\n",
            "24/25 [===========================>..] - ETA: 0s - loss: 0.5987 - accuracy: 0.5999\n",
            "Epoch 00015: val_accuracy improved from 0.60955 to 0.61818, saving model to model.weights\n",
            "25/25 [==============================] - 2s 60ms/step - loss: 0.5988 - accuracy: 0.6006 - val_loss: 0.5830 - val_accuracy: 0.6182\n",
            "Epoch 16/40\n",
            "24/25 [===========================>..] - ETA: 0s - loss: 0.5415 - accuracy: 0.6132\n",
            "Epoch 00016: val_accuracy improved from 0.61818 to 0.62751, saving model to model.weights\n",
            "25/25 [==============================] - 2s 61ms/step - loss: 0.5401 - accuracy: 0.6127 - val_loss: 0.5261 - val_accuracy: 0.6275\n",
            "Epoch 17/40\n",
            "24/25 [===========================>..] - ETA: 0s - loss: 0.4923 - accuracy: 0.6202\n",
            "Epoch 00017: val_accuracy improved from 0.62751 to 0.64057, saving model to model.weights\n",
            "25/25 [==============================] - 2s 62ms/step - loss: 0.4925 - accuracy: 0.6204 - val_loss: 0.4805 - val_accuracy: 0.6406\n",
            "Epoch 18/40\n",
            "24/25 [===========================>..] - ETA: 0s - loss: 0.4475 - accuracy: 0.6302\n",
            "Epoch 00018: val_accuracy improved from 0.64057 to 0.64172, saving model to model.weights\n",
            "25/25 [==============================] - 2s 61ms/step - loss: 0.4470 - accuracy: 0.6308 - val_loss: 0.4445 - val_accuracy: 0.6417\n",
            "Epoch 19/40\n",
            "24/25 [===========================>..] - ETA: 0s - loss: 0.4105 - accuracy: 0.6380\n",
            "Epoch 00019: val_accuracy improved from 0.64172 to 0.65425, saving model to model.weights\n",
            "25/25 [==============================] - 2s 61ms/step - loss: 0.4101 - accuracy: 0.6378 - val_loss: 0.4000 - val_accuracy: 0.6543\n",
            "Epoch 20/40\n",
            "24/25 [===========================>..] - ETA: 0s - loss: 0.3764 - accuracy: 0.6452\n",
            "Epoch 00020: val_accuracy improved from 0.65425 to 0.65896, saving model to model.weights\n",
            "25/25 [==============================] - 2s 60ms/step - loss: 0.3757 - accuracy: 0.6449 - val_loss: 0.3704 - val_accuracy: 0.6590\n",
            "Epoch 21/40\n",
            "24/25 [===========================>..] - ETA: 0s - loss: 0.3458 - accuracy: 0.6499\n",
            "Epoch 00021: val_accuracy improved from 0.65896 to 0.66124, saving model to model.weights\n",
            "25/25 [==============================] - 2s 60ms/step - loss: 0.3468 - accuracy: 0.6491 - val_loss: 0.3537 - val_accuracy: 0.6612\n",
            "Epoch 22/40\n",
            "24/25 [===========================>..] - ETA: 0s - loss: 0.3214 - accuracy: 0.6527\n",
            "Epoch 00022: val_accuracy improved from 0.66124 to 0.67130, saving model to model.weights\n",
            "25/25 [==============================] - 2s 61ms/step - loss: 0.3215 - accuracy: 0.6529 - val_loss: 0.3209 - val_accuracy: 0.6713\n",
            "Epoch 23/40\n",
            "24/25 [===========================>..] - ETA: 0s - loss: 0.2983 - accuracy: 0.6575\n",
            "Epoch 00023: val_accuracy improved from 0.67130 to 0.67341, saving model to model.weights\n",
            "25/25 [==============================] - 2s 61ms/step - loss: 0.2978 - accuracy: 0.6571 - val_loss: 0.3057 - val_accuracy: 0.6734\n",
            "Epoch 24/40\n",
            "24/25 [===========================>..] - ETA: 0s - loss: 0.2797 - accuracy: 0.6605\n",
            "Epoch 00024: val_accuracy improved from 0.67341 to 0.67477, saving model to model.weights\n",
            "25/25 [==============================] - 1s 60ms/step - loss: 0.2791 - accuracy: 0.6609 - val_loss: 0.2859 - val_accuracy: 0.6748\n",
            "Epoch 25/40\n",
            "24/25 [===========================>..] - ETA: 0s - loss: 0.2609 - accuracy: 0.6639\n",
            "Epoch 00025: val_accuracy improved from 0.67477 to 0.67808, saving model to model.weights\n",
            "25/25 [==============================] - 2s 62ms/step - loss: 0.2610 - accuracy: 0.6644 - val_loss: 0.2705 - val_accuracy: 0.6781\n",
            "Epoch 26/40\n",
            "24/25 [===========================>..] - ETA: 0s - loss: 0.2465 - accuracy: 0.6673\n",
            "Epoch 00026: val_accuracy improved from 0.67808 to 0.68016, saving model to model.weights\n",
            "25/25 [==============================] - 2s 62ms/step - loss: 0.2465 - accuracy: 0.6666 - val_loss: 0.2624 - val_accuracy: 0.6802\n",
            "Epoch 27/40\n",
            "24/25 [===========================>..] - ETA: 0s - loss: 0.2327 - accuracy: 0.6693\n",
            "Epoch 00027: val_accuracy improved from 0.68016 to 0.68339, saving model to model.weights\n",
            "25/25 [==============================] - 2s 61ms/step - loss: 0.2324 - accuracy: 0.6699 - val_loss: 0.2431 - val_accuracy: 0.6834\n",
            "Epoch 28/40\n",
            "24/25 [===========================>..] - ETA: 0s - loss: 0.2217 - accuracy: 0.6718\n",
            "Epoch 00028: val_accuracy improved from 0.68339 to 0.68734, saving model to model.weights\n",
            "25/25 [==============================] - 2s 61ms/step - loss: 0.2209 - accuracy: 0.6718 - val_loss: 0.2324 - val_accuracy: 0.6873\n",
            "Epoch 29/40\n",
            "24/25 [===========================>..] - ETA: 0s - loss: 0.2092 - accuracy: 0.6742\n",
            "Epoch 00029: val_accuracy improved from 0.68734 to 0.68798, saving model to model.weights\n",
            "25/25 [==============================] - 2s 61ms/step - loss: 0.2089 - accuracy: 0.6742 - val_loss: 0.2199 - val_accuracy: 0.6880\n",
            "Epoch 30/40\n",
            "24/25 [===========================>..] - ETA: 0s - loss: 0.2006 - accuracy: 0.6753\n",
            "Epoch 00030: val_accuracy improved from 0.68798 to 0.69045, saving model to model.weights\n",
            "25/25 [==============================] - 2s 61ms/step - loss: 0.2002 - accuracy: 0.6752 - val_loss: 0.2122 - val_accuracy: 0.6905\n",
            "Epoch 31/40\n",
            "24/25 [===========================>..] - ETA: 0s - loss: 0.1900 - accuracy: 0.6781\n",
            "Epoch 00031: val_accuracy improved from 0.69045 to 0.69073, saving model to model.weights\n",
            "25/25 [==============================] - 2s 60ms/step - loss: 0.1899 - accuracy: 0.6782 - val_loss: 0.2103 - val_accuracy: 0.6907\n",
            "Epoch 32/40\n",
            "24/25 [===========================>..] - ETA: 0s - loss: 0.1831 - accuracy: 0.6784\n",
            "Epoch 00032: val_accuracy improved from 0.69073 to 0.69093, saving model to model.weights\n",
            "25/25 [==============================] - 2s 61ms/step - loss: 0.1830 - accuracy: 0.6788 - val_loss: 0.2015 - val_accuracy: 0.6909\n",
            "Epoch 00032: early stopping\n"
          ],
          "name": "stdout"
        },
        {
          "output_type": "execute_result",
          "data": {
            "text/plain": [
              "<tensorflow.python.keras.callbacks.History at 0x7f0ae4c36eb8>"
            ]
          },
          "metadata": {
            "tags": []
          },
          "execution_count": 185
        }
      ]
    },
    {
      "cell_type": "code",
      "metadata": {
        "id": "P5TLbwHbthrw",
        "colab_type": "code",
        "colab": {}
      },
      "source": [
        "def visualize(model):\n",
        "  plt.plot(model.history.history['accuracy'])\n",
        "  plt.plot(model.history.history['val_accuracy'])\n",
        "  plt.title('model accuracy')\n",
        "  plt.ylabel('accuracy')\n",
        "  plt.xlabel('epoch')\n",
        "  plt.legend(['train', 'val'], loc='upper left')\n",
        "  plt.show()"
      ],
      "execution_count": 186,
      "outputs": []
    },
    {
      "cell_type": "code",
      "metadata": {
        "id": "x4LXypyDti4Q",
        "colab_type": "code",
        "colab": {
          "base_uri": "https://localhost:8080/",
          "height": 295
        },
        "outputId": "740e937f-0450-44cf-fc43-a8fa09992084"
      },
      "source": [
        "visualize(hw_model)"
      ],
      "execution_count": 188,
      "outputs": [
        {
          "output_type": "display_data",
          "data": {
            "image/png": "[encoded data removed]",
            "text/plain": [
              "<Figure size 432x288 with 1 Axes>"
            ]
          },
          "metadata": {
            "tags": [],
            "needs_background": "light"
          }
        }
      ]
    },
    {
      "cell_type": "markdown",
      "metadata": {
        "id": "d48SHoFosofQ",
        "colab_type": "text"
      },
      "source": [
        "Сравним с прошлой моделью"
      ]
    },
    {
      "cell_type": "code",
      "metadata": {
        "id": "UEIRUohAsrBE",
        "colab_type": "code",
        "colab": {
          "base_uri": "https://localhost:8080/",
          "height": 1000
        },
        "outputId": "a9df8119-2cde-4087-8e06-7374cef9d3d9"
      },
      "source": [
        "mask_model = Sequential()\n",
        "mask_model.add(InputLayer(input_shape=(MAX_LEN)))\n",
        "mask_model.add(Embedding(len(word2id),100, mask_zero=True))\n",
        "mask_model.add(Bidirectional(LSTM(256, return_sequences=True)))\n",
        "mask_model.add(Dropout(0.2))\n",
        "mask_model.add(Bidirectional(LSTM(128, return_sequences=True)))\n",
        "mask_model.add(TimeDistributed(Dense(len(tag2id))))\n",
        "mask_model.add(Activation('softmax'))\n",
        "mask_model.compile(loss='categorical_crossentropy', optimizer='Adam', \n",
        "                   metrics=['accuracy'])\n",
        "mask_model.fit(X_train,y_train, validation_data=(X_test, y_test), batch_size=128, epochs=40, callbacks=[checkpoint, early_stop])"
      ],
      "execution_count": 189,
      "outputs": [
        {
          "output_type": "stream",
          "text": [
            "Epoch 1/40\n",
            "24/25 [===========================>..] - ETA: 0s - loss: 2.3362 - accuracy: 0.1101\n",
            "Epoch 00001: val_accuracy did not improve from 0.69093\n",
            "25/25 [==============================] - 5s 190ms/step - loss: 2.3316 - accuracy: 0.1104 - val_loss: 2.1694 - val_accuracy: 0.1250\n",
            "Epoch 2/40\n",
            "25/25 [==============================] - ETA: 0s - loss: 2.0893 - accuracy: 0.1209\n",
            "Epoch 00002: val_accuracy did not improve from 0.69093\n",
            "25/25 [==============================] - 1s 39ms/step - loss: 2.0893 - accuracy: 0.1209 - val_loss: 2.1227 - val_accuracy: 0.1281\n",
            "Epoch 3/40\n",
            "25/25 [==============================] - ETA: 0s - loss: 2.0554 - accuracy: 0.1294\n",
            "Epoch 00003: val_accuracy did not improve from 0.69093\n",
            "25/25 [==============================] - 1s 37ms/step - loss: 2.0554 - accuracy: 0.1294 - val_loss: 2.0892 - val_accuracy: 0.1420\n",
            "Epoch 4/40\n",
            "25/25 [==============================] - ETA: 0s - loss: 1.9773 - accuracy: 0.1862\n",
            "Epoch 00004: val_accuracy did not improve from 0.69093\n",
            "25/25 [==============================] - 1s 37ms/step - loss: 1.9773 - accuracy: 0.1862 - val_loss: 1.8440 - val_accuracy: 0.2971\n",
            "Epoch 5/40\n",
            "25/25 [==============================] - ETA: 0s - loss: 1.4967 - accuracy: 0.3285\n",
            "Epoch 00005: val_accuracy did not improve from 0.69093\n",
            "25/25 [==============================] - 1s 36ms/step - loss: 1.4967 - accuracy: 0.3285 - val_loss: 1.2098 - val_accuracy: 0.3853\n",
            "Epoch 6/40\n",
            "25/25 [==============================] - ETA: 0s - loss: 1.0053 - accuracy: 0.4366\n",
            "Epoch 00006: val_accuracy did not improve from 0.69093\n",
            "25/25 [==============================] - 1s 37ms/step - loss: 1.0053 - accuracy: 0.4366 - val_loss: 0.8559 - val_accuracy: 0.5018\n",
            "Epoch 7/40\n",
            "25/25 [==============================] - ETA: 0s - loss: 0.7203 - accuracy: 0.5321\n",
            "Epoch 00007: val_accuracy did not improve from 0.69093\n",
            "25/25 [==============================] - 1s 37ms/step - loss: 0.7203 - accuracy: 0.5321 - val_loss: 0.6394 - val_accuracy: 0.5766\n",
            "Epoch 8/40\n",
            "25/25 [==============================] - ETA: 0s - loss: 0.5409 - accuracy: 0.5841\n",
            "Epoch 00008: val_accuracy did not improve from 0.69093\n",
            "25/25 [==============================] - 1s 36ms/step - loss: 0.5409 - accuracy: 0.5841 - val_loss: 0.5099 - val_accuracy: 0.6046\n",
            "Epoch 9/40\n",
            "25/25 [==============================] - ETA: 0s - loss: 0.4394 - accuracy: 0.6046\n",
            "Epoch 00009: val_accuracy did not improve from 0.69093\n",
            "25/25 [==============================] - 1s 36ms/step - loss: 0.4394 - accuracy: 0.6046 - val_loss: 0.4467 - val_accuracy: 0.6160\n",
            "Epoch 10/40\n",
            "25/25 [==============================] - ETA: 0s - loss: 0.3760 - accuracy: 0.6198\n",
            "Epoch 00010: val_accuracy did not improve from 0.69093\n",
            "25/25 [==============================] - 1s 36ms/step - loss: 0.3760 - accuracy: 0.6198 - val_loss: 0.3847 - val_accuracy: 0.6345\n",
            "Epoch 11/40\n",
            "25/25 [==============================] - ETA: 0s - loss: 0.3311 - accuracy: 0.6302\n",
            "Epoch 00011: val_accuracy did not improve from 0.69093\n",
            "25/25 [==============================] - 1s 37ms/step - loss: 0.3311 - accuracy: 0.6302 - val_loss: 0.3576 - val_accuracy: 0.6383\n",
            "Epoch 12/40\n",
            "25/25 [==============================] - ETA: 0s - loss: 0.3021 - accuracy: 0.6375\n",
            "Epoch 00012: val_accuracy did not improve from 0.69093\n",
            "25/25 [==============================] - 1s 36ms/step - loss: 0.3021 - accuracy: 0.6375 - val_loss: 0.3372 - val_accuracy: 0.6447\n",
            "Epoch 13/40\n",
            "25/25 [==============================] - ETA: 0s - loss: 0.2815 - accuracy: 0.6415\n",
            "Epoch 00013: val_accuracy did not improve from 0.69093\n",
            "25/25 [==============================] - 1s 36ms/step - loss: 0.2815 - accuracy: 0.6415 - val_loss: 0.3161 - val_accuracy: 0.6505\n",
            "Epoch 14/40\n",
            "25/25 [==============================] - ETA: 0s - loss: 0.2613 - accuracy: 0.6468\n",
            "Epoch 00014: val_accuracy did not improve from 0.69093\n",
            "25/25 [==============================] - 1s 37ms/step - loss: 0.2613 - accuracy: 0.6468 - val_loss: 0.3092 - val_accuracy: 0.6510\n",
            "Epoch 15/40\n",
            "25/25 [==============================] - ETA: 0s - loss: 0.2461 - accuracy: 0.6505\n",
            "Epoch 00015: val_accuracy did not improve from 0.69093\n",
            "25/25 [==============================] - 1s 37ms/step - loss: 0.2461 - accuracy: 0.6505 - val_loss: 0.2912 - val_accuracy: 0.6571\n",
            "Epoch 16/40\n",
            "25/25 [==============================] - ETA: 0s - loss: 0.2311 - accuracy: 0.6544\n",
            "Epoch 00016: val_accuracy did not improve from 0.69093\n",
            "25/25 [==============================] - 1s 36ms/step - loss: 0.2311 - accuracy: 0.6544 - val_loss: 0.2862 - val_accuracy: 0.6563\n",
            "Epoch 17/40\n",
            "25/25 [==============================] - ETA: 0s - loss: 0.2225 - accuracy: 0.6557\n",
            "Epoch 00017: val_accuracy did not improve from 0.69093\n",
            "25/25 [==============================] - 1s 37ms/step - loss: 0.2225 - accuracy: 0.6557 - val_loss: 0.2828 - val_accuracy: 0.6582\n",
            "Epoch 18/40\n",
            "25/25 [==============================] - ETA: 0s - loss: 0.2109 - accuracy: 0.6595\n",
            "Epoch 00018: val_accuracy did not improve from 0.69093\n",
            "25/25 [==============================] - 1s 38ms/step - loss: 0.2109 - accuracy: 0.6595 - val_loss: 0.2802 - val_accuracy: 0.6588\n",
            "Epoch 19/40\n",
            "25/25 [==============================] - ETA: 0s - loss: 0.2027 - accuracy: 0.6614\n",
            "Epoch 00019: val_accuracy did not improve from 0.69093\n",
            "25/25 [==============================] - 1s 37ms/step - loss: 0.2027 - accuracy: 0.6614 - val_loss: 0.2778 - val_accuracy: 0.6595\n",
            "Epoch 20/40\n",
            "25/25 [==============================] - ETA: 0s - loss: 0.1965 - accuracy: 0.6625\n",
            "Epoch 00020: val_accuracy did not improve from 0.69093\n",
            "25/25 [==============================] - 1s 37ms/step - loss: 0.1965 - accuracy: 0.6625 - val_loss: 0.2696 - val_accuracy: 0.6607\n",
            "Epoch 00020: early stopping\n"
          ],
          "name": "stdout"
        },
        {
          "output_type": "execute_result",
          "data": {
            "text/plain": [
              "<tensorflow.python.keras.callbacks.History at 0x7f0ade0d4198>"
            ]
          },
          "metadata": {
            "tags": []
          },
          "execution_count": 189
        }
      ]
    },
    {
      "cell_type": "code",
      "metadata": {
        "id": "wAZy-D8wd8pm",
        "colab_type": "code",
        "colab": {
          "base_uri": "https://localhost:8080/",
          "height": 295
        },
        "outputId": "a463575d-a86f-4b1d-a7ec-31345ea77d4a"
      },
      "source": [
        "visualize(mask_model)"
      ],
      "execution_count": 190,
      "outputs": [
        {
          "output_type": "display_data",
          "data": {
            "image/png": "[encoded data removed]",
            "text/plain": [
              "<Figure size 432x288 with 1 Axes>"
            ]
          },
          "metadata": {
            "tags": [],
            "needs_background": "light"
          }
        }
      ]
    },
    {
      "cell_type": "markdown",
      "metadata": {
        "id": "wSDF1bPetzSs",
        "colab_type": "text"
      },
      "source": [
        "Выиграли около 3 сотых - 0.6909 у модели с двумя инпутами против 0.6607 модели с одной"
      ]
    },
    {
      "cell_type": "code",
      "metadata": {
        "id": "ze0m-Xd_txRV",
        "colab_type": "code",
        "colab": {}
      },
      "source": [
        "def predict(sentence):\n",
        "  word_id_sent = data2ints([sentence], word2id)\n",
        "  words = pad_sequences(word_id_sent, maxlen=MAX_LEN, padding='post')\n",
        "\n",
        "  char_id_sent = data2ints_char([sentence], char2id)\n",
        "  char_id_sent_padded = []\n",
        "  for c in char_id_sent:\n",
        "      char_id_sent_padded.append(pad_sequences(c, maxlen=CHAR_MAX_LEN, padding='post'))\n",
        "  chars = pad_sequences(char_id_sent_padded, maxlen=MAX_LEN, padding='post')\n",
        "  prediction = hw_model.predict([words, chars])"
      ],
      "execution_count": 219,
      "outputs": []
    },
    {
      "cell_type": "code",
      "metadata": {
        "id": "70cvZ7IFu7xs",
        "colab_type": "code",
        "colab": {
          "base_uri": "https://localhost:8080/",
          "height": 51
        },
        "outputId": "e7417387-148a-4a87-9b2b-cad392ad7379"
      },
      "source": [
        "prediction = predict(hw_model, sent_test[0])"
      ],
      "execution_count": 229,
      "outputs": [
        {
          "output_type": "stream",
          "text": [
            "('You', 'do', \"n't\", 'want', '*-1', 'to', 'get', 'yourself', 'too', 'upset', 'about', 'these', 'things', '.')\n",
            "('PRP', 'VBP', 'RB', 'VB', '-NONE-', 'TO', 'VB', 'PRP', 'RB', 'JJ', 'IN', 'DT', 'NNS', '.')\n"
          ],
          "name": "stdout"
        }
      ]
    },
    {
      "cell_type": "code",
      "metadata": {
        "id": "LDsWoL7lwpCj",
        "colab_type": "code",
        "colab": {
          "base_uri": "https://localhost:8080/",
          "height": 255
        },
        "outputId": "60738a81-84a5-4ff6-9de6-79d6368856a9"
      },
      "source": [
        "for sent in prediction:\n",
        "  words = sent_test[0]\n",
        "  tags = tag_test[0]\n",
        "  for i in range(len(words)):\n",
        "    p = np.argmax(sent[i], axis=-1)\n",
        "    print(words[i], tags[i], id2tag[p])"
      ],
      "execution_count": 231,
      "outputs": [
        {
          "output_type": "stream",
          "text": [
            "You PRP prp\n",
            "do VBP vbp\n",
            "n't RB rb\n",
            "want VB vb\n",
            "*-1 -NONE- -none-\n",
            "to TO to\n",
            "get VB vb\n",
            "yourself PRP jj\n",
            "too RB rb\n",
            "upset JJ rb\n",
            "about IN in\n",
            "these DT dt\n",
            "things NNS nns\n",
            ". . .\n"
          ],
          "name": "stdout"
        }
      ]
    },
    {
      "cell_type": "code",
      "metadata": {
        "id": "xuMXXs-uxo0Z",
        "colab_type": "code",
        "colab": {}
      },
      "source": [
        "from numpy import random\n",
        "def check_prediction_on_existing():\n",
        "    index = random.randint(len(sentences))\n",
        "    word_id_sent = data2ints([sentence], word2id)\n",
        "    words = pad_sequences(word_id_sent, maxlen=MAX_LEN, padding='post')\n",
        "\n",
        "    char_id_sent = data2ints_char([sentence], char2id)\n",
        "    char_id_sent_padded = []\n",
        "    for c in char_id_sent:\n",
        "        char_id_sent_padded.append(pad_sequences(c, maxlen=CHAR_MAX_LEN, padding='post'))\n",
        "    chars = pad_sequences(char_id_sent_padded, maxlen=MAX_LEN, padding='post')\n",
        "    prediction = hw_model.predict([words, chars])\n",
        "    for sent in prediction:\n",
        "      words = sentences[index]\n",
        "      tags = sentence_tags[index]\n",
        "      for i in range(len(words)):\n",
        "        p = np.argmax(sent[i], axis=-1)\n",
        "        print(words[i], tags[i], id2tag[p])"
      ],
      "execution_count": 249,
      "outputs": []
    },
    {
      "cell_type": "code",
      "metadata": {
        "id": "Lnk0HwrH1HVY",
        "colab_type": "code",
        "colab": {
          "base_uri": "https://localhost:8080/",
          "height": 340
        },
        "outputId": "417df2f7-f3ef-4e4f-a7c1-47b70175e01f"
      },
      "source": [
        "check_prediction_on_existing()"
      ],
      "execution_count": 250,
      "outputs": [
        {
          "output_type": "stream",
          "text": [
            "`` `` nnp\n",
            "I PRP vbd\n",
            "was VBD -none-\n",
            "trying VBG prp\n",
            "*-1 -NONE- vbz\n",
            "to TO -none-\n",
            "help VB to\n",
            "kids NNS vb\n",
            "in IN nn\n",
            "an DT in\n",
            "unfair JJ dt\n",
            "testing NN jj\n",
            "situation NN nn\n",
            ", , in\n",
            "'' '' jj\n",
            "she PRP nn\n",
            "says VBZ .\n",
            "*T*-2 -NONE- rb\n",
            ". . rb\n"
          ],
          "name": "stdout"
        }
      ]
    },
    {
      "cell_type": "code",
      "metadata": {
        "id": "0K01MhGp1W4_",
        "colab_type": "code",
        "colab": {}
      },
      "source": [
        ""
      ],
      "execution_count": 247,
      "outputs": []
    }
  ]
}